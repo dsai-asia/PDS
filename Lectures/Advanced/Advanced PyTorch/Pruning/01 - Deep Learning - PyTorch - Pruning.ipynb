{
 "cells": [
  {
   "cell_type": "markdown",
   "metadata": {},
   "source": [
    "# Programming for Data Science and Artificial Intelligence\n",
    "\n",
    "## 9.23 Deep Learning -  PyTorch - Pruning\n",
    "\n",
    "- Pruning https://arxiv.org/abs/1803.03635\n",
    "- PyTorch tutorials - https://pytorch.org/tutorials/"
   ]
  },
  {
   "cell_type": "markdown",
   "metadata": {},
   "source": [
    "### Pruning\n",
    "\n",
    "State-of-the-art deep learning techniques rely on over-parametrized models that are hard to deploy. On the contrary, biological neural networks are known to use efficient sparse connectivity. Identifying optimal techniques to compress models by reducing the number of parameters in them is important in order to reduce memory, battery, and hardware consumption without sacrificing accuracy, deploy lightweight models on device, and guarantee \n",
    "privacy with private on-device computation. On the research front, pruning is  used to investigate the differences in learning dynamics between over-parametrized and under-parametrized networks, to study the role of lucky \n",
    "sparse subnetworks and initializations (\"`lottery tickets <https://arxiv.org/abs/1803.03635>`_\") as a destructive \n",
    "neural architecture search technique, and more.\n",
    "\n",
    "In this lecture, you will learn how to use ``torch.nn.utils.prune`` to sparsify your neural networks, and how to extend it to implement your own custom pruning technique.\n",
    "\n",
    "### Requirements\n",
    "``\"torch>=1.4.0a0+8e8a5e0\"``"
   ]
  },
  {
   "cell_type": "code",
   "execution_count": 1,
   "metadata": {},
   "outputs": [],
   "source": [
    "import torch\n",
    "from torch import nn\n",
    "import torch.nn.utils.prune as prune\n",
    "import torch.nn.functional as F"
   ]
  },
  {
   "cell_type": "markdown",
   "metadata": {},
   "source": [
    "### Create a model\n",
    "\n",
    "In this tutorial, we use the `LeNet \n",
    "<http://yann.lecun.com/exdb/publis/pdf/lecun-98.pdf>`_ architecture from \n",
    "LeCun et al., 1998."
   ]
  },
  {
   "cell_type": "code",
   "execution_count": 3,
   "metadata": {},
   "outputs": [],
   "source": [
    "device = torch.device(\"cuda\" if torch.cuda.is_available() else \"cpu\")\n",
    "\n",
    "class LeNet(nn.Module):\n",
    "    def __init__(self):\n",
    "        super(LeNet, self).__init__()\n",
    "        # 1 input image channel, 6 output channels, 3x3 square conv kernel\n",
    "        self.conv1 = nn.Conv2d(1, 6, 3)\n",
    "        self.conv2 = nn.Conv2d(6, 16, 3)\n",
    "        self.fc1 = nn.Linear(16 * 5 * 5, 120)  # 5x5 image dimension\n",
    "        self.fc2 = nn.Linear(120, 84)\n",
    "        self.fc3 = nn.Linear(84, 10)\n",
    "\n",
    "    def forward(self, x):\n",
    "        x = F.max_pool2d(F.relu(self.conv1(x)), (2, 2))\n",
    "        x = F.max_pool2d(F.relu(self.conv2(x)), 2)\n",
    "        x = x.view(-1, int(x.nelement() / x.shape[0]))\n",
    "        x = F.relu(self.fc1(x))\n",
    "        x = F.relu(self.fc2(x))\n",
    "        x = self.fc3(x)\n",
    "        return x\n",
    "\n",
    "model = LeNet().to(device=device)"
   ]
  },
  {
   "cell_type": "markdown",
   "metadata": {},
   "source": [
    "### Inspect a Module\n",
    "\n",
    "Let's inspect the (unpruned) ``conv1`` layer in our LeNet model. It will contain two parameters ``weight`` and ``bias``, and no buffers, for now."
   ]
  },
  {
   "cell_type": "code",
   "execution_count": 4,
   "metadata": {},
   "outputs": [
    {
     "name": "stdout",
     "output_type": "stream",
     "text": [
      "[('weight', Parameter containing:\n",
      "tensor([[[[-0.0663,  0.0171,  0.2672],\n",
      "          [-0.1687,  0.1555, -0.2399],\n",
      "          [-0.0640, -0.0645, -0.2883]]],\n",
      "\n",
      "\n",
      "        [[[ 0.1362, -0.2219, -0.2681],\n",
      "          [ 0.0539,  0.0278, -0.0796],\n",
      "          [-0.2433,  0.2347, -0.1756]]],\n",
      "\n",
      "\n",
      "        [[[ 0.0950,  0.2149, -0.0957],\n",
      "          [-0.3302, -0.2804,  0.3138],\n",
      "          [ 0.2231, -0.2708,  0.0526]]],\n",
      "\n",
      "\n",
      "        [[[-0.1855,  0.0510, -0.3166],\n",
      "          [-0.2199,  0.0411, -0.1598],\n",
      "          [ 0.1835,  0.2508, -0.0223]]],\n",
      "\n",
      "\n",
      "        [[[-0.0377, -0.3023, -0.2703],\n",
      "          [ 0.2256, -0.1943,  0.0891],\n",
      "          [ 0.1096,  0.0004, -0.0140]]],\n",
      "\n",
      "\n",
      "        [[[-0.2462,  0.1000,  0.2524],\n",
      "          [ 0.2688, -0.0443, -0.1810],\n",
      "          [-0.1475, -0.1014,  0.1597]]]], requires_grad=True)), ('bias', Parameter containing:\n",
      "tensor([-0.3299,  0.2183,  0.2278,  0.2808,  0.0175,  0.3089],\n",
      "       requires_grad=True))]\n"
     ]
    }
   ],
   "source": [
    "module = model.conv1\n",
    "print(list(module.named_parameters()))"
   ]
  },
  {
   "cell_type": "code",
   "execution_count": 5,
   "metadata": {},
   "outputs": [
    {
     "name": "stdout",
     "output_type": "stream",
     "text": [
      "[]\n"
     ]
    }
   ],
   "source": [
    "print(list(module.named_buffers()))"
   ]
  },
  {
   "cell_type": "markdown",
   "metadata": {},
   "source": [
    "### Pruning a Module\n",
    "\n",
    "To prune a module (in this example, the ``conv1`` layer of our LeNet architecture), first select a pruning technique among those available in ``torch.nn.utils.prune`` (or `implement <#extending-torch-nn-utils-pruning-with-custom-pruning-functions>`_\n",
    "your own by subclassing ``BasePruningMethod``). Then, specify the module and the name of the parameter to prune within that module. Finally, using the adequate keyword arguments required by the selected pruning technique, specify the pruning parameters.\n",
    "\n",
    "In this example, we will prune at random 30\\% of the connections in \n",
    "the parameter named ``weight`` in the ``conv1`` layer.\n",
    "The module is passed as the first argument to the function; ``name`` identifies the parameter within that module using its string identifier; and ``amount`` indicates either the percentage of connections to prune (if it is a float between 0. and 1.), or the absolute number of connections to prune (if it is a non-negative integer)."
   ]
  },
  {
   "cell_type": "code",
   "execution_count": 6,
   "metadata": {},
   "outputs": [
    {
     "data": {
      "text/plain": [
       "Conv2d(1, 6, kernel_size=(3, 3), stride=(1, 1))"
      ]
     },
     "execution_count": 6,
     "metadata": {},
     "output_type": "execute_result"
    }
   ],
   "source": [
    "prune.random_unstructured(module, name=\"weight\", amount=0.3)"
   ]
  },
  {
   "cell_type": "markdown",
   "metadata": {},
   "source": [
    "Pruning acts by removing ``weight`` from the parameters and replacing it with \n",
    "a new parameter called ``weight_orig`` (i.e. appending ``\"_orig\"`` to the \n",
    "initial parameter ``name``). ``weight_orig`` stores the unpruned version of \n",
    "the tensor. The ``bias`` was not pruned, so it will remain intact."
   ]
  },
  {
   "cell_type": "code",
   "execution_count": 8,
   "metadata": {},
   "outputs": [
    {
     "name": "stdout",
     "output_type": "stream",
     "text": [
      "[('bias', Parameter containing:\n",
      "tensor([-0.3299,  0.2183,  0.2278,  0.2808,  0.0175,  0.3089],\n",
      "       requires_grad=True)), ('weight_orig', Parameter containing:\n",
      "tensor([[[[-0.0663,  0.0171,  0.2672],\n",
      "          [-0.1687,  0.1555, -0.2399],\n",
      "          [-0.0640, -0.0645, -0.2883]]],\n",
      "\n",
      "\n",
      "        [[[ 0.1362, -0.2219, -0.2681],\n",
      "          [ 0.0539,  0.0278, -0.0796],\n",
      "          [-0.2433,  0.2347, -0.1756]]],\n",
      "\n",
      "\n",
      "        [[[ 0.0950,  0.2149, -0.0957],\n",
      "          [-0.3302, -0.2804,  0.3138],\n",
      "          [ 0.2231, -0.2708,  0.0526]]],\n",
      "\n",
      "\n",
      "        [[[-0.1855,  0.0510, -0.3166],\n",
      "          [-0.2199,  0.0411, -0.1598],\n",
      "          [ 0.1835,  0.2508, -0.0223]]],\n",
      "\n",
      "\n",
      "        [[[-0.0377, -0.3023, -0.2703],\n",
      "          [ 0.2256, -0.1943,  0.0891],\n",
      "          [ 0.1096,  0.0004, -0.0140]]],\n",
      "\n",
      "\n",
      "        [[[-0.2462,  0.1000,  0.2524],\n",
      "          [ 0.2688, -0.0443, -0.1810],\n",
      "          [-0.1475, -0.1014,  0.1597]]]], requires_grad=True))]\n"
     ]
    }
   ],
   "source": [
    "print(list(module.named_parameters()))"
   ]
  },
  {
   "cell_type": "markdown",
   "metadata": {},
   "source": [
    "The pruning mask generated by the pruning technique selected above is saved \n",
    "as a module buffer named ``weight_mask`` (i.e. appending ``\"_mask\"`` to the \n",
    "initial parameter ``name``)."
   ]
  },
  {
   "cell_type": "code",
   "execution_count": 9,
   "metadata": {},
   "outputs": [
    {
     "name": "stdout",
     "output_type": "stream",
     "text": [
      "[('weight_mask', tensor([[[[1., 1., 1.],\n",
      "          [0., 1., 0.],\n",
      "          [1., 1., 1.]]],\n",
      "\n",
      "\n",
      "        [[[1., 0., 1.],\n",
      "          [1., 0., 1.],\n",
      "          [1., 1., 1.]]],\n",
      "\n",
      "\n",
      "        [[[0., 1., 1.],\n",
      "          [0., 1., 0.],\n",
      "          [1., 0., 0.]]],\n",
      "\n",
      "\n",
      "        [[[1., 1., 1.],\n",
      "          [1., 0., 0.],\n",
      "          [1., 0., 0.]]],\n",
      "\n",
      "\n",
      "        [[[1., 0., 1.],\n",
      "          [1., 0., 1.],\n",
      "          [1., 1., 1.]]],\n",
      "\n",
      "\n",
      "        [[[0., 1., 1.],\n",
      "          [1., 1., 1.],\n",
      "          [1., 1., 1.]]]]))]\n"
     ]
    }
   ],
   "source": [
    "print(list(module.named_buffers()))"
   ]
  },
  {
   "cell_type": "markdown",
   "metadata": {},
   "source": [
    "For the forward pass to work without modification, the ``weight`` attribute \n",
    "needs to exist. The pruning techniques implemented in \n",
    "``torch.nn.utils.prune`` compute the pruned version of the weight (by \n",
    "combining the mask with the original parameter) and store them in the \n",
    "attribute ``weight``. Note, this is no longer a parameter of the ``module``,\n",
    "it is now simply an attribute."
   ]
  },
  {
   "cell_type": "code",
   "execution_count": 10,
   "metadata": {},
   "outputs": [
    {
     "name": "stdout",
     "output_type": "stream",
     "text": [
      "tensor([[[[-0.0663,  0.0171,  0.2672],\n",
      "          [-0.0000,  0.1555, -0.0000],\n",
      "          [-0.0640, -0.0645, -0.2883]]],\n",
      "\n",
      "\n",
      "        [[[ 0.1362, -0.0000, -0.2681],\n",
      "          [ 0.0539,  0.0000, -0.0796],\n",
      "          [-0.2433,  0.2347, -0.1756]]],\n",
      "\n",
      "\n",
      "        [[[ 0.0000,  0.2149, -0.0957],\n",
      "          [-0.0000, -0.2804,  0.0000],\n",
      "          [ 0.2231, -0.0000,  0.0000]]],\n",
      "\n",
      "\n",
      "        [[[-0.1855,  0.0510, -0.3166],\n",
      "          [-0.2199,  0.0000, -0.0000],\n",
      "          [ 0.1835,  0.0000, -0.0000]]],\n",
      "\n",
      "\n",
      "        [[[-0.0377, -0.0000, -0.2703],\n",
      "          [ 0.2256, -0.0000,  0.0891],\n",
      "          [ 0.1096,  0.0004, -0.0140]]],\n",
      "\n",
      "\n",
      "        [[[-0.0000,  0.1000,  0.2524],\n",
      "          [ 0.2688, -0.0443, -0.1810],\n",
      "          [-0.1475, -0.1014,  0.1597]]]], grad_fn=<MulBackward0>)\n"
     ]
    }
   ],
   "source": [
    "print(module.weight)"
   ]
  },
  {
   "cell_type": "markdown",
   "metadata": {},
   "source": [
    "Finally, pruning is applied prior to each forward pass using PyTorch's\n",
    "``forward_pre_hooks``. Specifically, when the ``module`` is pruned, as we \n",
    "have done here, it will acquire a ``forward_pre_hook`` for each parameter \n",
    "associated with it that gets pruned. In this case, since we have so far \n",
    "only pruned the original parameter named ``weight``, only one hook will be\n",
    "present."
   ]
  },
  {
   "cell_type": "code",
   "execution_count": 11,
   "metadata": {},
   "outputs": [
    {
     "name": "stdout",
     "output_type": "stream",
     "text": [
      "OrderedDict([(0, <torch.nn.utils.prune.RandomUnstructured object at 0x1207f3e20>)])\n"
     ]
    }
   ],
   "source": [
    "print(module._forward_pre_hooks)"
   ]
  },
  {
   "cell_type": "markdown",
   "metadata": {},
   "source": [
    "For completeness, we can now prune the ``bias`` too, to see how the \n",
    "parameters, buffers, hooks, and attributes of the ``module`` change.\n",
    "Just for the sake of trying out another pruning technique, here we prune the \n",
    "3 smallest entries in the bias by L1 norm, as implemented in the \n",
    "``l1_unstructured`` pruning function."
   ]
  },
  {
   "cell_type": "code",
   "execution_count": 12,
   "metadata": {},
   "outputs": [
    {
     "data": {
      "text/plain": [
       "Conv2d(1, 6, kernel_size=(3, 3), stride=(1, 1))"
      ]
     },
     "execution_count": 12,
     "metadata": {},
     "output_type": "execute_result"
    }
   ],
   "source": [
    "prune.l1_unstructured(module, name=\"bias\", amount=3)"
   ]
  },
  {
   "cell_type": "markdown",
   "metadata": {},
   "source": [
    "We now expect the named parameters to include both ``weight_orig`` (from \n",
    "before) and ``bias_orig``. The buffers will include ``weight_mask`` and \n",
    "``bias_mask``. The pruned versions of the two tensors will exist as \n",
    "module attributes, and the module will now have two ``forward_pre_hooks``."
   ]
  },
  {
   "cell_type": "code",
   "execution_count": 13,
   "metadata": {},
   "outputs": [
    {
     "name": "stdout",
     "output_type": "stream",
     "text": [
      "[('weight_orig', Parameter containing:\n",
      "tensor([[[[-0.0663,  0.0171,  0.2672],\n",
      "          [-0.1687,  0.1555, -0.2399],\n",
      "          [-0.0640, -0.0645, -0.2883]]],\n",
      "\n",
      "\n",
      "        [[[ 0.1362, -0.2219, -0.2681],\n",
      "          [ 0.0539,  0.0278, -0.0796],\n",
      "          [-0.2433,  0.2347, -0.1756]]],\n",
      "\n",
      "\n",
      "        [[[ 0.0950,  0.2149, -0.0957],\n",
      "          [-0.3302, -0.2804,  0.3138],\n",
      "          [ 0.2231, -0.2708,  0.0526]]],\n",
      "\n",
      "\n",
      "        [[[-0.1855,  0.0510, -0.3166],\n",
      "          [-0.2199,  0.0411, -0.1598],\n",
      "          [ 0.1835,  0.2508, -0.0223]]],\n",
      "\n",
      "\n",
      "        [[[-0.0377, -0.3023, -0.2703],\n",
      "          [ 0.2256, -0.1943,  0.0891],\n",
      "          [ 0.1096,  0.0004, -0.0140]]],\n",
      "\n",
      "\n",
      "        [[[-0.2462,  0.1000,  0.2524],\n",
      "          [ 0.2688, -0.0443, -0.1810],\n",
      "          [-0.1475, -0.1014,  0.1597]]]], requires_grad=True)), ('bias_orig', Parameter containing:\n",
      "tensor([-0.3299,  0.2183,  0.2278,  0.2808,  0.0175,  0.3089],\n",
      "       requires_grad=True))]\n"
     ]
    }
   ],
   "source": [
    "print(list(module.named_parameters()))"
   ]
  },
  {
   "cell_type": "code",
   "execution_count": 14,
   "metadata": {},
   "outputs": [
    {
     "name": "stdout",
     "output_type": "stream",
     "text": [
      "[('weight_mask', tensor([[[[1., 1., 1.],\n",
      "          [0., 1., 0.],\n",
      "          [1., 1., 1.]]],\n",
      "\n",
      "\n",
      "        [[[1., 0., 1.],\n",
      "          [1., 0., 1.],\n",
      "          [1., 1., 1.]]],\n",
      "\n",
      "\n",
      "        [[[0., 1., 1.],\n",
      "          [0., 1., 0.],\n",
      "          [1., 0., 0.]]],\n",
      "\n",
      "\n",
      "        [[[1., 1., 1.],\n",
      "          [1., 0., 0.],\n",
      "          [1., 0., 0.]]],\n",
      "\n",
      "\n",
      "        [[[1., 0., 1.],\n",
      "          [1., 0., 1.],\n",
      "          [1., 1., 1.]]],\n",
      "\n",
      "\n",
      "        [[[0., 1., 1.],\n",
      "          [1., 1., 1.],\n",
      "          [1., 1., 1.]]]])), ('bias_mask', tensor([1., 0., 0., 1., 0., 1.]))]\n"
     ]
    }
   ],
   "source": [
    "print(list(module.named_buffers()))"
   ]
  },
  {
   "cell_type": "code",
   "execution_count": 15,
   "metadata": {},
   "outputs": [
    {
     "name": "stdout",
     "output_type": "stream",
     "text": [
      "tensor([-0.3299,  0.0000,  0.0000,  0.2808,  0.0000,  0.3089],\n",
      "       grad_fn=<MulBackward0>)\n"
     ]
    }
   ],
   "source": [
    "print(module.bias)"
   ]
  },
  {
   "cell_type": "code",
   "execution_count": 16,
   "metadata": {},
   "outputs": [
    {
     "name": "stdout",
     "output_type": "stream",
     "text": [
      "OrderedDict([(0, <torch.nn.utils.prune.RandomUnstructured object at 0x1207f3e20>), (1, <torch.nn.utils.prune.L1Unstructured object at 0x1208133a0>)])\n"
     ]
    }
   ],
   "source": [
    "print(module._forward_pre_hooks)"
   ]
  },
  {
   "cell_type": "markdown",
   "metadata": {},
   "source": [
    "### Iterative Pruning\n",
    "\n",
    "The same parameter in a module can be pruned multiple times, with the  effect of the various pruning calls being equal to the combination of the various masks applied in series.\n",
    "The combination of a new mask with the old mask is handled by the \n",
    "``PruningContainer``'s ``compute_mask`` method.\n",
    "\n",
    "Say, for example, that we now want to further prune ``module.weight``, this time using structured pruning along the 0th axis of the tensor (the 0th axis corresponds to the output channels of the convolutional layer and has dimensionality 6 for ``conv1``), based on the channels' L2 norm. This can be achieved using the ``ln_structured`` function, with ``n=2`` and ``dim=0``.\n",
    "\n",
    "\n"
   ]
  },
  {
   "cell_type": "code",
   "execution_count": 17,
   "metadata": {},
   "outputs": [
    {
     "name": "stdout",
     "output_type": "stream",
     "text": [
      "tensor([[[[-0.0000,  0.0000,  0.0000],\n",
      "          [-0.0000,  0.0000, -0.0000],\n",
      "          [-0.0000, -0.0000, -0.0000]]],\n",
      "\n",
      "\n",
      "        [[[ 0.1362, -0.0000, -0.2681],\n",
      "          [ 0.0539,  0.0000, -0.0796],\n",
      "          [-0.2433,  0.2347, -0.1756]]],\n",
      "\n",
      "\n",
      "        [[[ 0.0000,  0.0000, -0.0000],\n",
      "          [-0.0000, -0.0000,  0.0000],\n",
      "          [ 0.0000, -0.0000,  0.0000]]],\n",
      "\n",
      "\n",
      "        [[[-0.1855,  0.0510, -0.3166],\n",
      "          [-0.2199,  0.0000, -0.0000],\n",
      "          [ 0.1835,  0.0000, -0.0000]]],\n",
      "\n",
      "\n",
      "        [[[-0.0000, -0.0000, -0.0000],\n",
      "          [ 0.0000, -0.0000,  0.0000],\n",
      "          [ 0.0000,  0.0000, -0.0000]]],\n",
      "\n",
      "\n",
      "        [[[-0.0000,  0.1000,  0.2524],\n",
      "          [ 0.2688, -0.0443, -0.1810],\n",
      "          [-0.1475, -0.1014,  0.1597]]]], grad_fn=<MulBackward0>)\n"
     ]
    }
   ],
   "source": [
    "prune.ln_structured(module, name=\"weight\", amount=0.5, n=2, dim=0)\n",
    "\n",
    "# As we can verify, this will zero out all the connections corresponding to \n",
    "# 50% (3 out of 6) of the channels, while preserving the action of the \n",
    "# previous mask.\n",
    "print(module.weight)"
   ]
  },
  {
   "cell_type": "markdown",
   "metadata": {},
   "source": [
    "The corresponding hook will now be of type \n",
    "``torch.nn.utils.prune.PruningContainer``, and will store the history of \n",
    "pruning applied to the ``weight`` parameter."
   ]
  },
  {
   "cell_type": "code",
   "execution_count": 18,
   "metadata": {},
   "outputs": [
    {
     "name": "stdout",
     "output_type": "stream",
     "text": [
      "[<torch.nn.utils.prune.RandomUnstructured object at 0x1207f3e20>, <torch.nn.utils.prune.LnStructured object at 0x120813f40>]\n"
     ]
    }
   ],
   "source": [
    "for hook in module._forward_pre_hooks.values():\n",
    "    if hook._tensor_name == \"weight\":  # select out the correct hook\n",
    "        break\n",
    "\n",
    "print(list(hook))  # pruning history in the container"
   ]
  },
  {
   "cell_type": "markdown",
   "metadata": {},
   "source": [
    "### Serializing a pruned model\n",
    "All relevant tensors, including the mask buffers and the original parameters\n",
    "used to compute the pruned tensors are stored in the model's ``state_dict`` \n",
    "and can therefore be easily serialized and saved, if needed."
   ]
  },
  {
   "cell_type": "code",
   "execution_count": 19,
   "metadata": {},
   "outputs": [
    {
     "name": "stdout",
     "output_type": "stream",
     "text": [
      "odict_keys(['conv1.weight_orig', 'conv1.bias_orig', 'conv1.weight_mask', 'conv1.bias_mask', 'conv2.weight', 'conv2.bias', 'fc1.weight', 'fc1.bias', 'fc2.weight', 'fc2.bias', 'fc3.weight', 'fc3.bias'])\n"
     ]
    }
   ],
   "source": [
    "print(model.state_dict().keys())"
   ]
  },
  {
   "cell_type": "markdown",
   "metadata": {},
   "source": [
    "### Remove pruning re-parametrization\n",
    "\n",
    "To make the pruning permanent, remove the re-parametrization in terms\n",
    "of ``weight_orig`` and ``weight_mask``, and remove the ``forward_pre_hook``,\n",
    "we can use the ``remove`` functionality from ``torch.nn.utils.prune``.\n",
    "Note that this doesn't undo the pruning, as if it never happened. It simply \n",
    "makes it permanent, instead, by reassigning the parameter ``weight`` to the \n",
    "model parameters, in its pruned version."
   ]
  },
  {
   "cell_type": "markdown",
   "metadata": {},
   "source": [
    "Prior to removing the re-parametrization:\n",
    "\n"
   ]
  },
  {
   "cell_type": "code",
   "execution_count": 20,
   "metadata": {},
   "outputs": [
    {
     "name": "stdout",
     "output_type": "stream",
     "text": [
      "[('weight_orig', Parameter containing:\n",
      "tensor([[[[-0.0663,  0.0171,  0.2672],\n",
      "          [-0.1687,  0.1555, -0.2399],\n",
      "          [-0.0640, -0.0645, -0.2883]]],\n",
      "\n",
      "\n",
      "        [[[ 0.1362, -0.2219, -0.2681],\n",
      "          [ 0.0539,  0.0278, -0.0796],\n",
      "          [-0.2433,  0.2347, -0.1756]]],\n",
      "\n",
      "\n",
      "        [[[ 0.0950,  0.2149, -0.0957],\n",
      "          [-0.3302, -0.2804,  0.3138],\n",
      "          [ 0.2231, -0.2708,  0.0526]]],\n",
      "\n",
      "\n",
      "        [[[-0.1855,  0.0510, -0.3166],\n",
      "          [-0.2199,  0.0411, -0.1598],\n",
      "          [ 0.1835,  0.2508, -0.0223]]],\n",
      "\n",
      "\n",
      "        [[[-0.0377, -0.3023, -0.2703],\n",
      "          [ 0.2256, -0.1943,  0.0891],\n",
      "          [ 0.1096,  0.0004, -0.0140]]],\n",
      "\n",
      "\n",
      "        [[[-0.2462,  0.1000,  0.2524],\n",
      "          [ 0.2688, -0.0443, -0.1810],\n",
      "          [-0.1475, -0.1014,  0.1597]]]], requires_grad=True)), ('bias_orig', Parameter containing:\n",
      "tensor([-0.3299,  0.2183,  0.2278,  0.2808,  0.0175,  0.3089],\n",
      "       requires_grad=True))]\n"
     ]
    }
   ],
   "source": [
    "print(list(module.named_parameters()))"
   ]
  },
  {
   "cell_type": "code",
   "execution_count": 21,
   "metadata": {},
   "outputs": [
    {
     "name": "stdout",
     "output_type": "stream",
     "text": [
      "[('weight_mask', tensor([[[[0., 0., 0.],\n",
      "          [0., 0., 0.],\n",
      "          [0., 0., 0.]]],\n",
      "\n",
      "\n",
      "        [[[1., 0., 1.],\n",
      "          [1., 0., 1.],\n",
      "          [1., 1., 1.]]],\n",
      "\n",
      "\n",
      "        [[[0., 0., 0.],\n",
      "          [0., 0., 0.],\n",
      "          [0., 0., 0.]]],\n",
      "\n",
      "\n",
      "        [[[1., 1., 1.],\n",
      "          [1., 0., 0.],\n",
      "          [1., 0., 0.]]],\n",
      "\n",
      "\n",
      "        [[[0., 0., 0.],\n",
      "          [0., 0., 0.],\n",
      "          [0., 0., 0.]]],\n",
      "\n",
      "\n",
      "        [[[0., 1., 1.],\n",
      "          [1., 1., 1.],\n",
      "          [1., 1., 1.]]]])), ('bias_mask', tensor([1., 0., 0., 1., 0., 1.]))]\n"
     ]
    }
   ],
   "source": [
    "print(list(module.named_buffers()))"
   ]
  },
  {
   "cell_type": "code",
   "execution_count": 22,
   "metadata": {},
   "outputs": [
    {
     "name": "stdout",
     "output_type": "stream",
     "text": [
      "tensor([[[[-0.0000,  0.0000,  0.0000],\n",
      "          [-0.0000,  0.0000, -0.0000],\n",
      "          [-0.0000, -0.0000, -0.0000]]],\n",
      "\n",
      "\n",
      "        [[[ 0.1362, -0.0000, -0.2681],\n",
      "          [ 0.0539,  0.0000, -0.0796],\n",
      "          [-0.2433,  0.2347, -0.1756]]],\n",
      "\n",
      "\n",
      "        [[[ 0.0000,  0.0000, -0.0000],\n",
      "          [-0.0000, -0.0000,  0.0000],\n",
      "          [ 0.0000, -0.0000,  0.0000]]],\n",
      "\n",
      "\n",
      "        [[[-0.1855,  0.0510, -0.3166],\n",
      "          [-0.2199,  0.0000, -0.0000],\n",
      "          [ 0.1835,  0.0000, -0.0000]]],\n",
      "\n",
      "\n",
      "        [[[-0.0000, -0.0000, -0.0000],\n",
      "          [ 0.0000, -0.0000,  0.0000],\n",
      "          [ 0.0000,  0.0000, -0.0000]]],\n",
      "\n",
      "\n",
      "        [[[-0.0000,  0.1000,  0.2524],\n",
      "          [ 0.2688, -0.0443, -0.1810],\n",
      "          [-0.1475, -0.1014,  0.1597]]]], grad_fn=<MulBackward0>)\n"
     ]
    }
   ],
   "source": [
    "print(module.weight)"
   ]
  },
  {
   "cell_type": "markdown",
   "metadata": {},
   "source": [
    "After removing the re-parametrization:\n",
    "\n"
   ]
  },
  {
   "cell_type": "code",
   "execution_count": 23,
   "metadata": {},
   "outputs": [
    {
     "name": "stdout",
     "output_type": "stream",
     "text": [
      "[('bias_orig', Parameter containing:\n",
      "tensor([-0.3299,  0.2183,  0.2278,  0.2808,  0.0175,  0.3089],\n",
      "       requires_grad=True)), ('weight', Parameter containing:\n",
      "tensor([[[[-0.0000,  0.0000,  0.0000],\n",
      "          [-0.0000,  0.0000, -0.0000],\n",
      "          [-0.0000, -0.0000, -0.0000]]],\n",
      "\n",
      "\n",
      "        [[[ 0.1362, -0.0000, -0.2681],\n",
      "          [ 0.0539,  0.0000, -0.0796],\n",
      "          [-0.2433,  0.2347, -0.1756]]],\n",
      "\n",
      "\n",
      "        [[[ 0.0000,  0.0000, -0.0000],\n",
      "          [-0.0000, -0.0000,  0.0000],\n",
      "          [ 0.0000, -0.0000,  0.0000]]],\n",
      "\n",
      "\n",
      "        [[[-0.1855,  0.0510, -0.3166],\n",
      "          [-0.2199,  0.0000, -0.0000],\n",
      "          [ 0.1835,  0.0000, -0.0000]]],\n",
      "\n",
      "\n",
      "        [[[-0.0000, -0.0000, -0.0000],\n",
      "          [ 0.0000, -0.0000,  0.0000],\n",
      "          [ 0.0000,  0.0000, -0.0000]]],\n",
      "\n",
      "\n",
      "        [[[-0.0000,  0.1000,  0.2524],\n",
      "          [ 0.2688, -0.0443, -0.1810],\n",
      "          [-0.1475, -0.1014,  0.1597]]]], requires_grad=True))]\n"
     ]
    }
   ],
   "source": [
    "prune.remove(module, 'weight')\n",
    "print(list(module.named_parameters()))"
   ]
  },
  {
   "cell_type": "code",
   "execution_count": 24,
   "metadata": {},
   "outputs": [
    {
     "name": "stdout",
     "output_type": "stream",
     "text": [
      "[('bias_mask', tensor([1., 0., 0., 1., 0., 1.]))]\n"
     ]
    }
   ],
   "source": [
    "print(list(module.named_buffers()))"
   ]
  },
  {
   "cell_type": "markdown",
   "metadata": {},
   "source": [
    "### Pruning multiple parameters in a model \n",
    "\n",
    "By specifying the desired pruning technique and parameters, we can easily prune multiple tensors in a network, perhaps according to their type, as we will see in this example."
   ]
  },
  {
   "cell_type": "code",
   "execution_count": 25,
   "metadata": {},
   "outputs": [
    {
     "name": "stdout",
     "output_type": "stream",
     "text": [
      "dict_keys(['conv1.weight_mask', 'conv2.weight_mask', 'fc1.weight_mask', 'fc2.weight_mask', 'fc3.weight_mask'])\n"
     ]
    }
   ],
   "source": [
    "new_model = LeNet()\n",
    "for name, module in new_model.named_modules():\n",
    "    # prune 20% of connections in all 2D-conv layers \n",
    "    if isinstance(module, torch.nn.Conv2d):\n",
    "        prune.l1_unstructured(module, name='weight', amount=0.2)\n",
    "    # prune 40% of connections in all linear layers \n",
    "    elif isinstance(module, torch.nn.Linear):\n",
    "        prune.l1_unstructured(module, name='weight', amount=0.4)\n",
    "\n",
    "print(dict(new_model.named_buffers()).keys())  # to verify that all masks exist"
   ]
  },
  {
   "cell_type": "markdown",
   "metadata": {},
   "source": [
    "### Global pruning\n",
    "\n",
    "So far, we only looked at what is usually referred to as \"local\" pruning, i.e. the practice of pruning tensors in a model one by one, by comparing the statistics (weight magnitude, activation, gradient, etc.) of each entry exclusively to the other entries in that tensor. \n",
    "\n",
    "However, a common and perhaps more powerful technique is to prune the model all at once, by removing (for example) the lowest 20% of connections across the whole model, instead of removing the lowest 20% of connections in each layer. This is likely to result in different pruning percentages per layer.\n",
    "\n",
    "Let's see how to do that using ``global_unstructured`` from \n",
    "``torch.nn.utils.prune``."
   ]
  },
  {
   "cell_type": "code",
   "execution_count": 26,
   "metadata": {},
   "outputs": [],
   "source": [
    "model = LeNet()\n",
    "\n",
    "parameters_to_prune = (\n",
    "    (model.conv1, 'weight'),\n",
    "    (model.conv2, 'weight'),\n",
    "    (model.fc1, 'weight'),\n",
    "    (model.fc2, 'weight'),\n",
    "    (model.fc3, 'weight'),\n",
    ")\n",
    "\n",
    "prune.global_unstructured(\n",
    "    parameters_to_prune,\n",
    "    pruning_method=prune.L1Unstructured,\n",
    "    amount=0.2,\n",
    ")"
   ]
  },
  {
   "cell_type": "markdown",
   "metadata": {},
   "source": [
    "Now we can check the sparsity induced in every pruned parameter, which will \n",
    "not be equal to 20% in each layer. However, the global sparsity will be \n",
    "(approximately) 20%."
   ]
  },
  {
   "cell_type": "code",
   "execution_count": 27,
   "metadata": {},
   "outputs": [
    {
     "name": "stdout",
     "output_type": "stream",
     "text": [
      "Sparsity in conv1.weight: 12.96%\n",
      "Sparsity in conv2.weight: 7.29%\n",
      "Sparsity in fc1.weight: 22.08%\n",
      "Sparsity in fc2.weight: 11.94%\n",
      "Sparsity in fc3.weight: 11.43%\n",
      "Global sparsity: 20.00%\n"
     ]
    }
   ],
   "source": [
    "print(\n",
    "    \"Sparsity in conv1.weight: {:.2f}%\".format(\n",
    "        100. * float(torch.sum(model.conv1.weight == 0))\n",
    "        / float(model.conv1.weight.nelement())\n",
    "    )\n",
    ")\n",
    "print(\n",
    "    \"Sparsity in conv2.weight: {:.2f}%\".format(\n",
    "        100. * float(torch.sum(model.conv2.weight == 0))\n",
    "        / float(model.conv2.weight.nelement())\n",
    "    )\n",
    ")\n",
    "print(\n",
    "    \"Sparsity in fc1.weight: {:.2f}%\".format(\n",
    "        100. * float(torch.sum(model.fc1.weight == 0))\n",
    "        / float(model.fc1.weight.nelement())\n",
    "    )\n",
    ")\n",
    "print(\n",
    "    \"Sparsity in fc2.weight: {:.2f}%\".format(\n",
    "        100. * float(torch.sum(model.fc2.weight == 0))\n",
    "        / float(model.fc2.weight.nelement())\n",
    "    )\n",
    ")\n",
    "print(\n",
    "    \"Sparsity in fc3.weight: {:.2f}%\".format(\n",
    "        100. * float(torch.sum(model.fc3.weight == 0))\n",
    "        / float(model.fc3.weight.nelement())\n",
    "    )\n",
    ")\n",
    "print(\n",
    "    \"Global sparsity: {:.2f}%\".format(\n",
    "        100. * float(\n",
    "            torch.sum(model.conv1.weight == 0)\n",
    "            + torch.sum(model.conv2.weight == 0)\n",
    "            + torch.sum(model.fc1.weight == 0)\n",
    "            + torch.sum(model.fc2.weight == 0)\n",
    "            + torch.sum(model.fc3.weight == 0)\n",
    "        )\n",
    "        / float(\n",
    "            model.conv1.weight.nelement()\n",
    "            + model.conv2.weight.nelement()\n",
    "            + model.fc1.weight.nelement()\n",
    "            + model.fc2.weight.nelement()\n",
    "            + model.fc3.weight.nelement()\n",
    "        )\n",
    "    )\n",
    ")"
   ]
  },
  {
   "cell_type": "markdown",
   "metadata": {},
   "source": [
    "### Extending ``torch.nn.utils.prune`` with custom pruning functions\n",
    "\n",
    "To implement your own pruning function, you can extend the\n",
    "``nn.utils.prune`` module by subclassing the ``BasePruningMethod``\n",
    "base class, the same way all other pruning methods do. The base class implements the following methods for you: ``__call__``, ``apply_mask``,\n",
    "``apply``, ``prune``, and ``remove``. Beyond some special cases, you shouldn't\n",
    "have to reimplement these methods for your new pruning technique.\n",
    "You will, however, have to implement ``__init__`` (the constructor),\n",
    "and ``compute_mask`` (the instructions on how to compute the mask\n",
    "for the given tensor according to the logic of your pruning\n",
    "technique). In addition, you will have to specify which type of\n",
    "pruning this technique implements (supported options are ``global``,\n",
    "``structured``, and ``unstructured``). This is needed to determine\n",
    "how to combine masks in the case in which pruning is applied\n",
    "iteratively. In other words, when pruning a pre-pruned parameter,\n",
    "the current prunining techique is expected to act on the unpruned\n",
    "portion of the parameter. Specifying the ``PRUNING_TYPE`` will\n",
    "enable the ``PruningContainer`` (which handles the iterative\n",
    "application of pruning masks) to correctly identify the slice of the\n",
    "parameter to prune.\n",
    "\n",
    "Let's assume, for example, that you want to implement a pruning\n",
    "technique that prunes every other entry in a tensor (or -- if the\n",
    "tensor has previously been pruned -- in the remaining unpruned\n",
    "portion of the tensor). This will be of ``PRUNING_TYPE='unstructured'``\n",
    "because it acts on individual connections in a layer and not on entire\n",
    "units/channels (``'structured'``), or across different parameters\n",
    "(``'global'``).\n",
    "\n",
    "\n"
   ]
  },
  {
   "cell_type": "code",
   "execution_count": 28,
   "metadata": {},
   "outputs": [],
   "source": [
    "class FooBarPruningMethod(prune.BasePruningMethod):\n",
    "    \"\"\"Prune every other entry in a tensor\n",
    "    \"\"\"\n",
    "    PRUNING_TYPE = 'unstructured'\n",
    "\n",
    "    def compute_mask(self, t, default_mask):\n",
    "        mask = default_mask.clone()\n",
    "        mask.view(-1)[::2] = 0 \n",
    "        return mask"
   ]
  },
  {
   "cell_type": "markdown",
   "metadata": {},
   "source": [
    "Now, to apply this to a parameter in an ``nn.Module``, you should\n",
    "also provide a simple function that instantiates the method and\n",
    "applies it."
   ]
  },
  {
   "cell_type": "code",
   "execution_count": 29,
   "metadata": {},
   "outputs": [],
   "source": [
    "def foobar_unstructured(module, name):\n",
    "    \"\"\"Prunes tensor corresponding to parameter called `name` in `module`\n",
    "    by removing every other entry in the tensors.\n",
    "    Modifies module in place (and also return the modified module) \n",
    "    by:\n",
    "    1) adding a named buffer called `name+'_mask'` corresponding to the \n",
    "    binary mask applied to the parameter `name` by the pruning method.\n",
    "    The parameter `name` is replaced by its pruned version, while the \n",
    "    original (unpruned) parameter is stored in a new parameter named \n",
    "    `name+'_orig'`.\n",
    "\n",
    "    Args:\n",
    "        module (nn.Module): module containing the tensor to prune\n",
    "        name (string): parameter name within `module` on which pruning\n",
    "                will act.\n",
    "\n",
    "    Returns:\n",
    "        module (nn.Module): modified (i.e. pruned) version of the input\n",
    "            module\n",
    "    \n",
    "    Examples:\n",
    "        >>> m = nn.Linear(3, 4)\n",
    "        >>> foobar_unstructured(m, name='bias')\n",
    "    \"\"\"\n",
    "    FooBarPruningMethod.apply(module, name)\n",
    "    return module"
   ]
  },
  {
   "cell_type": "markdown",
   "metadata": {},
   "source": [
    "Let's try it out!"
   ]
  },
  {
   "cell_type": "code",
   "execution_count": 30,
   "metadata": {},
   "outputs": [
    {
     "name": "stdout",
     "output_type": "stream",
     "text": [
      "tensor([0., 1., 0., 1., 0., 1., 0., 1., 0., 1.])\n"
     ]
    }
   ],
   "source": [
    "model = LeNet()\n",
    "foobar_unstructured(model.fc3, name='bias')\n",
    "\n",
    "print(model.fc3.bias_mask)"
   ]
  },
  {
   "cell_type": "code",
   "execution_count": null,
   "metadata": {},
   "outputs": [],
   "source": []
  }
 ],
 "metadata": {
  "kernelspec": {
   "display_name": "Python 3",
   "language": "python",
   "name": "python3"
  },
  "language_info": {
   "codemirror_mode": {
    "name": "ipython",
    "version": 3
   },
   "file_extension": ".py",
   "mimetype": "text/x-python",
   "name": "python",
   "nbconvert_exporter": "python",
   "pygments_lexer": "ipython3",
   "version": "3.8.6"
  }
 },
 "nbformat": 4,
 "nbformat_minor": 1
}
