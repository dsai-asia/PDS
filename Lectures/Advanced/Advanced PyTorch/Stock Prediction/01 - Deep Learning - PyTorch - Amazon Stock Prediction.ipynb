{
 "cells": [
  {
   "cell_type": "markdown",
   "metadata": {},
   "source": [
    "# Programming for Data Science and Artificial Intelligence\n",
    "\n",
    "## 9.10 Deep Learning -  PyTorch - Amazon Stock Prediction\n",
    "\n",
    "### Time Series Forecasting\n",
    "\n",
    "Time series forecasting is the application of a model to predict future values based on previously observed values. By definition, a time series is a series of data points indexed in time order. This type of problem is important because there is a variety of prediction problems that involve a time component, and finding the data/time relationship is key to the analysis (e.g. weather forecasting and earthquake prediction). \n",
    "\n",
    "Stock market prediction is the act of trying to determine the future value of a company stock. State of the art gets around 60-70% which is considered already high.\n",
    "\n",
    "Given time series is a sequence, RNNs are commonly used.  Here we are going to build two different models of RNNs — LSTM and GRU — with PyTorch to predict Amazon’s stock market price and compare their performance in terms of time and efficiency.\n",
    "\n",
    "Note that although LSTM is currently more popular, the GRU is bound to eventually outshine it due to a superior speed while achieving similar accuracy and effectiveness."
   ]
  },
  {
   "cell_type": "code",
   "execution_count": 1,
   "metadata": {},
   "outputs": [],
   "source": [
    "import matplotlib.pyplot as plt\n",
    "import numpy as np\n",
    "import pandas as pd\n",
    "import quandl\n",
    "import datetime\n",
    "start = datetime.datetime(2006,1,1)\n",
    "end = datetime.date.today()\n",
    "amz = quandl.get(\"WIKI/AMZN\", start_date=start, end_date=end)\n",
    "amz=amz[[\"Open\",\"High\",\"Low\",\"Close\",\"Volume\"]]"
   ]
  },
  {
   "cell_type": "code",
   "execution_count": 2,
   "metadata": {},
   "outputs": [
    {
     "name": "stdout",
     "output_type": "stream",
     "text": [
      "(3077, 5)\n"
     ]
    },
    {
     "data": {
      "text/html": [
       "<div>\n",
       "<style scoped>\n",
       "    .dataframe tbody tr th:only-of-type {\n",
       "        vertical-align: middle;\n",
       "    }\n",
       "\n",
       "    .dataframe tbody tr th {\n",
       "        vertical-align: top;\n",
       "    }\n",
       "\n",
       "    .dataframe thead th {\n",
       "        text-align: right;\n",
       "    }\n",
       "</style>\n",
       "<table border=\"1\" class=\"dataframe\">\n",
       "  <thead>\n",
       "    <tr style=\"text-align: right;\">\n",
       "      <th></th>\n",
       "      <th>Open</th>\n",
       "      <th>High</th>\n",
       "      <th>Low</th>\n",
       "      <th>Close</th>\n",
       "      <th>Volume</th>\n",
       "    </tr>\n",
       "    <tr>\n",
       "      <th>Date</th>\n",
       "      <th></th>\n",
       "      <th></th>\n",
       "      <th></th>\n",
       "      <th></th>\n",
       "      <th></th>\n",
       "    </tr>\n",
       "  </thead>\n",
       "  <tbody>\n",
       "    <tr>\n",
       "      <th>2006-01-03</th>\n",
       "      <td>47.470</td>\n",
       "      <td>47.85</td>\n",
       "      <td>46.25</td>\n",
       "      <td>47.58</td>\n",
       "      <td>7582200.0</td>\n",
       "    </tr>\n",
       "    <tr>\n",
       "      <th>2006-01-04</th>\n",
       "      <td>47.485</td>\n",
       "      <td>47.73</td>\n",
       "      <td>46.69</td>\n",
       "      <td>47.25</td>\n",
       "      <td>7440900.0</td>\n",
       "    </tr>\n",
       "    <tr>\n",
       "      <th>2006-01-05</th>\n",
       "      <td>47.160</td>\n",
       "      <td>48.20</td>\n",
       "      <td>47.11</td>\n",
       "      <td>47.65</td>\n",
       "      <td>5417200.0</td>\n",
       "    </tr>\n",
       "    <tr>\n",
       "      <th>2006-01-06</th>\n",
       "      <td>47.970</td>\n",
       "      <td>48.58</td>\n",
       "      <td>47.32</td>\n",
       "      <td>47.87</td>\n",
       "      <td>6152900.0</td>\n",
       "    </tr>\n",
       "    <tr>\n",
       "      <th>2006-01-09</th>\n",
       "      <td>46.550</td>\n",
       "      <td>47.10</td>\n",
       "      <td>46.40</td>\n",
       "      <td>47.08</td>\n",
       "      <td>8943100.0</td>\n",
       "    </tr>\n",
       "  </tbody>\n",
       "</table>\n",
       "</div>"
      ],
      "text/plain": [
       "              Open   High    Low  Close     Volume\n",
       "Date                                              \n",
       "2006-01-03  47.470  47.85  46.25  47.58  7582200.0\n",
       "2006-01-04  47.485  47.73  46.69  47.25  7440900.0\n",
       "2006-01-05  47.160  48.20  47.11  47.65  5417200.0\n",
       "2006-01-06  47.970  48.58  47.32  47.87  6152900.0\n",
       "2006-01-09  46.550  47.10  46.40  47.08  8943100.0"
      ]
     },
     "execution_count": 2,
     "metadata": {},
     "output_type": "execute_result"
    }
   ],
   "source": [
    "print(amz.shape)\n",
    "amz.head()"
   ]
  },
  {
   "cell_type": "markdown",
   "metadata": {},
   "source": [
    "Let's try to plot the Amazon Stock Price"
   ]
  },
  {
   "cell_type": "code",
   "execution_count": 3,
   "metadata": {},
   "outputs": [
    {
     "data": {
      "image/png": "[encoded data removed]",
      "text/plain": [
       "<Figure size 720x288 with 1 Axes>"
      ]
     },
     "metadata": {
      "needs_background": "light"
     },
     "output_type": "display_data"
    }
   ],
   "source": [
    "amz[['Close']].plot(figsize=(10,4),legend=True)\n",
    "plt.legend(['Data Close'])\n",
    "plt.title('AMAZON stock price')\n",
    "plt.grid()\n",
    "plt.show()"
   ]
  },
  {
   "cell_type": "markdown",
   "metadata": {},
   "source": [
    "We slice the data frame to get the column we want and normalize the data."
   ]
  },
  {
   "cell_type": "code",
   "execution_count": 4,
   "metadata": {},
   "outputs": [],
   "source": [
    "from sklearn.preprocessing import MinMaxScaler\n",
    "scaler = MinMaxScaler(feature_range=(-1, 1))\n",
    "price = scaler.fit_transform(amz[['Close']].values.reshape(-1, 1))"
   ]
  },
  {
   "cell_type": "markdown",
   "metadata": {},
   "source": [
    "Now we split the data into train and test sets. Before doing so, we must define the window width of the analysis. The use of prior time steps to predict the next time step is called the sliding window method."
   ]
  },
  {
   "cell_type": "code",
   "execution_count": 5,
   "metadata": {},
   "outputs": [
    {
     "name": "stdout",
     "output_type": "stream",
     "text": [
      "x_train.shape =  (2446, 19, 1)\n",
      "y_train.shape =  (2446, 1)\n",
      "x_test.shape =  (611, 19, 1)\n",
      "y_test.shape =  (611, 1)\n"
     ]
    }
   ],
   "source": [
    "def split_data(price, window_size):\n",
    "    data_raw = price\n",
    "    data = []\n",
    "    \n",
    "    # create all possible sequences of length seq_len\n",
    "    for index in range(len(data_raw) - window_size): \n",
    "        data.append(data_raw[index: index + window_size])\n",
    "    \n",
    "    data = np.array(data)\n",
    "    \n",
    "    \n",
    "    test_set_size = int(np.round(0.2*data.shape[0]))\n",
    "    train_set_size = data.shape[0] - (test_set_size)\n",
    "    \n",
    "    x_train = data[:train_set_size,:-1,:]\n",
    "    y_train = data[:train_set_size,-1,:]\n",
    "    \n",
    "    x_test = data[train_set_size:,:-1]\n",
    "    y_test = data[train_set_size:,-1,:]\n",
    "    \n",
    "    return [x_train, y_train, x_test, y_test]\n",
    "\n",
    "window_size = 20 # choose sequence length\n",
    "x_train, y_train, x_test, y_test = split_data(price, window_size)\n",
    "\n",
    "print('x_train.shape = ',x_train.shape)\n",
    "print('y_train.shape = ',y_train.shape)\n",
    "print('x_test.shape = ',x_test.shape)\n",
    "print('y_test.shape = ',y_test.shape)"
   ]
  },
  {
   "cell_type": "markdown",
   "metadata": {},
   "source": [
    "Then we transform them into tensors, which is the basic structure for building a PyTorch model."
   ]
  },
  {
   "cell_type": "code",
   "execution_count": 6,
   "metadata": {},
   "outputs": [],
   "source": [
    "import torch\n",
    "import torch.nn as nn\n",
    "x_train = torch.from_numpy(x_train).type(torch.Tensor)\n",
    "x_test = torch.from_numpy(x_test).type(torch.Tensor)\n",
    "y_train_lstm = torch.from_numpy(y_train).type(torch.Tensor)\n",
    "y_test_lstm = torch.from_numpy(y_test).type(torch.Tensor)\n",
    "y_train_gru = torch.from_numpy(y_train).type(torch.Tensor)\n",
    "y_test_gru = torch.from_numpy(y_test).type(torch.Tensor)"
   ]
  },
  {
   "cell_type": "markdown",
   "metadata": {},
   "source": [
    "We define some common values for both models regarding the layers."
   ]
  },
  {
   "cell_type": "code",
   "execution_count": 7,
   "metadata": {},
   "outputs": [],
   "source": [
    "input_dim = 1\n",
    "hidden_dim = 32\n",
    "num_layers = 2\n",
    "output_dim = 1\n",
    "num_epochs = 100"
   ]
  },
  {
   "cell_type": "markdown",
   "metadata": {},
   "source": [
    "### LSTM"
   ]
  },
  {
   "cell_type": "code",
   "execution_count": 8,
   "metadata": {},
   "outputs": [],
   "source": [
    "class LSTM(nn.Module):\n",
    "    def __init__(self, input_dim, hidden_dim, num_layers, output_dim):\n",
    "        super(LSTM, self).__init__()\n",
    "        self.hidden_dim = hidden_dim\n",
    "        self.num_layers = num_layers\n",
    "        \n",
    "        self.lstm = nn.LSTM(input_dim, hidden_dim, num_layers, batch_first=True)\n",
    "        self.fc = nn.Linear(hidden_dim, output_dim)\n",
    "    def forward(self, x):\n",
    "        h0 = torch.zeros(self.num_layers, x.size(0), self.hidden_dim).requires_grad_()\n",
    "        c0 = torch.zeros(self.num_layers, x.size(0), self.hidden_dim).requires_grad_()\n",
    "        out, (hn, cn) = self.lstm(x, (h0.detach(), c0.detach()))\n",
    "        out = self.fc(out[:, -1, :]) \n",
    "        return out"
   ]
  },
  {
   "cell_type": "markdown",
   "metadata": {},
   "source": [
    "We create the model, set the criterion, and the optimiser."
   ]
  },
  {
   "cell_type": "code",
   "execution_count": 9,
   "metadata": {},
   "outputs": [],
   "source": [
    "model = LSTM(input_dim=input_dim, hidden_dim=hidden_dim, output_dim=output_dim, num_layers=num_layers)\n",
    "criterion = torch.nn.MSELoss(reduction='mean')\n",
    "optimiser = torch.optim.Adam(model.parameters(), lr=0.01)"
   ]
  },
  {
   "cell_type": "markdown",
   "metadata": {},
   "source": [
    "Finally, we train the model over 100 epochs"
   ]
  },
  {
   "cell_type": "code",
   "execution_count": 10,
   "metadata": {},
   "outputs": [
    {
     "name": "stdout",
     "output_type": "stream",
     "text": [
      "Epoch  0 MSE:  0.873907744884491\n",
      "Epoch  1 MSE:  0.5890175700187683\n",
      "Epoch  2 MSE:  0.2838144600391388\n",
      "Epoch  3 MSE:  0.030474653467535973\n",
      "Epoch  4 MSE:  0.2361193150281906\n",
      "Epoch  5 MSE:  0.15234829485416412\n",
      "Epoch  6 MSE:  0.04570651799440384\n",
      "Epoch  7 MSE:  0.022041212767362595\n",
      "Epoch  8 MSE:  0.04545658081769943\n",
      "Epoch  9 MSE:  0.06804568320512772\n",
      "Epoch  10 MSE:  0.07306186109781265\n",
      "Epoch  11 MSE:  0.06400541961193085\n",
      "Epoch  12 MSE:  0.048865340650081635\n",
      "Epoch  13 MSE:  0.0344979353249073\n",
      "Epoch  14 MSE:  0.025179076939821243\n",
      "Epoch  15 MSE:  0.0224077757447958\n",
      "Epoch  16 MSE:  0.02514929138123989\n",
      "Epoch  17 MSE:  0.030469050630927086\n",
      "Epoch  18 MSE:  0.03485916182398796\n",
      "Epoch  19 MSE:  0.036090534180402756\n",
      "Epoch  20 MSE:  0.03408431634306908\n",
      "Epoch  21 MSE:  0.030283696949481964\n",
      "Epoch  22 MSE:  0.02647976391017437\n",
      "Epoch  23 MSE:  0.02393466793000698\n",
      "Epoch  24 MSE:  0.023076940327882767\n",
      "Epoch  25 MSE:  0.023638205602765083\n",
      "Epoch  26 MSE:  0.024976838380098343\n",
      "Epoch  27 MSE:  0.026393644511699677\n",
      "Epoch  28 MSE:  0.027348771691322327\n",
      "Epoch  29 MSE:  0.027564899995923042\n",
      "Epoch  30 MSE:  0.027037188410758972\n",
      "Epoch  31 MSE:  0.025978898629546165\n",
      "Epoch  32 MSE:  0.024728411808609962\n",
      "Epoch  33 MSE:  0.023639727383852005\n",
      "Epoch  34 MSE:  0.022977672517299652\n",
      "Epoch  35 MSE:  0.02284165471792221\n",
      "Epoch  36 MSE:  0.02314166910946369\n",
      "Epoch  37 MSE:  0.02364034205675125\n",
      "Epoch  38 MSE:  0.024051865562796593\n",
      "Epoch  39 MSE:  0.024159656837582588\n",
      "Epoch  40 MSE:  0.023898985236883163\n",
      "Epoch  41 MSE:  0.023365318775177002\n",
      "Epoch  42 MSE:  0.022749628871679306\n",
      "Epoch  43 MSE:  0.022240804508328438\n",
      "Epoch  44 MSE:  0.021945955231785774\n",
      "Epoch  45 MSE:  0.02186010777950287\n",
      "Epoch  46 MSE:  0.02188657969236374\n",
      "Epoch  47 MSE:  0.02188795804977417\n",
      "Epoch  48 MSE:  0.02174210734665394\n",
      "Epoch  49 MSE:  0.021383415907621384\n",
      "Epoch  50 MSE:  0.020819788798689842\n",
      "Epoch  51 MSE:  0.020125150680541992\n",
      "Epoch  52 MSE:  0.01941329799592495\n",
      "Epoch  53 MSE:  0.018798036500811577\n",
      "Epoch  54 MSE:  0.018327606841921806\n",
      "Epoch  55 MSE:  0.017840612679719925\n",
      "Epoch  56 MSE:  0.0167801883071661\n",
      "Epoch  57 MSE:  0.014696966856718063\n",
      "Epoch  58 MSE:  0.012345980852842331\n",
      "Epoch  59 MSE:  0.010488796979188919\n",
      "Epoch  60 MSE:  0.007812544703483582\n",
      "Epoch  61 MSE:  0.005186928901821375\n",
      "Epoch  62 MSE:  0.0033518809359520674\n",
      "Epoch  63 MSE:  0.002776145236566663\n",
      "Epoch  64 MSE:  0.002237216802313924\n",
      "Epoch  65 MSE:  0.003771126037463546\n",
      "Epoch  66 MSE:  0.003659126814454794\n",
      "Epoch  67 MSE:  0.0035229825880378485\n",
      "Epoch  68 MSE:  0.0032722109463065863\n",
      "Epoch  69 MSE:  0.002731919987127185\n",
      "Epoch  70 MSE:  0.0026636708062142134\n",
      "Epoch  71 MSE:  0.0028168726712465286\n",
      "Epoch  72 MSE:  0.0028367924969643354\n",
      "Epoch  73 MSE:  0.0029883349779993296\n",
      "Epoch  74 MSE:  0.0027609672397375107\n",
      "Epoch  75 MSE:  0.0023500111419707537\n",
      "Epoch  76 MSE:  0.0019783535972237587\n",
      "Epoch  77 MSE:  0.00151617091614753\n",
      "Epoch  78 MSE:  0.0013417555019259453\n",
      "Epoch  79 MSE:  0.0012284914264455438\n",
      "Epoch  80 MSE:  0.001252854592166841\n",
      "Epoch  81 MSE:  0.0012783488491550088\n",
      "Epoch  82 MSE:  0.001272314228117466\n",
      "Epoch  83 MSE:  0.0012352963676676154\n",
      "Epoch  84 MSE:  0.001179449842311442\n",
      "Epoch  85 MSE:  0.0011362009681761265\n",
      "Epoch  86 MSE:  0.001104055787436664\n",
      "Epoch  87 MSE:  0.0011024954728782177\n",
      "Epoch  88 MSE:  0.0011113944929093122\n",
      "Epoch  89 MSE:  0.00111778499558568\n",
      "Epoch  90 MSE:  0.0011080900439992547\n",
      "Epoch  91 MSE:  0.0010851423721760511\n",
      "Epoch  92 MSE:  0.0010400486644357443\n",
      "Epoch  93 MSE:  0.0009890790097415447\n",
      "Epoch  94 MSE:  0.0009307097061537206\n",
      "Epoch  95 MSE:  0.000881316838786006\n",
      "Epoch  96 MSE:  0.000841449131257832\n",
      "Epoch  97 MSE:  0.0008119482081383467\n",
      "Epoch  98 MSE:  0.0007942439988255501\n",
      "Epoch  99 MSE:  0.000772756349761039\n",
      "Training time: 19.90506887435913\n"
     ]
    }
   ],
   "source": [
    "import time\n",
    "hist = np.zeros(num_epochs)\n",
    "start_time = time.time()\n",
    "lstm = []\n",
    "for t in range(num_epochs):\n",
    "    y_train_pred = model(x_train)\n",
    "    loss = criterion(y_train_pred, y_train_lstm)\n",
    "    print(\"Epoch \", t, \"MSE: \", loss.item())\n",
    "    hist[t] = loss.item()\n",
    "    optimiser.zero_grad()\n",
    "    loss.backward()\n",
    "    optimiser.step()\n",
    "    \n",
    "training_time = time.time()-start_time\n",
    "print(\"Training time: {}\".format(training_time))"
   ]
  },
  {
   "cell_type": "markdown",
   "metadata": {},
   "source": [
    "Let's plot the loss.  Also let's inverse transform the scale back to the original scale"
   ]
  },
  {
   "cell_type": "code",
   "execution_count": 11,
   "metadata": {},
   "outputs": [],
   "source": [
    "predict = pd.DataFrame(scaler.inverse_transform(y_train_pred.detach().numpy()))\n",
    "original = pd.DataFrame(scaler.inverse_transform(y_train_lstm.detach().numpy()))"
   ]
  },
  {
   "cell_type": "code",
   "execution_count": 12,
   "metadata": {},
   "outputs": [],
   "source": [
    "def plot_predictions(test,predicted):\n",
    "    plt.plot(test, color='red',label='Real Amazon Stock Price')\n",
    "    plt.plot(predicted, color='blue',label='Predicted Amazon Stock Price')\n",
    "    plt.title('Amazon Stock Price Prediction')\n",
    "    plt.xlabel('Time')\n",
    "    plt.ylabel('Amazon Stock Price')\n",
    "    plt.legend()\n",
    "    plt.show()\n",
    "    \n",
    "def plot_loss(hist):\n",
    "    plt.plot(hist, color='red')\n",
    "    plt.title('Training Loss')\n",
    "    plt.xlabel('Epoch')\n",
    "    plt.ylabel('Loss')\n",
    "    plt.show()"
   ]
  },
  {
   "cell_type": "code",
   "execution_count": 13,
   "metadata": {},
   "outputs": [
    {
     "data": {
      "image/png": "[encoded data removed]",
      "text/plain": [
       "<Figure size 432x288 with 1 Axes>"
      ]
     },
     "metadata": {
      "needs_background": "light"
     },
     "output_type": "display_data"
    },
    {
     "data": {
      "image/png": "[encoded data removed]",
      "text/plain": [
       "<Figure size 432x288 with 1 Axes>"
      ]
     },
     "metadata": {
      "needs_background": "light"
     },
     "output_type": "display_data"
    }
   ],
   "source": [
    "plot_predictions(original, predict)\n",
    "plot_loss(hist)"
   ]
  },
  {
   "cell_type": "markdown",
   "metadata": {},
   "source": [
    "Let's print the MSE of the training and testing"
   ]
  },
  {
   "cell_type": "code",
   "execution_count": 14,
   "metadata": {},
   "outputs": [
    {
     "name": "stdout",
     "output_type": "stream",
     "text": [
      "Train Score: 21.85 RMSE\n",
      "Test Score: 433.50 RMSE\n"
     ]
    }
   ],
   "source": [
    "import math, time\n",
    "from sklearn.metrics import mean_squared_error\n",
    "\n",
    "# make predictions\n",
    "y_test_pred = model(x_test)\n",
    "\n",
    "# invert predictions\n",
    "y_train_pred = scaler.inverse_transform(y_train_pred.detach().numpy())\n",
    "y_train = scaler.inverse_transform(y_train_lstm.detach().numpy())\n",
    "y_test_pred = scaler.inverse_transform(y_test_pred.detach().numpy())\n",
    "y_test = scaler.inverse_transform(y_test_lstm.detach().numpy())\n",
    "\n",
    "# calculate root mean squared error\n",
    "trainScore = math.sqrt(mean_squared_error(y_train[:,0], y_train_pred[:,0]))\n",
    "print('Train Score: %.2f RMSE' % (trainScore))\n",
    "testScore = math.sqrt(mean_squared_error(y_test[:,0], y_test_pred[:,0]))\n",
    "print('Test Score: %.2f RMSE' % (testScore))\n",
    "lstm.append(trainScore)\n",
    "lstm.append(testScore)\n",
    "lstm.append(training_time)"
   ]
  },
  {
   "cell_type": "markdown",
   "metadata": {},
   "source": [
    "### GRU"
   ]
  },
  {
   "cell_type": "code",
   "execution_count": 15,
   "metadata": {},
   "outputs": [],
   "source": [
    "class GRU(nn.Module):\n",
    "    def __init__(self, input_dim, hidden_dim, num_layers, output_dim):\n",
    "        super(GRU, self).__init__()\n",
    "        self.hidden_dim = hidden_dim\n",
    "        self.num_layers = num_layers\n",
    "        \n",
    "        self.gru = nn.GRU(input_dim, hidden_dim, num_layers, batch_first=True)\n",
    "        self.fc = nn.Linear(hidden_dim, output_dim)\n",
    "\n",
    "    def forward(self, x):\n",
    "        h0 = torch.zeros(self.num_layers, x.size(0), self.hidden_dim).requires_grad_()\n",
    "        out, (hn) = self.gru(x, (h0.detach()))\n",
    "        out = self.fc(out[:, -1, :]) \n",
    "        return out"
   ]
  },
  {
   "cell_type": "code",
   "execution_count": 16,
   "metadata": {},
   "outputs": [],
   "source": [
    "model = GRU(input_dim=input_dim, hidden_dim=hidden_dim, output_dim=output_dim, num_layers=num_layers)\n",
    "criterion = torch.nn.MSELoss(reduction='mean')\n",
    "optimiser = torch.optim.Adam(model.parameters(), lr=0.01)"
   ]
  },
  {
   "cell_type": "code",
   "execution_count": 17,
   "metadata": {},
   "outputs": [
    {
     "name": "stdout",
     "output_type": "stream",
     "text": [
      "Epoch  0 MSE:  0.5568073987960815\n",
      "Epoch  1 MSE:  0.2549295127391815\n",
      "Epoch  2 MSE:  0.053372204303741455\n",
      "Epoch  3 MSE:  0.06295347213745117\n",
      "Epoch  4 MSE:  0.09281086176633835\n",
      "Epoch  5 MSE:  0.0341060608625412\n",
      "Epoch  6 MSE:  0.020864788442850113\n",
      "Epoch  7 MSE:  0.04440856724977493\n",
      "Epoch  8 MSE:  0.054317351430654526\n",
      "Epoch  9 MSE:  0.04272213950753212\n",
      "Epoch  10 MSE:  0.025462262332439423\n",
      "Epoch  11 MSE:  0.018017705529928207\n",
      "Epoch  12 MSE:  0.024225277826189995\n",
      "Epoch  13 MSE:  0.032666027545928955\n",
      "Epoch  14 MSE:  0.03170403465628624\n",
      "Epoch  15 MSE:  0.023724019527435303\n",
      "Epoch  16 MSE:  0.017343496903777122\n",
      "Epoch  17 MSE:  0.01679708994925022\n",
      "Epoch  18 MSE:  0.020085563883185387\n",
      "Epoch  19 MSE:  0.02290887013077736\n",
      "Epoch  20 MSE:  0.022571828216314316\n",
      "Epoch  21 MSE:  0.01935628056526184\n",
      "Epoch  22 MSE:  0.015612540766596794\n",
      "Epoch  23 MSE:  0.01375972107052803\n",
      "Epoch  24 MSE:  0.014454787597060204\n",
      "Epoch  25 MSE:  0.016135836020112038\n",
      "Epoch  26 MSE:  0.016514398157596588\n",
      "Epoch  27 MSE:  0.014775177463889122\n",
      "Epoch  28 MSE:  0.01218809187412262\n",
      "Epoch  29 MSE:  0.010626004077494144\n",
      "Epoch  30 MSE:  0.010735423304140568\n",
      "Epoch  31 MSE:  0.01148149836808443\n",
      "Epoch  32 MSE:  0.011296330951154232\n",
      "Epoch  33 MSE:  0.00968103762716055\n",
      "Epoch  34 MSE:  0.007688834331929684\n",
      "Epoch  35 MSE:  0.0067418962717056274\n",
      "Epoch  36 MSE:  0.006921811960637569\n",
      "Epoch  37 MSE:  0.0067610470578074455\n",
      "Epoch  38 MSE:  0.005241013132035732\n",
      "Epoch  39 MSE:  0.0034344783052802086\n",
      "Epoch  40 MSE:  0.003008174942806363\n",
      "Epoch  41 MSE:  0.003278000047430396\n",
      "Epoch  42 MSE:  0.0021193018183112144\n",
      "Epoch  43 MSE:  0.000630340538918972\n",
      "Epoch  44 MSE:  0.0010890322737395763\n",
      "Epoch  45 MSE:  0.001270543783903122\n",
      "Epoch  46 MSE:  0.0003901156596839428\n",
      "Epoch  47 MSE:  0.0016622006660327315\n",
      "Epoch  48 MSE:  0.0016202291008085012\n",
      "Epoch  49 MSE:  0.0012701801024377346\n",
      "Epoch  50 MSE:  0.001895688590593636\n",
      "Epoch  51 MSE:  0.0008982549770735204\n",
      "Epoch  52 MSE:  0.0008021581452339888\n",
      "Epoch  53 MSE:  0.0008822520612739027\n",
      "Epoch  54 MSE:  0.0002472514461260289\n",
      "Epoch  55 MSE:  0.0003403429873287678\n",
      "Epoch  56 MSE:  0.0005330086569301784\n",
      "Epoch  57 MSE:  0.0002889142488129437\n",
      "Epoch  58 MSE:  0.00033050402998924255\n",
      "Epoch  59 MSE:  0.0005738487234339118\n",
      "Epoch  60 MSE:  0.0004919912898913026\n",
      "Epoch  61 MSE:  0.00038855630555190146\n",
      "Epoch  62 MSE:  0.000521310546901077\n",
      "Epoch  63 MSE:  0.0005334946908988059\n",
      "Epoch  64 MSE:  0.0003747894079424441\n",
      "Epoch  65 MSE:  0.0003673030296340585\n",
      "Epoch  66 MSE:  0.0004099006182514131\n",
      "Epoch  67 MSE:  0.0002867835573852062\n",
      "Epoch  68 MSE:  0.00021334385382942855\n",
      "Epoch  69 MSE:  0.00026003102539107203\n",
      "Epoch  70 MSE:  0.00020254560513421893\n",
      "Epoch  71 MSE:  0.0001390257675666362\n",
      "Epoch  72 MSE:  0.00019683966820593923\n",
      "Epoch  73 MSE:  0.00018607988022267818\n",
      "Epoch  74 MSE:  0.000150225474499166\n",
      "Epoch  75 MSE:  0.0002074630610877648\n",
      "Epoch  76 MSE:  0.0002025729336310178\n",
      "Epoch  77 MSE:  0.00017539529653731734\n",
      "Epoch  78 MSE:  0.00021135431597940624\n",
      "Epoch  79 MSE:  0.00018936407286673784\n",
      "Epoch  80 MSE:  0.0001624540745979175\n",
      "Epoch  81 MSE:  0.00017903193656820804\n",
      "Epoch  82 MSE:  0.0001519278739579022\n",
      "Epoch  83 MSE:  0.0001348368969047442\n",
      "Epoch  84 MSE:  0.00014774365990888327\n",
      "Epoch  85 MSE:  0.00012976069410797209\n",
      "Epoch  86 MSE:  0.00012516294373199344\n",
      "Epoch  87 MSE:  0.00013875610602553934\n",
      "Epoch  88 MSE:  0.00012881873408332467\n",
      "Epoch  89 MSE:  0.00012946886999998242\n",
      "Epoch  90 MSE:  0.00013964870595373213\n",
      "Epoch  91 MSE:  0.00013105566904414445\n",
      "Epoch  92 MSE:  0.0001307800703216344\n",
      "Epoch  93 MSE:  0.00013518924242816865\n",
      "Epoch  94 MSE:  0.00012571581464726478\n",
      "Epoch  95 MSE:  0.0001243586593773216\n",
      "Epoch  96 MSE:  0.00012509385123848915\n",
      "Epoch  97 MSE:  0.00011678554437821731\n",
      "Epoch  98 MSE:  0.0001169353854493238\n",
      "Epoch  99 MSE:  0.00011678547161864117\n",
      "Training time: 15.767877101898193\n"
     ]
    }
   ],
   "source": [
    "import time\n",
    "hist = np.zeros(num_epochs)\n",
    "start_time = time.time()\n",
    "lstm = []\n",
    "for t in range(num_epochs):\n",
    "    y_train_pred = model(x_train)\n",
    "    loss = criterion(y_train_pred, y_train_lstm)\n",
    "    print(\"Epoch \", t, \"MSE: \", loss.item())\n",
    "    hist[t] = loss.item()\n",
    "    optimiser.zero_grad()\n",
    "    loss.backward()\n",
    "    optimiser.step()\n",
    "    \n",
    "training_time = time.time()-start_time\n",
    "print(\"Training time: {}\".format(training_time))"
   ]
  },
  {
   "cell_type": "code",
   "execution_count": 18,
   "metadata": {},
   "outputs": [
    {
     "data": {
      "image/png": "[encoded data removed]",
      "text/plain": [
       "<Figure size 432x288 with 1 Axes>"
      ]
     },
     "metadata": {
      "needs_background": "light"
     },
     "output_type": "display_data"
    },
    {
     "data": {
      "image/png": "[encoded data removed]",
      "text/plain": [
       "<Figure size 432x288 with 1 Axes>"
      ]
     },
     "metadata": {
      "needs_background": "light"
     },
     "output_type": "display_data"
    }
   ],
   "source": [
    "predict = pd.DataFrame(scaler.inverse_transform(y_train_pred.detach().numpy()))\n",
    "original = pd.DataFrame(scaler.inverse_transform(y_train_lstm.detach().numpy()))\n",
    "plot_predictions(original, predict)\n",
    "plot_loss(hist)"
   ]
  },
  {
   "cell_type": "code",
   "execution_count": 19,
   "metadata": {},
   "outputs": [
    {
     "name": "stdout",
     "output_type": "stream",
     "text": [
      "Train Score: 8.50 RMSE\n",
      "Test Score: 53.40 RMSE\n"
     ]
    }
   ],
   "source": [
    "import math, time\n",
    "from sklearn.metrics import mean_squared_error\n",
    "\n",
    "# make predictions\n",
    "y_test_pred = model(x_test)\n",
    "\n",
    "# invert predictions\n",
    "y_train_pred = scaler.inverse_transform(y_train_pred.detach().numpy())\n",
    "y_train = scaler.inverse_transform(y_train_lstm.detach().numpy())\n",
    "y_test_pred = scaler.inverse_transform(y_test_pred.detach().numpy())\n",
    "y_test = scaler.inverse_transform(y_test_lstm.detach().numpy())\n",
    "\n",
    "# calculate root mean squared error\n",
    "trainScore = math.sqrt(mean_squared_error(y_train[:,0], y_train_pred[:,0]))\n",
    "print('Train Score: %.2f RMSE' % (trainScore))\n",
    "testScore = math.sqrt(mean_squared_error(y_test[:,0], y_test_pred[:,0]))\n",
    "print('Test Score: %.2f RMSE' % (testScore))\n",
    "lstm.append(trainScore)\n",
    "lstm.append(testScore)\n",
    "lstm.append(training_time)"
   ]
  },
  {
   "cell_type": "code",
   "execution_count": null,
   "metadata": {},
   "outputs": [],
   "source": []
  }
 ],
 "metadata": {
  "kernelspec": {
   "display_name": "Python 3",
   "language": "python",
   "name": "python3"
  },
  "language_info": {
   "codemirror_mode": {
    "name": "ipython",
    "version": 3
   },
   "file_extension": ".py",
   "mimetype": "text/x-python",
   "name": "python",
   "nbconvert_exporter": "python",
   "pygments_lexer": "ipython3",
   "version": "3.8.6"
  }
 },
 "nbformat": 4,
 "nbformat_minor": 1
}
