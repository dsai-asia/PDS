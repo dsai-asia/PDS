{
 "cells": [
  {
   "cell_type": "markdown",
   "metadata": {},
   "source": [
    "# Programming for Data Science and Artificial Intelligence\n",
    "\n",
    "## 6.2 Supervised Learning - Classification - Naive Bayesian\n",
    "\n",
    "### Readings: \n",
    "- [VANDER] Ch5\n",
    "- [HASTIE] Ch6"
   ]
  },
  {
   "cell_type": "code",
   "execution_count": 1,
   "metadata": {},
   "outputs": [],
   "source": [
    "import numpy as np\n",
    "import matplotlib.pyplot as plt"
   ]
  },
  {
   "cell_type": "markdown",
   "metadata": {},
   "source": [
    "## Naive Bayesian Classification\n",
    "\n",
    "In Bayesian classification, we're interested in finding the probability of a label given some observed features, which we can write as $P(L~|~{\\rm features})$.\n",
    "Bayes's theorem tells us how to express this in terms of quantities as:\n",
    "\n",
    "$$\n",
    "P(L~|~{\\rm features}) = \\frac{P({\\rm features}~|~L)P(L)}{P({\\rm features})}\n",
    "$$\n",
    "\n",
    "If we are trying to decide between two labels—let's call them $L_1$ and $L_2$—then one way to make this decision is to compute the ratio of the posterior probabilities for each label:\n",
    "\n",
    "$$\n",
    "\\frac{P(L_1~|~{\\rm features})}{P(L_2~|~{\\rm features})} = \\frac{P({\\rm features}~|~L_1)}{P({\\rm features}~|~L_2)}\\frac{P(L_1)}{P(L_2)}\n",
    "$$\n",
    "\n",
    "All we need now is some model by which we can compute $P({\\rm features}~|~L_i)$ for each label.\n",
    "\n",
    "Such a model is called a *generative model* because it specifies the hypothetical random process that generates the data.  Specifying this generative model for each label is the main piece of the training of such a Bayesian classifier.  The general version of such a training step is a very difficult task, but we can make it simpler through the use of some simplifying assumptions about the form of this model.\n",
    "\n",
    "This is where the \"naive\" in \"naive Bayes\" comes in.  It makes two idiotic assumptions:\n",
    "\n",
    "1. The probability of each feature is independent, thus we can simply multiply these probabilities.  Thus we can do \n",
    "$$P({\\rm features}~|~L_1) = P({\\rm feature_1}~|~L_1) * P({\\rm feature_2}~|~L_1) * \\cdots P({\\rm feature_n}~|~L_1)$$\n",
    "2. The probability distribution of the feature is assumed to belong to some distribution.  For example, if we make the assumption that the feature belongs to Gaussian distribution, then $P({\\rm features}~|~L_1)$ is computed using the probability density function (pdf) of Gaussian distribution which returns the likelihood, where the gaussian pdf looks something like this\n",
    "$$ \\frac{1}{\\sqrt{2\\pi\\sigma^{2}}}e ^{-\\frac{(x-\\mu)^{2}}{2\\sigma^{2}}}$$\n",
    "\n",
    "\n",
    "\n",
    "Different types of naive Bayes classifiers rest on different naive assumptions about the data, and we will examine a few of these in the following sections.\n",
    "\n",
    "Today, we shall explore two forms of naive classification using two different assumptions: (1) Gaussian, and (2) Multinomial."
   ]
  },
  {
   "cell_type": "markdown",
   "metadata": {},
   "source": [
    "## Gaussian Naive Classification\n",
    "\n",
    "In Bayesian classification, we're interested in finding the probability of a label given some observed features, which we can write as $P(y | x)$ (also known as **posteriors**).\n",
    "Bayes's theorem tells us how to express this in terms of quantities as:\n",
    "\n",
    "$$\n",
    "P(y|x) = \\frac{P(x|y)P(y)}{P(x)}\n",
    "$$\n",
    "\n",
    "Thus, if we know all these three terms on the right, we can find $P(y \\mid x)$\n",
    "\n",
    "$P(y)$ (also known as **priors**) is simply\n",
    "\n",
    "$$P(y = 1) = \\frac{\\Sigma_{i=1}^m 1(y=1)}{m}$$\n",
    "\n",
    "$$P(y = 0) = \\frac{\\Sigma_{i=1}^m 1(y=0)}{m}$$\n",
    "\n",
    "$P(x \\mid y)$ (also known as **likelihoods** or **conditional probability**) is a little bit tricky but if we are willing to make a \"naive\" assumption, then we can find a rough approximation of the generative model for each class, and then proceed with the Bayesian classification.  Perhaps the easiest naive Bayes classifier to understand is Gaussian naive Bayes.  In this classifier, the assumption is that *data from each label is drawn from a simple Gaussian distribution* as follows:\n",
    "\n",
    "$$ P(x \\mid y=1 ; \\mu_1, \\sigma^{2}) = \\frac{1}{\\sqrt{2\\pi\\sigma^{2}}}e ^{-\\frac{(x-\\mu_1)^{2}}{2\\sigma^{2}}}$$\n",
    "$$ P(x \\mid y=0 ; \\mu_0, \\sigma^{2}) = \\frac{1}{\\sqrt{2\\pi\\sigma^{2}}}e ^{-\\frac{(x-\\mu_0)^{2}}{2\\sigma^{2}}}$$\n",
    "\n",
    "Such a model is called a *generative model* because it specifies the hypothetical random process that generates the data.\n",
    "Specifying this generative model for each label is the main piece of the training of such a Bayesian classifier.\n",
    "\n",
    "**Implementation steps:**\n",
    "\n",
    "1. Prepare your data\n",
    "    - $X$ and $y$ in the right shape\n",
    "        - $X$ -> $(m, n)$\n",
    "        - $y$ -> $(m,  )$\n",
    "        - Note that theta is not needed.  Why?\n",
    "    - train-test split\n",
    "    - feature scale\n",
    "    - clean out any missing data\n",
    "    - (optional) feature engineering\n",
    "2. Calculate the mean and std of each feature for each class.  For example, the mean of feature $j$ when $y=0$ is\n",
    "    $$\\mu_{0j} = \\frac{\\Sigma_{i=1}^m x_{ij}}{m} $$\n",
    "   Thus the shape of your mean and std will be <code>(n, 2)</code> or more generally <code>(n, k)</code>\n",
    "3. Calculate the **likelihoods** of each sample of each feature using\n",
    "\n",
    "    $$ P(x \\mid y=1 ; \\mu_1, \\sigma^{2}) = \\frac{1}{\\sqrt{2\\pi\\sigma^{2}}}e ^{-\\frac{(x-\\mu_1)^{2}}{2\\sigma^{2}}}$$\n",
    "    $$ P(x \\mid y=0 ; \\mu_0, \\sigma^{2}) = \\frac{1}{\\sqrt{2\\pi\\sigma^{2}}}e ^{-\\frac{(x-\\mu_0)^{2}}{2\\sigma^{2}}}$$\n",
    "    \n",
    "    - The shape of likelihood for class 0 will be $(m, n)$\n",
    "    - Since we may have more than one features, we need to make a product of all features\n",
    "    \n",
    "    $$p(x \\mid y) = \\prod_{i=1}^n p(x_i \\mid y)$$\n",
    "    \n",
    "    - This can only be done because we assume all features are independent of one another\n",
    "    - The shape of this total likelihood for class 0 will be $(m, )$\n",
    "    \n",
    "4. Find **priors** P(y)\n",
    "$$P(y = 1) = \\frac{\\Sigma_{i=1}^m 1(y=1)}{m}$$\n",
    "$$P(y = 0) = \\frac{\\Sigma_{i=1}^m 1(y=0)}{m}$$\n",
    "\n",
    "    - The shape of priors for class 0 will be simply a scalar\n",
    "\n",
    "5. Multiply $P(y)P(x \\mid y)$ for each class which will give us $p(y \\mid x)$ (**posteriors**)\n",
    "    \n",
    "    - For each class, the result of this is simply a multiplication between scalar and $(m, )$ resulting in a shape of $(m, )$, and you will have $k$ of such result.\n",
    "\n",
    "6. Simply compare $P(y)P(x \\mid y)$ for each class, whichever is bigger wins.  Note that we can ignore $P(x)$ since they can be canceled on both sides."
   ]
  },
  {
   "cell_type": "markdown",
   "metadata": {},
   "source": [
    "### Scratch\n",
    "\n",
    "### ===Task===\n",
    "\n",
    "Before I shall tell you how to implement, it is fairly easy to implement Naive Gaussian, so I will let you code this by yourself.\n",
    "\n",
    "I shall ask you in the class what to code in order.  Below is the full code."
   ]
  },
  {
   "cell_type": "markdown",
   "metadata": {},
   "source": [
    "#### 1. Prepare your data\n",
    "\n",
    "#### 1.1 Get your X and y in the right shape"
   ]
  },
  {
   "cell_type": "code",
   "execution_count": 2,
   "metadata": {},
   "outputs": [
    {
     "data": {
      "text/plain": [
       "<matplotlib.collections.PathCollection at 0x1208c3a50>"
      ]
     },
     "execution_count": 2,
     "metadata": {},
     "output_type": "execute_result"
    },
    {
     "data": {
      "image/png": "[encoded data removed]",
      "text/plain": [
       "<Figure size 432x288 with 1 Axes>"
      ]
     },
     "metadata": {
      "needs_background": "light"
     },
     "output_type": "display_data"
    }
   ],
   "source": [
    "from sklearn.datasets import make_classification\n",
    "from sklearn.model_selection import train_test_split\n",
    "from sklearn.preprocessing import StandardScaler\n",
    "\n",
    "#generate quite a lot of noise\n",
    "#with only 4 informative features out of 10\n",
    "#with 2 redundant features, overlapping with that 4 informative features\n",
    "#and 4 noisy features\n",
    "#Also, make std wider using n_clusters=2\n",
    "X, y = make_classification(n_samples=500, n_features=10, n_redundant=2, n_informative=4,\n",
    "                             n_clusters_per_class=2, random_state=14)\n",
    "plt.scatter(X[:, 0], X[:, 1], marker='o', c=y,\n",
    "            s=25, edgecolor='k')\n",
    "\n",
    "#look at the data...it is likely not linearly separable!"
   ]
  },
  {
   "cell_type": "markdown",
   "metadata": {},
   "source": [
    "#### 1.2 Feature scale your data to reach faster convergence"
   ]
  },
  {
   "cell_type": "code",
   "execution_count": 3,
   "metadata": {},
   "outputs": [],
   "source": [
    "#feature scaling helps improve reach convergence faster\n",
    "scaler = StandardScaler()\n",
    "X = scaler.fit_transform(X)"
   ]
  },
  {
   "cell_type": "markdown",
   "metadata": {},
   "source": [
    "#### 1.3 Train test split your data"
   ]
  },
  {
   "cell_type": "code",
   "execution_count": 4,
   "metadata": {},
   "outputs": [],
   "source": [
    "X_train, X_test, y_train, y_test = train_test_split(X, y, test_size=0.3)"
   ]
  },
  {
   "cell_type": "markdown",
   "metadata": {},
   "source": [
    "#### 2. Calculate the mean and std for each feature for each class"
   ]
  },
  {
   "cell_type": "code",
   "execution_count": 5,
   "metadata": {},
   "outputs": [],
   "source": [
    "def mean_var(X_train, y_train):\n",
    "    n = X_train.shape[1]\n",
    "    mean = np.zeros((2, n))\n",
    "    std = np.zeros((2, n))\n",
    "    for label in [0, 1]:\n",
    "        mean[label, :] = X_train[y_train==label].mean(axis=0)\n",
    "        std[label, :] = X_train[y_train==label].std(axis=0)\n",
    "    return mean, std\n",
    "\n",
    "mean, std = mean_var(X_train, y_train)\n",
    "assert mean.shape == (2, X_train.shape[1])\n",
    "assert std.shape == (2, X_train.shape[1])"
   ]
  },
  {
   "cell_type": "markdown",
   "metadata": {},
   "source": [
    "#### 3. Define the probability density function so we can later calculate $p(x \\mid y)$"
   ]
  },
  {
   "cell_type": "code",
   "execution_count": 6,
   "metadata": {},
   "outputs": [],
   "source": [
    "#scipy.stats.multivariate_normal is a library with this .pdf function\n",
    "#but I just code from scratch for you to see\n",
    "def gaussian_pdf(X, mean, std):\n",
    "    left = 1/(np.sqrt(2*np.pi)*std)\n",
    "    e = (X-mean)**2 / (2* (std **2))\n",
    "    right = np.exp(-e)\n",
    "    return left*right"
   ]
  },
  {
   "cell_type": "markdown",
   "metadata": {},
   "source": [
    "#### 3. Calculate the likelihood by calculating the probability density of each class $p(x \\mid y)$"
   ]
  },
  {
   "cell_type": "code",
   "execution_count": 7,
   "metadata": {},
   "outputs": [
    {
     "name": "stdout",
     "output_type": "stream",
     "text": [
      "(150, 10)\n"
     ]
    }
   ],
   "source": [
    "#guassian pdf for class 0 and 1\n",
    "#Note that I am using X_test, since p(x|y) is looking at \"new\" evidence\n",
    "likelihood0 = gaussian_pdf(X_test, mean[0, :], std[0, :])\n",
    "likelihood1 = gaussian_pdf(X_test, mean[1, :], std[0, :])\n",
    "\n",
    "print(likelihood0.shape)\n",
    "\n",
    "#pdf should have probability of each sample for each feature\n",
    "assert likelihood0.shape == (X_test.shape[0], X_test.shape[1]), \"Shape is wrong for pdf0!\"\n",
    "assert likelihood1.shape == (X_test.shape[0], X_test.shape[1]), \"Shape is wrong for pdf1!\""
   ]
  },
  {
   "cell_type": "markdown",
   "metadata": {},
   "source": [
    "#### 3.1 Calculate thetotal likelihood by calculating the product of $p(x \\mid y) = \\prod_{i=1}^n p(x = i \\mid y)$"
   ]
  },
  {
   "cell_type": "code",
   "execution_count": 8,
   "metadata": {},
   "outputs": [
    {
     "name": "stdout",
     "output_type": "stream",
     "text": [
      "(150,)\n"
     ]
    }
   ],
   "source": [
    "#np.product\n",
    "# P(feature1|class0) * P(feature2|class0)\n",
    "total_likelihood0 = np.prod(likelihood0, axis=1)\n",
    "\n",
    "# P(feature1|class1) * P(feature2|class1)\n",
    "total_likelihood1 = np.prod(likelihood1, axis=1)\n",
    "\n",
    "print(total_likelihood0.shape)"
   ]
  },
  {
   "cell_type": "markdown",
   "metadata": {},
   "source": [
    "#### 4. Calculate the prior $p(y)$"
   ]
  },
  {
   "cell_type": "code",
   "execution_count": 9,
   "metadata": {},
   "outputs": [],
   "source": [
    "#probability for class 0 and 1\n",
    "m0 = len(X_train[y_train==0])\n",
    "m1 = len(X_train[y_train==1])\n",
    "prior0 = m0 / (m0 + m1)\n",
    "prior1 = m1 / (m0 + m1)\n",
    "\n",
    "assert prior0 + prior1 == 1, \"probability not equal 1\""
   ]
  },
  {
   "cell_type": "markdown",
   "metadata": {},
   "source": [
    "#### 5. Calculate the posterior $p(x \\mid y)p(y)$ for each class"
   ]
  },
  {
   "cell_type": "code",
   "execution_count": 10,
   "metadata": {},
   "outputs": [],
   "source": [
    "#P(class0) * P(feature1|class0) * P(feature2|class0)\n",
    "posterior0 = prior0 * total_likelihood0    \n",
    "#P(class1) * P(feature1|class1) * P(feature2|class1)\n",
    "posterior1 = prior1 * total_likelihood1"
   ]
  },
  {
   "cell_type": "markdown",
   "metadata": {},
   "source": [
    "#### 6. Calculate accuracy"
   ]
  },
  {
   "cell_type": "code",
   "execution_count": 11,
   "metadata": {},
   "outputs": [
    {
     "name": "stdout",
     "output_type": "stream",
     "text": [
      "=========Average precision score=======\n",
      "0.7614950419527079\n",
      "=========Classification report=======\n",
      "Report:                precision    recall  f1-score   support\n",
      "\n",
      "           0       0.78      0.85      0.81        74\n",
      "           1       0.84      0.76      0.80        76\n",
      "\n",
      "    accuracy                           0.81       150\n",
      "   macro avg       0.81      0.81      0.81       150\n",
      "weighted avg       0.81      0.81      0.81       150\n",
      "\n"
     ]
    }
   ],
   "source": [
    "#if probability of class 1 is more than 0, then True\n",
    "yhat = 1 * posterior1 > posterior0\n",
    "    \n",
    "from sklearn.metrics import average_precision_score, classification_report\n",
    "print(\"=========Average precision score=======\")\n",
    "print(average_precision_score(y_test, yhat))\n",
    "print(\"=========Classification report=======\")\n",
    "print(\"Report: \", classification_report(y_test, yhat))"
   ]
  },
  {
   "cell_type": "markdown",
   "metadata": {},
   "source": [
    "### Sklearn"
   ]
  },
  {
   "cell_type": "markdown",
   "metadata": {},
   "source": [
    "Of course, once we are able to code from scratch, we can turn to our sklearn so we don't need to implement from scratch from now.  Naive Bayes Gaussian is implemented in Scikit-Learn's ``sklearn.naive_bayes.GaussianNB`` estimator:"
   ]
  },
  {
   "cell_type": "code",
   "execution_count": 12,
   "metadata": {},
   "outputs": [
    {
     "data": {
      "text/plain": [
       "GaussianNB()"
      ]
     },
     "execution_count": 12,
     "metadata": {},
     "output_type": "execute_result"
    }
   ],
   "source": [
    "from sklearn.naive_bayes import GaussianNB\n",
    "model = GaussianNB()\n",
    "model.fit(X_train, y_train)"
   ]
  },
  {
   "cell_type": "code",
   "execution_count": 13,
   "metadata": {
    "scrolled": true
   },
   "outputs": [
    {
     "name": "stdout",
     "output_type": "stream",
     "text": [
      "=========Average precision score=======\n",
      "0.8354116059379219\n",
      "=========Classification report=======\n",
      "Report:                precision    recall  f1-score   support\n",
      "\n",
      "           0       0.81      0.93      0.87        74\n",
      "           1       0.92      0.79      0.85        76\n",
      "\n",
      "    accuracy                           0.86       150\n",
      "   macro avg       0.87      0.86      0.86       150\n",
      "weighted avg       0.87      0.86      0.86       150\n",
      "\n"
     ]
    }
   ],
   "source": [
    "yhat = model.predict(X_test)\n",
    "print(\"=========Average precision score=======\")\n",
    "print(average_precision_score(y_test, yhat))\n",
    "print(\"=========Classification report=======\")\n",
    "print(\"Report: \", classification_report(y_test, yhat))"
   ]
  },
  {
   "cell_type": "markdown",
   "metadata": {},
   "source": [
    "We can also use predict_proba to print out the actual probabilities"
   ]
  },
  {
   "cell_type": "code",
   "execution_count": 14,
   "metadata": {
    "scrolled": true
   },
   "outputs": [
    {
     "data": {
      "text/plain": [
       "array([[0.31, 0.69],\n",
       "       [0.09, 0.91],\n",
       "       [0.01, 0.99],\n",
       "       [0.01, 0.99],\n",
       "       [0.51, 0.49],\n",
       "       [0.  , 1.  ],\n",
       "       [0.  , 1.  ],\n",
       "       [0.04, 0.96]])"
      ]
     },
     "execution_count": 14,
     "metadata": {},
     "output_type": "execute_result"
    }
   ],
   "source": [
    "yprob = model.predict_proba(X_test)\n",
    "yprob[-8:].round(2)"
   ]
  },
  {
   "cell_type": "markdown",
   "metadata": {},
   "source": [
    "## Multinomial Naive Classification\n",
    "\n",
    "The Gaussian assumption just described is by no means the only simple assumption that could be used to specify the generative distribution for each label.  Another useful example is multinomial naive bayes, where the features are assumed to be generated from a simple multinomial distribution.  **The multinomial distribution describes the probability of observing counts among a number of categories, and thus multinomial naive bayes is most appropriate for features that represent counts or count rates.**\n",
    "\n",
    "The idea is precisely the same as before, except that instead of modeling the data distribution with the best-fit Gaussian, we model the data distribuiton with a best-fit multinomial distribution.\n",
    "\n",
    "One place where multinomial naive Bayes is often used is in **text classification**, where the features $w$ are related to word counts or frequencies within the documents to be classified and $y$ will be our class.  The formation is as follows:\n",
    "\n",
    "$$\n",
    "P(y|w) = \\frac{P(w|y)P(y)}{P(w)}\n",
    "$$\n",
    "\n",
    "Before we proceed, let's define some notations: $d$ stands for number of documents, $V$ stands for number of unique vocabulary\n",
    "\n",
    "**Implementation steps**: \n",
    "\n",
    "1. Prepare your data\n",
    "    - X and y in the right shape\n",
    "        - $X$ -> $(m, n)$\n",
    "        - $y$ -> $(m,  )$\n",
    "        - Note that theta is not needed.  Why?\n",
    "    - train-test split\n",
    "    - feature scale\n",
    "    - clean out any missing data\n",
    "    - (optional) feature engineering\n",
    "    \n",
    "2. Using the train documents, calculate the **likelihoods** of each word.  Following multinomial distribution, for a given word $w_i$, we count how many of $w_i$ belong in class $k$, we then divide this by ALL the words that belong to $k$. This gives us the conditional probability for a word $w$ given $k$:\n",
    "\n",
    "    $$ P(w_i \\in train \\mid y=k) = \\frac{count(w_i \\in train, k)}{\\Sigma_{i=1}^{V} count(w_i \\in train, k)} $$\n",
    "    \n",
    "3. Since nothing in this world has zero probability, similarly, even we never see a particular word in some class should not gaurantee a zero probability, thus we can perform **Laplace smoothing** to account for any words with zero count\n",
    "    $$ P(w_i \\in train \\mid y=k) = \\frac{count(w_i \\in train, k) + 1}{\\Sigma_{i=1}^{V} count(w_i \\in train, k) + V} $$\n",
    "\n",
    "4. Once we get the **likelihoods** from the train data.  If given some test data, we simply use this likelihood to calculate the total likelihood of the test document.  Similarly, since we have more than one word in the test document, we need to make a product of all likelihood of each word in the test document.\n",
    "    $$P(w \\in test \\mid y=k) = \\prod_{i=1}^{pos} p(w_i \\in test \\mid y=k)$$\n",
    "    - Note that $pos$ indicates the index of each word in the test document\n",
    "    - Also note that if we have words occuring multiple times in the test document, we simply multiply that word's likelihood multiple times.  This can also be expressed as an equation where the word frequency is the power of the likelihood of the word $i$ like this:\n",
    "    $$ P(w \\in test \\mid y=k) = \\prod_{i=1}^{V} p(w_i \\in test \\mid y=k)^{\\text{freq of }w_i \\in test}$$\n",
    "    \n",
    "5. Find **priors** $P(y)$ where is simply number of documents belonging to that class divided by all documents\n",
    "\n",
    "$$P(y = k) = \\frac{\\Sigma_{i=1}^{d}1(y=k)}{d} $$\n",
    "\n",
    "6. To use our (4) and (5) information for prediction, we can multiply $P(y)P(w \\in test \\mid y)$ for each class which will give us $p(y \\mid x)$ (**posteriors**)\n",
    "\n",
    "$$P(y=k)P(w \\in test \\mid y=k)$$ or\n",
    "\n",
    "$$P(y=k)\\prod_{i=1}^{V} p(w_i \\in test \\mid y=k)^{\\text{freq of }w_i \\in test}$$\n",
    "\n",
    "7. Instead of probabilities, we gonna use log (base e) probabiities which have several benefits:\n",
    "    - **Speed** - Log probabilities become addition, which is faster than multiplication\n",
    "    - **Stability** - Probabilities can be too small where some significant digits can be lost during calculations. Log probabiities can prevent such underflow.  If you don't believe me, try perform $log_e(0.0000001)$ (BTW, $log_e$ is same as $ln$)\n",
    "    - **Simplicity** - Many distributions have exponential form.  Taking log cancels out the exp.  The reason we can apply $log$ is because $log$ is a monotically increasing function, thus will not alter the result \n",
    "    - **Dot product** - After log, addition can often expressed as dot product of matrix, simplifying the code implementation\n",
    "    \n",
    "   Now that you are convinced, \n",
    "   \n",
    "   $$P(y=k)\\prod_{i=1}^{V} p(w_i \\in test \\mid y=k)^{\\text{freq of }w_i \\in test}$$  becomes\n",
    "   \n",
    "  $$log \\ P(y=k) + (\\text{freq of }w_i \\in test) * \\Sigma_{i=1}^{V} log \\ p(w_i \\in test \\mid y=k)$$\n",
    "  - Note 1: Log of multiplication becomes addition\n",
    "  - Note 2: Exponent of log becomes multiplicative scalar\n",
    "  \n",
    "8. Thus, in implementation we can expressed as\n",
    "\n",
    "<code>np.log(priors) + X_test @ np.log(likelihoods.T) </code>\n",
    "\n",
    "where <code>X_test</code> has been engineered/transformed in such a way that it represents the frequency of words\n",
    "\n",
    "9. Now, you will have $k$ number of posteriors for the test document.  Simply take the biggest one or <code>argmax</code>. Note that we can ignore $P(x)$ since they can be canceled on both sides."
   ]
  },
  {
   "cell_type": "markdown",
   "metadata": {},
   "source": [
    "### Scratch\n",
    "\n",
    "#### 1. Prepare some data\n",
    "\n",
    "Here we will use the sparse word count features from the 20 Newsgroups corpus to show how we might classify these short documents into categories.\n",
    "\n",
    "Let's download the data and take a look at the target names."
   ]
  },
  {
   "cell_type": "code",
   "execution_count": 15,
   "metadata": {},
   "outputs": [
    {
     "data": {
      "text/plain": [
       "['alt.atheism',\n",
       " 'comp.graphics',\n",
       " 'comp.os.ms-windows.misc',\n",
       " 'comp.sys.ibm.pc.hardware',\n",
       " 'comp.sys.mac.hardware',\n",
       " 'comp.windows.x',\n",
       " 'misc.forsale',\n",
       " 'rec.autos',\n",
       " 'rec.motorcycles',\n",
       " 'rec.sport.baseball',\n",
       " 'rec.sport.hockey',\n",
       " 'sci.crypt',\n",
       " 'sci.electronics',\n",
       " 'sci.med',\n",
       " 'sci.space',\n",
       " 'soc.religion.christian',\n",
       " 'talk.politics.guns',\n",
       " 'talk.politics.mideast',\n",
       " 'talk.politics.misc',\n",
       " 'talk.religion.misc']"
      ]
     },
     "execution_count": 15,
     "metadata": {},
     "output_type": "execute_result"
    }
   ],
   "source": [
    "from sklearn.datasets import fetch_20newsgroups\n",
    "\n",
    "data = fetch_20newsgroups()\n",
    "data.target_names"
   ]
  },
  {
   "cell_type": "markdown",
   "metadata": {},
   "source": [
    "Also, for simplicity here, we will select just a few of these categories, and download the training and testing set."
   ]
  },
  {
   "cell_type": "code",
   "execution_count": 16,
   "metadata": {},
   "outputs": [],
   "source": [
    "categories = ['talk.religion.misc', 'soc.religion.christian',\n",
    "              'sci.space', 'comp.graphics']\n",
    "train = fetch_20newsgroups(subset='train', categories=categories)\n",
    "test = fetch_20newsgroups(subset='test', categories=categories)"
   ]
  },
  {
   "cell_type": "markdown",
   "metadata": {},
   "source": [
    "Last, we will print some example data."
   ]
  },
  {
   "cell_type": "code",
   "execution_count": 17,
   "metadata": {},
   "outputs": [
    {
     "name": "stdout",
     "output_type": "stream",
     "text": [
      "From: jono@mac-ak-24.rtsg.mot.com (Jon Ogden)\n",
      "Subject: Re: Losing your temper is not a Christian trait\n",
      "Organization: Motorola LPA Development\n",
      "Lines: 26\n",
      "\n",
      "In article <Apr.23.02.55.47.1993.3138@geneva.rutgers.edu>, jcj@tellabs.com\n",
      "(jcj) wrote:\n",
      "\n",
      "> I'd like to remind people of the withering of the fig tree and Jesus\n",
      "> driving the money changers et. al. out of the temple.  I think those\n",
      "> were two instances of Christ showing anger (as part of His human side).\n",
      "> \n",
      "Yes, and what about Paul saying:\n",
      "\n",
      "26 Be ye angry, and sin not: let not the sun go down upon your wrath:\n",
      "(Ephesians 4:26).\n",
      "\n",
      "Obviously then, we can be angry w/o sinning.\n",
      "\n",
      "Jon\n",
      "\n",
      "------------------------------------------------\n",
      "Jon Ogden         - jono@mac-ak-24.rtsg.mot.com\n",
      "Motorola Cellular - Advanced Products Division\n",
      "Voice: 708-632-2521      Data: 708-632-6086\n",
      "------------------------------------------------\n",
      "\n",
      "They drew a circle and shut him out.\n",
      "Heretic, Rebel, a thing to flout.\n",
      "But Love and I had the wit to win;\n",
      "We drew a circle and took him in.\n",
      "\n",
      "Target:  2\n"
     ]
    }
   ],
   "source": [
    "print(train.data[0]) #first 300 words\n",
    "print(\"Target: \", train.target[0])  #start with 1, soc.religion.christian"
   ]
  },
  {
   "cell_type": "markdown",
   "metadata": {},
   "source": [
    "#### TfidVectorizer\n",
    "\n",
    "Recall that in Naive Multinomial Classification, we want our features to be represented as frequency.  That is, we must feature engineer our input to be frequency, with each feature (column) representing the frequency of each word.  Of course, we will then have a lot of features like 1000+ depending the number of unique words in our train documents.  Thus, our X can be expressed in shape of $(m, V)$\n",
    "\n",
    "Here, we shall go beyond one more step, i.e., after counting the number of words, we shall perform a normalization process called TF-IDF which focuses on cutting less meaningful information like \"the\", \"a\", \"is\".\n",
    "\n",
    "Before you get more confused, let's see how we can easily engineer our documents into frequency features using <code>sklearn.feature_extraction.text.CountVectorizer</code>"
   ]
  },
  {
   "cell_type": "markdown",
   "metadata": {},
   "source": [
    "#### Let's first look at what is CountVectorizer"
   ]
  },
  {
   "cell_type": "code",
   "execution_count": 18,
   "metadata": {},
   "outputs": [
    {
     "name": "stdout",
     "output_type": "stream",
     "text": [
      "Feature names:  ['and', 'document', 'first', 'is', 'one', 'second', 'the', 'third', 'this']\n",
      "Type:  <class 'scipy.sparse.csr.csr_matrix'>\n",
      "[[0 1 1 1 0 0 1 0 1]\n",
      " [0 2 0 1 0 1 1 0 1]\n",
      " [1 0 0 1 1 0 1 1 1]\n",
      " [0 1 1 1 0 0 1 0 1]]\n",
      "['and this', 'document is', 'first document', 'is the', 'is this', 'second document', 'the first', 'the second', 'the third', 'third one', 'this document', 'this is', 'this the']\n"
     ]
    }
   ],
   "source": [
    "from sklearn.feature_extraction.text import CountVectorizer\n",
    "corpus = [\n",
    "    'This is the first document.',\n",
    "    'This document is the second document.',\n",
    "    'And this is the third one.',\n",
    "    'Is this the first document?',\n",
    "]\n",
    "vectorizer = CountVectorizer()\n",
    "X = vectorizer.fit_transform(corpus)\n",
    "print(\"Feature names: \", vectorizer.get_feature_names())\n",
    "print(\"Type: \", type(X))\n",
    "print(X.toarray())\n",
    "\n",
    "vectorizer2 = CountVectorizer(analyzer='word', ngram_range=(2, 2))\n",
    "X2 = vectorizer2.fit_transform(corpus)\n",
    "print(vectorizer2.get_feature_names())"
   ]
  },
  {
   "cell_type": "markdown",
   "metadata": {},
   "source": [
    "#### Then let's look at what is TfidVectorizer"
   ]
  },
  {
   "cell_type": "code",
   "execution_count": 19,
   "metadata": {},
   "outputs": [
    {
     "data": {
      "text/plain": [
       "array([[0.85151335, 0.        , 0.52433293],\n",
       "       [1.        , 0.        , 0.        ],\n",
       "       [1.        , 0.        , 0.        ],\n",
       "       [1.        , 0.        , 0.        ],\n",
       "       [0.55422893, 0.83236428, 0.        ],\n",
       "       [0.63035731, 0.        , 0.77630514]])"
      ]
     },
     "execution_count": 19,
     "metadata": {},
     "output_type": "execute_result"
    }
   ],
   "source": [
    "from sklearn.feature_extraction.text import TfidfTransformer\n",
    "\n",
    "#imagine that we already have a frequency features.  We can perform normalization\n",
    "#as a follow up\n",
    "#here we got V=3, and d=6\n",
    "counts = [[3, 0, 1],\n",
    "          [2, 0, 0],\n",
    "          [3, 0, 0],\n",
    "          [4, 0, 0],\n",
    "          [3, 2, 0],\n",
    "          [3, 0, 2]]\n",
    "transformer = TfidfTransformer()\n",
    "transformer.fit_transform(counts).toarray()"
   ]
  },
  {
   "cell_type": "markdown",
   "metadata": {},
   "source": [
    "Some explaination first:\n",
    "\n",
    "The formula is\n",
    "\n",
    "$$ \\text{TF-IDF}_{t} =  \\text{TF} * \\text{IDF} $$\n",
    "\n",
    "where $t$ is each term, $\\text{TF}$ is term frequency and $\\text{IDF}$ is inverse document frequency which can be calculated as\n",
    "\n",
    "$$ \\text{IDF}(t) = log (\\frac{d}{\\text{DF}(t)}) + 1 $$\n",
    "\n",
    "where $d$ is the total number of documents in the document set, $\\text{DF}(t)$ is the number of documents in the document set that contain term $t$.\n",
    "\n",
    "Then finally, it is normalized by Euclidean norm:\n",
    "\n",
    "$$ norm(t_i) = \\frac{t_i}{\\sqrt{t_1^2 + t_2^2 + ....+t_V^2}} $$ \n",
    "\n",
    "For example, for first term (first column),\n",
    "\n",
    "$$d = 6$$ \n",
    "$$\\text{TF}(t)_{term1doc1} = 3$$\n",
    "\n",
    "and for the $\\text{DF}$, it appears in all 6 documents, thus \n",
    "\n",
    "$$\\text{DF}(t)_{term1doc1} = 6$$ \n",
    "\n",
    "thus \n",
    "\n",
    "$$ \\text{IDF}(t)_{term1doc1} = log (\\frac{6}{6}) + 1 = 1$$\n",
    "\n",
    "thus \n",
    "\n",
    "$$ \\text{TF-IDF}_{term1doc1} = \\text{TF} * \\text{IDF} = 3 * 1 = 3 $$\n",
    "\n",
    "For term 3 (row1, col3), you will get $\\text{TF-IDF}(t)_{term3doc1} = 1 * (log (\\frac{6}{2}) + 1) = 2.0986$\n",
    "\n",
    "To normalize, simply do \n",
    "\n",
    "$$ t_{norm} = \\frac{[3, 0, 2.0986]}{\\sqrt{3^2 + 0^2 + 2.0986^2}} = [0.8515, 0, 0.5243]$$ "
   ]
  },
  {
   "cell_type": "markdown",
   "metadata": {},
   "source": [
    "Now that you understand what is inverse term frequency which is commonly used on document analysis.  Let's build some pipeline and make predictions"
   ]
  },
  {
   "cell_type": "markdown",
   "metadata": {},
   "source": [
    "#### 1.1 Transform our data to features of words"
   ]
  },
  {
   "cell_type": "code",
   "execution_count": 20,
   "metadata": {},
   "outputs": [
    {
     "name": "stdout",
     "output_type": "stream",
     "text": [
      "X_train:    (0, 32091)\t0.06323663474836895\n",
      "  (0, 34604)\t0.08159803733249359\n",
      "  (0, 34678)\t0.09386677538713814\n",
      "  (0, 16025)\t0.03747094887347767\n",
      "  (0, 20341)\t0.053494245686987386\n",
      "  (0, 7576)\t0.023103622260498138\n",
      "  (0, 14421)\t0.11160127553180954\n",
      "  (0, 31753)\t0.04723937857426608\n",
      "  (0, 26646)\t0.10407682226672788\n",
      "  (0, 16493)\t0.1013912286522198\n",
      "  (0, 16610)\t0.09009773712773926\n",
      "  (0, 29122)\t0.08293805016995441\n",
      "  (0, 8666)\t0.16073965513378285\n",
      "  (0, 12166)\t0.19824118320941841\n",
      "  (0, 31737)\t0.02793242388131909\n",
      "  (0, 2645)\t0.11160127553180954\n",
      "  (0, 10677)\t0.054075767940987195\n",
      "  (0, 1631)\t0.10407682226672788\n",
      "  (0, 2691)\t0.2147274464147697\n",
      "  (0, 2879)\t0.19430735265559024\n",
      "  (0, 33990)\t0.07272800329036469\n",
      "  (0, 11891)\t0.07720124038682384\n",
      "  (0, 25675)\t0.07344668162795868\n",
      "  (0, 4416)\t0.07541359690487275\n",
      "  (0, 8236)\t0.11160127553180954\n",
      "  :\t:\n",
      "  (0, 1655)\t0.17106199151977294\n",
      "  (0, 20065)\t0.014736824020982909\n",
      "  (0, 11327)\t0.062343635038980855\n",
      "  (0, 20366)\t0.10407682226672788\n",
      "  (0, 22013)\t0.15958421417931642\n",
      "  (0, 23591)\t0.015581583944844032\n",
      "  (0, 32244)\t0.09912059160470921\n",
      "  (0, 8590)\t0.04214176725638149\n",
      "  (0, 22932)\t0.0675359313255703\n",
      "  (0, 18370)\t0.018104334029087538\n",
      "  (0, 31463)\t0.09246285796354252\n",
      "  (0, 35183)\t0.06657908279354553\n",
      "  (0, 20308)\t0.09000215396924795\n",
      "  (0, 26562)\t0.019778135877998683\n",
      "  (0, 30617)\t0.014729984000427944\n",
      "  (0, 23326)\t0.19430735265559024\n",
      "  (0, 18765)\t0.21416397135871157\n",
      "  (0, 9095)\t0.08596084824767848\n",
      "  (0, 21988)\t0.14999728067575058\n",
      "  (0, 27916)\t0.19430735265559024\n",
      "  (0, 1572)\t0.10586962394127693\n",
      "  (0, 4688)\t0.19083746819410952\n",
      "  (0, 20502)\t0.1308309917954776\n",
      "  (0, 18774)\t0.19430735265559024\n",
      "  (0, 14822)\t0.014729984000427944\n",
      "y_train:  2\n"
     ]
    }
   ],
   "source": [
    "#transform our X to vectorized data\n",
    "from sklearn.feature_extraction.text import TfidfVectorizer\n",
    "vectorizer = TfidfVectorizer()\n",
    "X_train = vectorizer.fit_transform(train.data)\n",
    "X_test = vectorizer.transform(test.data)\n",
    "X_test = X_test.toarray()  #vectorizer gives us a sparse matrix; convert back to dense matrix\n",
    "\n",
    "y_train = train.target\n",
    "y_test = test.target\n",
    "\n",
    "print(\"X_train: \", X_train[0])\n",
    "print(\"y_train: \", y_train[0])"
   ]
  },
  {
   "cell_type": "markdown",
   "metadata": {},
   "source": [
    "#### 2 to 5:Calculating likelihood anrd prior"
   ]
  },
  {
   "cell_type": "code",
   "execution_count": 21,
   "metadata": {},
   "outputs": [],
   "source": [
    "def likelihood(X_class, laplace=1):\n",
    "    #sklearn called alpha\n",
    "    return ((X_class.sum(axis=0)) + laplace) / (np.sum(X_class.sum(axis=0) + laplace))"
   ]
  },
  {
   "cell_type": "code",
   "execution_count": 22,
   "metadata": {},
   "outputs": [],
   "source": [
    "def prior(X_class, m):\n",
    "    return X_class.shape[0] / m"
   ]
  },
  {
   "cell_type": "code",
   "execution_count": 23,
   "metadata": {},
   "outputs": [],
   "source": [
    "def fit(X_train, y_train):\n",
    "    m, n = X_train.shape\n",
    "    classes = np.unique(y_train)  #list of class\n",
    "    k = len(classes) #number of class\n",
    "    \n",
    "    priors = np.zeros(k) #prior for each classes\n",
    "    likelihoods = np.zeros((k, n)) #likehood for each class of each feature\n",
    "    \n",
    "    for idx, label in enumerate(classes):\n",
    "        X_train_c = X_train[y_train==label]\n",
    "        priors[idx] = prior(X_train_c, m)\n",
    "        likelihoods[idx, :] = likelihood(X_train_c)\n",
    "    return priors, likelihoods"
   ]
  },
  {
   "cell_type": "markdown",
   "metadata": {},
   "source": [
    "#### 7. Log probabilities (I just skip 6)"
   ]
  },
  {
   "cell_type": "code",
   "execution_count": 24,
   "metadata": {},
   "outputs": [],
   "source": [
    "def predict(X_test, priors, likelihoods, classes):\n",
    "    return np.log(priors) + X_test @ np.log(likelihoods.T) "
   ]
  },
  {
   "cell_type": "markdown",
   "metadata": {},
   "source": [
    "#### 8. Let's use them"
   ]
  },
  {
   "cell_type": "code",
   "execution_count": 25,
   "metadata": {},
   "outputs": [],
   "source": [
    "priors, likelihoods = fit(X_train, y_train)"
   ]
  },
  {
   "cell_type": "code",
   "execution_count": 26,
   "metadata": {},
   "outputs": [
    {
     "name": "stdout",
     "output_type": "stream",
     "text": [
      "Classes:  [0 1 2 3]\n",
      "X_test shape:  (1432, 35329)\n",
      "priors shape:  (4,)\n",
      "likelihoods shape:  (4, 35329)\n",
      "X_test @ np.log(likelihoods.T) shape:  (1432, 4)\n"
     ]
    }
   ],
   "source": [
    "classes = np.unique(y_test)\n",
    "print(\"Classes: \", classes)\n",
    "print(\"X_test shape: \", X_test.shape)\n",
    "print(\"priors shape: \", priors.shape)\n",
    "print(\"likelihoods shape: \", likelihoods.shape)\n",
    "print(\"X_test @ np.log(likelihoods.T) shape: \", (X_test @ np.log(likelihoods.T) ).shape)\n",
    "yhat = predict(X_test, priors, likelihoods, classes)"
   ]
  },
  {
   "cell_type": "code",
   "execution_count": 27,
   "metadata": {},
   "outputs": [
    {
     "name": "stdout",
     "output_type": "stream",
     "text": [
      "First two yhat samples:  [[-91.43527546 -90.73890674 -88.35563902 -89.56907333]\n",
      " [-78.97708704 -79.86434517 -79.68980348 -81.16942474]]\n",
      "Yhat shape after argmax:  (1432,)\n",
      "First two yhat samples:  [2 0]\n"
     ]
    }
   ],
   "source": [
    "print(\"First two yhat samples: \", yhat[:2])\n",
    "yhat = np.argmax(yhat, axis=1)\n",
    "print(\"Yhat shape after argmax: \", yhat.shape)\n",
    "print(\"First two yhat samples: \", yhat[:2])"
   ]
  },
  {
   "cell_type": "code",
   "execution_count": 28,
   "metadata": {},
   "outputs": [
    {
     "name": "stdout",
     "output_type": "stream",
     "text": [
      "Accuracy:  0.8016759776536313\n",
      "=========Average precision score=======\n",
      "Class 0 score:  0.888341920518241\n",
      "Class 1 score:  0.8744630809734135\n",
      "Class 2 score:  0.6122064043881043\n",
      "Class 3 score:  0.332994836297269\n",
      "=========Classification report=======\n",
      "Report:                precision    recall  f1-score   support\n",
      "\n",
      "           0       0.97      0.88      0.92       389\n",
      "           1       0.92      0.92      0.92       394\n",
      "           2       0.62      0.98      0.76       398\n",
      "           3       1.00      0.19      0.32       251\n",
      "\n",
      "    accuracy                           0.80      1432\n",
      "   macro avg       0.88      0.75      0.73      1432\n",
      "weighted avg       0.86      0.80      0.77      1432\n",
      "\n"
     ]
    }
   ],
   "source": [
    "from sklearn.preprocessing import label_binarize\n",
    "\n",
    "n_classes = len(np.unique(y_test))\n",
    "\n",
    "print(\"Accuracy: \", np.sum(yhat == y_test)/len(y_test))\n",
    "\n",
    "print(\"=========Average precision score=======\")\n",
    "y_test_binarized = label_binarize(y_test, classes=[0, 1, 2, 3])\n",
    "yhat_binarized = label_binarize(yhat, classes=[0, 1, 2, 3])\n",
    "\n",
    "for i in range(n_classes):\n",
    "    class_score = average_precision_score(y_test_binarized[:, i], yhat_binarized[:, i])\n",
    "    print(f\"Class {i} score: \", class_score)\n",
    "    \n",
    "print(\"=========Classification report=======\")\n",
    "print(\"Report: \", classification_report(y_test, yhat))"
   ]
  },
  {
   "cell_type": "markdown",
   "metadata": {},
   "source": [
    "### Sklearn"
   ]
  },
  {
   "cell_type": "code",
   "execution_count": 29,
   "metadata": {},
   "outputs": [],
   "source": [
    "from sklearn.naive_bayes import MultinomialNB\n",
    "\n",
    "model = MultinomialNB()\n",
    "model.fit(X_train, y_train)\n",
    "yhat = model.predict(X_test)  ##later for checking score"
   ]
  },
  {
   "cell_type": "code",
   "execution_count": 30,
   "metadata": {},
   "outputs": [
    {
     "name": "stdout",
     "output_type": "stream",
     "text": [
      "comp.graphics\n"
     ]
    }
   ],
   "source": [
    "#fun thing you can do\n",
    "some_string = \"Programming is fun\"\n",
    "transformed = vectorizer.transform([some_string])\n",
    "transformed.shape\n",
    "\n",
    "prediction = model.predict(transformed)\n",
    "print(train.target_names[prediction[0]])"
   ]
  },
  {
   "cell_type": "code",
   "execution_count": 31,
   "metadata": {},
   "outputs": [
    {
     "data": {
      "text/plain": [
       "Text(32.99999999999999, 0.5, 'predicted')"
      ]
     },
     "execution_count": 31,
     "metadata": {},
     "output_type": "execute_result"
    },
    {
     "data": {
      "image/png": "[encoded data removed]",
      "text/plain": [
       "<Figure size 432x288 with 2 Axes>"
      ]
     },
     "metadata": {
      "needs_background": "light"
     },
     "output_type": "display_data"
    }
   ],
   "source": [
    "from sklearn.metrics import confusion_matrix\n",
    "\n",
    "#use confusion matrix\n",
    "mat = confusion_matrix(y_test, yhat)\n",
    "\n",
    "import seaborn as sns\n",
    "sns.heatmap(mat.T, annot=True, fmt=\"d\",\n",
    "           xticklabels=train.target_names, yticklabels=train.target_names)\n",
    "plt.xlabel('true')\n",
    "plt.ylabel('predicted')"
   ]
  },
  {
   "cell_type": "markdown",
   "metadata": {},
   "source": [
    "Looking above, it seems the accuracy is quite ok, but religion talk was often confused with christianity talk which kinda make sense.\n",
    "\n",
    "Fun part is we can reuse the model.predict to predict any text."
   ]
  },
  {
   "cell_type": "code",
   "execution_count": 32,
   "metadata": {},
   "outputs": [
    {
     "name": "stdout",
     "output_type": "stream",
     "text": [
      "=========Average precision score=======\n",
      "Class 0 score:  0.888341920518241\n",
      "Class 1 score:  0.8744630809734135\n",
      "Class 2 score:  0.6122064043881043\n",
      "Class 3 score:  0.332994836297269\n",
      "=========Classification report=======\n",
      "Report:                precision    recall  f1-score   support\n",
      "\n",
      "           0       0.97      0.88      0.92       389\n",
      "           1       0.92      0.92      0.92       394\n",
      "           2       0.62      0.98      0.76       398\n",
      "           3       1.00      0.19      0.32       251\n",
      "\n",
      "    accuracy                           0.80      1432\n",
      "   macro avg       0.88      0.75      0.73      1432\n",
      "weighted avg       0.86      0.80      0.77      1432\n",
      "\n"
     ]
    }
   ],
   "source": [
    "print(\"=========Average precision score=======\")\n",
    "y_test_binarized = label_binarize(y_test, classes=[0, 1, 2, 3])\n",
    "yhat_binarized = label_binarize(yhat, classes=[0, 1, 2, 3])\n",
    "\n",
    "n_classes = len(np.unique(y_test))\n",
    "\n",
    "for i in range(n_classes):\n",
    "    class_score = average_precision_score(y_test_binarized[:, i], yhat_binarized[:, i])\n",
    "    print(f\"Class {i} score: \", class_score)\n",
    "\n",
    "print(\"=========Classification report=======\")\n",
    "print(\"Report: \", classification_report(y_test, yhat))"
   ]
  },
  {
   "cell_type": "markdown",
   "metadata": {},
   "source": [
    "### When to Use Naive Bayes\n",
    "\n",
    "Usually only as baseline!  Because naive Bayesian classifiers make such stringent assumptions about data, they will **generally NOT perform as well as a more complicated model.**\n",
    "That said, they have several advantages:\n",
    "\n",
    "- They are extremely fast for both training and prediction\n",
    "- They provide straightforward probabilistic prediction\n",
    "- They are often very easily interpretable\n",
    "- They have very few (if any) tunable parameters\n",
    "\n",
    "Naive Bayes classifiers tend to perform well only when your data is clearly separable or has high dimension.\n",
    "\n",
    "The reason for high dimension is because new dimensions usually add more information, thus data become more separable.  Thus, if you have really large dataset, try Naive Bayes and it may surprise you!"
   ]
  }
 ],
 "metadata": {
  "kernelspec": {
   "display_name": "Python 3",
   "language": "python",
   "name": "python3"
  },
  "language_info": {
   "codemirror_mode": {
    "name": "ipython",
    "version": 3
   },
   "file_extension": ".py",
   "mimetype": "text/x-python",
   "name": "python",
   "nbconvert_exporter": "python",
   "pygments_lexer": "ipython3",
   "version": "3.7.7"
  }
 },
 "nbformat": 4,
 "nbformat_minor": 4
}
