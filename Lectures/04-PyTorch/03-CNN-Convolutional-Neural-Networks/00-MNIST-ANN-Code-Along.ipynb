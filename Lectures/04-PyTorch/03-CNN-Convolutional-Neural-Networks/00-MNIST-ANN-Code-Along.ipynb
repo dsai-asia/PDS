{
 "cells": [
  {
   "cell_type": "markdown",
   "metadata": {},
   "source": [
    "# MNIST Code Along with ANN\n",
    "Before we start working with Convolutional Neural Networks (CNN), let's model the <a href='https://en.wikipedia.org/wiki/MNIST_database'>MNIST dataset</a> using only linear layers.<br>\n",
    "In this exercise we'll use the same logic laid out in the ANN notebook. We'll reshape the MNIST data from a 28x28 image to a flattened 1x784 vector to mimic a single row of 784 features."
   ]
  },
  {
   "cell_type": "markdown",
   "metadata": {},
   "source": [
    "## Perform standard imports\n",
    "Torchvision should have been installed by the environment file during setup. If not, you can install it now. At the terminal with your virtual environment activated, run<br>\n",
    "<pre>conda install torchvision -c pytorch\n",
    "<em>or</em>\n",
    "pip install torchvision</pre>"
   ]
  },
  {
   "cell_type": "code",
   "execution_count": 1,
   "metadata": {},
   "outputs": [],
   "source": [
    "import torch\n",
    "import torch.nn as nn\n",
    "import torch.nn.functional as F          # adds some efficiency\n",
    "from torch.utils.data import DataLoader  # lets us load data in batches\n",
    "from torchvision import datasets, transforms\n",
    "\n",
    "import numpy as np\n",
    "import pandas as pd\n",
    "from sklearn.metrics import confusion_matrix  # for evaluating results\n",
    "import matplotlib.pyplot as plt\n",
    "%matplotlib inline"
   ]
  },
  {
   "cell_type": "markdown",
   "metadata": {},
   "source": [
    "## Load the MNIST dataset\n",
    "PyTorch makes the MNIST dataset available through <a href='https://pytorch.org/docs/stable/torchvision/index.html'><tt><strong>torchvision</strong></tt></a>. The first time it's called, the dataset will be downloaded onto your computer to the path specified. From that point, torchvision will always look for a local copy before attempting another download.\n",
    "### Define transform\n",
    "As part of the loading process, we can apply multiple transformations (reshape, convert to tensor, normalize, etc.) to the incoming data.<br>For this exercise we only need to convert images to tensors. "
   ]
  },
  {
   "cell_type": "code",
   "execution_count": 5,
   "metadata": {},
   "outputs": [],
   "source": [
    "transform = transforms.ToTensor()"
   ]
  },
  {
   "cell_type": "markdown",
   "metadata": {},
   "source": [
    "### Load the training set"
   ]
  },
  {
   "cell_type": "code",
   "execution_count": 8,
   "metadata": {},
   "outputs": [
    {
     "data": {
      "text/plain": [
       "Dataset MNIST\n",
       "    Number of datapoints: 60000\n",
       "    Root location: ../Data\n",
       "    Split: Train\n",
       "    StandardTransform\n",
       "Transform: ToTensor()"
      ]
     },
     "execution_count": 8,
     "metadata": {},
     "output_type": "execute_result"
    }
   ],
   "source": [
    "train_data = datasets.MNIST(root='../Data', train=True, download=True, transform=transform)\n",
    "train_data"
   ]
  },
  {
   "cell_type": "markdown",
   "metadata": {},
   "source": [
    "### Load the test set\n",
    "There's a companion set of MNIST data containing 10,000 records accessible by setting train=False. As before, torchvision will only download this once, and in the future will look for the local copy."
   ]
  },
  {
   "cell_type": "code",
   "execution_count": 9,
   "metadata": {},
   "outputs": [
    {
     "data": {
      "text/plain": [
       "Dataset MNIST\n",
       "    Number of datapoints: 10000\n",
       "    Root location: ../Data\n",
       "    Split: Test\n",
       "    StandardTransform\n",
       "Transform: ToTensor()"
      ]
     },
     "execution_count": 9,
     "metadata": {},
     "output_type": "execute_result"
    }
   ],
   "source": [
    "test_data = datasets.MNIST(root='../Data', train=False, download=True, transform=transform)\n",
    "test_data"
   ]
  },
  {
   "cell_type": "code",
   "execution_count": 14,
   "metadata": {},
   "outputs": [
    {
     "data": {
      "text/plain": [
       "<module 'torchvision.datasets' from 'C:\\\\Users\\\\drgo694\\\\AppData\\\\Local\\\\Continuum\\\\anaconda3\\\\lib\\\\site-packages\\\\torchvision\\\\datasets\\\\__init__.py'>"
      ]
     },
     "execution_count": 14,
     "metadata": {},
     "output_type": "execute_result"
    }
   ],
   "source": [
    "datasets"
   ]
  },
  {
   "cell_type": "code",
   "execution_count": 19,
   "metadata": {
    "scrolled": true
   },
   "outputs": [
    {
     "data": {
      "text/plain": [
       "torchvision.datasets.mnist.MNIST"
      ]
     },
     "execution_count": 19,
     "metadata": {},
     "output_type": "execute_result"
    }
   ],
   "source": [
    "type(test_data)"
   ]
  },
  {
   "cell_type": "markdown",
   "metadata": {},
   "source": [
    "### Examine a training record"
   ]
  },
  {
   "cell_type": "code",
   "execution_count": 21,
   "metadata": {
    "scrolled": false
   },
   "outputs": [
    {
     "data": {
      "text/plain": [
       "tuple"
      ]
     },
     "execution_count": 21,
     "metadata": {},
     "output_type": "execute_result"
    }
   ],
   "source": [
    "type(train_data[0])"
   ]
  },
  {
   "cell_type": "code",
   "execution_count": 23,
   "metadata": {},
   "outputs": [
    {
     "data": {
      "text/plain": [
       "2"
      ]
     },
     "execution_count": 23,
     "metadata": {},
     "output_type": "execute_result"
    }
   ],
   "source": [
    "len(train_data[0])"
   ]
  },
  {
   "cell_type": "code",
   "execution_count": 25,
   "metadata": {},
   "outputs": [
    {
     "data": {
      "text/plain": [
       "(tensor([[[0.0000, 0.0000, 0.0000, 0.0000, 0.0000, 0.0000, 0.0000, 0.0000,\n",
       "           0.0000, 0.0000, 0.0000, 0.0000, 0.0000, 0.0000, 0.0000, 0.0000,\n",
       "           0.0000, 0.0000, 0.0000, 0.0000, 0.0000, 0.0000, 0.0000, 0.0000,\n",
       "           0.0000, 0.0000, 0.0000, 0.0000],\n",
       "          [0.0000, 0.0000, 0.0000, 0.0000, 0.0000, 0.0000, 0.0000, 0.0000,\n",
       "           0.0000, 0.0000, 0.0000, 0.0000, 0.0000, 0.0000, 0.0000, 0.0000,\n",
       "           0.0000, 0.0000, 0.0000, 0.0000, 0.0000, 0.0000, 0.0000, 0.0000,\n",
       "           0.0000, 0.0000, 0.0000, 0.0000],\n",
       "          [0.0000, 0.0000, 0.0000, 0.0000, 0.0000, 0.0000, 0.0000, 0.0000,\n",
       "           0.0000, 0.0000, 0.0000, 0.0000, 0.0000, 0.0000, 0.0000, 0.0000,\n",
       "           0.0000, 0.0000, 0.0000, 0.0000, 0.0000, 0.0000, 0.0000, 0.0000,\n",
       "           0.0000, 0.0000, 0.0000, 0.0000],\n",
       "          [0.0000, 0.0000, 0.0000, 0.0000, 0.0000, 0.0000, 0.0000, 0.0000,\n",
       "           0.0000, 0.0000, 0.0000, 0.0000, 0.0000, 0.0000, 0.0000, 0.0000,\n",
       "           0.0000, 0.0000, 0.0000, 0.0000, 0.0000, 0.0000, 0.0000, 0.0000,\n",
       "           0.0000, 0.0000, 0.0000, 0.0000],\n",
       "          [0.0000, 0.0000, 0.0000, 0.0000, 0.0000, 0.0000, 0.0000, 0.0000,\n",
       "           0.0000, 0.0000, 0.0000, 0.0000, 0.0000, 0.0000, 0.0000, 0.0000,\n",
       "           0.0000, 0.0000, 0.0000, 0.0000, 0.0000, 0.0000, 0.0000, 0.0000,\n",
       "           0.0000, 0.0000, 0.0000, 0.0000],\n",
       "          [0.0000, 0.0000, 0.0000, 0.0000, 0.0000, 0.0000, 0.0000, 0.0000,\n",
       "           0.0000, 0.0000, 0.0000, 0.0000, 0.0118, 0.0706, 0.0706, 0.0706,\n",
       "           0.4941, 0.5333, 0.6863, 0.1020, 0.6510, 1.0000, 0.9686, 0.4980,\n",
       "           0.0000, 0.0000, 0.0000, 0.0000],\n",
       "          [0.0000, 0.0000, 0.0000, 0.0000, 0.0000, 0.0000, 0.0000, 0.0000,\n",
       "           0.1176, 0.1412, 0.3686, 0.6039, 0.6667, 0.9922, 0.9922, 0.9922,\n",
       "           0.9922, 0.9922, 0.8824, 0.6745, 0.9922, 0.9490, 0.7647, 0.2510,\n",
       "           0.0000, 0.0000, 0.0000, 0.0000],\n",
       "          [0.0000, 0.0000, 0.0000, 0.0000, 0.0000, 0.0000, 0.0000, 0.1922,\n",
       "           0.9333, 0.9922, 0.9922, 0.9922, 0.9922, 0.9922, 0.9922, 0.9922,\n",
       "           0.9922, 0.9843, 0.3647, 0.3216, 0.3216, 0.2196, 0.1529, 0.0000,\n",
       "           0.0000, 0.0000, 0.0000, 0.0000],\n",
       "          [0.0000, 0.0000, 0.0000, 0.0000, 0.0000, 0.0000, 0.0000, 0.0706,\n",
       "           0.8588, 0.9922, 0.9922, 0.9922, 0.9922, 0.9922, 0.7765, 0.7137,\n",
       "           0.9686, 0.9451, 0.0000, 0.0000, 0.0000, 0.0000, 0.0000, 0.0000,\n",
       "           0.0000, 0.0000, 0.0000, 0.0000],\n",
       "          [0.0000, 0.0000, 0.0000, 0.0000, 0.0000, 0.0000, 0.0000, 0.0000,\n",
       "           0.3137, 0.6118, 0.4196, 0.9922, 0.9922, 0.8039, 0.0431, 0.0000,\n",
       "           0.1686, 0.6039, 0.0000, 0.0000, 0.0000, 0.0000, 0.0000, 0.0000,\n",
       "           0.0000, 0.0000, 0.0000, 0.0000],\n",
       "          [0.0000, 0.0000, 0.0000, 0.0000, 0.0000, 0.0000, 0.0000, 0.0000,\n",
       "           0.0000, 0.0549, 0.0039, 0.6039, 0.9922, 0.3529, 0.0000, 0.0000,\n",
       "           0.0000, 0.0000, 0.0000, 0.0000, 0.0000, 0.0000, 0.0000, 0.0000,\n",
       "           0.0000, 0.0000, 0.0000, 0.0000],\n",
       "          [0.0000, 0.0000, 0.0000, 0.0000, 0.0000, 0.0000, 0.0000, 0.0000,\n",
       "           0.0000, 0.0000, 0.0000, 0.5451, 0.9922, 0.7451, 0.0078, 0.0000,\n",
       "           0.0000, 0.0000, 0.0000, 0.0000, 0.0000, 0.0000, 0.0000, 0.0000,\n",
       "           0.0000, 0.0000, 0.0000, 0.0000],\n",
       "          [0.0000, 0.0000, 0.0000, 0.0000, 0.0000, 0.0000, 0.0000, 0.0000,\n",
       "           0.0000, 0.0000, 0.0000, 0.0431, 0.7451, 0.9922, 0.2745, 0.0000,\n",
       "           0.0000, 0.0000, 0.0000, 0.0000, 0.0000, 0.0000, 0.0000, 0.0000,\n",
       "           0.0000, 0.0000, 0.0000, 0.0000],\n",
       "          [0.0000, 0.0000, 0.0000, 0.0000, 0.0000, 0.0000, 0.0000, 0.0000,\n",
       "           0.0000, 0.0000, 0.0000, 0.0000, 0.1373, 0.9451, 0.8824, 0.6275,\n",
       "           0.4235, 0.0039, 0.0000, 0.0000, 0.0000, 0.0000, 0.0000, 0.0000,\n",
       "           0.0000, 0.0000, 0.0000, 0.0000],\n",
       "          [0.0000, 0.0000, 0.0000, 0.0000, 0.0000, 0.0000, 0.0000, 0.0000,\n",
       "           0.0000, 0.0000, 0.0000, 0.0000, 0.0000, 0.3176, 0.9412, 0.9922,\n",
       "           0.9922, 0.4667, 0.0980, 0.0000, 0.0000, 0.0000, 0.0000, 0.0000,\n",
       "           0.0000, 0.0000, 0.0000, 0.0000],\n",
       "          [0.0000, 0.0000, 0.0000, 0.0000, 0.0000, 0.0000, 0.0000, 0.0000,\n",
       "           0.0000, 0.0000, 0.0000, 0.0000, 0.0000, 0.0000, 0.1765, 0.7294,\n",
       "           0.9922, 0.9922, 0.5882, 0.1059, 0.0000, 0.0000, 0.0000, 0.0000,\n",
       "           0.0000, 0.0000, 0.0000, 0.0000],\n",
       "          [0.0000, 0.0000, 0.0000, 0.0000, 0.0000, 0.0000, 0.0000, 0.0000,\n",
       "           0.0000, 0.0000, 0.0000, 0.0000, 0.0000, 0.0000, 0.0000, 0.0627,\n",
       "           0.3647, 0.9882, 0.9922, 0.7333, 0.0000, 0.0000, 0.0000, 0.0000,\n",
       "           0.0000, 0.0000, 0.0000, 0.0000],\n",
       "          [0.0000, 0.0000, 0.0000, 0.0000, 0.0000, 0.0000, 0.0000, 0.0000,\n",
       "           0.0000, 0.0000, 0.0000, 0.0000, 0.0000, 0.0000, 0.0000, 0.0000,\n",
       "           0.0000, 0.9765, 0.9922, 0.9765, 0.2510, 0.0000, 0.0000, 0.0000,\n",
       "           0.0000, 0.0000, 0.0000, 0.0000],\n",
       "          [0.0000, 0.0000, 0.0000, 0.0000, 0.0000, 0.0000, 0.0000, 0.0000,\n",
       "           0.0000, 0.0000, 0.0000, 0.0000, 0.0000, 0.0000, 0.1804, 0.5098,\n",
       "           0.7176, 0.9922, 0.9922, 0.8118, 0.0078, 0.0000, 0.0000, 0.0000,\n",
       "           0.0000, 0.0000, 0.0000, 0.0000],\n",
       "          [0.0000, 0.0000, 0.0000, 0.0000, 0.0000, 0.0000, 0.0000, 0.0000,\n",
       "           0.0000, 0.0000, 0.0000, 0.0000, 0.1529, 0.5804, 0.8980, 0.9922,\n",
       "           0.9922, 0.9922, 0.9804, 0.7137, 0.0000, 0.0000, 0.0000, 0.0000,\n",
       "           0.0000, 0.0000, 0.0000, 0.0000],\n",
       "          [0.0000, 0.0000, 0.0000, 0.0000, 0.0000, 0.0000, 0.0000, 0.0000,\n",
       "           0.0000, 0.0000, 0.0941, 0.4471, 0.8667, 0.9922, 0.9922, 0.9922,\n",
       "           0.9922, 0.7882, 0.3059, 0.0000, 0.0000, 0.0000, 0.0000, 0.0000,\n",
       "           0.0000, 0.0000, 0.0000, 0.0000],\n",
       "          [0.0000, 0.0000, 0.0000, 0.0000, 0.0000, 0.0000, 0.0000, 0.0000,\n",
       "           0.0902, 0.2588, 0.8353, 0.9922, 0.9922, 0.9922, 0.9922, 0.7765,\n",
       "           0.3176, 0.0078, 0.0000, 0.0000, 0.0000, 0.0000, 0.0000, 0.0000,\n",
       "           0.0000, 0.0000, 0.0000, 0.0000],\n",
       "          [0.0000, 0.0000, 0.0000, 0.0000, 0.0000, 0.0000, 0.0706, 0.6706,\n",
       "           0.8588, 0.9922, 0.9922, 0.9922, 0.9922, 0.7647, 0.3137, 0.0353,\n",
       "           0.0000, 0.0000, 0.0000, 0.0000, 0.0000, 0.0000, 0.0000, 0.0000,\n",
       "           0.0000, 0.0000, 0.0000, 0.0000],\n",
       "          [0.0000, 0.0000, 0.0000, 0.0000, 0.2157, 0.6745, 0.8863, 0.9922,\n",
       "           0.9922, 0.9922, 0.9922, 0.9569, 0.5216, 0.0431, 0.0000, 0.0000,\n",
       "           0.0000, 0.0000, 0.0000, 0.0000, 0.0000, 0.0000, 0.0000, 0.0000,\n",
       "           0.0000, 0.0000, 0.0000, 0.0000],\n",
       "          [0.0000, 0.0000, 0.0000, 0.0000, 0.5333, 0.9922, 0.9922, 0.9922,\n",
       "           0.8314, 0.5294, 0.5176, 0.0627, 0.0000, 0.0000, 0.0000, 0.0000,\n",
       "           0.0000, 0.0000, 0.0000, 0.0000, 0.0000, 0.0000, 0.0000, 0.0000,\n",
       "           0.0000, 0.0000, 0.0000, 0.0000],\n",
       "          [0.0000, 0.0000, 0.0000, 0.0000, 0.0000, 0.0000, 0.0000, 0.0000,\n",
       "           0.0000, 0.0000, 0.0000, 0.0000, 0.0000, 0.0000, 0.0000, 0.0000,\n",
       "           0.0000, 0.0000, 0.0000, 0.0000, 0.0000, 0.0000, 0.0000, 0.0000,\n",
       "           0.0000, 0.0000, 0.0000, 0.0000],\n",
       "          [0.0000, 0.0000, 0.0000, 0.0000, 0.0000, 0.0000, 0.0000, 0.0000,\n",
       "           0.0000, 0.0000, 0.0000, 0.0000, 0.0000, 0.0000, 0.0000, 0.0000,\n",
       "           0.0000, 0.0000, 0.0000, 0.0000, 0.0000, 0.0000, 0.0000, 0.0000,\n",
       "           0.0000, 0.0000, 0.0000, 0.0000],\n",
       "          [0.0000, 0.0000, 0.0000, 0.0000, 0.0000, 0.0000, 0.0000, 0.0000,\n",
       "           0.0000, 0.0000, 0.0000, 0.0000, 0.0000, 0.0000, 0.0000, 0.0000,\n",
       "           0.0000, 0.0000, 0.0000, 0.0000, 0.0000, 0.0000, 0.0000, 0.0000,\n",
       "           0.0000, 0.0000, 0.0000, 0.0000]]]), 5)"
      ]
     },
     "execution_count": 25,
     "metadata": {},
     "output_type": "execute_result"
    }
   ],
   "source": [
    "train_data[0]"
   ]
  },
  {
   "cell_type": "code",
   "execution_count": 29,
   "metadata": {},
   "outputs": [
    {
     "data": {
      "text/plain": [
       "torch.Tensor"
      ]
     },
     "execution_count": 29,
     "metadata": {},
     "output_type": "execute_result"
    }
   ],
   "source": [
    "type(train_data[0][0])"
   ]
  },
  {
   "cell_type": "code",
   "execution_count": 32,
   "metadata": {},
   "outputs": [
    {
     "data": {
      "text/plain": [
       "torch.Size([1, 28, 28])"
      ]
     },
     "execution_count": 32,
     "metadata": {},
     "output_type": "execute_result"
    }
   ],
   "source": [
    "train_data[0][0].size()"
   ]
  },
  {
   "cell_type": "markdown",
   "metadata": {},
   "source": [
    "Calling the first record from <tt>train_data</tt> returns a two-item tuple. The first item is our 28x28 tensor representing the image. The second is a label, in this case the number \"5\"."
   ]
  },
  {
   "cell_type": "code",
   "execution_count": 26,
   "metadata": {},
   "outputs": [
    {
     "name": "stdout",
     "output_type": "stream",
     "text": [
      "Shape: torch.Size([1, 28, 28]) \n",
      "Label: 5\n"
     ]
    }
   ],
   "source": [
    "image, label = train_data[0]\n",
    "print('Shape:', image.shape, '\\nLabel:', label)"
   ]
  },
  {
   "cell_type": "markdown",
   "metadata": {},
   "source": [
    "### View the image\n",
    "Matplotlib can interpret pixel values through a variety of <a href='https://matplotlib.org/tutorials/colors/colormaps.html'>colormaps</a>."
   ]
  },
  {
   "cell_type": "code",
   "execution_count": 33,
   "metadata": {},
   "outputs": [
    {
     "data": {
      "image/png": "[encoded data removed]",
      "text/plain": [
       "<Figure size 432x288 with 1 Axes>"
      ]
     },
     "metadata": {
      "needs_background": "light"
     },
     "output_type": "display_data"
    }
   ],
   "source": [
    "plt.imshow(train_data[0][0].reshape((28,28)), cmap=\"gray\");"
   ]
  },
  {
   "cell_type": "code",
   "execution_count": 34,
   "metadata": {},
   "outputs": [
    {
     "data": {
      "image/png": "[encoded data removed]",
      "text/plain": [
       "<Figure size 432x288 with 1 Axes>"
      ]
     },
     "metadata": {
      "needs_background": "light"
     },
     "output_type": "display_data"
    }
   ],
   "source": [
    "plt.imshow(train_data[0][0].reshape((28,28)), cmap=\"gist_yarg\");"
   ]
  },
  {
   "cell_type": "code",
   "execution_count": 35,
   "metadata": {},
   "outputs": [
    {
     "data": {
      "image/png": "[encoded data removed]",
      "text/plain": [
       "<Figure size 432x288 with 1 Axes>"
      ]
     },
     "metadata": {
      "needs_background": "light"
     },
     "output_type": "display_data"
    }
   ],
   "source": [
    "plt.imshow(train_data[0][0].reshape((28,28)));"
   ]
  },
  {
   "cell_type": "markdown",
   "metadata": {},
   "source": [
    "## Batch loading with DataLoader\n",
    "Our training set contains 60,000 records. If we look ahead to our model we have 784 incoming features, hidden layers of 120 and 84 neurons, and 10 output features. Including the bias terms for each layer, the total number of parameters being trained is:<br>\n",
    "\n",
    "$\\begin{split}\\quad(784\\times120)+120+(120\\times84)+84+(84\\times10)+10 &=\\\\\n",
    "94080+120+10080+84+840+10 &= 105,214\\end{split}$<br>\n",
    "\n",
    "For this reason it makes sense to load training data in batches using <a href='https://pytorch.org/docs/stable/data.html#torch.utils.data.DataLoader'><tt><strong>DataLoader</strong></tt></a>."
   ]
  },
  {
   "cell_type": "code",
   "execution_count": 36,
   "metadata": {},
   "outputs": [],
   "source": [
    "torch.manual_seed(101)  # for consistent results\n",
    "\n",
    "train_loader = DataLoader(train_data, batch_size=100, shuffle=True)\n",
    "\n",
    "test_loader = DataLoader(test_data, batch_size=500, shuffle=False)"
   ]
  },
  {
   "cell_type": "markdown",
   "metadata": {},
   "source": [
    "In the cell above, <tt><strong>train_data</strong></tt> is a PyTorch <a href='https://pytorch.org/docs/stable/data.html#torch.utils.data.Dataset'><em>Dataset</em></a> object (an object that supports data loading and sampling).<br>\n",
    "The <tt><strong>batch_size</strong></tt> is the number of records to be processed at a time. If it's not evenly divisible into the dataset, then the final batch contains the remainder.<br>\n",
    "Setting <tt><strong>shuffle</strong></tt> to True means that the dataset will be shuffled after each epoch.\n",
    "\n",
    "<div class=\"alert alert-info\"><strong>NOTE:</strong> DataLoader takes an optional <tt><strong>num_workers</strong></tt> parameter that sets up how many subprocesses to use for data loading. This behaves differently with different operating systems so we've omitted it here. See <a href='https://pytorch.org/docs/stable/data.html#torch.utils.data.DataLoader'>the docs</a> for more information.</div>"
   ]
  },
  {
   "cell_type": "code",
   "execution_count": 39,
   "metadata": {},
   "outputs": [
    {
     "data": {
      "text/plain": [
       "torch.utils.data.dataloader.DataLoader"
      ]
     },
     "execution_count": 39,
     "metadata": {},
     "output_type": "execute_result"
    }
   ],
   "source": [
    "type(train_loader)"
   ]
  },
  {
   "cell_type": "code",
   "execution_count": 42,
   "metadata": {},
   "outputs": [
    {
     "data": {
      "text/plain": [
       "600"
      ]
     },
     "execution_count": 42,
     "metadata": {},
     "output_type": "execute_result"
    }
   ],
   "source": [
    "len(train_loader)"
   ]
  },
  {
   "cell_type": "code",
   "execution_count": 40,
   "metadata": {},
   "outputs": [
    {
     "data": {
      "text/plain": [
       "torchvision.datasets.mnist.MNIST"
      ]
     },
     "execution_count": 40,
     "metadata": {},
     "output_type": "execute_result"
    }
   ],
   "source": [
    "type(train_data)"
   ]
  },
  {
   "cell_type": "code",
   "execution_count": 41,
   "metadata": {},
   "outputs": [
    {
     "data": {
      "text/plain": [
       "Dataset MNIST\n",
       "    Number of datapoints: 60000\n",
       "    Root location: ../Data\n",
       "    Split: Train\n",
       "    StandardTransform\n",
       "Transform: ToTensor()"
      ]
     },
     "execution_count": 41,
     "metadata": {},
     "output_type": "execute_result"
    }
   ],
   "source": [
    "train_data"
   ]
  },
  {
   "cell_type": "markdown",
   "metadata": {},
   "source": [
    "### View a batch of images\n",
    "Once we've defined a DataLoader, we can create a grid of images using <a href='https://pytorch.org/docs/stable/torchvision/utils.html#torchvision.utils.make_grid'><tt><strong>torchvision.utils.make_grid</strong></tt></a>"
   ]
  },
  {
   "cell_type": "code",
   "execution_count": 52,
   "metadata": {},
   "outputs": [
    {
     "name": "stdout",
     "output_type": "stream",
     "text": [
      "Labels:  [   9    6    9    7    6    9    4    2    5    5    1    6]\n"
     ]
    },
    {
     "data": {
      "image/png": "[encoded data removed]",
      "text/plain": [
       "<Figure size 1152x576 with 1 Axes>"
      ]
     },
     "metadata": {
      "needs_background": "light"
     },
     "output_type": "display_data"
    }
   ],
   "source": [
    "from torchvision.utils import make_grid\n",
    "np.set_printoptions(formatter=dict(int=lambda x: f'{x:4}')) # to widen the printed array\n",
    "\n",
    "# Grab the first batch of images\n",
    "for images,labels in train_loader: \n",
    "    break\n",
    "\n",
    "# Print the first 12 labels\n",
    "print('Labels: ', labels[:12].numpy())\n",
    "\n",
    "# Print the first 12 images\n",
    "im = make_grid(images[:12], nrow=12)  # the default nrow is 8\n",
    "plt.figure(figsize=(16,8))\n",
    "# We need to transpose the images from CWH to WHC\n",
    "# C - color chanel\n",
    "# W - width\n",
    "# H - height\n",
    "plt.imshow(np.transpose(im.numpy(), (1, 2, 0)));"
   ]
  },
  {
   "cell_type": "code",
   "execution_count": 47,
   "metadata": {},
   "outputs": [
    {
     "data": {
      "text/plain": [
       "tensor([4, 4, 0, 4, 4, 5, 6, 0, 2, 2, 9, 3, 8, 1, 4, 3, 4, 1, 0, 9, 1, 3, 4, 5,\n",
       "        5, 0, 7, 0, 3, 8, 9, 6, 7, 6, 0, 9, 7, 9, 5, 3, 0, 4, 4, 0, 9, 6, 6, 4,\n",
       "        5, 4, 8, 0, 4, 3, 6, 2, 5, 3, 1, 6, 1, 2, 1, 4, 4, 7, 2, 8, 7, 8, 7, 6,\n",
       "        0, 0, 2, 8, 0, 8, 0, 1, 7, 9, 8, 3, 5, 2, 6, 6, 1, 1, 0, 5, 3, 6, 7, 5,\n",
       "        2, 2, 1, 1])"
      ]
     },
     "execution_count": 47,
     "metadata": {},
     "output_type": "execute_result"
    }
   ],
   "source": [
    "labels"
   ]
  },
  {
   "cell_type": "code",
   "execution_count": 48,
   "metadata": {},
   "outputs": [
    {
     "data": {
      "text/plain": [
       "torch.Tensor"
      ]
     },
     "execution_count": 48,
     "metadata": {},
     "output_type": "execute_result"
    }
   ],
   "source": [
    "type(images)"
   ]
  },
  {
   "cell_type": "markdown",
   "metadata": {},
   "source": [
    "## Define the model\n",
    "For this exercise we'll use fully connected layers to develop a <a href='https://en.wikipedia.org/wiki/Multilayer_perceptron'>multilayer perceptron</a>.<br>\n",
    "Our input size is 784 once we flatten the incoming 28x28 tensors.<br>\n",
    "Our output size represents the 10 possible digits.<br>\n",
    "We'll set our hidden layers to [120, 84] for now. Once you've completed the exercise feel free to come back and try different values."
   ]
  },
  {
   "cell_type": "code",
   "execution_count": 56,
   "metadata": {},
   "outputs": [],
   "source": [
    "class MultilayerPerceptron(nn.Module):\n",
    "    def __init__(self, in_sz=784, out_sz=10, layers=[120,84]):\n",
    "        super().__init__()\n",
    "        self.fc1 = nn.Linear(in_sz,layers[0])\n",
    "        self.fc2 = nn.Linear(layers[0],layers[1])\n",
    "        self.fc3 = nn.Linear(layers[1],out_sz)\n",
    "    \n",
    "    def forward(self,X):\n",
    "        X = F.relu(self.fc1(X))\n",
    "        X = F.relu(self.fc2(X))\n",
    "        X = self.fc3(X)\n",
    "        return F.log_softmax(X, dim=1) #multi class classification\n",
    "    # dim (int) – A dimension along which Softmax will be computed (so every slice along dim will sum to 1)."
   ]
  },
  {
   "cell_type": "code",
   "execution_count": 57,
   "metadata": {},
   "outputs": [
    {
     "data": {
      "text/plain": [
       "MultilayerPerceptron(\n",
       "  (fc1): Linear(in_features=784, out_features=120, bias=True)\n",
       "  (fc2): Linear(in_features=120, out_features=84, bias=True)\n",
       "  (fc3): Linear(in_features=84, out_features=10, bias=True)\n",
       ")"
      ]
     },
     "execution_count": 57,
     "metadata": {},
     "output_type": "execute_result"
    }
   ],
   "source": [
    "torch.manual_seed(101)\n",
    "model = MultilayerPerceptron()\n",
    "model"
   ]
  },
  {
   "cell_type": "code",
   "execution_count": 63,
   "metadata": {},
   "outputs": [
    {
     "data": {
      "text/plain": [
       "__main__.MultilayerPerceptron"
      ]
     },
     "execution_count": 63,
     "metadata": {},
     "output_type": "execute_result"
    }
   ],
   "source": [
    "type(model)"
   ]
  },
  {
   "cell_type": "markdown",
   "metadata": {},
   "source": [
    "<div class=\"alert alert-info\"><strong>NOTE:</strong> You may have noticed our shortcut for adding ReLU to the linear layer. In the last section this was done under the <tt>__init__</tt> section as\n",
    "<pre style='background-color:rgb(217,237,247)'>\n",
    "layerlist = []\n",
    "for i in layers:\n",
    "    layerlist.append(nn.Linear(n_in,i)) \n",
    "    layerlist.append(nn.ReLU(inplace=True))\n",
    "self.layers = nn.Sequential(*layerlist)</pre>\n",
    "    \n",
    "Here we're calling <tt>F.relu()</tt> as a functional wrapper on the linear layer directly:\n",
    "<pre style='background-color:rgb(217,237,247)'>\n",
    "def forward(self,X):\n",
    "    X = F.relu(self.fc1(X))</pre></div>"
   ]
  },
  {
   "cell_type": "markdown",
   "metadata": {},
   "source": [
    "## Count the model parameters\n",
    "This optional step shows that the number of trainable parameters in our model matches the equation above."
   ]
  },
  {
   "cell_type": "code",
   "execution_count": 58,
   "metadata": {},
   "outputs": [],
   "source": [
    "def count_parameters(model):\n",
    "    params = [p.numel() for p in model.parameters() if p.requires_grad]\n",
    "    for item in params:\n",
    "        print(f'{item:>6}')\n",
    "    print(f'______\\n{sum(params):>6}')"
   ]
  },
  {
   "cell_type": "code",
   "execution_count": 59,
   "metadata": {},
   "outputs": [
    {
     "name": "stdout",
     "output_type": "stream",
     "text": [
      " 94080\n",
      "   120\n",
      " 10080\n",
      "    84\n",
      "   840\n",
      "    10\n",
      "______\n",
      "105214\n"
     ]
    }
   ],
   "source": [
    "count_parameters(model)"
   ]
  },
  {
   "cell_type": "code",
   "execution_count": 60,
   "metadata": {},
   "outputs": [
    {
     "name": "stdout",
     "output_type": "stream",
     "text": [
      "94080\n",
      "120\n",
      "10080\n",
      "84\n",
      "840\n",
      "10\n"
     ]
    }
   ],
   "source": [
    "for param in model.parameters():\n",
    "    print(param.numel())"
   ]
  },
  {
   "cell_type": "code",
   "execution_count": 62,
   "metadata": {},
   "outputs": [
    {
     "data": {
      "text/plain": [
       "<generator object Module.parameters at 0x000002304C041930>"
      ]
     },
     "execution_count": 62,
     "metadata": {},
     "output_type": "execute_result"
    }
   ],
   "source": [
    " model.parameters()"
   ]
  },
  {
   "cell_type": "markdown",
   "metadata": {},
   "source": [
    "## Define loss function & optimizer"
   ]
  },
  {
   "cell_type": "code",
   "execution_count": 61,
   "metadata": {},
   "outputs": [],
   "source": [
    "criterion = nn.CrossEntropyLoss()\n",
    "optimizer = torch.optim.Adam(model.parameters(), lr=0.001)"
   ]
  },
  {
   "cell_type": "markdown",
   "metadata": {},
   "source": [
    "## Flatten the training data\n",
    "The batch tensors fed in by DataLoader have a shape of [100, 1, 28, 28]:"
   ]
  },
  {
   "cell_type": "code",
   "execution_count": 65,
   "metadata": {},
   "outputs": [
    {
     "name": "stdout",
     "output_type": "stream",
     "text": [
      "Batch shape: torch.Size([100, 1, 28, 28])\n"
     ]
    }
   ],
   "source": [
    "# Load the first batch, print its shape\n",
    "for images, labels in train_loader:\n",
    "    print('Batch shape:', images.size())\n",
    "    break\n",
    "    \n",
    "# EQUIVALENT TO:\n",
    "# dataiter = iter(train_loader)\n",
    "# images, labels = dataiter.next()\n",
    "# print('Batch shape:', images.size())"
   ]
  },
  {
   "cell_type": "markdown",
   "metadata": {},
   "source": [
    "We can flatten them using <tt>.view()</tt>"
   ]
  },
  {
   "cell_type": "code",
   "execution_count": 66,
   "metadata": {},
   "outputs": [
    {
     "data": {
      "text/plain": [
       "torch.Size([100, 784])"
      ]
     },
     "execution_count": 66,
     "metadata": {},
     "output_type": "execute_result"
    }
   ],
   "source": [
    "images.view(100,-1).size()"
   ]
  },
  {
   "cell_type": "markdown",
   "metadata": {},
   "source": [
    "We'll do this just before applying the model to our data."
   ]
  },
  {
   "cell_type": "markdown",
   "metadata": {},
   "source": [
    "## Train the model\n",
    "This time we'll run the test data through the model during each epoch, so that we can compare loss & accuracy on the same plot.\n",
    "\n",
    "<div class=\"alert alert-info\"><strong>A QUICK NOTE: </strong>In the section below marked &nbsp;<tt><em>#Tally the number of correct predictions</em></tt> &nbsp;we include the code\n",
    "<pre style='background-color:rgb(217,237,247)'>\n",
    "predicted = torch.max(y_pred.data, 1)[1]</pre>\n",
    "This uses the <a href='https://pytorch.org/docs/stable/torch.html#torch.max'><tt><strong>torch.max()</strong></tt></a> function. <tt>torch.max()</tt> returns a tensor of maximum values, and a tensor of the indices where the max values were found. In our code we're asking for the index positions of the maximum values along dimension 1. In this way we can match predictions up to image labels.</div>"
   ]
  },
  {
   "cell_type": "code",
   "execution_count": 67,
   "metadata": {},
   "outputs": [
    {
     "name": "stdout",
     "output_type": "stream",
     "text": [
      "epoch:  0  batch:  200 [ 20000/60000]  loss: 0.29897094  accuracy:  82.515%\n",
      "epoch:  0  batch:  400 [ 40000/60000]  loss: 0.13506073  accuracy:  87.207%\n",
      "epoch:  0  batch:  600 [ 60000/60000]  loss: 0.09836522  accuracy:  89.370%\n",
      "epoch:  1  batch:  200 [ 20000/60000]  loss: 0.16989124  accuracy:  94.945%\n",
      "epoch:  1  batch:  400 [ 40000/60000]  loss: 0.07370959  accuracy:  95.055%\n",
      "epoch:  1  batch:  600 [ 60000/60000]  loss: 0.04286284  accuracy:  95.250%\n",
      "epoch:  2  batch:  200 [ 20000/60000]  loss: 0.04506821  accuracy:  96.330%\n",
      "epoch:  2  batch:  400 [ 40000/60000]  loss: 0.07327071  accuracy:  96.500%\n",
      "epoch:  2  batch:  600 [ 60000/60000]  loss: 0.02052123  accuracy:  96.577%\n",
      "epoch:  3  batch:  200 [ 20000/60000]  loss: 0.11856155  accuracy:  97.230%\n",
      "epoch:  3  batch:  400 [ 40000/60000]  loss: 0.17205314  accuracy:  97.347%\n",
      "epoch:  3  batch:  600 [ 60000/60000]  loss: 0.08008792  accuracy:  97.372%\n",
      "epoch:  4  batch:  200 [ 20000/60000]  loss: 0.02768158  accuracy:  97.850%\n",
      "epoch:  4  batch:  400 [ 40000/60000]  loss: 0.08467562  accuracy:  97.993%\n",
      "epoch:  4  batch:  600 [ 60000/60000]  loss: 0.05119696  accuracy:  97.898%\n",
      "epoch:  5  batch:  200 [ 20000/60000]  loss: 0.03206992  accuracy:  98.425%\n",
      "epoch:  5  batch:  400 [ 40000/60000]  loss: 0.04032682  accuracy:  98.373%\n",
      "epoch:  5  batch:  600 [ 60000/60000]  loss: 0.04812923  accuracy:  98.293%\n",
      "epoch:  6  batch:  200 [ 20000/60000]  loss: 0.09810463  accuracy:  98.725%\n",
      "epoch:  6  batch:  400 [ 40000/60000]  loss: 0.05051352  accuracy:  98.582%\n",
      "epoch:  6  batch:  600 [ 60000/60000]  loss: 0.03733957  accuracy:  98.615%\n",
      "epoch:  7  batch:  200 [ 20000/60000]  loss: 0.08256051  accuracy:  98.920%\n",
      "epoch:  7  batch:  400 [ 40000/60000]  loss: 0.02648709  accuracy:  98.858%\n",
      "epoch:  7  batch:  600 [ 60000/60000]  loss: 0.03545591  accuracy:  98.815%\n",
      "epoch:  8  batch:  200 [ 20000/60000]  loss: 0.02452275  accuracy:  99.235%\n",
      "epoch:  8  batch:  400 [ 40000/60000]  loss: 0.02155335  accuracy:  99.135%\n",
      "epoch:  8  batch:  600 [ 60000/60000]  loss: 0.02565974  accuracy:  99.042%\n",
      "epoch:  9  batch:  200 [ 20000/60000]  loss: 0.02482529  accuracy:  99.390%\n",
      "epoch:  9  batch:  400 [ 40000/60000]  loss: 0.02261098  accuracy:  99.355%\n",
      "epoch:  9  batch:  600 [ 60000/60000]  loss: 0.03786097  accuracy:  99.250%\n",
      "\n",
      "Duration: 153 seconds\n"
     ]
    }
   ],
   "source": [
    "import time\n",
    "start_time = time.time()\n",
    "\n",
    "epochs = 10\n",
    "train_losses = []\n",
    "test_losses = []\n",
    "train_correct = []\n",
    "test_correct = []\n",
    "\n",
    "for i in range(epochs):\n",
    "    trn_corr = 0\n",
    "    tst_corr = 0\n",
    "    \n",
    "    # Run the training batches\n",
    "    for b, (X_train, y_train) in enumerate(train_loader):\n",
    "        b+=1\n",
    "        \n",
    "        # Apply the model\n",
    "        y_pred = model(X_train.view(100, -1))  # Here we flatten X_train\n",
    "        loss = criterion(y_pred, y_train)\n",
    " \n",
    "        #y_pred - one hot encoding softmax values [0.1,0.0,0.8, ...]\n",
    "\n",
    "        # Tally the number of correct predictions\n",
    "        predicted = torch.max(y_pred.data, 1)[1]\n",
    "        batch_corr = (predicted == y_train).sum()\n",
    "        trn_corr += batch_corr\n",
    "        \n",
    "        # Update parameters\n",
    "        optimizer.zero_grad()\n",
    "        loss.backward()\n",
    "        optimizer.step()\n",
    "        \n",
    "        # Print interim results\n",
    "        if b%200 == 0:\n",
    "            print(f'epoch: {i:2}  batch: {b:4} [{100*b:6}/60000]  loss: {loss.item():10.8f}  \\\n",
    "accuracy: {trn_corr.item()*100/(100*b):7.3f}%')\n",
    "    \n",
    "    # Update train loss & accuracy for the epoch\n",
    "    train_losses.append(loss)\n",
    "    train_correct.append(trn_corr)\n",
    "        \n",
    "    # Run the testing batches\n",
    "    with torch.no_grad():\n",
    "        for b, (X_test, y_test) in enumerate(test_loader):\n",
    "\n",
    "            # Apply the model\n",
    "            y_val = model(X_test.view(500, -1))  # Here we flatten X_test to 500 samples - size of the batch\n",
    "\n",
    "            # Tally the number of correct predictions\n",
    "            predicted = torch.max(y_val.data, 1)[1] \n",
    "            tst_corr += (predicted == y_test).sum()\n",
    "    \n",
    "    # Update test loss & accuracy for the epoch\n",
    "    loss = criterion(y_val, y_test)\n",
    "    test_losses.append(loss)\n",
    "    test_correct.append(tst_corr)\n",
    "        \n",
    "print(f'\\nDuration: {time.time() - start_time:.0f} seconds') # print the time elapsed            "
   ]
  },
  {
   "cell_type": "code",
   "execution_count": 70,
   "metadata": {},
   "outputs": [
    {
     "name": "stdout",
     "output_type": "stream",
     "text": [
      "tensor([2, 3, 4, 5, 6, 2, 8, 9, 0, 1, 2, 3, 4, 5, 6, 7, 8, 9, 1, 0, 1, 2, 7, 5,\n",
      "        3, 4, 4, 0, 0, 6, 9, 6, 6, 5, 7, 2, 3, 4, 4, 9, 1, 4, 0, 7, 9, 5, 7, 2,\n",
      "        3, 1, 4, 4, 0, 9, 9, 6, 1, 8, 3, 3, 7, 3, 9, 8, 8, 4, 7, 7, 6, 2, 1, 9,\n",
      "        8, 7, 8, 8, 7, 2, 2, 3, 9, 3, 3, 5, 5, 0, 7, 4, 5, 6, 5, 1, 4, 1, 1, 2,\n",
      "        8, 2, 6, 1, 5, 0, 1, 2, 3, 4, 5, 6, 7, 8, 9, 0, 1, 2, 3, 4, 5, 6, 7, 8,\n",
      "        9, 0, 1, 2, 3, 4, 5, 6, 7, 8, 8, 0, 6, 0, 8, 2, 3, 7, 9, 4, 7, 1, 9, 1,\n",
      "        7, 1, 4, 0, 0, 1, 7, 5, 7, 1, 3, 3, 3, 1, 6, 9, 7, 1, 3, 0, 7, 6, 0, 8,\n",
      "        9, 4, 3, 5, 4, 8, 1, 5, 9, 0, 6, 3, 3, 8, 1, 4, 7, 5, 2, 0, 0, 1, 7, 8,\n",
      "        7, 6, 8, 8, 2, 3, 6, 1, 8, 9, 5, 2, 0, 1, 2, 3, 4, 5, 6, 7, 8, 9, 0, 1,\n",
      "        2, 3, 4, 5, 6, 7, 8, 9, 0, 1, 2, 3, 4, 6, 6, 7, 8, 9, 7, 4, 6, 1, 4, 0,\n",
      "        9, 9, 3, 7, 8, 6, 7, 5, 8, 5, 3, 2, 2, 0, 5, 8, 6, 0, 3, 8, 1, 0, 3, 0,\n",
      "        4, 7, 4, 9, 0, 9, 0, 7, 1, 7, 1, 6, 6, 5, 6, 0, 8, 7, 5, 4, 9, 9, 5, 3,\n",
      "        7, 4, 3, 0, 4, 5, 6, 1, 1, 3, 2, 1, 0, 0, 1, 2, 3, 4, 7, 8, 9, 0, 1, 2,\n",
      "        3, 4, 5, 6, 7, 8, 0, 1, 2, 3, 4, 7, 8, 9, 0, 8, 3, 9, 5, 5, 2, 6, 8, 4,\n",
      "        1, 7, 1, 3, 3, 5, 6, 9, 1, 1, 1, 2, 1, 2, 0, 7, 7, 5, 8, 2, 9, 8, 6, 7,\n",
      "        3, 4, 6, 8, 7, 0, 4, 2, 7, 7, 5, 4, 3, 4, 2, 8, 1, 5, 1, 0, 2, 3, 3, 5,\n",
      "        7, 0, 6, 8, 6, 3, 9, 9, 8, 2, 7, 7, 1, 0, 1, 7, 8, 9, 0, 1, 2, 3, 4, 5,\n",
      "        6, 7, 8, 0, 1, 2, 3, 4, 7, 8, 9, 7, 8, 6, 4, 1, 9, 3, 8, 4, 4, 7, 0, 1,\n",
      "        9, 2, 8, 7, 8, 2, 6, 0, 6, 5, 3, 3, 3, 9, 1, 4, 0, 6, 1, 0, 0, 6, 2, 1,\n",
      "        1, 7, 7, 8, 4, 6, 0, 7, 0, 3, 6, 8, 7, 1, 5, 2, 4, 9, 4, 3, 6, 4, 1, 7,\n",
      "        2, 6, 5, 0, 1, 2, 3, 4, 5, 6, 7, 8, 9, 0, 1, 2, 3, 4, 5, 6])\n"
     ]
    }
   ],
   "source": [
    "print(predicted)"
   ]
  },
  {
   "cell_type": "code",
   "execution_count": 80,
   "metadata": {},
   "outputs": [
    {
     "name": "stdout",
     "output_type": "stream",
     "text": [
      "1\n",
      "tensor([[[[0., 0., 0.,  ..., 0., 0., 0.],\n",
      "          [0., 0., 0.,  ..., 0., 0., 0.],\n",
      "          [0., 0., 0.,  ..., 0., 0., 0.],\n",
      "          ...,\n",
      "          [0., 0., 0.,  ..., 0., 0., 0.],\n",
      "          [0., 0., 0.,  ..., 0., 0., 0.],\n",
      "          [0., 0., 0.,  ..., 0., 0., 0.]]],\n",
      "\n",
      "\n",
      "        [[[0., 0., 0.,  ..., 0., 0., 0.],\n",
      "          [0., 0., 0.,  ..., 0., 0., 0.],\n",
      "          [0., 0., 0.,  ..., 0., 0., 0.],\n",
      "          ...,\n",
      "          [0., 0., 0.,  ..., 0., 0., 0.],\n",
      "          [0., 0., 0.,  ..., 0., 0., 0.],\n",
      "          [0., 0., 0.,  ..., 0., 0., 0.]]],\n",
      "\n",
      "\n",
      "        [[[0., 0., 0.,  ..., 0., 0., 0.],\n",
      "          [0., 0., 0.,  ..., 0., 0., 0.],\n",
      "          [0., 0., 0.,  ..., 0., 0., 0.],\n",
      "          ...,\n",
      "          [0., 0., 0.,  ..., 0., 0., 0.],\n",
      "          [0., 0., 0.,  ..., 0., 0., 0.],\n",
      "          [0., 0., 0.,  ..., 0., 0., 0.]]],\n",
      "\n",
      "\n",
      "        ...,\n",
      "\n",
      "\n",
      "        [[[0., 0., 0.,  ..., 0., 0., 0.],\n",
      "          [0., 0., 0.,  ..., 0., 0., 0.],\n",
      "          [0., 0., 0.,  ..., 0., 0., 0.],\n",
      "          ...,\n",
      "          [0., 0., 0.,  ..., 0., 0., 0.],\n",
      "          [0., 0., 0.,  ..., 0., 0., 0.],\n",
      "          [0., 0., 0.,  ..., 0., 0., 0.]]],\n",
      "\n",
      "\n",
      "        [[[0., 0., 0.,  ..., 0., 0., 0.],\n",
      "          [0., 0., 0.,  ..., 0., 0., 0.],\n",
      "          [0., 0., 0.,  ..., 0., 0., 0.],\n",
      "          ...,\n",
      "          [0., 0., 0.,  ..., 0., 0., 0.],\n",
      "          [0., 0., 0.,  ..., 0., 0., 0.],\n",
      "          [0., 0., 0.,  ..., 0., 0., 0.]]],\n",
      "\n",
      "\n",
      "        [[[0., 0., 0.,  ..., 0., 0., 0.],\n",
      "          [0., 0., 0.,  ..., 0., 0., 0.],\n",
      "          [0., 0., 0.,  ..., 0., 0., 0.],\n",
      "          ...,\n",
      "          [0., 0., 0.,  ..., 0., 0., 0.],\n",
      "          [0., 0., 0.,  ..., 0., 0., 0.],\n",
      "          [0., 0., 0.,  ..., 0., 0., 0.]]]])\n",
      "tensor([8, 6, 5, 2, 0, 6, 5, 6, 8, 1, 0, 1, 6, 3, 3, 9, 2, 1, 7, 8, 4, 2, 3, 9,\n",
      "        7, 8, 5, 6, 8, 1, 3, 5, 0, 9, 4, 6, 4, 3, 2, 4, 1, 3, 2, 4, 6, 5, 7, 0,\n",
      "        7, 6, 5, 2, 0, 4, 9, 4, 1, 0, 7, 8, 7, 4, 5, 7, 0, 0, 1, 3, 5, 9, 5, 4,\n",
      "        2, 9, 2, 8, 3, 1, 7, 0, 5, 3, 8, 0, 1, 5, 3, 9, 1, 3, 9, 0, 1, 0, 7, 1,\n",
      "        2, 5, 0, 8])\n"
     ]
    }
   ],
   "source": [
    "for b, (X_train, y_train) in enumerate(train_loader):\n",
    "     b+=1\n",
    "     break\n",
    "    \n",
    "print(b)\n",
    "print(X_train)\n",
    "print(y_train)"
   ]
  },
  {
   "cell_type": "code",
   "execution_count": 68,
   "metadata": {},
   "outputs": [
    {
     "name": "stdout",
     "output_type": "stream",
     "text": [
      "tensor([[-2.0568e+01, -2.6150e+01, -1.5727e+01, -1.6607e+01, -2.8584e+01,\n",
      "         -1.7650e+01, -2.4965e+01, -2.5922e+01, -2.3842e-07, -1.7236e+01],\n",
      "        [-2.0933e+01, -1.8316e+01, -1.7684e+01, -2.1701e+01, -9.6902e-03,\n",
      "         -1.7323e+01, -2.2195e+01, -4.6748e+00, -1.7044e+01, -8.0603e+00],\n",
      "        [-1.9335e+01, -2.9556e+01, -2.0465e+01, -1.3828e+01, -1.8178e+01,\n",
      "         -2.2261e+01, -3.1147e+01, -1.8197e+01, -2.2556e+01, -9.5367e-07],\n",
      "        [-2.1933e+01, -1.2470e+01, -1.6307e+01, -1.0252e-05, -1.9268e+01,\n",
      "         -1.2049e+01, -2.6630e+01, -1.9058e+01, -1.6582e+01, -1.4586e+01],\n",
      "        [-3.0903e+01, -1.5726e+01, -4.4634e-04, -1.4504e+01, -3.1329e+01,\n",
      "         -2.5662e+01, -2.7730e+01, -7.7161e+00, -2.6648e+01, -3.9122e+01],\n",
      "        [-1.4923e+01, -1.8104e+01, -1.9010e+01, -7.5882e+00, -1.5017e+01,\n",
      "         -9.2059e-04, -1.8474e+01, -1.3459e+01, -1.1922e+01, -7.8116e+00],\n",
      "        [-1.9727e+01, -1.9873e+01, -1.8167e+01, -1.2785e+01, -7.3277e+00,\n",
      "         -1.0488e+01, -3.2801e+01, -5.5264e+00, -1.6789e+01, -4.6790e-03],\n",
      "        [-2.9360e+01, -2.3249e+01, -2.1773e+01, -2.8513e+01, -5.9605e-07,\n",
      "         -2.0882e+01, -2.6457e+01, -1.9454e+01, -2.6545e+01, -1.4362e+01],\n",
      "        [-1.1227e+01, -1.8102e+01, -1.2046e+01, -2.2873e+01, -5.0499e+00,\n",
      "         -1.8042e+01, -6.4630e-03, -1.5658e+01, -1.6004e+01, -1.1286e+01],\n",
      "        [-6.5744e-01, -2.1597e+01, -5.7231e+00, -9.1370e+00, -1.7553e+01,\n",
      "         -9.3309e+00, -1.8697e+01, -1.2771e+01, -8.0270e-01, -3.4987e+00],\n",
      "        [-1.3865e+01, -8.6134e+00, -9.0716e+00, -1.0478e+01, -1.1009e+01,\n",
      "         -5.7645e+00, -8.0292e-03, -1.8318e+01, -5.3997e+00, -1.5305e+01],\n",
      "        [-2.1597e+01, -4.7325e-05, -1.0601e+01, -1.6567e+01, -1.4183e+01,\n",
      "         -2.3197e+01, -2.2311e+01, -1.3544e+01, -1.0805e+01, -1.7694e+01],\n",
      "        [-2.7755e+01, -1.3426e+01, -2.4748e+01, -1.3521e+01, -1.2033e+01,\n",
      "         -1.8414e+01, -3.1765e+01, -1.6177e+01, -1.3442e+01, -1.0252e-05],\n",
      "        [-1.8982e+01, -1.7318e+01, -6.7752e+00, -1.2994e+01, -2.7625e+01,\n",
      "         -2.7287e+01, -3.3490e+01, -1.1447e-03, -2.2736e+01, -2.0905e+01],\n",
      "        [-2.3351e+01, -1.8234e+01, -1.4234e+01, -4.7792e-04, -3.7342e+01,\n",
      "         -1.5555e+01, -3.5352e+01, -1.6512e+01, -7.6482e+00, -2.2277e+01],\n",
      "        [-1.4274e+01, -1.6417e+01, -1.2159e+01, -1.8055e+01, -1.6076e+01,\n",
      "         -5.7500e+00, -5.6892e-02, -2.6623e+01, -2.9548e+00, -1.0591e+01],\n",
      "        [-4.7684e-07, -3.0035e+01, -1.4591e+01, -2.9909e+01, -3.4003e+01,\n",
      "         -3.2970e+01, -2.5834e+01, -2.3245e+01, -3.4052e+01, -1.9107e+01],\n",
      "        [-1.6265e+01, -8.8112e+00, -9.1255e+00, -7.4026e+00, -1.4305e+01,\n",
      "         -5.9915e+00, -3.6764e-03, -2.0867e+01, -8.1070e+00, -2.5970e+01],\n",
      "        [-7.8418e+00, -1.4913e+01, -1.2498e+01, -1.4867e+01, -1.1216e+01,\n",
      "         -1.2676e+01, -1.8748e-03, -1.8682e+01, -6.5300e+00, -1.6164e+01],\n",
      "        [-1.5516e+01, -1.3561e+01, -9.8248e+00, -1.6026e+01, -1.6921e+01,\n",
      "         -8.0476e+00, -7.1881e-04, -1.8151e+01, -7.9780e+00, -1.7124e+01],\n",
      "        [-2.3483e+01, -2.0597e+01, -2.1372e+01, -1.0189e+01, -1.5729e+01,\n",
      "         -2.0170e+01, -3.2131e+01, -1.2132e+01, -1.0695e+01, -6.5682e-05],\n",
      "        [-2.0727e+01, -2.0810e+01, -1.7507e+01, -2.3343e+01, -1.5705e+01,\n",
      "         -1.4133e+01, -9.5367e-07, -2.9108e+01, -1.6208e+01, -1.9925e+01],\n",
      "        [-2.7940e+01, -9.0833e-05, -1.2318e+01, -1.0764e+01, -1.5301e+01,\n",
      "         -2.1429e+01, -2.0063e+01, -1.0944e+01, -9.9611e+00, -1.5824e+01],\n",
      "        [-1.8306e+01, -2.0734e+01, -1.5266e+01, -2.3848e+01, -1.4711e+01,\n",
      "         -1.9358e+01, -7.1526e-07, -2.6922e+01, -1.9387e+01, -2.5389e+01],\n",
      "        [-2.3842e-07, -2.6012e+01, -1.5233e+01, -3.1448e+01, -2.8624e+01,\n",
      "         -3.4528e+01, -2.1285e+01, -2.1766e+01, -3.0450e+01, -1.9483e+01],\n",
      "        [-3.0968e+01, -2.7190e+01, -2.7267e+01, -3.1925e+01, -5.9605e-07,\n",
      "         -2.1269e+01, -2.8566e+01, -1.6770e+01, -2.8079e+01, -1.4392e+01],\n",
      "        [-1.5872e+01, -2.0049e+01, -1.7731e+01, -8.0157e+00, -1.4459e+01,\n",
      "         -4.6854e+00, -1.8896e+01, -9.8762e+00, -1.2015e+01, -9.6642e-03],\n",
      "        [-2.5094e+01, -2.0829e+01, -2.2417e+01, -1.3066e+01, -1.3893e+01,\n",
      "         -1.9403e+01, -3.2101e+01, -1.4206e+01, -1.1422e+01, -1.4782e-05],\n",
      "        [-8.7481e+00, -1.1086e+01, -1.2232e+01, -1.2118e+01, -1.3316e+01,\n",
      "         -7.6724e+00, -9.1975e-04, -1.9983e+01, -8.2260e+00, -1.5598e+01],\n",
      "        [-2.1597e+01, -1.0519e+01, -1.1424e+01, -4.0173e-05, -2.4005e+01,\n",
      "         -1.3945e+01, -2.4309e+01, -1.9983e+01, -1.3495e+01, -1.9066e+01],\n",
      "        [-1.4827e+01, -1.8601e+01, -1.3859e+01, -2.6670e+01, -3.5763e-06,\n",
      "         -1.4568e+01, -1.3362e+01, -1.6419e+01, -2.0282e+01, -1.6692e+01],\n",
      "        [-2.2846e+01, -1.8598e+01, -1.3718e+01, -2.1723e+01, -1.2138e+01,\n",
      "         -9.0252e+00, -1.2743e-04, -2.8985e+01, -1.4211e+01, -2.0307e+01],\n",
      "        [-1.8321e-04, -1.9469e+01, -8.6054e+00, -2.1287e+01, -2.4775e+01,\n",
      "         -2.6060e+01, -1.7802e+01, -1.8060e+01, -2.0168e+01, -1.6226e+01],\n",
      "        [-1.1580e+01, -9.3273e+00, -1.0105e+00, -9.7865e+00, -7.7987e+00,\n",
      "         -8.5988e+00, -4.5380e-01, -1.5562e+01, -1.4793e+01, -2.0297e+01],\n",
      "        [-1.6716e+01, -1.9699e+01, -7.6514e-03, -6.6060e+00, -3.4781e+01,\n",
      "         -2.2768e+01, -3.2344e+01, -1.2206e+01, -5.0728e+00, -2.5476e+01],\n",
      "        [-1.6931e+01, -1.2571e-01, -3.1910e+00, -2.5716e+00, -1.8294e+01,\n",
      "         -7.4935e+00, -1.9834e+01, -1.2998e+01, -1.1588e+01, -1.0872e+01],\n",
      "        [-1.5383e+01, -2.3277e+01, -1.6202e+01, -2.5901e+01, -1.6634e+01,\n",
      "         -1.5990e+01, -1.1921e-06, -2.7376e+01, -1.4073e+01, -2.3071e+01],\n",
      "        [-1.3667e+01, -1.1106e+01, -1.3670e-02, -4.4552e+00, -2.7237e+01,\n",
      "         -1.5116e+01, -2.3060e+01, -1.1508e+01, -6.2490e+00, -1.8402e+01],\n",
      "        [-1.5364e+01, -1.1971e+01, -1.4468e+01, -1.2296e+01, -1.2105e+01,\n",
      "         -9.0138e+00, -1.6223e-04, -2.0538e+01, -1.0664e+01, -1.8481e+01],\n",
      "        [-2.0740e-04, -2.3339e+01, -8.4813e+00, -1.8250e+01, -2.5658e+01,\n",
      "         -2.1826e+01, -1.5597e+01, -2.2835e+01, -1.7468e+01, -1.9795e+01],\n",
      "        [-2.0744e+01, -1.5884e+01, -1.5151e+01, -2.2572e+01, -1.7762e-05,\n",
      "         -1.8938e+01, -2.0026e+01, -1.1576e+01, -2.4245e+01, -1.1749e+01],\n",
      "        [-1.7494e+01, -1.5252e+01, -1.3386e-04, -1.4833e+01, -2.7516e+01,\n",
      "         -1.4485e+01, -2.2727e+01, -1.4667e+01, -8.9308e+00, -1.8777e+01],\n",
      "        [-2.6356e+01, -2.4340e+01, -1.3113e-06, -1.3500e+01, -2.8104e+01,\n",
      "         -2.7093e+01, -2.9812e+01, -2.6374e+01, -1.8134e+01, -2.6144e+01],\n",
      "        [-1.8226e+01, -2.2145e+01, -1.7072e+01, -1.0913e+01, -2.3359e+01,\n",
      "         -1.5604e+01, -1.9784e+01, -2.4775e+01, -1.9073e-05, -1.4221e+01],\n",
      "        [-2.1451e+01, -2.5040e+01, -1.8812e+01, -2.0236e+01, -1.6712e+00,\n",
      "         -1.8562e+01, -2.4917e+01, -1.1203e+01, -1.8903e+01, -2.0830e-01],\n",
      "        [-1.1921e-07, -2.7230e+01, -1.6558e+01, -2.5278e+01, -3.1812e+01,\n",
      "         -2.0624e+01, -1.9337e+01, -1.7885e+01, -2.1779e+01, -2.0400e+01],\n",
      "        [-1.8351e+01, -3.4973e+01, -1.0536e+01, -2.0314e+01, -2.9127e+01,\n",
      "         -1.6761e+01, -2.3697e+01, -2.4535e+01, -2.7060e-05, -1.4514e+01],\n",
      "        [-1.6689e-06, -2.6067e+01, -1.4615e+01, -2.3839e+01, -2.5429e+01,\n",
      "         -2.1086e+01, -1.4855e+01, -1.5269e+01, -1.7961e+01, -1.4292e+01],\n",
      "        [-1.9913e+01, -1.2067e+01, -1.1513e-03, -6.7728e+00, -1.9951e+01,\n",
      "         -1.7791e+01, -1.8254e+01, -1.5878e+01, -1.5485e+01, -3.1566e+01],\n",
      "        [-2.9000e+01, -3.1794e+01, -2.6065e+01, -3.0665e+01, -6.3185e-04,\n",
      "         -2.0436e+01, -2.7561e+01, -1.8231e+01, -1.9553e+01, -7.3672e+00],\n",
      "        [-1.5623e+01, -8.2531e+00, -1.1561e+01, -1.0909e+01, -1.0918e+01,\n",
      "         -1.1992e+01, -2.6755e+01, -3.5334e-03, -1.2382e+01, -5.7414e+00],\n",
      "        [-1.4415e+01, -1.1515e+01, -1.2685e+01, -1.1848e+01, -1.8752e+01,\n",
      "         -3.5006e+00, -6.1351e+00, -2.2054e+01, -3.2900e-02, -1.6612e+01],\n",
      "        [-2.0863e+01, -2.7975e+01, -2.1460e+01, -1.0817e+01, -1.7464e+01,\n",
      "         -2.4500e+01, -3.7056e+01, -7.9790e+00, -2.2577e+01, -3.6269e-04],\n",
      "        [-2.2808e+01, -4.3669e-04, -1.2734e+01, -1.0921e+01, -1.4335e+01,\n",
      "         -2.1666e+01, -1.8059e+01, -8.8702e+00, -8.2029e+00, -1.4290e+01],\n",
      "        [-2.3425e+01, -2.5490e+01, -2.3967e+01, -1.5646e+01, -1.3496e+01,\n",
      "         -1.6600e+01, -3.0189e+01, -1.4298e+01, -2.0054e+01, -2.2650e-06],\n",
      "        [-2.0670e+01, -1.0715e+01, -1.6329e+01, -9.6086e+00, -1.2802e+01,\n",
      "         -1.4100e+01, -3.0098e+01, -2.0621e-02, -1.1984e+01, -3.8966e+00],\n",
      "        [-2.4747e+01, -1.6570e-05, -1.2635e+01, -2.0262e+01, -1.6842e+01,\n",
      "         -2.3443e+01, -2.2125e+01, -1.3629e+01, -1.1314e+01, -2.2135e+01],\n",
      "        [-5.7037e+00, -7.5653e+00, -7.1910e+00, -9.1550e+00, -4.6163e+00,\n",
      "         -3.1895e+00, -6.4215e-02, -8.4863e+00, -5.2271e+00, -7.0956e+00],\n",
      "        [-2.7029e+01, -4.7834e+00, -9.3378e+00, -3.9332e+00, -1.4934e+01,\n",
      "         -8.1570e+00, -1.7161e+01, -1.9655e+01, -2.8872e-02, -8.9003e+00],\n",
      "        [-4.0193e+01, -2.9401e+01, -3.5667e+01, -2.1023e+01, -3.8572e+01,\n",
      "          0.0000e+00, -3.1148e+01, -3.8354e+01, -2.4561e+01, -2.3002e+01],\n",
      "        [-1.5806e-04, -1.7143e+01, -1.4521e+01, -1.5631e+01, -2.0179e+01,\n",
      "         -1.0773e+01, -1.0327e+01, -9.1891e+00, -1.8282e+01, -1.3440e+01],\n",
      "        [-9.5396e+00, -1.8212e+01, -1.5435e+01, -1.4077e+01, -1.6303e+01,\n",
      "         -5.7438e+00, -2.2554e-02, -2.0586e+01, -3.9722e+00, -8.5481e+00],\n",
      "        [-1.4039e+01, -1.7153e+01, -7.2212e+00, -2.9543e+00, -9.8233e+00,\n",
      "         -1.1576e+01, -1.8203e+01, -1.2691e+01, -6.1094e-02, -5.0593e+00],\n",
      "        [-2.8200e+01, -2.2942e+01, -2.2345e+01, -4.5179e-05, -2.8568e+01,\n",
      "         -1.7538e+01, -4.0557e+01, -2.7028e+01, -1.3831e+01, -1.0028e+01],\n",
      "        [-3.3631e+01, -2.5015e+01, -3.1407e+01, -1.5266e+01, -3.2578e+01,\n",
      "         -2.3842e-07, -2.9117e+01, -3.0179e+01, -2.2148e+01, -2.0107e+01],\n",
      "        [-2.1686e+01, -2.5365e-04, -1.2988e+01, -1.1766e+01, -1.4921e+01,\n",
      "         -1.8816e+01, -1.5305e+01, -1.1089e+01, -8.3879e+00, -1.6344e+01],\n",
      "        [-6.1159e-04, -1.8710e+01, -8.5706e+00, -1.7806e+01, -2.4084e+01,\n",
      "         -1.9470e+01, -1.8522e+01, -7.8088e+00, -1.6965e+01, -1.1060e+01],\n",
      "        [-1.7927e+01, -2.1562e+01, -1.6314e+01, -1.5810e+01, -1.0217e+01,\n",
      "         -1.9051e+01, -2.5626e+01, -1.2443e+01, -1.6582e+01, -4.0888e-05],\n",
      "        [-2.6709e+01, -1.0442e+01, -7.9583e+00, -5.9701e+00, -1.2228e+01,\n",
      "         -1.4659e+01, -2.7971e+01, -2.9425e-03, -1.8455e+01, -1.7187e+01],\n",
      "        [-4.8040e-05, -1.8586e+01, -1.0733e+01, -1.9831e+01, -2.3965e+01,\n",
      "         -1.6227e+01, -1.1285e+01, -1.2871e+01, -1.1424e+01, -2.0996e+01],\n",
      "        [-1.3153e+01, -1.7335e+01, -7.9634e+00, -1.8022e+01, -6.0504e-04,\n",
      "         -1.5957e+01, -1.6735e+01, -8.3620e+00, -1.1159e+01, -1.1873e+01],\n",
      "        [-2.4802e+01, -8.4635e-05, -1.0950e+01, -1.8410e+01, -1.1027e+01,\n",
      "         -2.1612e+01, -2.2199e+01, -9.9426e+00, -1.2747e+01, -1.9065e+01],\n",
      "        [-1.7562e+01, -1.6259e+01, -4.1867e-03, -1.1109e+01, -1.7415e+01,\n",
      "         -1.8042e+01, -2.2494e+01, -5.4815e+00, -2.0187e+01, -2.2037e+01],\n",
      "        [-2.1444e+01, -2.9704e+01, -1.8210e+01, -1.7278e+01, -2.6193e+01,\n",
      "         -1.9322e+01, -2.6514e+01, -2.4768e+01, -2.3842e-06, -1.2966e+01],\n",
      "        [-1.9635e+01, -2.0611e+01, -1.4577e+01, -2.1924e+01, -8.2254e-06,\n",
      "         -1.1963e+01, -1.4182e+01, -1.7636e+01, -1.6713e+01, -1.4298e+01],\n",
      "        [-3.1446e+01, -3.4853e+01, -3.5858e+01, -2.0437e+01, -1.4427e+01,\n",
      "         -2.1815e+01, -4.8104e+01, -1.1538e+01, -2.6235e+01, -1.0371e-05],\n",
      "        [-3.2794e+01, -2.4961e+01, -3.0080e+01, -1.7311e+01, -2.5529e+01,\n",
      "         -1.1921e-07, -1.8472e+01, -3.1550e+01, -1.5944e+01, -2.0129e+01],\n",
      "        [-2.4406e+01, -3.1100e+01, -2.8598e+01, -2.7836e+01, -2.9142e+01,\n",
      "         -1.1884e+01, -2.5545e+01, -2.7162e+01, -6.9141e-06, -1.9271e+01],\n",
      "        [-1.8004e+01, -2.0539e+01, -1.0406e+01, -4.7027e+00, -2.3249e+01,\n",
      "         -1.6917e+01, -2.8161e+01, -2.0358e+01, -9.1652e-03, -1.0690e+01],\n",
      "        [-2.6522e+01, -2.3659e+01, -2.2019e+01, -2.9040e+01, -3.0994e-06,\n",
      "         -2.1229e+01, -2.5177e+01, -1.2702e+01, -2.1779e+01, -1.7528e+01],\n",
      "        [-2.0827e+01, -1.3373e+01, -1.2264e+01, -1.7798e+01, -7.6341e+00,\n",
      "         -1.3430e+01, -2.5076e+01, -5.9122e-04, -1.0717e+01, -9.4657e+00],\n",
      "        [-2.4465e+01, -2.3491e+01, -1.5540e+01, -5.9712e+00, -3.7114e+01,\n",
      "         -2.0255e+01, -4.2712e+01, -2.5554e-03, -1.4198e+01, -1.5529e+01],\n",
      "        [-7.7494e+00, -1.6860e+01, -1.1751e+01, -9.4187e+00, -9.3173e+00,\n",
      "         -3.1232e+00, -2.0899e+01, -2.9697e+00, -8.9061e+00, -1.0101e-01],\n",
      "        [-2.4816e+01, -2.6655e+01, -2.2851e+01, -2.9120e+01, -9.5367e-07,\n",
      "         -1.6663e+01, -2.2944e+01, -1.6086e+01, -1.6093e+01, -1.4175e+01],\n",
      "        [-2.6685e+01, -2.5920e+01, -2.1867e+01, -3.1241e+01,  0.0000e+00,\n",
      "         -2.1528e+01, -2.4451e+01, -1.7903e+01, -2.2356e+01, -1.7461e+01],\n",
      "        [-1.3890e+01, -2.1050e+01, -1.1695e+01, -1.8491e+01, -1.3740e-01,\n",
      "         -1.7212e+01, -1.7645e+01, -6.8189e+00, -1.9526e+01, -2.0614e+00],\n",
      "        [-2.1647e+01, -1.8110e+01, -1.0968e+01, -1.3518e+01, -2.3558e+01,\n",
      "         -1.5430e+01, -1.9502e+01, -2.5126e+01, -1.8835e-05, -1.8049e+01],\n",
      "        [-1.7617e+01, -5.6610e+00, -3.3693e-02, -3.6592e+00, -1.7946e+01,\n",
      "         -1.2439e+01, -1.6598e+01, -6.1277e+00, -6.3695e+00, -1.6295e+01],\n",
      "        [-2.3420e+01, -1.1220e+01, -2.2157e+01, -5.3472e+00, -1.4012e+01,\n",
      "         -4.9474e-03, -1.3903e+01, -2.0328e+01, -1.0878e+01, -8.8760e+00],\n",
      "        [-1.7567e+01, -1.5463e+01, -1.7666e+01, -9.9938e+00, -1.7307e+01,\n",
      "         -1.5289e+01, -2.0723e+01, -1.4453e+01, -1.2240e-03, -6.7451e+00],\n",
      "        [-3.1317e+01, -1.4143e+01, -1.8079e+01, -4.1723e-06, -1.8399e+01,\n",
      "         -1.6901e+01, -3.5536e+01, -2.3105e+01, -1.3146e+01, -1.3393e+01],\n",
      "        [-3.0726e+01, -2.7484e+01, -2.1542e+01,  0.0000e+00, -3.9129e+01,\n",
      "         -2.2748e+01, -4.5666e+01, -2.3517e+01, -1.9751e+01, -2.4932e+01],\n",
      "        [-2.1638e+01, -1.4419e+01, -5.9605e-07, -1.8027e+01, -2.0454e+01,\n",
      "         -1.6657e+01, -1.9915e+01, -1.9771e+01, -1.7001e+01, -2.3651e+01],\n",
      "        [-1.6887e+01, -2.5446e+01, -5.5777e-03, -1.4673e+01, -8.7882e+00,\n",
      "         -1.5259e+01, -1.6857e+01, -2.5035e+01, -1.4959e+01, -5.2198e+00],\n",
      "        [-2.1870e+01, -2.2197e-03, -9.3794e+00, -1.4211e+01, -8.2083e+00,\n",
      "         -1.8094e+01, -2.0584e+01, -6.2933e+00, -1.1443e+01, -1.4755e+01],\n",
      "        [-1.6848e+01, -1.9193e+01, -1.0356e+01, -1.1117e+01, -2.8840e+01,\n",
      "         -2.0442e+01, -3.6945e+01, -4.8755e-05, -1.8131e+01, -1.3109e+01],\n",
      "        [-2.1150e+01, -1.3399e+01, -1.9790e+01, -1.4185e-04, -1.2408e+01,\n",
      "         -9.3649e+00, -2.0763e+01, -1.0912e+01, -1.2002e+01, -1.0549e+01],\n",
      "        [-2.6576e+01, -1.5307e+01, -7.1526e-07, -1.5037e+01, -3.3475e+01,\n",
      "         -2.9269e+01, -3.7627e+01, -1.5157e+01, -1.7696e+01, -2.4941e+01],\n",
      "        [-8.0300e+00, -6.2391e+00, -8.0683e+00, -9.0960e+00, -4.7266e+00,\n",
      "         -3.7362e+00, -1.1868e+01, -3.8659e+00, -7.6438e+00, -5.8514e-02],\n",
      "        [-2.8110e+01, -1.6747e+01, -6.1669e+00, -1.2464e+01, -3.1667e+01,\n"
     ]
    },
    {
     "name": "stdout",
     "output_type": "stream",
     "text": [
      "         -2.9650e+01, -3.5859e+01, -2.1037e-03, -2.7073e+01, -3.0957e+01]])\n"
     ]
    }
   ],
   "source": [
    "print(y_pred.data)"
   ]
  },
  {
   "cell_type": "code",
   "execution_count": 71,
   "metadata": {},
   "outputs": [
    {
     "name": "stdout",
     "output_type": "stream",
     "text": [
      "19\n"
     ]
    }
   ],
   "source": [
    "print(b)"
   ]
  },
  {
   "cell_type": "code",
   "execution_count": 69,
   "metadata": {},
   "outputs": [
    {
     "name": "stdout",
     "output_type": "stream",
     "text": [
      "tensor([[-2.0568e+01, -2.6150e+01, -1.5727e+01, -1.6607e+01, -2.8584e+01,\n",
      "         -1.7650e+01, -2.4965e+01, -2.5922e+01, -2.3842e-07, -1.7236e+01],\n",
      "        [-2.0933e+01, -1.8316e+01, -1.7684e+01, -2.1701e+01, -9.6902e-03,\n",
      "         -1.7323e+01, -2.2195e+01, -4.6748e+00, -1.7044e+01, -8.0603e+00],\n",
      "        [-1.9335e+01, -2.9556e+01, -2.0465e+01, -1.3828e+01, -1.8178e+01,\n",
      "         -2.2261e+01, -3.1147e+01, -1.8197e+01, -2.2556e+01, -9.5367e-07],\n",
      "        [-2.1933e+01, -1.2470e+01, -1.6307e+01, -1.0252e-05, -1.9268e+01,\n",
      "         -1.2049e+01, -2.6630e+01, -1.9058e+01, -1.6582e+01, -1.4586e+01],\n",
      "        [-3.0903e+01, -1.5726e+01, -4.4634e-04, -1.4504e+01, -3.1329e+01,\n",
      "         -2.5662e+01, -2.7730e+01, -7.7161e+00, -2.6648e+01, -3.9122e+01],\n",
      "        [-1.4923e+01, -1.8104e+01, -1.9010e+01, -7.5882e+00, -1.5017e+01,\n",
      "         -9.2059e-04, -1.8474e+01, -1.3459e+01, -1.1922e+01, -7.8116e+00],\n",
      "        [-1.9727e+01, -1.9873e+01, -1.8167e+01, -1.2785e+01, -7.3277e+00,\n",
      "         -1.0488e+01, -3.2801e+01, -5.5264e+00, -1.6789e+01, -4.6790e-03],\n",
      "        [-2.9360e+01, -2.3249e+01, -2.1773e+01, -2.8513e+01, -5.9605e-07,\n",
      "         -2.0882e+01, -2.6457e+01, -1.9454e+01, -2.6545e+01, -1.4362e+01],\n",
      "        [-1.1227e+01, -1.8102e+01, -1.2046e+01, -2.2873e+01, -5.0499e+00,\n",
      "         -1.8042e+01, -6.4630e-03, -1.5658e+01, -1.6004e+01, -1.1286e+01],\n",
      "        [-6.5744e-01, -2.1597e+01, -5.7231e+00, -9.1370e+00, -1.7553e+01,\n",
      "         -9.3309e+00, -1.8697e+01, -1.2771e+01, -8.0270e-01, -3.4987e+00],\n",
      "        [-1.3865e+01, -8.6134e+00, -9.0716e+00, -1.0478e+01, -1.1009e+01,\n",
      "         -5.7645e+00, -8.0292e-03, -1.8318e+01, -5.3997e+00, -1.5305e+01],\n",
      "        [-2.1597e+01, -4.7325e-05, -1.0601e+01, -1.6567e+01, -1.4183e+01,\n",
      "         -2.3197e+01, -2.2311e+01, -1.3544e+01, -1.0805e+01, -1.7694e+01],\n",
      "        [-2.7755e+01, -1.3426e+01, -2.4748e+01, -1.3521e+01, -1.2033e+01,\n",
      "         -1.8414e+01, -3.1765e+01, -1.6177e+01, -1.3442e+01, -1.0252e-05],\n",
      "        [-1.8982e+01, -1.7318e+01, -6.7752e+00, -1.2994e+01, -2.7625e+01,\n",
      "         -2.7287e+01, -3.3490e+01, -1.1447e-03, -2.2736e+01, -2.0905e+01],\n",
      "        [-2.3351e+01, -1.8234e+01, -1.4234e+01, -4.7792e-04, -3.7342e+01,\n",
      "         -1.5555e+01, -3.5352e+01, -1.6512e+01, -7.6482e+00, -2.2277e+01],\n",
      "        [-1.4274e+01, -1.6417e+01, -1.2159e+01, -1.8055e+01, -1.6076e+01,\n",
      "         -5.7500e+00, -5.6892e-02, -2.6623e+01, -2.9548e+00, -1.0591e+01],\n",
      "        [-4.7684e-07, -3.0035e+01, -1.4591e+01, -2.9909e+01, -3.4003e+01,\n",
      "         -3.2970e+01, -2.5834e+01, -2.3245e+01, -3.4052e+01, -1.9107e+01],\n",
      "        [-1.6265e+01, -8.8112e+00, -9.1255e+00, -7.4026e+00, -1.4305e+01,\n",
      "         -5.9915e+00, -3.6764e-03, -2.0867e+01, -8.1070e+00, -2.5970e+01],\n",
      "        [-7.8418e+00, -1.4913e+01, -1.2498e+01, -1.4867e+01, -1.1216e+01,\n",
      "         -1.2676e+01, -1.8748e-03, -1.8682e+01, -6.5300e+00, -1.6164e+01],\n",
      "        [-1.5516e+01, -1.3561e+01, -9.8248e+00, -1.6026e+01, -1.6921e+01,\n",
      "         -8.0476e+00, -7.1881e-04, -1.8151e+01, -7.9780e+00, -1.7124e+01],\n",
      "        [-2.3483e+01, -2.0597e+01, -2.1372e+01, -1.0189e+01, -1.5729e+01,\n",
      "         -2.0170e+01, -3.2131e+01, -1.2132e+01, -1.0695e+01, -6.5682e-05],\n",
      "        [-2.0727e+01, -2.0810e+01, -1.7507e+01, -2.3343e+01, -1.5705e+01,\n",
      "         -1.4133e+01, -9.5367e-07, -2.9108e+01, -1.6208e+01, -1.9925e+01],\n",
      "        [-2.7940e+01, -9.0833e-05, -1.2318e+01, -1.0764e+01, -1.5301e+01,\n",
      "         -2.1429e+01, -2.0063e+01, -1.0944e+01, -9.9611e+00, -1.5824e+01],\n",
      "        [-1.8306e+01, -2.0734e+01, -1.5266e+01, -2.3848e+01, -1.4711e+01,\n",
      "         -1.9358e+01, -7.1526e-07, -2.6922e+01, -1.9387e+01, -2.5389e+01],\n",
      "        [-2.3842e-07, -2.6012e+01, -1.5233e+01, -3.1448e+01, -2.8624e+01,\n",
      "         -3.4528e+01, -2.1285e+01, -2.1766e+01, -3.0450e+01, -1.9483e+01],\n",
      "        [-3.0968e+01, -2.7190e+01, -2.7267e+01, -3.1925e+01, -5.9605e-07,\n",
      "         -2.1269e+01, -2.8566e+01, -1.6770e+01, -2.8079e+01, -1.4392e+01],\n",
      "        [-1.5872e+01, -2.0049e+01, -1.7731e+01, -8.0157e+00, -1.4459e+01,\n",
      "         -4.6854e+00, -1.8896e+01, -9.8762e+00, -1.2015e+01, -9.6642e-03],\n",
      "        [-2.5094e+01, -2.0829e+01, -2.2417e+01, -1.3066e+01, -1.3893e+01,\n",
      "         -1.9403e+01, -3.2101e+01, -1.4206e+01, -1.1422e+01, -1.4782e-05],\n",
      "        [-8.7481e+00, -1.1086e+01, -1.2232e+01, -1.2118e+01, -1.3316e+01,\n",
      "         -7.6724e+00, -9.1975e-04, -1.9983e+01, -8.2260e+00, -1.5598e+01],\n",
      "        [-2.1597e+01, -1.0519e+01, -1.1424e+01, -4.0173e-05, -2.4005e+01,\n",
      "         -1.3945e+01, -2.4309e+01, -1.9983e+01, -1.3495e+01, -1.9066e+01],\n",
      "        [-1.4827e+01, -1.8601e+01, -1.3859e+01, -2.6670e+01, -3.5763e-06,\n",
      "         -1.4568e+01, -1.3362e+01, -1.6419e+01, -2.0282e+01, -1.6692e+01],\n",
      "        [-2.2846e+01, -1.8598e+01, -1.3718e+01, -2.1723e+01, -1.2138e+01,\n",
      "         -9.0252e+00, -1.2743e-04, -2.8985e+01, -1.4211e+01, -2.0307e+01],\n",
      "        [-1.8321e-04, -1.9469e+01, -8.6054e+00, -2.1287e+01, -2.4775e+01,\n",
      "         -2.6060e+01, -1.7802e+01, -1.8060e+01, -2.0168e+01, -1.6226e+01],\n",
      "        [-1.1580e+01, -9.3273e+00, -1.0105e+00, -9.7865e+00, -7.7987e+00,\n",
      "         -8.5988e+00, -4.5380e-01, -1.5562e+01, -1.4793e+01, -2.0297e+01],\n",
      "        [-1.6716e+01, -1.9699e+01, -7.6514e-03, -6.6060e+00, -3.4781e+01,\n",
      "         -2.2768e+01, -3.2344e+01, -1.2206e+01, -5.0728e+00, -2.5476e+01],\n",
      "        [-1.6931e+01, -1.2571e-01, -3.1910e+00, -2.5716e+00, -1.8294e+01,\n",
      "         -7.4935e+00, -1.9834e+01, -1.2998e+01, -1.1588e+01, -1.0872e+01],\n",
      "        [-1.5383e+01, -2.3277e+01, -1.6202e+01, -2.5901e+01, -1.6634e+01,\n",
      "         -1.5990e+01, -1.1921e-06, -2.7376e+01, -1.4073e+01, -2.3071e+01],\n",
      "        [-1.3667e+01, -1.1106e+01, -1.3670e-02, -4.4552e+00, -2.7237e+01,\n",
      "         -1.5116e+01, -2.3060e+01, -1.1508e+01, -6.2490e+00, -1.8402e+01],\n",
      "        [-1.5364e+01, -1.1971e+01, -1.4468e+01, -1.2296e+01, -1.2105e+01,\n",
      "         -9.0138e+00, -1.6223e-04, -2.0538e+01, -1.0664e+01, -1.8481e+01],\n",
      "        [-2.0740e-04, -2.3339e+01, -8.4813e+00, -1.8250e+01, -2.5658e+01,\n",
      "         -2.1826e+01, -1.5597e+01, -2.2835e+01, -1.7468e+01, -1.9795e+01],\n",
      "        [-2.0744e+01, -1.5884e+01, -1.5151e+01, -2.2572e+01, -1.7762e-05,\n",
      "         -1.8938e+01, -2.0026e+01, -1.1576e+01, -2.4245e+01, -1.1749e+01],\n",
      "        [-1.7494e+01, -1.5252e+01, -1.3386e-04, -1.4833e+01, -2.7516e+01,\n",
      "         -1.4485e+01, -2.2727e+01, -1.4667e+01, -8.9308e+00, -1.8777e+01],\n",
      "        [-2.6356e+01, -2.4340e+01, -1.3113e-06, -1.3500e+01, -2.8104e+01,\n",
      "         -2.7093e+01, -2.9812e+01, -2.6374e+01, -1.8134e+01, -2.6144e+01],\n",
      "        [-1.8226e+01, -2.2145e+01, -1.7072e+01, -1.0913e+01, -2.3359e+01,\n",
      "         -1.5604e+01, -1.9784e+01, -2.4775e+01, -1.9073e-05, -1.4221e+01],\n",
      "        [-2.1451e+01, -2.5040e+01, -1.8812e+01, -2.0236e+01, -1.6712e+00,\n",
      "         -1.8562e+01, -2.4917e+01, -1.1203e+01, -1.8903e+01, -2.0830e-01],\n",
      "        [-1.1921e-07, -2.7230e+01, -1.6558e+01, -2.5278e+01, -3.1812e+01,\n",
      "         -2.0624e+01, -1.9337e+01, -1.7885e+01, -2.1779e+01, -2.0400e+01],\n",
      "        [-1.8351e+01, -3.4973e+01, -1.0536e+01, -2.0314e+01, -2.9127e+01,\n",
      "         -1.6761e+01, -2.3697e+01, -2.4535e+01, -2.7060e-05, -1.4514e+01],\n",
      "        [-1.6689e-06, -2.6067e+01, -1.4615e+01, -2.3839e+01, -2.5429e+01,\n",
      "         -2.1086e+01, -1.4855e+01, -1.5269e+01, -1.7961e+01, -1.4292e+01],\n",
      "        [-1.9913e+01, -1.2067e+01, -1.1513e-03, -6.7728e+00, -1.9951e+01,\n",
      "         -1.7791e+01, -1.8254e+01, -1.5878e+01, -1.5485e+01, -3.1566e+01],\n",
      "        [-2.9000e+01, -3.1794e+01, -2.6065e+01, -3.0665e+01, -6.3185e-04,\n",
      "         -2.0436e+01, -2.7561e+01, -1.8231e+01, -1.9553e+01, -7.3672e+00],\n",
      "        [-1.5623e+01, -8.2531e+00, -1.1561e+01, -1.0909e+01, -1.0918e+01,\n",
      "         -1.1992e+01, -2.6755e+01, -3.5334e-03, -1.2382e+01, -5.7414e+00],\n",
      "        [-1.4415e+01, -1.1515e+01, -1.2685e+01, -1.1848e+01, -1.8752e+01,\n",
      "         -3.5006e+00, -6.1351e+00, -2.2054e+01, -3.2900e-02, -1.6612e+01],\n",
      "        [-2.0863e+01, -2.7975e+01, -2.1460e+01, -1.0817e+01, -1.7464e+01,\n",
      "         -2.4500e+01, -3.7056e+01, -7.9790e+00, -2.2577e+01, -3.6269e-04],\n",
      "        [-2.2808e+01, -4.3669e-04, -1.2734e+01, -1.0921e+01, -1.4335e+01,\n",
      "         -2.1666e+01, -1.8059e+01, -8.8702e+00, -8.2029e+00, -1.4290e+01],\n",
      "        [-2.3425e+01, -2.5490e+01, -2.3967e+01, -1.5646e+01, -1.3496e+01,\n",
      "         -1.6600e+01, -3.0189e+01, -1.4298e+01, -2.0054e+01, -2.2650e-06],\n",
      "        [-2.0670e+01, -1.0715e+01, -1.6329e+01, -9.6086e+00, -1.2802e+01,\n",
      "         -1.4100e+01, -3.0098e+01, -2.0621e-02, -1.1984e+01, -3.8966e+00],\n",
      "        [-2.4747e+01, -1.6570e-05, -1.2635e+01, -2.0262e+01, -1.6842e+01,\n",
      "         -2.3443e+01, -2.2125e+01, -1.3629e+01, -1.1314e+01, -2.2135e+01],\n",
      "        [-5.7037e+00, -7.5653e+00, -7.1910e+00, -9.1550e+00, -4.6163e+00,\n",
      "         -3.1895e+00, -6.4215e-02, -8.4863e+00, -5.2271e+00, -7.0956e+00],\n",
      "        [-2.7029e+01, -4.7834e+00, -9.3378e+00, -3.9332e+00, -1.4934e+01,\n",
      "         -8.1570e+00, -1.7161e+01, -1.9655e+01, -2.8872e-02, -8.9003e+00],\n",
      "        [-4.0193e+01, -2.9401e+01, -3.5667e+01, -2.1023e+01, -3.8572e+01,\n",
      "          0.0000e+00, -3.1148e+01, -3.8354e+01, -2.4561e+01, -2.3002e+01],\n",
      "        [-1.5806e-04, -1.7143e+01, -1.4521e+01, -1.5631e+01, -2.0179e+01,\n",
      "         -1.0773e+01, -1.0327e+01, -9.1891e+00, -1.8282e+01, -1.3440e+01],\n",
      "        [-9.5396e+00, -1.8212e+01, -1.5435e+01, -1.4077e+01, -1.6303e+01,\n",
      "         -5.7438e+00, -2.2554e-02, -2.0586e+01, -3.9722e+00, -8.5481e+00],\n",
      "        [-1.4039e+01, -1.7153e+01, -7.2212e+00, -2.9543e+00, -9.8233e+00,\n",
      "         -1.1576e+01, -1.8203e+01, -1.2691e+01, -6.1094e-02, -5.0593e+00],\n",
      "        [-2.8200e+01, -2.2942e+01, -2.2345e+01, -4.5179e-05, -2.8568e+01,\n",
      "         -1.7538e+01, -4.0557e+01, -2.7028e+01, -1.3831e+01, -1.0028e+01],\n",
      "        [-3.3631e+01, -2.5015e+01, -3.1407e+01, -1.5266e+01, -3.2578e+01,\n",
      "         -2.3842e-07, -2.9117e+01, -3.0179e+01, -2.2148e+01, -2.0107e+01],\n",
      "        [-2.1686e+01, -2.5365e-04, -1.2988e+01, -1.1766e+01, -1.4921e+01,\n",
      "         -1.8816e+01, -1.5305e+01, -1.1089e+01, -8.3879e+00, -1.6344e+01],\n",
      "        [-6.1159e-04, -1.8710e+01, -8.5706e+00, -1.7806e+01, -2.4084e+01,\n",
      "         -1.9470e+01, -1.8522e+01, -7.8088e+00, -1.6965e+01, -1.1060e+01],\n",
      "        [-1.7927e+01, -2.1562e+01, -1.6314e+01, -1.5810e+01, -1.0217e+01,\n",
      "         -1.9051e+01, -2.5626e+01, -1.2443e+01, -1.6582e+01, -4.0888e-05],\n",
      "        [-2.6709e+01, -1.0442e+01, -7.9583e+00, -5.9701e+00, -1.2228e+01,\n",
      "         -1.4659e+01, -2.7971e+01, -2.9425e-03, -1.8455e+01, -1.7187e+01],\n",
      "        [-4.8040e-05, -1.8586e+01, -1.0733e+01, -1.9831e+01, -2.3965e+01,\n",
      "         -1.6227e+01, -1.1285e+01, -1.2871e+01, -1.1424e+01, -2.0996e+01],\n",
      "        [-1.3153e+01, -1.7335e+01, -7.9634e+00, -1.8022e+01, -6.0504e-04,\n",
      "         -1.5957e+01, -1.6735e+01, -8.3620e+00, -1.1159e+01, -1.1873e+01],\n",
      "        [-2.4802e+01, -8.4635e-05, -1.0950e+01, -1.8410e+01, -1.1027e+01,\n",
      "         -2.1612e+01, -2.2199e+01, -9.9426e+00, -1.2747e+01, -1.9065e+01],\n",
      "        [-1.7562e+01, -1.6259e+01, -4.1867e-03, -1.1109e+01, -1.7415e+01,\n",
      "         -1.8042e+01, -2.2494e+01, -5.4815e+00, -2.0187e+01, -2.2037e+01],\n",
      "        [-2.1444e+01, -2.9704e+01, -1.8210e+01, -1.7278e+01, -2.6193e+01,\n",
      "         -1.9322e+01, -2.6514e+01, -2.4768e+01, -2.3842e-06, -1.2966e+01],\n",
      "        [-1.9635e+01, -2.0611e+01, -1.4577e+01, -2.1924e+01, -8.2254e-06,\n",
      "         -1.1963e+01, -1.4182e+01, -1.7636e+01, -1.6713e+01, -1.4298e+01],\n",
      "        [-3.1446e+01, -3.4853e+01, -3.5858e+01, -2.0437e+01, -1.4427e+01,\n",
      "         -2.1815e+01, -4.8104e+01, -1.1538e+01, -2.6235e+01, -1.0371e-05],\n",
      "        [-3.2794e+01, -2.4961e+01, -3.0080e+01, -1.7311e+01, -2.5529e+01,\n",
      "         -1.1921e-07, -1.8472e+01, -3.1550e+01, -1.5944e+01, -2.0129e+01],\n",
      "        [-2.4406e+01, -3.1100e+01, -2.8598e+01, -2.7836e+01, -2.9142e+01,\n",
      "         -1.1884e+01, -2.5545e+01, -2.7162e+01, -6.9141e-06, -1.9271e+01],\n",
      "        [-1.8004e+01, -2.0539e+01, -1.0406e+01, -4.7027e+00, -2.3249e+01,\n",
      "         -1.6917e+01, -2.8161e+01, -2.0358e+01, -9.1652e-03, -1.0690e+01],\n",
      "        [-2.6522e+01, -2.3659e+01, -2.2019e+01, -2.9040e+01, -3.0994e-06,\n",
      "         -2.1229e+01, -2.5177e+01, -1.2702e+01, -2.1779e+01, -1.7528e+01],\n",
      "        [-2.0827e+01, -1.3373e+01, -1.2264e+01, -1.7798e+01, -7.6341e+00,\n",
      "         -1.3430e+01, -2.5076e+01, -5.9122e-04, -1.0717e+01, -9.4657e+00],\n",
      "        [-2.4465e+01, -2.3491e+01, -1.5540e+01, -5.9712e+00, -3.7114e+01,\n",
      "         -2.0255e+01, -4.2712e+01, -2.5554e-03, -1.4198e+01, -1.5529e+01],\n",
      "        [-7.7494e+00, -1.6860e+01, -1.1751e+01, -9.4187e+00, -9.3173e+00,\n",
      "         -3.1232e+00, -2.0899e+01, -2.9697e+00, -8.9061e+00, -1.0101e-01],\n",
      "        [-2.4816e+01, -2.6655e+01, -2.2851e+01, -2.9120e+01, -9.5367e-07,\n",
      "         -1.6663e+01, -2.2944e+01, -1.6086e+01, -1.6093e+01, -1.4175e+01],\n",
      "        [-2.6685e+01, -2.5920e+01, -2.1867e+01, -3.1241e+01,  0.0000e+00,\n",
      "         -2.1528e+01, -2.4451e+01, -1.7903e+01, -2.2356e+01, -1.7461e+01],\n",
      "        [-1.3890e+01, -2.1050e+01, -1.1695e+01, -1.8491e+01, -1.3740e-01,\n",
      "         -1.7212e+01, -1.7645e+01, -6.8189e+00, -1.9526e+01, -2.0614e+00],\n",
      "        [-2.1647e+01, -1.8110e+01, -1.0968e+01, -1.3518e+01, -2.3558e+01,\n",
      "         -1.5430e+01, -1.9502e+01, -2.5126e+01, -1.8835e-05, -1.8049e+01],\n",
      "        [-1.7617e+01, -5.6610e+00, -3.3693e-02, -3.6592e+00, -1.7946e+01,\n",
      "         -1.2439e+01, -1.6598e+01, -6.1277e+00, -6.3695e+00, -1.6295e+01],\n",
      "        [-2.3420e+01, -1.1220e+01, -2.2157e+01, -5.3472e+00, -1.4012e+01,\n",
      "         -4.9474e-03, -1.3903e+01, -2.0328e+01, -1.0878e+01, -8.8760e+00],\n",
      "        [-1.7567e+01, -1.5463e+01, -1.7666e+01, -9.9938e+00, -1.7307e+01,\n",
      "         -1.5289e+01, -2.0723e+01, -1.4453e+01, -1.2240e-03, -6.7451e+00],\n",
      "        [-3.1317e+01, -1.4143e+01, -1.8079e+01, -4.1723e-06, -1.8399e+01,\n",
      "         -1.6901e+01, -3.5536e+01, -2.3105e+01, -1.3146e+01, -1.3393e+01],\n",
      "        [-3.0726e+01, -2.7484e+01, -2.1542e+01,  0.0000e+00, -3.9129e+01,\n",
      "         -2.2748e+01, -4.5666e+01, -2.3517e+01, -1.9751e+01, -2.4932e+01],\n",
      "        [-2.1638e+01, -1.4419e+01, -5.9605e-07, -1.8027e+01, -2.0454e+01,\n",
      "         -1.6657e+01, -1.9915e+01, -1.9771e+01, -1.7001e+01, -2.3651e+01],\n",
      "        [-1.6887e+01, -2.5446e+01, -5.5777e-03, -1.4673e+01, -8.7882e+00,\n",
      "         -1.5259e+01, -1.6857e+01, -2.5035e+01, -1.4959e+01, -5.2198e+00],\n",
      "        [-2.1870e+01, -2.2197e-03, -9.3794e+00, -1.4211e+01, -8.2083e+00,\n",
      "         -1.8094e+01, -2.0584e+01, -6.2933e+00, -1.1443e+01, -1.4755e+01],\n",
      "        [-1.6848e+01, -1.9193e+01, -1.0356e+01, -1.1117e+01, -2.8840e+01,\n",
      "         -2.0442e+01, -3.6945e+01, -4.8755e-05, -1.8131e+01, -1.3109e+01],\n",
      "        [-2.1150e+01, -1.3399e+01, -1.9790e+01, -1.4185e-04, -1.2408e+01,\n",
      "         -9.3649e+00, -2.0763e+01, -1.0912e+01, -1.2002e+01, -1.0549e+01],\n",
      "        [-2.6576e+01, -1.5307e+01, -7.1526e-07, -1.5037e+01, -3.3475e+01,\n",
      "         -2.9269e+01, -3.7627e+01, -1.5157e+01, -1.7696e+01, -2.4941e+01],\n",
      "        [-8.0300e+00, -6.2391e+00, -8.0683e+00, -9.0960e+00, -4.7266e+00,\n",
      "         -3.7362e+00, -1.1868e+01, -3.8659e+00, -7.6438e+00, -5.8514e-02],\n",
      "        [-2.8110e+01, -1.6747e+01, -6.1669e+00, -1.2464e+01, -3.1667e+01,\n",
      "         -2.9650e+01, -3.5859e+01, -2.1037e-03, -2.7073e+01, -3.0957e+01]],\n"
     ]
    },
    {
     "name": "stdout",
     "output_type": "stream",
     "text": [
      "       grad_fn=<LogSoftmaxBackward>)\n"
     ]
    }
   ],
   "source": [
    "print(y_pred)"
   ]
  },
  {
   "cell_type": "markdown",
   "metadata": {},
   "source": [
    "## Plot the loss and accuracy comparisons"
   ]
  },
  {
   "cell_type": "code",
   "execution_count": 81,
   "metadata": {},
   "outputs": [
    {
     "data": {
      "image/png": "[encoded data removed]",
      "text/plain": [
       "<Figure size 432x288 with 1 Axes>"
      ]
     },
     "metadata": {
      "needs_background": "light"
     },
     "output_type": "display_data"
    }
   ],
   "source": [
    "plt.plot(train_losses, label='training loss')\n",
    "plt.plot(test_losses, label='validation loss')\n",
    "plt.title('Loss at the end of each epoch')\n",
    "plt.legend();"
   ]
  },
  {
   "cell_type": "markdown",
   "metadata": {},
   "source": [
    "This shows some evidence of overfitting the training data."
   ]
  },
  {
   "cell_type": "code",
   "execution_count": 83,
   "metadata": {},
   "outputs": [
    {
     "data": {
      "image/png": "[encoded data removed]",
      "text/plain": [
       "<Figure size 432x288 with 1 Axes>"
      ]
     },
     "metadata": {
      "needs_background": "light"
     },
     "output_type": "display_data"
    }
   ],
   "source": [
    "plt.plot([t/600 for t in train_correct], label='training accuracy')\n",
    "plt.plot([t/100 for t in test_correct], label='validation accuracy')\n",
    "plt.title('Accuracy at the end of each epoch')\n",
    "plt.legend();"
   ]
  },
  {
   "cell_type": "code",
   "execution_count": 84,
   "metadata": {},
   "outputs": [
    {
     "data": {
      "text/plain": [
       "[tensor(53622),\n",
       " tensor(57150),\n",
       " tensor(57946),\n",
       " tensor(58423),\n",
       " tensor(58739),\n",
       " tensor(58976),\n",
       " tensor(59169),\n",
       " tensor(59289),\n",
       " tensor(59425),\n",
       " tensor(59550)]"
      ]
     },
     "execution_count": 84,
     "metadata": {},
     "output_type": "execute_result"
    }
   ],
   "source": [
    "train_correct"
   ]
  },
  {
   "cell_type": "code",
   "execution_count": 85,
   "metadata": {},
   "outputs": [
    {
     "data": {
      "text/plain": [
       "[tensor(9434),\n",
       " tensor(9586),\n",
       " tensor(9694),\n",
       " tensor(9696),\n",
       " tensor(9708),\n",
       " tensor(9718),\n",
       " tensor(9751),\n",
       " tensor(9753),\n",
       " tensor(9757),\n",
       " tensor(9762)]"
      ]
     },
     "execution_count": 85,
     "metadata": {},
     "output_type": "execute_result"
    }
   ],
   "source": [
    "test_correct"
   ]
  },
  {
   "cell_type": "markdown",
   "metadata": {},
   "source": [
    "## Evaluate Test Data\n",
    "We retained the test scores during our training session:"
   ]
  },
  {
   "cell_type": "code",
   "execution_count": 88,
   "metadata": {
    "scrolled": true
   },
   "outputs": [
    {
     "name": "stdout",
     "output_type": "stream",
     "text": [
      "[tensor(9434), tensor(9586), tensor(9694), tensor(9696), tensor(9708), tensor(9718), tensor(9751), tensor(9753), tensor(9757), tensor(9762)]\n",
      "\n",
      "Test accuracy: 97.620%\n"
     ]
    }
   ],
   "source": [
    "print(test_correct) # contains the results of all 10 epochs\n",
    "print()\n",
    "print(f'Test accuracy: {test_correct[-1].item()*100/10000:.3f}%') # print the most recent result as a percent"
   ]
  },
  {
   "cell_type": "code",
   "execution_count": 89,
   "metadata": {},
   "outputs": [
    {
     "data": {
      "text/plain": [
       "9762"
      ]
     },
     "execution_count": 89,
     "metadata": {},
     "output_type": "execute_result"
    }
   ],
   "source": [
    "test_correct[-1].item()"
   ]
  },
  {
   "cell_type": "code",
   "execution_count": 90,
   "metadata": {},
   "outputs": [
    {
     "data": {
      "text/plain": [
       "tensor(9762)"
      ]
     },
     "execution_count": 90,
     "metadata": {},
     "output_type": "execute_result"
    }
   ],
   "source": [
    "test_correct[-1]"
   ]
  },
  {
   "cell_type": "markdown",
   "metadata": {},
   "source": [
    "However, we'd like to compare the predicted values to the ground truth (the y_test labels), so we'll run the test set through the trained model all at once."
   ]
  },
  {
   "cell_type": "code",
   "execution_count": 92,
   "metadata": {},
   "outputs": [],
   "source": [
    "# Extract the data all at once, not in batches\n",
    "test_load_all = DataLoader(test_data, batch_size=10000, shuffle=False)"
   ]
  },
  {
   "cell_type": "code",
   "execution_count": 93,
   "metadata": {},
   "outputs": [
    {
     "name": "stdout",
     "output_type": "stream",
     "text": [
      "Test accuracy: 9762/10000 =  97.620%\n"
     ]
    }
   ],
   "source": [
    "with torch.no_grad():\n",
    "    correct = 0\n",
    "    for X_test, y_test in test_load_all:\n",
    "        y_val = model(X_test.view(len(X_test), -1))  # pass in a flattened view of X_test\n",
    "        predicted = torch.max(y_val,1)[1]\n",
    "        correct += (predicted == y_test).sum()\n",
    "print(f'Test accuracy: {correct.item()}/{len(test_data)} = {correct.item()*100/(len(test_data)):7.3f}%')"
   ]
  },
  {
   "cell_type": "markdown",
   "metadata": {},
   "source": [
    "Not bad considering that a random guess gives only 10% accuracy!"
   ]
  },
  {
   "cell_type": "markdown",
   "metadata": {},
   "source": [
    "## Display the confusion matrix\n",
    "This uses scikit-learn, and the predicted values obtained above."
   ]
  },
  {
   "cell_type": "code",
   "execution_count": 94,
   "metadata": {},
   "outputs": [
    {
     "name": "stdout",
     "output_type": "stream",
     "text": [
      "[[   0    1    2    3    4    5    6    7    8    9]]\n",
      "\n",
      "[[ 968    0    4    1    0    2    5    1    5    2]\n",
      " [   0 1124    0    0    0    0    3    5    0    2]\n",
      " [   1    3 1010    8    3    0    3   10    4    1]\n",
      " [   2    2    1  985    1    8    1    5   10    3]\n",
      " [   1    0    2    0  956    1    9    2    3    5]\n",
      " [   0    0    0    9    0  874   11    2    5    6]\n",
      " [   2    2    2    0    3    2  925    0    1    0]\n",
      " [   1    1    7    2    0    0    0  994    3    3]\n",
      " [   5    3    6    2    0    2    1    2  941    2]\n",
      " [   0    0    0    3   19    3    0    7    2  985]]\n"
     ]
    }
   ],
   "source": [
    "# print a row of values for reference\n",
    "np.set_printoptions(formatter=dict(int=lambda x: f'{x:4}'))\n",
    "print(np.arange(10).reshape(1,10))\n",
    "print()\n",
    "\n",
    "# print the confusion matrix\n",
    "print(confusion_matrix(predicted.view(-1), y_test.view(-1)))"
   ]
  },
  {
   "cell_type": "markdown",
   "metadata": {},
   "source": [
    "This shows that the model had the greatest success with ones, twos and sevens, and the lowest with fives, sixes and eights."
   ]
  },
  {
   "cell_type": "markdown",
   "metadata": {},
   "source": [
    "## Examine the misses\n",
    "We can track the index positions of \"missed\" predictions, and extract the corresponding image and label. We'll do this in batches to save screen space."
   ]
  },
  {
   "cell_type": "code",
   "execution_count": 96,
   "metadata": {},
   "outputs": [
    {
     "data": {
      "text/plain": [
       "238"
      ]
     },
     "execution_count": 96,
     "metadata": {},
     "output_type": "execute_result"
    }
   ],
   "source": [
    "misses = np.array([])\n",
    "for i in range(len(predicted.view(-1))):\n",
    "    if predicted[i] != y_test[i]:\n",
    "        misses = np.append(misses,i).astype('int64')\n",
    "        \n",
    "# Display the number of misses\n",
    "len(misses)"
   ]
  },
  {
   "cell_type": "code",
   "execution_count": 97,
   "metadata": {},
   "outputs": [
    {
     "data": {
      "text/plain": [
       "tensor([7, 2, 1,  ..., 4, 5, 6])"
      ]
     },
     "execution_count": 97,
     "metadata": {},
     "output_type": "execute_result"
    }
   ],
   "source": [
    "predicted.view(-1)"
   ]
  },
  {
   "cell_type": "code",
   "execution_count": 98,
   "metadata": {},
   "outputs": [
    {
     "data": {
      "text/plain": [
       "array([ 104,  115,  158,  217,  247,  259,  321,  340,  445,  449],\n",
       "      dtype=int64)"
      ]
     },
     "execution_count": 98,
     "metadata": {},
     "output_type": "execute_result"
    }
   ],
   "source": [
    "# Display the first 10 index positions\n",
    "misses[:10]"
   ]
  },
  {
   "cell_type": "code",
   "execution_count": 102,
   "metadata": {},
   "outputs": [
    {
     "data": {
      "text/plain": [
       "array([ 104,  115,  158,  217,  247,  259,  321,  340,  445,  449,  495,\n",
       "        582,  583,  619,  684,  691,  717,  720,  740,  881,  938,  947,\n",
       "        951,  956,  965, 1014, 1032, 1039, 1112, 1128, 1156, 1181, 1182,\n",
       "       1226, 1242, 1247, 1260, 1319, 1328, 1393, 1413, 1444, 1500, 1522,\n",
       "       1530, 1549, 1609, 1626, 1671, 1681, 1717, 1751, 1754, 1790, 1878,\n",
       "       1901, 1941, 1955, 1982, 1984, 2004, 2016, 2024, 2035, 2044, 2053,\n",
       "       2070, 2109, 2135, 2182, 2185, 2272, 2293, 2329, 2369, 2387, 2405,\n",
       "       2414, 2422, 2462, 2488, 2534, 2582, 2597, 2610, 2630, 2635, 2648,\n",
       "       2654, 2713, 2771, 2810, 2877, 2896, 2915, 2921, 2927, 2939, 2953,\n",
       "       2995, 3060, 3062, 3073, 3117, 3130, 3172, 3173, 3225, 3333, 3422,\n",
       "       3490, 3503, 3520, 3558, 3559, 3567, 3607, 3674, 3718, 3727, 3749,\n",
       "       3751, 3808, 3838, 3853, 3893, 3906, 3926, 3941, 3943, 3976, 4063,\n",
       "       4065, 4078, 4140, 4163, 4176, 4199, 4201, 4224, 4248, 4284, 4289,\n",
       "       4294, 4425, 4437, 4439, 4497, 4534, 4536, 4551, 4635, 4724, 4731,\n",
       "       4740, 4761, 4807, 4808, 4814, 4823, 4838, 4839, 4861, 4880, 4943,\n",
       "       4956, 4966, 5199, 5201, 5228, 5331, 5495, 5600, 5642, 5676, 5734,\n",
       "       5749, 5887, 5913, 5936, 5937, 5955, 5972, 5973, 5997, 6023, 6059,\n",
       "       6166, 6555, 6558, 6572, 6574, 6576, 6597, 6651, 6755, 6783, 6847,\n",
       "       7216, 7434, 7800, 7821, 7823, 7886, 8020, 8094, 8243, 8246, 8272,\n",
       "       8311, 8325, 8406, 8456, 8519, 8520, 8522, 8527, 9009, 9015, 9019,\n",
       "       9024, 9280, 9316, 9505, 9587, 9634, 9664, 9679, 9692, 9700, 9729,\n",
       "       9745, 9768, 9770, 9779, 9782, 9793, 9839], dtype=int64)"
      ]
     },
     "execution_count": 102,
     "metadata": {},
     "output_type": "execute_result"
    }
   ],
   "source": [
    "misses"
   ]
  },
  {
   "cell_type": "code",
   "execution_count": 103,
   "metadata": {},
   "outputs": [],
   "source": [
    "# Set up an iterator to feed batched rows\n",
    "r = 12   # row size\n",
    "row = iter(np.array_split(misses,len(misses)//r+1))"
   ]
  },
  {
   "cell_type": "code",
   "execution_count": 107,
   "metadata": {},
   "outputs": [
    {
     "data": {
      "text/plain": [
       "list_iterator"
      ]
     },
     "execution_count": 107,
     "metadata": {},
     "output_type": "execute_result"
    }
   ],
   "source": [
    "type(row)"
   ]
  },
  {
   "cell_type": "markdown",
   "metadata": {},
   "source": [
    "Now that everything is set up, run and re-run the cell below to view all of the missed predictions.<br>\n",
    "Use <kbd>Ctrl+Enter</kbd> to remain on the cell between runs. You'll see a <tt>StopIteration</tt> once all the misses have been seen."
   ]
  },
  {
   "cell_type": "code",
   "execution_count": 108,
   "metadata": {},
   "outputs": [
    {
     "name": "stdout",
     "output_type": "stream",
     "text": [
      "Index: [ 104  115  158  217  247  259  321  340  445  449  495  582]\n",
      "Label: [   9    4    3    6    4    6    2    5    6    3    8    8]\n",
      "Guess: [   5    9    2    5    2    0    7    3    0    5    2    2]\n"
     ]
    },
    {
     "data": {
      "image/png": "[encoded data removed]",
      "text/plain": [
       "<Figure size 720x288 with 1 Axes>"
      ]
     },
     "metadata": {
      "needs_background": "light"
     },
     "output_type": "display_data"
    }
   ],
   "source": [
    "nextrow = next(row)\n",
    "print(\"Index:\", nextrow)\n",
    "print(\"Label:\", y_test.index_select(0,torch.tensor(nextrow)).numpy())\n",
    "print(\"Guess:\", predicted.index_select(0,torch.tensor(nextrow)).numpy())\n",
    "\n",
    "images = X_test.index_select(0,torch.tensor(nextrow))\n",
    "im = make_grid(images, nrow=r)\n",
    "plt.figure(figsize=(10,4))\n",
    "plt.imshow(np.transpose(im.numpy(), (1, 2, 0)));"
   ]
  },
  {
   "cell_type": "code",
   "execution_count": 109,
   "metadata": {},
   "outputs": [
    {
     "data": {
      "text/plain": [
       "array([ 104,  115,  158,  217,  247,  259,  321,  340,  445,  449,  495,\n",
       "        582], dtype=int64)"
      ]
     },
     "execution_count": 109,
     "metadata": {},
     "output_type": "execute_result"
    }
   ],
   "source": [
    "nextrow"
   ]
  },
  {
   "cell_type": "markdown",
   "metadata": {},
   "source": [
    "## Great job!"
   ]
  }
 ],
 "metadata": {
  "kernelspec": {
   "display_name": "Python 3",
   "language": "python",
   "name": "python3"
  },
  "language_info": {
   "codemirror_mode": {
    "name": "ipython",
    "version": 3
   },
   "file_extension": ".py",
   "mimetype": "text/x-python",
   "name": "python",
   "nbconvert_exporter": "python",
   "pygments_lexer": "ipython3",
   "version": "3.8.6"
  }
 },
 "nbformat": 4,
 "nbformat_minor": 2
}
