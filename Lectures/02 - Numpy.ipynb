{
 "cells": [
  {
   "cell_type": "markdown",
   "metadata": {},
   "source": [
    "# Programming for Data Science and Artificial Intelligence\n",
    "\n",
    "## 2 Numpy\n",
    "\n",
    "### Readings: \n",
    "- [VANDER] Ch2\n",
    "- https://numpy.org/doc/stable/"
   ]
  },
  {
   "cell_type": "markdown",
   "metadata": {},
   "source": [
    "NumPy arrays are like Python's built-in list type, but NumPy arrays provide much more efficient storage and data operations as the arrays grow larger in size.\n",
    "\n",
    "A python list comes with overhead of determining its dynamic type and convert them back to C.  Unlike python list, Numpy is constrained to arrays that all contain the same type, thus removing that overhead."
   ]
  },
  {
   "cell_type": "code",
   "execution_count": 1,
   "metadata": {},
   "outputs": [
    {
     "data": {
      "text/plain": [
       "'1.18.4'"
      ]
     },
     "execution_count": 1,
     "metadata": {},
     "output_type": "execute_result"
    }
   ],
   "source": [
    "import numpy as np\n",
    "np.__version__"
   ]
  },
  {
   "cell_type": "markdown",
   "metadata": {},
   "source": [
    "## Creation"
   ]
  },
  {
   "cell_type": "code",
   "execution_count": 2,
   "metadata": {},
   "outputs": [
    {
     "name": "stdout",
     "output_type": "stream",
     "text": [
      "1: List to numpy:  [1 2 3 4]\n",
      "2: Typecasting:  [1.3 2.  3.  4. ]\n",
      "3: Dtype:  [1. 2. 3. 4.]\n",
      "4: l_num_int32 using astype:  [1 2 3 4]\n",
      "5: [1.+0.j 2.+0.j 3.+0.j]\n",
      "6: Multidimension:  [[1 2]\n",
      " [3 4]]\n",
      "7: List comprehension:  [[2 3 4]\n",
      " [4 5 6]\n",
      " [6 7 8]]\n",
      "9: Np zeors:  [0 0 0 0 0 0 0 0 0 0]\n",
      "10: Np ones:  [[1. 1. 1. 1. 1.]\n",
      " [1. 1. 1. 1. 1.]\n",
      " [1. 1. 1. 1. 1.]]\n",
      "11: Np full:  [[3.14 3.14]\n",
      " [3.14 3.14]\n",
      " [3.14 3.14]\n",
      " [3.14 3.14]]\n",
      "12: Np linspace:  [0.   0.25 0.5  0.75 1.  ]\n",
      "13: Np logspace:  [ 10.          17.7827941   31.6227766   56.23413252 100.        ]\n",
      "14: Np diag:  [[0 0 0 0]\n",
      " [0 1 0 0]\n",
      " [0 0 2 0]\n",
      " [0 0 0 3]]\n",
      "15: Randomize [0, 1) [[0.03061306 0.25435019 0.97472127]\n",
      " [0.79507139 0.75329476 0.14407067]\n",
      " [0.53796746 0.57584445 0.32120601]]\n",
      "16: Random integers [0, 10) [[3 0 6]\n",
      " [2 0 8]\n",
      " [1 9 6]]\n",
      "17: Normal dist. with m=0 and std=1 [[-1.26600343  1.37876991  1.23994394]\n",
      " [ 1.21871168 -0.30624238  1.43207759]\n",
      " [-0.44189952 -0.88199152  0.53068963]]\n",
      "18: [[1. 0. 0.]\n",
      " [0. 1. 0.]\n",
      " [0. 0. 1.]]\n",
      "19: Np empty:  [1. 1. 1.]\n"
     ]
    }
   ],
   "source": [
    "'''\n",
    "numpy.array(object, dtype=None, copy=True, \n",
    "order='K', subok=False, ndmin=0)\n",
    "'''\n",
    "\n",
    "#create numpy array from list\n",
    "l = [1, 2, 3, 4]\n",
    "l_numpy = np.array(l)\n",
    "print(\"1: List to numpy: \", l_numpy)\n",
    "\n",
    "#if some is integer, some is float.  All will be upcasted to float\n",
    "l = [1.3, 2, 3, 4]\n",
    "l_numpy = np.array(l)\n",
    "print(\"2: Typecasting: \", l_numpy)\n",
    "\n",
    "#we can also expliclty define the type\n",
    "l = [1, 2, 3, 4]\n",
    "l_numpy_float = np.array(l, dtype='float32')\n",
    "print(\"3: Dtype: \", l_numpy_float)\n",
    "\n",
    "#astype, copy of the array, and cast to a specified type\n",
    "#astype is a function of every numpy array, NOT np method\n",
    "l_numpy_int32 = l_numpy_float.astype(int)\n",
    "print(\"4: l_num_int32 using astype: \", l_numpy_int32)\n",
    "\n",
    "#complex\n",
    "print(\"5:\",np.array([1, 2, 3], dtype=complex))\n",
    "\n",
    "#NumPy arrays can explicitly be multi-dimensional\n",
    "l = [[1, 2], [3, 4]]\n",
    "l_numpy = np.array(l)\n",
    "print(\"6: Multidimension: \", l_numpy)\n",
    "\n",
    "#we can also leverage the list comprehension method\n",
    "print(\"7: List comprehension: \", \n",
    "      np.array([range(i, i+3) for i in [2, 4, 6]]))\n",
    "\n",
    "#for larger arrays, it is more efficient to create arrays \n",
    "#from scratch using routines built into NumPy. \n",
    "#Here are several examples:\n",
    "\n",
    "print(\"9: Np zeors: \", np.zeros(10, dtype=int))\n",
    "print(\"10: Np ones: \", np.ones((3,5), dtype=float))\n",
    "print(\"11: Np full: \", np.full((4,2), 3.14))\n",
    "\n",
    "#super handy\n",
    "#here, we create 5 equal-distanced values from 0 to 1\n",
    "print(\"12: Np linspace: \", np.linspace(0, 1, 5))\n",
    "\n",
    "#we also have log space 10^1, 10^?\n",
    "print(\"13: Np logspace: \", np.logspace(1, 2, 5))\n",
    "\n",
    "#diag\n",
    "print(\"14: Np diag: \", np.diag(np.arange(4)))\n",
    "\n",
    "#also super handy is to random.  Researchers love randoming!\n",
    "#Return random floats in the half-open interval [0.0, 1.0)\n",
    "print(\"15: Randomize [0, 1)\", np.random.random((3,3)))  #randomize a 3x3 array between 0 and 1\n",
    "\n",
    "#random integers in the interval [0, 10)\n",
    "print(\"16: Random integers [0, 10)\", np.random.randint(0, 10, (3, 3)))\n",
    "\n",
    "#normal distribution with m=0 and std=1\n",
    "print(\"17: Normal dist. with m=0 and std=1\", np.random.normal(0, 1, (3, 3)))\n",
    "\n",
    "#identity matrix with size 3 x 3 for computing inverse of matrix\n",
    "print(\"18:\",np.eye(3))\n",
    "\n",
    "#if you just want a scratch array, use empty\n",
    "# values will be whatever already exists at that memory\n",
    "print(\"19: Np empty: \", np.empty(3))"
   ]
  },
  {
   "cell_type": "markdown",
   "metadata": {},
   "source": [
    "### ===Task===\n",
    "\n",
    "1. Declare a list of 1 to 4 using range()\n",
    "\n",
    "2. Continuing, create numpy array from this list, with dtype='float32'\n",
    "\n",
    "3. Create an numpy array of size 3 by 5 using np.zeros\n",
    "\n",
    "4. Create an numpy array of size 2 by 3 with filled value 1 / 3\n",
    "\n",
    "5. Create a list of 500 numbers for 0 to 10\n",
    "\n",
    "6. Create a list of number for 0.001, 0.01, 0.1, 1 using np.logspace\n",
    "\n",
    "7. Create a diagonal matrix of list [1, 2, 3, 4]\n",
    "\n",
    "8. Create a random array of size 4 by 5 all filled with random values between 0 and 1\n",
    "\n",
    "9.  Create a random array of size 4 by 5 all filled with integer random values between 2 and 5\n",
    "\n",
    "10.  Create a random array of size 4 by 5 all filled with float random values between 2 and 5\n",
    "\n",
    "11. Create a random array of size 4 by 5 with mean = 5, and std = 1 following a gaussian (normal) distribution\n",
    "\n",
    "12. Create an identity matrix of size 5 by 5"
   ]
  },
  {
   "cell_type": "markdown",
   "metadata": {},
   "source": [
    "## Attributes"
   ]
  },
  {
   "cell_type": "markdown",
   "metadata": {},
   "source": [
    "First let's discuss some useful array attributes. We'll start by defining three random arrays, a one-dimensional, two-dimensional, and three-dimensional array. We'll use NumPy's random number generator, which we will seed with a set value in order to ensure that the same random arrays are generated each time this code is run:\n",
    "\n",
    "Tips: Remember that attributes are not function, so DO NOT put () in front of all these attributes!!"
   ]
  },
  {
   "cell_type": "code",
   "execution_count": 3,
   "metadata": {},
   "outputs": [
    {
     "name": "stdout",
     "output_type": "stream",
     "text": [
      "1D:  [5 8 9 5 0 0]\n",
      "2D:  [[1 7 6 9]\n",
      " [2 4 5 2]\n",
      " [4 2 4 7]]\n",
      "3D:  [[[7 9 1 7 0]\n",
      "  [6 9 9 7 6]\n",
      "  [9 1 0 1 8]\n",
      "  [8 3 9 8 7]]\n",
      "\n",
      " [[3 6 5 1 9]\n",
      "  [3 4 8 1 4]\n",
      "  [0 3 9 2 0]\n",
      "  [4 9 2 7 7]]\n",
      "\n",
      " [[9 8 6 9 3]\n",
      "  [7 7 4 5 9]\n",
      "  [3 6 8 0 2]\n",
      "  [7 7 9 7 3]]]\n",
      "Dim: X1: 1, X2: 2, X3: 3\n",
      "Shape: X1: (6,), X2: (3, 4), X3: (3, 4, 5)\n",
      "Len (but only first dim!): X1: 6, X2: 3, X3: 3\n",
      "Size: X1: 6, X2: 12, X3: 60\n",
      "Item bytes: X1: 8, X2: 8, X3: 8\n",
      "Total bytes: X1: 48, X2: 96, X3: 480\n",
      "Dtype: X1: int64, X2: int64, X3: int64\n"
     ]
    }
   ],
   "source": [
    "import numpy as np\n",
    "np.random.seed(1) #seed for reproducibility\n",
    "\n",
    "x1 = np.random.randint(10, size = 6) #one dimensional array\n",
    "print(\"1D: \", x1)\n",
    "x2 = np.random.randint(10, size = (3, 4)) #two \n",
    "print(\"2D: \", x2)\n",
    "x3 = np.random.randint(10, size = (3, 4, 5)) #three\n",
    "print(\"3D: \", x3)\n",
    "\n",
    "#observe the bracket in front to easily determine the dimension\n",
    "#or simply use ndim\n",
    "print(f\"Dim: X1: {x1.ndim}, X2: {x2.ndim}, X3: {x3.ndim}\")\n",
    "\n",
    "#to observe the size of each dimension, use shape\n",
    "#shape will be your most likely companion throughout your coding exp.\n",
    "print(f\"Shape: X1: {x1.shape}, X2: {x2.shape}, X3: {x3.shape}\")\n",
    "print(f\"Len (but only first dim!): X1: {len(x1)}, X2: {len(x2)}, X3: {len(x3)}\")\n",
    "\n",
    "#to get number of elements, use ize\n",
    "print(f\"Size: X1: {x1.size}, X2: {x2.size}, X3: {x3.size}\")\n",
    "\n",
    "#each item size and nbytes\n",
    "print(f\"Item bytes: X1: {x1.itemsize}, X2: {x2.itemsize}, X3: {x3.itemsize}\")\n",
    "print(f\"Total bytes: X1: {x1.nbytes}, X2: {x2.nbytes}, X3: {x3.nbytes}\")\n",
    "\n",
    "#another very useful one is dtype\n",
    "print(f\"Dtype: X1: {x1.dtype}, X2: {x2.dtype}, X3: {x3.dtype}\")"
   ]
  },
  {
   "cell_type": "markdown",
   "metadata": {},
   "source": [
    "## Indexing and Slicing"
   ]
  },
  {
   "cell_type": "code",
   "execution_count": 4,
   "metadata": {},
   "outputs": [
    {
     "name": "stdout",
     "output_type": "stream",
     "text": [
      "X1:  [5 8 9 5 0 0]\n",
      "X1 first element:  5\n",
      "X1 first two elements:  [5 8]\n",
      "X1 last element:  0\n",
      "X1 last two element:  [0 0]\n",
      "X2:  [[1 7 6 9]\n",
      " [2 4 5 2]\n",
      " [4 2 4 7]]\n",
      "X2 default access row-wise:  [1 7 6 9]\n",
      "X2 first row, third col:  6\n",
      "X2 first row, last col:  9\n",
      "X2 every row, last two col:  [[6 9]\n",
      " [5 2]\n",
      " [4 7]]\n",
      "X2 reversed:  [[7 4 2 4]\n",
      " [2 5 4 2]\n",
      " [9 6 7 1]]\n",
      "X2 last two rows, every even col:  [[4 2]\n",
      " [2 7]]\n",
      "X3:  [[[7 9 1 7 0]\n",
      "  [6 9 9 7 6]\n",
      "  [9 1 0 1 8]\n",
      "  [8 3 9 8 7]]\n",
      "\n",
      " [[3 6 5 1 9]\n",
      "  [3 4 8 1 4]\n",
      "  [0 3 9 2 0]\n",
      "  [4 9 2 7 7]]\n",
      "\n",
      " [[9 8 6 9 3]\n",
      "  [7 7 4 5 9]\n",
      "  [3 6 8 0 2]\n",
      "  [7 7 9 7 3]]]\n",
      "X3 default access row-wise:  [[7 9 1 7 0]\n",
      " [6 9 9 7 6]\n",
      " [9 1 0 1 8]\n",
      " [8 3 9 8 7]]\n",
      "X3 first sheet, third row, last col:  8\n",
      "X3 second sheet, first two rows, last two cols:  [[1 9]\n",
      " [1 4]]\n",
      "X3 second sheet, everything, everything (essentially converting to 2D - very useful):  [[3 6 5 1 9]\n",
      " [3 4 8 1 4]\n",
      " [0 3 9 2 0]\n",
      " [4 9 2 7 7]]\n",
      "X3 second sheet, without : :  [[3 6 5 1 9]\n",
      " [3 4 8 1 4]\n",
      " [0 3 9 2 0]\n",
      " [4 9 2 7 7]]\n",
      "X2 first row, last col before:  9\n",
      "X2 first row, last col after:  99\n"
     ]
    }
   ],
   "source": [
    "#basic indexing similar to list\n",
    "print(\"X1: \", x1)\n",
    "print(\"X1 first element: \", x1[0])\n",
    "print(\"X1 first two elements: \", x1[:2])\n",
    "print(\"X1 last element: \", x1[-1])\n",
    "print(\"X1 last two element: \", x1[-2:])\n",
    "\n",
    "#multidimension nparray can be accessed using a comma-separated tuple of indices\n",
    "print(\"X2: \", x2)\n",
    "print(\"X2 default access row-wise: \", x2[0])\n",
    "print(\"X2 first row, third col: \", x2[0, 2])\n",
    "print(\"X2 first row, last col: \", x2[0, -1])\n",
    "print(\"X2 every row, last two col: \", x2[:, -2:])\n",
    "print(\"X2 reversed: \", x2[::-1, ::-1])\n",
    "print(\"X2 last two rows, every even col: \", x2[-2:, 1::2])\n",
    "\n",
    "#3D or 4D will be your main research tool, so be of indices\n",
    "print(\"X3: \", x3)\n",
    "print(\"X3 default access row-wise: \", x3[0])\n",
    "print(\"X3 first sheet, third row, last col: \", x3[0, 2, -1])\n",
    "print(\"X3 second sheet, first two rows, last two cols: \", x3[1, :2, -2:])\n",
    "print(\"X3 second sheet, everything, everything (essentially converting to 2D - very useful): \", x3[1, :, :])\n",
    "print(\"X3 second sheet, without : : \", x3[1])\n",
    "\n",
    "#of course, values can be modified, similar to list (but not tuples)\n",
    "print(\"X2 first row, last col before: \", x2[0, -1])\n",
    "x2[0, -1] = 99.013  #remember that x2 is a int type, so it will automatically truncate decimals\n",
    "print(\"X2 first row, last col after: \", x2[0, -1])"
   ]
  },
  {
   "cell_type": "markdown",
   "metadata": {},
   "source": [
    "### ===Task===\n",
    "\n",
    "1. Create a numpy array of size 3 by 4 with random float values between 1 to 5 but skipping 3\n",
    "\n",
    "2. Continuing, print the shape of this array\n",
    "\n",
    "3. Continuing, access the first row of the array\n",
    "\n",
    "4. Continuing, access the first column of the array\n",
    "\n",
    "5. Continuing, access the second row, and third column element\n",
    "\n",
    "6. Continuing, access the first two columns\n",
    "\n",
    "7. Continuing, access the  first and third columns using step\n",
    "\n",
    "8. Continuing, print the whole matrix in reverse columns but not rows\n",
    "\n",
    "9. Change the third row, fourth column element (i.e., the last element) to 999"
   ]
  },
  {
   "cell_type": "markdown",
   "metadata": {},
   "source": [
    "### Very very important reminder - subarray are not copies!"
   ]
  },
  {
   "cell_type": "code",
   "execution_count": 5,
   "metadata": {},
   "outputs": [
    {
     "name": "stdout",
     "output_type": "stream",
     "text": [
      "some_array:  [0 8 7 7 1 1]\n",
      "its_not_copy [8 7]\n",
      "Some array got changed!!\n",
      "some_array:  [ 0 99  7  7  1  1]\n",
      "its_not_copy [99  7]\n",
      "another_array:  [3 0 8 6 4 5]\n",
      "its_copy [0 8]\n",
      "Have peace :)\n",
      "another_array:  [3 0 8 6 4 5]\n",
      "its_copy [99  8]\n"
     ]
    }
   ],
   "source": [
    "some_array = np.random.randint(10, size = 6) #one dimensional array\n",
    "print(\"some_array: \", some_array)\n",
    "\n",
    "its_not_copy = some_array[1:3]\n",
    "print(\"its_not_copy\", its_not_copy)\n",
    "\n",
    "its_not_copy[0] = 99\n",
    "\n",
    "print(\"Some array got changed!!\")\n",
    "print(\"some_array: \", some_array)\n",
    "print(\"its_not_copy\", its_not_copy)\n",
    "\n",
    "'''\n",
    "This behavior is intended, since data scientists \n",
    "love to chop down dataset to subset when working\n",
    "'''\n",
    "\n",
    "#if we want copy, use copy()\n",
    "another_array = np.random.randint(10, size = 6) #one dimensional array\n",
    "print(\"another_array: \", another_array)\n",
    "\n",
    "its_copy = another_array[1:3].copy()\n",
    "print(\"its_copy\", its_copy)\n",
    "\n",
    "its_copy[0] = 99\n",
    "\n",
    "print(\"Have peace :)\")\n",
    "print(\"another_array: \", another_array)\n",
    "print(\"its_copy\", its_copy)\n"
   ]
  },
  {
   "cell_type": "markdown",
   "metadata": {},
   "source": [
    "## Reshaping"
   ]
  },
  {
   "cell_type": "code",
   "execution_count": 6,
   "metadata": {},
   "outputs": [
    {
     "name": "stdout",
     "output_type": "stream",
     "text": [
      "1: [1 2 3 4 5 6 7 8 9]\n",
      "2: Make sure no. of elements match!:  True\n",
      "3: New grid:  [[1 2 3]\n",
      " [4 5 6]\n",
      " [7 8 9]]\n",
      "4: X:  [11 22 33 44 55]\n",
      "5: X shape:  (5,)\n",
      "6: 1D to 2D:  [[11]\n",
      " [22]\n",
      " [33]\n",
      " [44]\n",
      " [55]]\n",
      "7: X reshape:  (5, 1)\n",
      "8: X:  (4,)\n",
      "9: Row vec:  (1, 4)\n",
      "10: Col vec:  (4, 1)\n",
      "11: X:  [[11 22]\n",
      " [33 44]\n",
      " [55 66]]\n",
      "12: X shape:  (3, 2)\n",
      "13: 2D to 3D:  [[[11 22]\n",
      "  [33 44]\n",
      "  [55 66]]]\n",
      "14: X reshape :  (1, 3, 2)\n",
      "15: X:  [[[ 0  1]\n",
      "  [ 2  3]]\n",
      "\n",
      " [[ 4  5]\n",
      "  [ 6  7]]\n",
      "\n",
      " [[ 8  9]\n",
      "  [10 11]]\n",
      "\n",
      " [[12 13]\n",
      "  [14 15]]]\n",
      "16: X shape:  (4, 2, 2)\n",
      "17: 3D to 2D using -1:  [[ 0  1]\n",
      " [ 2  3]\n",
      " [ 4  5]\n",
      " [ 6  7]\n",
      " [ 8  9]\n",
      " [10 11]\n",
      " [12 13]\n",
      " [14 15]]\n",
      "18: X reshape using -1:  (8, 2)\n",
      "19: b:  [[ 0  1  2  3]\n",
      " [ 4  5  6  7]\n",
      " [ 8  9 10 11]\n",
      " [12 13 14 15]]\n",
      "20: Ravel:  [ 0  1  2  3  4  5  6  7  8  9 10 11 12 13 14 15]\n",
      "21: Transpose:  [[1 3]\n",
      " [2 4]]\n",
      "22: Inverse:  [[-2.   1. ]\n",
      " [ 1.5 -0.5]]\n"
     ]
    }
   ],
   "source": [
    "#reshape\n",
    "#another one of the most useful function\n",
    "grid = np.arange(1, 10)\n",
    "print(\"1:\", grid)\n",
    "\n",
    "print(\"2: Make sure no. of elements match!: \", grid.size == 3 * 3)\n",
    "print(\"3: New grid: \", grid.reshape((3,3)))  #reshape take a tuple as input\n",
    "\n",
    "#common technique to reshape 1d to 2d\n",
    "X = np.array([11, 22, 33, 44, 55])\n",
    "print(\"4: X: \", X)\n",
    "print(\"5: X shape: \", X.shape)  #you cannot input this to scikit learn since it expects (samples, features)\n",
    "X = X.reshape((X.shape[0], 1))\n",
    "print(\"6: 1D to 2D: \", X)\n",
    "print(\"7: X reshape: \", X.shape)\n",
    "\n",
    "#another way to reshape is to use np.newaxis\n",
    "# 1D array\n",
    "X = np.arange(4)\n",
    "print(\"8: X: \", X.shape)\n",
    "\n",
    "# make it as row vector by inserting an axis along second dimension\n",
    "row_vec = X[np.newaxis, :]\n",
    "print(\"9: Row vec: \", row_vec.shape)\n",
    "\n",
    "# make it as column vector by inserting an axis along second dimension\n",
    "col_vec = X[:, np.newaxis]\n",
    "print(\"10: Col vec: \", col_vec.shape)\n",
    "\n",
    "#common to reshape 2d to 3d for time algorithms, such as LSTM\n",
    "X = np.array([[11, 22],\n",
    "              [33, 44],\n",
    "              [55, 66]])\n",
    "\n",
    "print(\"11: X: \", X)\n",
    "print(\"12: X shape: \", X.shape)  #you cannot input this to LSTM since it expects (samples, time steps, features)\n",
    "\n",
    "#this X can be framed as 1 sample with 3 time steps and 2 features\n",
    "X = X.reshape(1, X.shape[0], 2)\n",
    "print(\"13: 2D to 3D: \", X)\n",
    "print(\"14: X reshape : \", X.shape)\n",
    "\n",
    "# -1 in reshape allow numpy to automatically \n",
    "# determine the correct shape; super useful\n",
    "X = np.array([[[ 0, 1],\n",
    "               [ 2, 3]],\n",
    "              [[ 4, 5],\n",
    "               [ 6, 7]],\n",
    "              [[ 8, 9],\n",
    "               [10, 11]],\n",
    "              [[12, 13],\n",
    "               [14, 15]]])\n",
    "\n",
    "print(\"15: X: \", X)\n",
    "print(\"16: X shape: \", X.shape)\n",
    "\n",
    "X = X.reshape(-1, 2)\n",
    "print(\"17: 3D to 2D using -1: \", X)\n",
    "print(\"18: X reshape using -1: \", X.shape)\n",
    "\n",
    "#reminder!  whatever variable that got reshape, if you change the value of this variable,\n",
    "#the old variable also change\n",
    "      \n",
    "#other functions related to reshape\n",
    "b = np.arange(16).reshape(4, 4)\n",
    "print(\"19: b: \", b)\n",
    "print(\"20: Ravel: \", b.ravel())  #returns a 1-D aray containing all elements\n",
    "\n",
    "#transpose\n",
    "b = np.array([[1,2],[3,4]]) \n",
    "print(\"21: Transpose: \", b.T)  #yes, that's it!\n",
    "print(\"22: Inverse: \", np.linalg.inv(b)) # matrix inverse"
   ]
  },
  {
   "cell_type": "markdown",
   "metadata": {},
   "source": [
    "### ===Task===\n",
    "\n",
    "1. Create a numpy array of size 200 by 4 with random float values between 1 to 5\n",
    "\n",
    "2. Continuing, split the array into two numpy arrays, set the first array <code>X_train</code> to contain 70\\% of the 200 rows, and contains the first 3 columns.  The second array <code>y_train</code> contains 70\\% of the 200 rows but only for the last column.  Similarly, populate <code>X_test</code> and <code>y_test</code> using same corresponding columns but 30\\% rest of the data.\n",
    "\n",
    "3. Print the shape of the <code>X_train</code> and <code>y_train</code>.  The first array should have shape (0.7 * 200, 3); the second array is (0.7 * 200, )\n",
    "\n",
    "4. Assign m = <code>X_train.shape[0]</code>, and n = <code>X_train.shape[1]</code>, where $m$ is number of samples, and $n$ is number of features\n",
    "\n",
    "5. Reshape the <code>y_train</code> so that its shape is (0.7 * 200, 1) \n",
    "\n",
    "6. Randomly select one row of <code>X_train</code> and called it <code>X_i</code>.  Reshape it so that it has shape of <code>(1, n)</code>\n",
    "\n",
    "7. Randomly select 50 contiguous rows from <code>X_train</code> and called it <code>mini_batch_X</code>\n",
    "\n",
    "8. Write a for loop that breaks the <code>X_train</code> into 10 equal pieces without overlap, each containing 10\\% of row data but all columns, and simply print their shape\n",
    "\n",
    "9. Create an np.zero array called <code>theta</code> with shape of <code>(n, )</code>\n",
    "\n",
    "10. Perform a dot product between <code>X_train</code> and <code>theta</code> and assign this value to a variable called <code>yhat</code>\n",
    "\n",
    "11. Create another variable called <code>y</code> with the same shape as <code>yhat</code>, and populate it with random values from 0 to 1.\n",
    "\n",
    "12. Calculate the following \n",
    "    $$ \\frac{\\sum\\limits_{i=1}^{m} (y_i - \\hat{y_i})^2}{m} $$\n",
    "    \n",
    "    For example, if yhat = [1, 2, 3] and y = [2, 3, 4], then the calculation is\n",
    "    \n",
    "    $$ \\frac{sum((1-2)^2 + (2-3)^2 + (3-4)^2)}{m} $$"
   ]
  },
  {
   "cell_type": "markdown",
   "metadata": {},
   "source": [
    "## Concatenation, vstack/hstack"
   ]
  },
  {
   "cell_type": "code",
   "execution_count": 7,
   "metadata": {},
   "outputs": [
    {
     "name": "stdout",
     "output_type": "stream",
     "text": [
      "x:  (2, 3) y:  (1, 3)\n",
      "Row concatenation:  [[1 2 3]\n",
      " [3 4 1]\n",
      " [3 2 1]]\n",
      "X:  (3, 2) Y:  (3, 2)\n",
      "Row concat:  [[11 22]\n",
      " [33 44]\n",
      " [55 66]\n",
      " [11 22]\n",
      " [33 44]\n",
      " [55 66]]\n",
      "Col concat:  [[11 22 11 22]\n",
      " [33 44 33 44]\n",
      " [55 66 55 66]]\n",
      "Concat multiple list:  [[11 22]\n",
      " [33 44]\n",
      " [55 66]\n",
      " [11 22]\n",
      " [33 44]\n",
      " [55 66]\n",
      " [11 22]\n",
      " [33 44]\n",
      " [55 66]]\n",
      "Vstack (row-wise):  [[11 22]\n",
      " [33 44]\n",
      " [55 66]\n",
      " [11 22]\n",
      " [33 44]\n",
      " [55 66]\n",
      " [11 22]\n",
      " [33 44]\n",
      " [55 66]]\n",
      "Hstack (col-wise):  [[11 22 11 22 11 22]\n",
      " [33 44 33 44 33 44]\n",
      " [55 66 55 66 55 66]]\n"
     ]
    }
   ],
   "source": [
    "x = np.array([[1, 2, 3], \n",
    "              [3, 4, 1]])\n",
    "y = np.array([[3, 2, 1]])\n",
    "\n",
    "print(\"x: \", x.shape, \"y: \", y.shape)\n",
    "\n",
    "#all the input arrays must have same number of shape\n",
    "#except in the dimension corresponding to the axis\n",
    "print(\"Row concatenation: \", np.concatenate((x, y)))  #default axis = 0 (i.e., row)\n",
    "\n",
    "#default axis = 1 (i.e., col).  Error because row has different dimension\n",
    "#print(\"Column concatenation: \", np.concatenate((x, y), axis=1))  \n",
    "\n",
    "X = np.array([[11, 22],\n",
    "              [33, 44],\n",
    "              [55, 66]])\n",
    "\n",
    "Y = np.array([[11, 22],\n",
    "              [33, 44],\n",
    "              [55, 66]])\n",
    "\n",
    "print(\"X: \", X.shape, \"Y: \", Y.shape)\n",
    "\n",
    "print(\"Row concat: \", np.concatenate([X, Y]))  #default axis = 0\n",
    "print(\"Col concat: \", np.concatenate([X, Y], axis=1))  #default axis = 1\n",
    "\n",
    "\n",
    "Z = np.array([[11, 22],\n",
    "              [33, 44],\n",
    "              [55, 66]])\n",
    "\n",
    "print(\"Concat multiple list: \", np.concatenate((X, Y, Z)))\n",
    "\n",
    "#Tips: Notice sometimes I use () or [] inside concatenate, \n",
    "#they both work since concatenate expect a tuple or lists of arrays\n",
    "\n",
    "#instead of using axis =0 or 1, we can use hstack or vstack\n",
    "#as name suggests, hstack stack horizontally (axis = 1) and\n",
    "#vstack stack vertically (axis = 0)\n",
    "print(\"Vstack (row-wise): \", np.vstack((X, Y, Z)))\n",
    "print(\"Hstack (col-wise): \", np.hstack((X, Y, Z)))"
   ]
  },
  {
   "cell_type": "markdown",
   "metadata": {},
   "source": [
    "## Splitting"
   ]
  },
  {
   "cell_type": "code",
   "execution_count": 8,
   "metadata": {},
   "outputs": [
    {
     "name": "stdout",
     "output_type": "stream",
     "text": [
      "X:  [ 1  2  3 99 99  3  2  1]\n",
      "Equally split:  [array([1, 2]), array([ 3, 99]), array([99,  3]), array([2, 1])]\n",
      "Split with :3, 3:5, 5: [1 2 3] [99 99] [3 2 1]\n",
      "some_grid:  [[ 0  1  2  3]\n",
      " [ 4  5  6  7]\n",
      " [ 8  9 10 11]\n",
      " [12 13 14 15]]\n",
      "Multi-dimensional split using 2:  [array([[0, 1, 2, 3],\n",
      "       [4, 5, 6, 7]]), array([[ 8,  9, 10, 11],\n",
      "       [12, 13, 14, 15]])]\n",
      "Multi-dimensional split with :1, 1: [array([[0, 1, 2, 3]]), array([[ 4,  5,  6,  7],\n",
      "       [ 8,  9, 10, 11],\n",
      "       [12, 13, 14, 15]])]\n",
      "Multi-dimensional split with :1, 1:2, 2:  [array([[0, 1, 2, 3]]), array([[4, 5, 6, 7]]), array([[ 8,  9, 10, 11],\n",
      "       [12, 13, 14, 15]])]\n",
      "Multi-dimensional split with :1, 1:3, 3:  [array([[0, 1, 2, 3]]), array([[ 4,  5,  6,  7],\n",
      "       [ 8,  9, 10, 11]]), array([[12, 13, 14, 15]])]\n",
      "Multi-dimensional split with :1, 1:2, 2:3, 3:  [array([[0, 1, 2, 3]]), array([[4, 5, 6, 7]]), array([[ 8,  9, 10, 11]]), array([[12, 13, 14, 15]])]\n",
      "Multi-dimensional split with :1, 1: with axis = 1 [array([[ 0],\n",
      "       [ 4],\n",
      "       [ 8],\n",
      "       [12]]), array([[ 1,  2,  3],\n",
      "       [ 5,  6,  7],\n",
      "       [ 9, 10, 11],\n",
      "       [13, 14, 15]])]\n",
      "Left:  [[ 0  1]\n",
      " [ 4  5]\n",
      " [ 8  9]\n",
      " [12 13]]\n",
      "Right:  [[ 2  3]\n",
      " [ 6  7]\n",
      " [10 11]\n",
      " [14 15]]\n",
      "Upper:  [[0 1 2 3]\n",
      " [4 5 6 7]]\n",
      "Lower:  [[ 8  9 10 11]\n",
      " [12 13 14 15]]\n"
     ]
    }
   ],
   "source": [
    "#I personally do not use splitting that much since slicing is\n",
    "#much \"raw\" and granular\n",
    "x = np.array([1, 2, 3, 99, 99, 3, 2, 1])\n",
    "#numpy.split(ary, indices_or_sections, axis=0)\n",
    "\n",
    "print(\"X: \", x)\n",
    "\n",
    "#If indices_or_sections is an integer, N, \n",
    "#the array will be divided into N equal arrays along axis. \n",
    "#If such a split is not possible, an error is raised.\n",
    "x1 = np.split(x, 4) #four equal-size array\n",
    "#x1 = np.split(x, 3) #error\n",
    "print(\"Equally split: \", x1) #ary[:3], ary[3:5], ary[5:]\n",
    "\n",
    "#If indices_or_sections is a 1-D array of sorted integers, \n",
    "#the entries indicate where along axis the array is split.\n",
    "x1, x2, x3 = np.split(x, (3, 5)) #can also accept [3, 5]\n",
    "print(\"Split with :3, 3:5, 5:\", x1, x2, x3) #ary[:3], ary[3:5], ary[5:]\n",
    "\n",
    "some_grid = np.arange(16).reshape((4,4))\n",
    "\n",
    "print(\"some_grid: \", some_grid)\n",
    "\n",
    "#equal split using an integer\n",
    "print(\"Multi-dimensional split using 2: \", np.split(some_grid, 2))\n",
    "\n",
    "#split based on indices\n",
    "print(\"Multi-dimensional split with :1, 1:\", np.split(some_grid, [1]))\n",
    "print(\"Multi-dimensional split with :1, 1:2, 2: \", np.split(some_grid, [1, 2]))\n",
    "print(\"Multi-dimensional split with :1, 1:3, 3: \", np.split(some_grid, [1, 3]))\n",
    "print(\"Multi-dimensional split with :1, 1:2, 2:3, 3: \", np.split(some_grid, [1, 2, 3]))\n",
    "\n",
    "#change axis = 1\n",
    "print(\"Multi-dimensional split with :1, 1: with axis = 1\", np.split(some_grid, [1], axis=1))\n",
    "\n",
    "#use hsplit\n",
    "left, right = np.hsplit(some_grid, [2]) #similar to axis = 1\n",
    "print(\"Left: \", left)\n",
    "print(\"Right: \", right)\n",
    "\n",
    "#use vsplit\n",
    "upper, lower = np.vsplit(some_grid, [2]) #similar to axis = 0\n",
    "print(\"Upper: \", upper)\n",
    "print(\"Lower: \", lower)"
   ]
  },
  {
   "cell_type": "markdown",
   "metadata": {},
   "source": [
    "## Vectorization and Broadcasting"
   ]
  },
  {
   "cell_type": "code",
   "execution_count": 9,
   "metadata": {},
   "outputs": [
    {
     "name": "stdout",
     "output_type": "stream",
     "text": [
      "Not sum [1, 2, 3, 4, 5, 1, 1, -1, 5, 1]\n",
      "Zip + List comprehension:  [2, 3, 2, 9, 6]\n",
      "a + b [2 3 4 9 6]\n",
      "1 - a_numpy [ 0 -1 -2 -3 -4]\n",
      "a_numpy ** 2 [ 1  4  9 16 25]\n",
      "-a_numpy [0.4 0.3 0.2 0.1 0. ]\n",
      "np.add(a, b):  [2 3 2 9 6]\n",
      "np.mod(a, 3):  [1 2 0 1 2]\n",
      "np.min:  1\n",
      "np.argmin:  0\n",
      "np.dot(a, b):  25\n",
      "np.abs(b):  [1 1 1 5 1]\n",
      "Sum of all elements:  15\n",
      "Products of all elements:  120\n",
      "Accumulate sum of all elements:  [ 1  3  6 10 15]\n",
      "Accumulate product of all elements:  [  1   2   6  24 120]\n",
      "Outer products:  [[ 1  2  3  4  5]\n",
      " [ 2  4  6  8 10]\n",
      " [ 3  6  9 12 15]\n",
      " [ 4  8 12 16 20]\n",
      " [ 5 10 15 20 25]]\n"
     ]
    }
   ],
   "source": [
    "import timeit\n",
    "#list way - less efficient\n",
    "a = [1, 2, 3, 4, 5]\n",
    "b = [1, 1, -1, 5, 1]\n",
    "print(\"Not sum\", a + b) #this will result in concatenation!\n",
    "\n",
    "#we can sum using list comprehension with zip\n",
    "print(\"Zip + List comprehension: \",[x + y for x, y in zip(a, b)])\n",
    "#%timeit [x + y for x, y in zip(a, b)]\n",
    "\n",
    "#more efficient way is to use vectorization\n",
    "a_numpy = np.array([1, 2, 3, 4, 5])\n",
    "b_numpy = np.array([1, 1, 1, 5, 1])\n",
    "print(\"a + b\", a_numpy + b_numpy)  #useful for working with big collections of data\n",
    "#%timeit a_numpy + b_numpy\n",
    "\n",
    "#np array also can be vectorized by a scalar value\n",
    "print(\"1 - a_numpy\", 1 - a_numpy)\n",
    "print(\"a_numpy ** 2\", a_numpy ** 2)\n",
    "print(\"-a_numpy\", (-a_numpy + 5) / 10)  #imagine apply f(x) across all values!\n",
    "\n",
    "#Tips: when writing loops in python, also think whether you can vectorized!\n",
    "\n",
    "#you can also use other wrappers like\n",
    "#np.add, np.subtract, np.negatve, np.multiply, np.divide\n",
    "#np.floor_divide, np.power, np.mod, np.mean, np.var\n",
    "#np.sin, np.cos, np.tan, np.arcsin, np.arccos, np.arctan\n",
    "#np.exp - base e, np.exp2, np.power\n",
    "#np.log - ln x, np.log2, np.log10\n",
    "\n",
    "print(\"np.add(a, b): \", np.add(a, b))\n",
    "print(\"np.mod(a, 3): \", np.mod(a, 3))\n",
    "#imagine this [i for i in a if a % 3 == 0]\n",
    "print(\"np.min: \", np.min(a)) #return value\n",
    "print(\"np.argmin: \", np.argmin(a)) #returns index\n",
    "\n",
    "#very common use\n",
    "print(\"np.dot(a, b): \", np.dot(a, b))\n",
    "\n",
    "#useful one is np.abs\n",
    "print(\"np.abs(b): \", np.abs(b))\n",
    "\n",
    "#aggregates\n",
    "x = np.arange(1, 6)\n",
    "print(\"Sum of all elements: \", np.add.reduce(x))\n",
    "print(\"Products of all elements: \", np.multiply.reduce(x))\n",
    "print(\"Accumulate sum of all elements: \", np.add.accumulate(x))\n",
    "print(\"Accumulate product of all elements: \", np.multiply.accumulate(x))\n",
    "print(\"Outer products: \", np.multiply.outer(x, x))"
   ]
  },
  {
   "cell_type": "markdown",
   "metadata": {},
   "source": [
    "## Broadcasting"
   ]
  },
  {
   "cell_type": "markdown",
   "metadata": {},
   "source": [
    "Broadcasting is actually a built-in vectorization technique when shape is different\n",
    "\n",
    "Here are the broadcasting rules:\n",
    "\n",
    "- Rule 1: If the two arrays differ in their number of dimensions, the shape of the one with fewer dimensions is padded with ones on its leading (left) side.\n",
    "- Rule 2: If the shape of the two arrays does not match in any dimension, the array with shape equal to 1 in that dimension is stretched to match the other shape\n",
    "- Rule 3: If in any dimension the sizes disagree and neither is equal to 1, an error is raised.\n",
    "\n",
    "A simple way to think about broadcasting is as follows:\n",
    "\n",
    "<code>a = 5\n",
    "b = np.array([1, 1, 1])  #shape with (3, )\n",
    "a + b = [6, 6, 6]</code>\n",
    "\n",
    "Actually, what broadcasting does is to stretch a to [5, 5, 5] to match the dimension of b.  As you can see, the shape of [5, 5, 5] has shape with (3, ) as well.  BTW, this duplication does not actually take place, but it is a useful mental model to think about broadcasting"
   ]
  },
  {
   "cell_type": "code",
   "execution_count": 10,
   "metadata": {},
   "outputs": [
    {
     "name": "stdout",
     "output_type": "stream",
     "text": [
      "====== Example 1 ======\n",
      "A:  [[1. 1. 1.]\n",
      " [1. 1. 1.]]  shape:  (2, 3)\n",
      "B:  [0 1 2]  shape:  (3,)\n",
      "A + B:  [[1. 2. 3.]\n",
      " [1. 2. 3.]]\n",
      "A + B shape:  (2, 3)\n",
      "====== Example 2 ======\n",
      "A:  [[0]\n",
      " [1]\n",
      " [2]]  shape:  (3, 1)\n",
      "B:  [0 1 2]  shape:  (3,)\n",
      "A + B:  [[0 1 2]\n",
      " [1 2 3]\n",
      " [2 3 4]]\n",
      "A + B shape:  (3, 3)\n",
      "====== Example 3 ======\n",
      "A:  [[1. 1.]\n",
      " [1. 1.]\n",
      " [1. 1.]]  shape:  (3, 2)\n",
      "B:  [0 1 2]  shape:  (3,)\n",
      "B new:  [[0]\n",
      " [1]\n",
      " [2]]\n",
      "B newshape:  (3, 1)\n",
      "A + B:  [[1. 1.]\n",
      " [2. 2.]\n",
      " [3. 3.]]\n",
      "A + B shape:  (3, 2)\n",
      "====== Example 4 ======\n",
      "A:  [1 2 3 4 5]  shape:  (5,)\n",
      "B:  [5 4 3]  shape:  (3,)\n",
      "A:  [[1]\n",
      " [2]\n",
      " [3]\n",
      " [4]\n",
      " [5]]  shape:  (5, 1)\n",
      "B:  [5 4 3]  shape:  (3,)\n",
      "A + B:  [[ 6  5  4]\n",
      " [ 7  6  5]\n",
      " [ 8  7  6]\n",
      " [ 9  8  7]\n",
      " [10  9  8]]\n",
      "A + B shape:  (5, 3)\n"
     ]
    }
   ],
   "source": [
    "#let's take one example\n",
    "print(\"====== Example 1 ======\")\n",
    "a = np.ones((2, 3))\n",
    "print(\"A: \", a, \" shape: \", a.shape)\n",
    "b = np.arange(3)\n",
    "print(\"B: \", b, \" shape: \", b.shape)\n",
    "\n",
    "'''\n",
    "what is a + b?\n",
    "First, rule 1 applies since a and b has different dimension\n",
    "the smaller one is padded with 1 from left\n",
    "resulting in B having shape of (1, 3) and A still has shape of (2, 3)\n",
    "\n",
    "Now, since dimension one does not match, 1 and 2, thus the 1 will be \n",
    "stretched to become 2\n",
    "resulting in B having shape of (2, 3) and A still has shape of (2, 3)\n",
    "\n",
    "And thus the result is of shape (2, 3)\n",
    "'''\n",
    "\n",
    "print(\"A + B: \", a + b)\n",
    "print(\"A + B shape: \", (a+b).shape)\n",
    "\n",
    "#another example\n",
    "print(\"====== Example 2 ======\")\n",
    "a = np.arange(3).reshape((3,1))\n",
    "b = np.arange(3)\n",
    "print(\"A: \", a, \" shape: \", a.shape)\n",
    "print(\"B: \", b, \" shape: \", b.shape)\n",
    "\n",
    "'''\n",
    "B has fewer dimension, Rule 1 applies thus shape from (3, ) becomes (1, 3)\n",
    "Now A has shape of (3, 1) and B has shape of (1, 3)\n",
    "Rule 2 applies, stretching any one of match the other, thus\n",
    "A has shape of (3, 3) and B has shape of (3, 3)\n",
    "'''\n",
    "\n",
    "print(\"A + B: \", a + b)\n",
    "print(\"A + B shape: \", (a+b).shape)\n",
    "\n",
    "#another example\n",
    "print(\"====== Example 3 ======\")\n",
    "a = np.ones((3, 2))\n",
    "b = np.arange(3)\n",
    "print(\"A: \", a, \" shape: \", a.shape)\n",
    "print(\"B: \", b, \" shape: \", b.shape)\n",
    "\n",
    "'''\n",
    "By Rule 1, B has fewer dimension, thus becomes (1, 3) while A still has (3, 2)\n",
    "By Rule 2, then B becomes (3, 3) while A is still (3, 2)\n",
    "Since no more rule can be applied, this results in an error\n",
    "'''\n",
    "#error\n",
    "#print(\"A + B: \", a + b)\n",
    "#print(\"A + B shape: \", (a+b).shape)\n",
    "\n",
    "#this is where reshaping comes to the rescue\n",
    "#perhaps we can reshape B to (3, 1)\n",
    "b = b.reshape(b.shape[0], 1)\n",
    "print(\"B new: \", b)\n",
    "print(\"B newshape: \", b.shape)\n",
    "print(\"A + B: \", a + b)\n",
    "print(\"A + B shape: \", (a+b).shape)\n",
    "\n",
    "#another example - broadcast + reshape\n",
    "print(\"====== Example 4 ======\")\n",
    "a = np.array([1, 2, 3, 4, 5])\n",
    "b = np.array([5, 4, 3])\n",
    "print(\"A: \", a, \" shape: \", a.shape)\n",
    "print(\"B: \", b, \" shape: \", b.shape)\n",
    "\n",
    "'''\n",
    "Rule 1 cannot be applied since they have same dimension\n",
    "Rule 2 cannot be applied as well since there are no ones\n",
    "'''\n",
    "#errors\n",
    "# a + b\n",
    "#in this case, we can add 1 to a or b\n",
    "a = a[:, np.newaxis] \n",
    "print(\"A: \", a, \" shape: \", a.shape)\n",
    "print(\"B: \", b, \" shape: \", b.shape)\n",
    "print(\"A + B: \", a + b)\n",
    "\n",
    "#applying newaxis to a becomes (5, 3), if b becomes (3, 5)\n",
    "print(\"A + B shape: \", (a+b).shape)"
   ]
  },
  {
   "cell_type": "markdown",
   "metadata": {},
   "source": [
    "### ===Task===\n",
    "\n",
    "\n",
    "1. Given a function $y = 0.5x + 1$\n",
    "   - generate 1000 points from 1 to 10 and called it X\n",
    "   - calculate corresponding y\n",
    "\n",
    "2. From the above <code>X_train</code> from previous task, using concatenation, add a column of 1s along axis=1\n",
    "\n",
    "3. Create a <code>theta</code> of shape (n, 4)\n",
    "\n",
    "4. Perform a dot product between X_train and theta, and assign this value to a variable called <code>hot_encoded_yhat</code>\n",
    "\n",
    "5. Continuing, using broadcasting and vectorization, for each value (here I use example as value1) in <code>hot_encoded_yhat</code>, perform the following calculations.\n",
    "\n",
    "$$ \\frac{\\exp(value1)}{\\exp(value1)+\\exp(value2)+\\exp(value3)+\\exp(value4)} $$\n",
    "\n",
    "For example, if my first row is [0.3, 0.5, 1.2, 3.1], then the first value 0.3 will change to\n",
    "\n",
    "exp(0.3) / (exp(0.3) + exp(0.5) + exp(1.2) + exp(3.1))\n",
    "\n",
    "The second value 0.5 will become\n",
    "\n",
    "exp(0.5) / (exp(0.3) + exp(0.5) + exp(1.2) + exp(3.1))\n",
    "\n",
    "6. Create a variable called <code>yhat</code> which is equal to the <code>np.argmax</code> of <code>hot_encoded_yhat</code> along axis=1.  That is, <code>yhat</code> has the shape of <code>(X.shape[0], )</code>.  For example, if the first row of <code>hot_encoded_yhat</code> is [0.1, 0.2, 0.3, 0.4], since the fourth value is the biggest, the value will be its index which is 3.\n",
    "\n",
    "7. Create a variable called <code>y</code>, containing shape of <code>(X.shape[0], )</code> but with random int values from [0, 1, 2, 3]\n",
    "\n",
    "8. Convert <code>y</code> into <code>hot_encoded_y</code> matrix of shape <code>(X_train.shape[0], 4)</code>, where the column will be one according to its value, and other columns will be zero.  For example, if the first row is 1, then it will become 0 1 0 0.  If the second row is 2, then it will become 0 0 1 0\n",
    "\n",
    "9. Assign a variable <code>n_classses</code> equal to the number of unique values in <code>y</code>"
   ]
  },
  {
   "cell_type": "markdown",
   "metadata": {},
   "source": [
    "## Masking"
   ]
  },
  {
   "cell_type": "markdown",
   "metadata": {},
   "source": [
    "Instead of writing if/while, we can use Boolean masks to elegantly extract desired values from numpy arrays.  You will love it!!"
   ]
  },
  {
   "cell_type": "code",
   "execution_count": 11,
   "metadata": {},
   "outputs": [
    {
     "name": "stdout",
     "output_type": "stream",
     "text": [
      "[[5 0 3 3]\n",
      " [7 9 3 5]\n",
      " [2 4 7 6]]\n",
      "x<4:  [[False  True  True  True]\n",
      " [False False  True False]\n",
      " [ True False False False]]\n",
      "All values less than 4:  [0 3 3 3 2]\n",
      "All values divisible by 3:  [0 3 3 9 3 6]\n",
      "All values that are nan:  []\n",
      "Argwhere:  [[0 1]\n",
      " [0 2]\n",
      " [0 3]\n",
      " [1 2]\n",
      " [2 0]]\n",
      "5\n",
      "5\n",
      "Any value ==0?  True\n",
      "Any value ==0 along axis 1? [ True False False]\n",
      "Any value ==0 along axis 0? [False  True False False]\n",
      "False\n",
      "False\n",
      "bin 42:  0b101010\n",
      "bin 59:  0b111011\n",
      "bin 42 & 59:  0b101010\n",
      "bin 42 and 59:  0b111011\n",
      "True and 'True':  True\n"
     ]
    }
   ],
   "source": [
    "rng = np.random.RandomState(0)  #for reproducibility\n",
    "x = rng.randint(10, size=(3, 4))\n",
    "print(x)\n",
    "\n",
    "#a mask is simply a vector of truth values\n",
    "print(\"x<4: \", x<4)\n",
    "\n",
    "#extract all values less than 4\n",
    "print(\"All values less than 4: \", x[x<4])\n",
    "print(\"All values divisible by 3: \", x[x%3==0])\n",
    "print(\"All values that are nan: \", x[np.isnan(x)])\n",
    "\n",
    "#show the position\n",
    "print(\"Argwhere: \", np.argwhere(x<4))\n",
    "\n",
    "#count how many values in x less than 4\n",
    "print(np.sum(x<4))  #since True=1 and False=0, sum can be used\n",
    "print(np.count_nonzero(x<4))  #another way\n",
    "\n",
    "#count IF ANY value is == 0\n",
    "print(\"Any value ==0? \", np.any(x==0))\n",
    "print(\"Any value ==0 along axis 1?\", np.any(x==0, axis=1))\n",
    "print(\"Any value ==0 along axis 0?\", np.any(x==0, axis=0))\n",
    "\n",
    "#count IF ALL value is > 0\n",
    "print(np.all(x>0))\n",
    "\n",
    "#definitely multiple conditions can be done\n",
    "print(np.any((x==0) & (x==2))) \n",
    "\n",
    "#and vs. &\n",
    "print(\"bin 42: \", bin(42))\n",
    "print(\"bin 59: \", bin(59))\n",
    "print(\"bin 42 & 59: \", bin(42 & 59)) #& is a bitwise comparison\n",
    "print(\"bin 42 and 59: \", bin(42 and 59))#and is a logical operator\n",
    "\n",
    "#and is short-circuiting but not &\n",
    "True or print('hello')  #second expression will not be evaluated\n",
    "False and print('hello') #similar\n",
    "\n",
    "#True | print('hello') #raise error, since print('hello') returns None\n",
    "#False & print('hello') #raise error, since print('hello') returns None\n",
    "\n",
    "#& only make sense for integers or True/False comparison\n",
    "print(\"True and 'True': \", True and \"True\")\n",
    "# print(\"True & 'True': \", True & \"True\") #raise error\n",
    "\n",
    "##Bottom line, since only True, False, and integers can be treated bitwise\n",
    "##it only make sense to use & | for integers or True False\n",
    "##In addition,  if you are dealing with vectors of truth values, or \n",
    "##math manipulation of integers, or arrays then use & |, or sometimes with numpy\n",
    "##similar to print(np.any((x==0) & (x==2))) since they return a\n",
    "##vector of truth values --> array([False, False, True...])"
   ]
  },
  {
   "cell_type": "markdown",
   "metadata": {},
   "source": [
    "## Fancy indexing"
   ]
  },
  {
   "cell_type": "markdown",
   "metadata": {},
   "source": [
    "Instead of pass individual indices, we can pass array of indices all at once, and it will return a list of numbers"
   ]
  },
  {
   "cell_type": "code",
   "execution_count": 12,
   "metadata": {},
   "outputs": [
    {
     "name": "stdout",
     "output_type": "stream",
     "text": [
      "[70  2 76 91 21 75  7 77 72 75]\n"
     ]
    }
   ],
   "source": [
    "import random\n",
    "a = np.random.randint(100, size = 10)\n",
    "print(a)"
   ]
  },
  {
   "cell_type": "code",
   "execution_count": 13,
   "metadata": {},
   "outputs": [
    {
     "name": "stdout",
     "output_type": "stream",
     "text": [
      "1: Normal indices:  70 91 75\n",
      "2: Fancy indices:  [70 91 75]\n",
      "3: Shape follow ix shape:  [[91 77]\n",
      " [21 75]]\n",
      "4: X 2D:  [[ 0  1  2  3]\n",
      " [ 4  5  6  7]\n",
      " [ 8  9 10 11]]\n",
      "5: X[row_ix, col_ix]:  [ 2  5 11]\n",
      "6: X[2,  [2, 0, 1]]:  [10  8  9]\n",
      "7: X[1:, [2, 0, 1]]:  [[ 6  4  5]\n",
      " [10  8  9]]\n",
      "8: Slicing + fancy + masking:  [ 6  4 10  8]\n",
      "9: More readable way:  [ 6  4 10  8]\n",
      "10: X 3D:  [[[ 0  1  2]\n",
      "  [ 3  4  5]\n",
      "  [ 6  7  8]\n",
      "  [ 9 10 11]]\n",
      "\n",
      " [[12 13 14]\n",
      "  [15 16 17]\n",
      "  [18 19 20]\n",
      "  [21 22 23]]\n",
      "\n",
      " [[24 25 26]\n",
      "  [27 28 29]\n",
      "  [30 31 32]\n",
      "  [33 34 35]]]\n",
      "11: X 3D  X[1, [1, 0, 1], [2, 1, 1]]:  [17 13 16]\n",
      "12: X 3D  X[1:, [1, 0, 1], [2, 1, 1]]:  [[17 13 16]\n",
      " [29 25 28]]\n",
      "13: X 3D  X[1:, [1, 0, 1]]:  [[[15 16 17]\n",
      "  [12 13 14]\n",
      "  [15 16 17]]\n",
      "\n",
      " [[27 28 29]\n",
      "  [24 25 26]\n",
      "  [27 28 29]]]\n",
      "14: X 3D  X[[1,0,1], [1, 0, 1],[1,0,1]]:  [16  0 16]\n",
      "15: X 3D  X[[1,0,1], [1, 0, 1],[1,0,1]]:  [16  0 16]\n",
      "16: All ix values got change:  [ 0 99 99  3 99  5  6  7 99  9]\n",
      "17: Where did the 4 go?:  [ 6 99 99  3 99  5  6  7 99  9]\n",
      "18: Why position 3 and 4 remains 1?:  [0. 0. 1. 1. 1. 0. 0. 0. 0. 0.]\n",
      "19: X:  [0. 0. 1. 2. 3. 0. 0. 0. 0. 0.]\n"
     ]
    }
   ],
   "source": [
    "print(\"1: Normal indices: \", a[0], a[3], a[5])\n",
    "print(\"2: Fancy indices: \", a[[0, 3, 5]])  #remember that the argument is a list\n",
    "\n",
    "#error!\n",
    "#print(\"Common mistake: \", a[0, 3, 5])\n",
    "\n",
    "'''\n",
    "When using fancy indexing, the shape of the \n",
    "result reflects the shape of the index arrays \n",
    "rather than the shape of the array being indexed:\n",
    "'''\n",
    "ix = np.array([[3, 7],\n",
    "               [4, 5]])\n",
    "print(\"3: Shape follow ix shape: \", a[ix])\n",
    "\n",
    "#also works in multiple dimensions\n",
    "X = np.arange(12).reshape((3,4))\n",
    "print(\"4: X 2D: \", X)\n",
    "row_ix = np.array([0, 1, 2])\n",
    "col_ix = np.array([2, 1, 3])\n",
    "print(\"5: X[row_ix, col_ix]: \", X[row_ix, col_ix]) #[0, 2], [1, 1], [2, 3]\n",
    "\n",
    "#combined indexing with indexing/slicing\n",
    "print(\"6: X[2,  [2, 0, 1]]: \", X[2, [2, 0, 1]])\n",
    "print(\"7: X[1:, [2, 0, 1]]: \", X[1:, [2, 0, 1]])\n",
    "\n",
    "#combined indexing with masking\n",
    "print(\"8: Slicing + fancy + masking: \", X[1:, [2, 0, 1]][X[1:, [2, 0, 1]]%2==0])\n",
    "\n",
    "#if you do not like above, here probably more readable\n",
    "Y = X[1:, [2, 0, 1]]\n",
    "print(\"9: More readable way: \", Y[Y%2==0])\n",
    "\n",
    "#3d\n",
    "X = np.arange(36).reshape((3, 4, 3))\n",
    "print(\"10: X 3D: \", X)\n",
    "print(\"11: X 3D  X[1, [1, 0, 1], [2, 1, 1]]: \", X[1, [1, 0, 1], [2, 1, 1]])\n",
    "print(\"12: X 3D  X[1:, [1, 0, 1], [2, 1, 1]]: \", X[1:, [1, 0, 1], [2, 1, 1]])\n",
    "print(\"13: X 3D  X[1:, [1, 0, 1]]: \", X[1:, [1, 0, 1]])\n",
    "print(\"14: X 3D  X[[1,0,1], [1, 0, 1],[1,0,1]]: \", X[[1,0,1], [1, 0, 1],[1,0,1]])\n",
    "print(\"15: X 3D  X[[1,0,1], [1, 0, 1],[1,0,1]]: \", X[[1,0,1], [1, 0, 1],[1,0,1]])\n",
    "\n",
    "#modifying values using fancy indexing\n",
    "x = np.arange(10)\n",
    "ix = np.array([2, 1, 8, 4])\n",
    "x[ix] = 99\n",
    "print(\"16: All ix values got change: \", x)\n",
    "\n",
    "#do not repeat indices!\n",
    "x[[0, 0]] = 4, 6\n",
    "print(\"17: Where did the 4 go?: \", x) #x[0] =4 got overriden by x[0] = 6\n",
    "\n",
    "#fancy indexing does not work well with repeation\n",
    "x = np.zeros(10)\n",
    "ix = [2, 3, 3, 4, 4, 4]\n",
    "x[ix] += 1\n",
    "print(\"18: Why position 3 and 4 remains 1?: \", x)\n",
    "#this is because x[i] += i is shorthand for x[i]=x[i]+1, thus\n",
    "#it is simply x[4] = 0 assigning for 3 times\n",
    "\n",
    "#similar operations can be done using np.add.at\n",
    "x = np.zeros(10)\n",
    "np.add.at(x, ix, 1)\n",
    "print(\"19: X: \", x)"
   ]
  },
  {
   "cell_type": "markdown",
   "metadata": {},
   "source": [
    "### ===Task===\n",
    "\n",
    "1. From the above <code>yhat</code>, take only the values that are greater than 1 using masking.\n",
    "\n",
    "2. Take the above variables <code>yhat</code> and <code>y</code>, sum up the counts when their corresponding value are the same.  Then divide this sum by $m$.  Called this variable <code>accuracy</code>  Hint: (use masking!)\n",
    "\n",
    "3. Given <code>X_train</code> from above, randomly select three rows of data using fancy indexing.\n",
    "\n",
    "4. Grab the data from <code>data = np.genfromtxt('resources/perceptron.csv', delimiter=',', skip_header=1)</code>\n",
    "    - set X to be all columns except last\n",
    "    - set y to be the last column\n",
    "    - print the shape of X where its corresponding y is 0\n",
    "    - print the shape of X where its corresponding y is 1\n",
    "    \n",
    "5. Grab the data from <code>iris = genfromtxt('resources/iris.csv', delimiter=',', encoding=\"utf-8\", dtype=None)</code>\n",
    "    - set iris_without_headers to all rows except the first row\n",
    "    - set sepal_length to second column of iris_without_headers\n",
    "    - set petal_length to fourth column of iris_without_headers\n",
    "    - print the shape of iris_without_headers where sepal_length is less than 5, and petal_length is greater than 1.5"
   ]
  },
  {
   "cell_type": "markdown",
   "metadata": {},
   "source": [
    "## Other very useful stuffs about numpy"
   ]
  },
  {
   "cell_type": "code",
   "execution_count": 14,
   "metadata": {},
   "outputs": [
    {
     "data": {
      "text/plain": [
       "array([16, 11, 76, 20,  9, 67, 42, 94, 27, 38, 88, 14, 80, 89, 45, 68, 23,\n",
       "       66, 17, 47, 97, 50, 61, 87, 84, 51, 18, 32, 25,  8, 96, 30, 81, 56,\n",
       "       15, 12, 95, 60,  4, 49, 29, 33, 65, 98, 41, 93, 21, 10, 70, 58, 57,\n",
       "       46, 48, 55, 74, 22, 28, 91,  7, 44, 78,  2,  3, 43, 54, 79, 72, 35,\n",
       "       92, 63, 73, 71, 31, 62, 83, 53, 99, 39, 19,  6,  0, 86, 90, 69, 77,\n",
       "       36, 52, 24, 75, 59, 64, 34, 40, 26, 85,  5,  1, 82, 13, 37])"
      ]
     },
     "execution_count": 14,
     "metadata": {},
     "output_type": "execute_result"
    }
   ],
   "source": [
    "#sorting\n",
    "'''\n",
    "Although Python has built-in sort and sorted functions to work \n",
    "with lists, we won't discuss them here because NumPy's np.sort \n",
    "function turns out to be much more efficient and useful for our\n",
    "purposes. By default np.sort uses an [NlogN]O[Nlog⁡N], quicksort \n",
    "algorithm, though mergesort and heapsort are also available. \n",
    "For most applications, the default quicksort is more than sufficient.\n",
    "'''\n",
    "\n",
    "some_list = list(range(100))\n",
    "random.shuffle(some_list)\n",
    "some_numpy = np.arange(100)\n",
    "np.random.shuffle(some_numpy)\n",
    "\n",
    "#in microseconds\n",
    "#%timeit some_list.sort()\n",
    "\n",
    "#in nanoseconds\n",
    "#%timeit some_numpy.sort() #can also use np.sort(some_numpy)\n",
    "\n",
    "#return the indices of the sorted elements\n",
    "some_numpy.argsort()"
   ]
  },
  {
   "cell_type": "code",
   "execution_count": 15,
   "metadata": {},
   "outputs": [
    {
     "name": "stdout",
     "output_type": "stream",
     "text": [
      "0.5 falls to bin:  [1]\n",
      "-0.5, 1, 3.5 falls to:  [0 2 4]\n"
     ]
    }
   ],
   "source": [
    "#numpy.digitize\n",
    "#in machine learning, it is useful to discretize the position\n",
    "\n",
    "# Input array\n",
    "x = np.array([0.5])\n",
    "\n",
    "# Bins - 5 bins in total\n",
    "#bin1 < 0\n",
    "#bin2 0 <= x < 1\n",
    "#bin3 1 <= x < 2\n",
    "#bin4 2 <= x < 3\n",
    "#bin5 4 <= x\n",
    "bins = np.array([0,1,2,3])\n",
    "\n",
    "# Digitize function - 0.5 belong to the bin 0<= 0.5 <1 - therefore returned index 1\n",
    "print(\"0.5 falls to bin: \", np.digitize(x,bins))\n",
    "# array([1], dtype=int64)\n",
    "\n",
    "# The input array can contain several inputs\n",
    "x = np.array([-0.5,1,3.5])\n",
    "\n",
    "# Digitize function\n",
    "print(\"-0.5, 1, 3.5 falls to: \", np.digitize(x,bins))\n",
    "# array([0, 2, 4], dtype=int64)"
   ]
  },
  {
   "cell_type": "code",
   "execution_count": 16,
   "metadata": {},
   "outputs": [
    {
     "name": "stdout",
     "output_type": "stream",
     "text": [
      "Repeat 3 5 times:  [3 3 3 3 3]\n",
      "Repeat '2015' 5 times:  ['2015' '2015' '2015' '2015' '2015']\n"
     ]
    }
   ],
   "source": [
    "#numpy repeat\n",
    "#this is quite trivial, but I found it quite useful\n",
    "#compare to np.zeros\n",
    "print(\"Repeat 3 5 times: \", np.repeat(3, 5))\n",
    "print(\"Repeat '2015' 5 times: \", np.repeat(\"2015\", 5))"
   ]
  },
  {
   "cell_type": "code",
   "execution_count": 17,
   "metadata": {},
   "outputs": [
    {
     "name": "stdout",
     "output_type": "stream",
     "text": [
      "Binomial:  [0 0 0 0 0 1 1 0 0 1 1 0 0 1 0 1 1 1 0 0 1 1 0 0 0 0 1 1 0 1 1 0 1 1 1 0 0\n",
      " 0 1 0 1 0 0 1 0 1 1 1 0 0 1 1 1 1 0 0 1 1 1 1 1 1 0 0 1 1 1 1 0 1 0 0 0 1\n",
      " 0 1 1 0 0 0 0 1 0 1 1 1 1 1 0 1 1 0 0 1 0 1 0 1 0 1]\n",
      "Probability of getting 1:  0.47\n",
      "Probability of getting 1:  0.53\n"
     ]
    }
   ],
   "source": [
    "#numpy.random.binomial\n",
    "#we can simulate a wide variety of statistical distributions \n",
    "#by using numpy such as normal, beta, binomial, uniform, gamma, or \n",
    "#poisson distributions.\n",
    "\n",
    "#for example, let's simulate a coin flip 10 times with p=0.5\n",
    "#since coin flip is a binomial distribution\n",
    "n, p, trials = 1, .5, 100  #how many choice, 0 and 1, probability of each trial, output shape\n",
    "flips = np.random.binomial(1, 0.5, trials)\n",
    "print(\"Binomial: \", flips)\n",
    "print(\"Probability of getting 1: \", np.sum(flips == 0)/trials)\n",
    "print(\"Probability of getting 1: \", np.sum(flips == 1)/trials)"
   ]
  },
  {
   "cell_type": "code",
   "execution_count": 18,
   "metadata": {},
   "outputs": [
    {
     "name": "stdout",
     "output_type": "stream",
     "text": [
      "Mapped markers:  [0. 0. 0. 0. 0. 0.]\n",
      "Index with smallest difference:  0\n",
      "Index with smallest difference:  3\n",
      "Index with smallest difference:  4\n",
      "Mapped markers:  [1. 0. 0. 2. 2. 0.]\n",
      "Slope, intercept:  0.012568181538347916 -151.75348141399013\n",
      "[0 3 4]\n",
      "Mapped_markers using polyfit and val:  [1. 0. 0. 2. 2. 0.]\n"
     ]
    }
   ],
   "source": [
    "##numpy polyfit\n",
    "#let's say I have four set of data\n",
    "eeg = np.array([[2, 4, 3], [3, 4, 5], [1, 2, 7], [3, 8, 6], [2,5,1], [5,8,4]])\n",
    "eeg_ts = np.array([12089, 12130, 12239, 12345, 12367, 12470])\n",
    "marker = np.array([1, 2, 2])  #1 for cat, #2 for dog\n",
    "marker_ts = np.array([12072, 12321, 12389])\n",
    "\n",
    "mapped_markers = np.zeros(len(eeg_ts)) #\n",
    "print(\"Mapped markers: \", mapped_markers)\n",
    "\n",
    "#how do I map the markers to the correct eeg?\n",
    "#first easy way is to find the smallest difference\n",
    "#we can use argmin to find the position like this\n",
    "for each_marker_index, each_marker_time in enumerate(marker_ts):\n",
    "    ix = np.argmin(np.abs(each_marker_time - eeg_ts))\n",
    "    print(\"Index with smallest difference: \", ix)\n",
    "    mapped_markers[ix] = marker[each_marker_index]\n",
    "\n",
    "print(\"Mapped markers: \", mapped_markers)\n",
    "\n",
    "#a more elegant way is to use polyfit, which applies \n",
    "#linear regression to find the best fit\n",
    "y_axis = list(range(len(eeg_ts)))  #simply index\n",
    "coeff = np.polyfit(eeg_ts, y_axis, 1)  #deg = 1 means linear\n",
    "slope, intercept = coeff\n",
    "print(\"Slope, intercept: \", slope, intercept)\n",
    "#or y = 0.0126x - 151.753 where y is indices, and x is eeg_ts\n",
    "\n",
    "#using similar model, we can use to predict the indices, given marker_ts\n",
    "#we use polyval\n",
    "marker_ind = np.rint(np.polyval(coeff, marker_ts)).astype(int)\n",
    "print(marker_ind)\n",
    "\n",
    "#use fancy indexing to create mapped_markers\n",
    "mapped_markers = np.zeros(len(eeg_ts))  #clear above results\n",
    "mapped_markers[marker_ind] = marker\n",
    "print(\"Mapped_markers using polyfit and val: \", mapped_markers)"
   ]
  },
  {
   "cell_type": "code",
   "execution_count": 19,
   "metadata": {},
   "outputs": [
    {
     "name": "stdout",
     "output_type": "stream",
     "text": [
      "A shape:  (1, 2, 1)\n",
      "A:  [[[1]\n",
      "  [1]]]\n",
      "New a shape:  (2, 1)\n",
      "New a:  [[1]\n",
      " [1]]\n",
      "Bare bone shape:  (2,)\n",
      "Bare bone a:  [1 1]\n"
     ]
    },
    {
     "data": {
      "text/plain": [
       "<matplotlib.image.AxesImage at 0x12242a3d0>"
      ]
     },
     "execution_count": 19,
     "metadata": {},
     "output_type": "execute_result"
    },
    {
     "data": {
      "image/png": "[encoded data removed]",
      "text/plain": [
       "<Figure size 432x288 with 1 Axes>"
      ]
     },
     "metadata": {
      "needs_background": "light"
     },
     "output_type": "display_data"
    }
   ],
   "source": [
    "#numpy.squeeze\n",
    "#sometimes it is useful to removes single-dimensional entries\n",
    "#from the shape of an array.  The argument axis\n",
    "#specifies the axis we want to squeeze out.  If the shape \n",
    "#of the selected axis is greater than 1, ValueError will be raised\n",
    "\n",
    "a = np.array([[[1], [1]]])\n",
    "print(\"A shape: \", a.shape)\n",
    "print(\"A: \", a)\n",
    "new_a = np.squeeze(a, axis=0)\n",
    "print(\"New a shape: \", new_a.shape)\n",
    "print(\"New a: \", new_a)\n",
    "\n",
    "#however, you cannot squeeze out axis 1 since the number is 2\n",
    "#new_a2 = np.squeeze(a, axis=1)\n",
    "\n",
    "#you can squeeze all 1 dimension away by simply performing squeeze\n",
    "bare_bone_a = np.squeeze(a)\n",
    "print(\"Bare bone shape: \", bare_bone_a.shape)\n",
    "print(\"Bare bone a: \", bare_bone_a)\n",
    "\n",
    "#A useful case study\n",
    "import torch\n",
    "import numpy as np\n",
    "from torchvision import datasets\n",
    "import torchvision.transforms as transforms\n",
    "import matplotlib.pyplot as plt\n",
    "\n",
    "# convert data to torch.FloatTensor\n",
    "transform = transforms.ToTensor()\n",
    "\n",
    "# load the mnist datasets\n",
    "data = datasets.MNIST(root='data',download=True, transform=transform)\n",
    "\n",
    "# create an iterable over the dataset\n",
    "loader = torch.utils.data.DataLoader(data, batch_size=20)\n",
    "\n",
    "# iterate over the iterator one element at a time\n",
    "dataiter = iter(loader)\n",
    "images, labels = dataiter.next()\n",
    "\n",
    "# batch size 20 - number of channels 1\n",
    "# height of input planes in pixels 28 , and W width in pixels 28 .\n",
    "images.shape\n",
    "#torch.Size([20, 1, 28, 28])\n",
    "\n",
    "# select first element of the batch\n",
    "images[0].shape\n",
    "#torch.Size([1, 28, 28])\n",
    "\n",
    "#plt.imshow(images[0])\n",
    "#TypeError: Invalid dimensions for image data\n",
    "\n",
    "# eliminate the first axis \n",
    "np.squeeze(images[0]).shape\n",
    "#torch.Size([28, 28])\n",
    "\n",
    "plt.imshow(np.squeeze(images[0]))"
   ]
  },
  {
   "cell_type": "code",
   "execution_count": 20,
   "metadata": {},
   "outputs": [
    {
     "data": {
      "text/plain": [
       "array([[[ 0,  1,  2],\n",
       "        [ 3,  4,  5],\n",
       "        [ 6,  7,  8],\n",
       "        [ 9, 10, 11]],\n",
       "\n",
       "       [[12, 13, 14],\n",
       "        [15, 16, 17],\n",
       "        [18, 19, 20],\n",
       "        [21, 22, 23]],\n",
       "\n",
       "       [[24, 25, 26],\n",
       "        [27, 28, 29],\n",
       "        [30, 31, 32],\n",
       "        [33, 34, 35]]])"
      ]
     },
     "execution_count": 20,
     "metadata": {},
     "output_type": "execute_result"
    }
   ],
   "source": [
    "import numpy as np\n",
    "X = np.arange(36).reshape((3, 4, 3))\n",
    "X"
   ]
  },
  {
   "cell_type": "code",
   "execution_count": 21,
   "metadata": {},
   "outputs": [
    {
     "data": {
      "text/plain": [
       "array([17, 13, 16])"
      ]
     },
     "execution_count": 21,
     "metadata": {},
     "output_type": "execute_result"
    }
   ],
   "source": [
    "X[1, [1, 0, 1], [2, 1, 1]]"
   ]
  },
  {
   "cell_type": "code",
   "execution_count": 22,
   "metadata": {},
   "outputs": [
    {
     "data": {
      "text/plain": [
       "array([17, 14, 17])"
      ]
     },
     "execution_count": 22,
     "metadata": {},
     "output_type": "execute_result"
    }
   ],
   "source": [
    "X[1, [1, 0, 1], [2]]"
   ]
  },
  {
   "cell_type": "code",
   "execution_count": 23,
   "metadata": {},
   "outputs": [
    {
     "data": {
      "text/plain": [
       "array([[[12, 13, 14],\n",
       "        [15, 16, 17],\n",
       "        [18, 19, 20],\n",
       "        [21, 22, 23]],\n",
       "\n",
       "       [[24, 25, 26],\n",
       "        [27, 28, 29],\n",
       "        [30, 31, 32],\n",
       "        [33, 34, 35]]])"
      ]
     },
     "execution_count": 23,
     "metadata": {},
     "output_type": "execute_result"
    }
   ],
   "source": [
    "X[1:]"
   ]
  },
  {
   "cell_type": "code",
   "execution_count": 24,
   "metadata": {},
   "outputs": [
    {
     "data": {
      "text/plain": [
       "array([[[15, 16, 17],\n",
       "        [12, 13, 14],\n",
       "        [15, 16, 17]],\n",
       "\n",
       "       [[27, 28, 29],\n",
       "        [24, 25, 26],\n",
       "        [27, 28, 29]]])"
      ]
     },
     "execution_count": 24,
     "metadata": {},
     "output_type": "execute_result"
    }
   ],
   "source": [
    "X[1:, [1, 0, 1]]"
   ]
  },
  {
   "cell_type": "code",
   "execution_count": 25,
   "metadata": {},
   "outputs": [
    {
     "data": {
      "text/plain": [
       "array([[17, 13, 16],\n",
       "       [29, 25, 28]])"
      ]
     },
     "execution_count": 25,
     "metadata": {},
     "output_type": "execute_result"
    }
   ],
   "source": [
    "X[1:, [1, 0, 1], [2, 1, 1]]"
   ]
  },
  {
   "cell_type": "code",
   "execution_count": 26,
   "metadata": {},
   "outputs": [
    {
     "data": {
      "text/plain": [
       "array([16,  0, 16])"
      ]
     },
     "execution_count": 26,
     "metadata": {},
     "output_type": "execute_result"
    }
   ],
   "source": [
    "X[[1, 0, 1], [1, 0, 1], [1, 0, 1]]"
   ]
  },
  {
   "cell_type": "code",
   "execution_count": 27,
   "metadata": {},
   "outputs": [
    {
     "name": "stdout",
     "output_type": "stream",
     "text": [
      "[0 1 2 3 4 5 6 7 8 9]\n"
     ]
    }
   ],
   "source": [
    "x = np.arange(10)\n",
    "print(x)"
   ]
  },
  {
   "cell_type": "code",
   "execution_count": 28,
   "metadata": {},
   "outputs": [
    {
     "name": "stdout",
     "output_type": "stream",
     "text": [
      "[6 1 2 3 4 5 6 7 8 9]\n"
     ]
    }
   ],
   "source": [
    "x[[0, 0]] = 4, 6\n",
    "\n",
    "print(x)"
   ]
  },
  {
   "cell_type": "code",
   "execution_count": 29,
   "metadata": {},
   "outputs": [
    {
     "data": {
      "text/plain": [
       "array([0., 0., 1., 1., 1., 0., 0., 0., 0., 0.])"
      ]
     },
     "execution_count": 29,
     "metadata": {},
     "output_type": "execute_result"
    }
   ],
   "source": [
    "x = np.zeros(10)\n",
    "\n",
    "ix = [2, 3, 3, 4, 4, 4]\n",
    "x[ix] += 1\n",
    "\n",
    "x"
   ]
  },
  {
   "cell_type": "code",
   "execution_count": 30,
   "metadata": {},
   "outputs": [
    {
     "name": "stdout",
     "output_type": "stream",
     "text": [
      "[0. 0. 2. 3. 4. 0. 0. 0. 0. 0.]\n"
     ]
    }
   ],
   "source": [
    "np.zeros(10)\n",
    "np.add.at(x, ix, 1)\n",
    "print(x)"
   ]
  },
  {
   "cell_type": "code",
   "execution_count": 31,
   "metadata": {},
   "outputs": [
    {
     "data": {
      "text/plain": [
       "array([1])"
      ]
     },
     "execution_count": 31,
     "metadata": {},
     "output_type": "execute_result"
    }
   ],
   "source": [
    "x = np.array([0.5])\n",
    "\n",
    "bins = np.array([0, 1, 2, 3])\n",
    "\n",
    "np.digitize(x, bins)"
   ]
  },
  {
   "cell_type": "code",
   "execution_count": 32,
   "metadata": {},
   "outputs": [
    {
     "name": "stdout",
     "output_type": "stream",
     "text": [
      "Mapped markers:  [0. 0. 0. 0. 0. 0.]\n",
      "Index with smallest difference:  0\n",
      "Index with smallest difference:  3\n",
      "Index with smallest difference:  4\n",
      "Mapped markers:  [1. 0. 0. 2. 2. 0.]\n"
     ]
    }
   ],
   "source": [
    "eeg = np.array([[2, 4, 3], [3, 4, 5], [1, 2, 7], [3, 8, 6], [2,5,1], [5,8,4]])\n",
    "eeg_ts = np.array([12089, 12130, 12239, 12345, 12367, 12470])\n",
    "marker = np.array([1, 2, 2])  #1 for cat, #2 for dog\n",
    "marker_ts = np.array([12072, 12321, 12389])\n",
    "\n",
    "mapped_markers = np.zeros(len(eeg_ts)) #\n",
    "print(\"Mapped markers: \", mapped_markers)\n",
    "\n",
    "#how do I map the markers to the correct eeg?\n",
    "#first easy way is to find the smallest difference\n",
    "#we can use argmin to find the position like this\n",
    "for each_marker_index, each_marker_time in enumerate(marker_ts):\n",
    "    ix = np.argmin(np.abs(each_marker_time - eeg_ts))\n",
    "    print(\"Index with smallest difference: \", ix)\n",
    "    mapped_markers[ix] = marker[each_marker_index]\n",
    "\n",
    "print(\"Mapped markers: \", mapped_markers)\n",
    "\n",
    "\n"
   ]
  },
  {
   "cell_type": "code",
   "execution_count": 33,
   "metadata": {},
   "outputs": [
    {
     "data": {
      "text/plain": [
       "[0, 1, 2, 3, 4, 5]"
      ]
     },
     "execution_count": 33,
     "metadata": {},
     "output_type": "execute_result"
    }
   ],
   "source": [
    "y_axis = list(range(len(eeg_ts)))\n",
    "y_axis"
   ]
  },
  {
   "cell_type": "code",
   "execution_count": 34,
   "metadata": {},
   "outputs": [],
   "source": [
    "coeff = np.polyfit(eeg_ts, y_axis, 1)"
   ]
  },
  {
   "cell_type": "code",
   "execution_count": 35,
   "metadata": {},
   "outputs": [],
   "source": [
    "slope, intercept = coeff"
   ]
  },
  {
   "cell_type": "code",
   "execution_count": 36,
   "metadata": {},
   "outputs": [
    {
     "name": "stdout",
     "output_type": "stream",
     "text": [
      "[-0.03039388  3.09908332  3.95371966]\n"
     ]
    }
   ],
   "source": [
    "a = np.polyval(coeff, marker_ts)\n",
    "print(a)"
   ]
  },
  {
   "cell_type": "code",
   "execution_count": 37,
   "metadata": {},
   "outputs": [
    {
     "data": {
      "text/plain": [
       "array([-0.,  3.,  4.])"
      ]
     },
     "execution_count": 37,
     "metadata": {},
     "output_type": "execute_result"
    }
   ],
   "source": [
    "np.rint(a)"
   ]
  },
  {
   "cell_type": "code",
   "execution_count": 38,
   "metadata": {},
   "outputs": [],
   "source": [
    "a = np.random.rand(1, 28, 28)"
   ]
  },
  {
   "cell_type": "code",
   "execution_count": 39,
   "metadata": {},
   "outputs": [
    {
     "data": {
      "text/plain": [
       "(28, 28)"
      ]
     },
     "execution_count": 39,
     "metadata": {},
     "output_type": "execute_result"
    }
   ],
   "source": [
    "np.squeeze(a).shape"
   ]
  },
  {
   "cell_type": "code",
   "execution_count": 40,
   "metadata": {},
   "outputs": [
    {
     "data": {
      "text/plain": [
       "(28, 28)"
      ]
     },
     "execution_count": 40,
     "metadata": {},
     "output_type": "execute_result"
    }
   ],
   "source": [
    "a_reshape = a.reshape(a.shape[1], a.shape[2])\n",
    "a_reshape.shape"
   ]
  },
  {
   "cell_type": "code",
   "execution_count": null,
   "metadata": {},
   "outputs": [],
   "source": []
  }
 ],
 "metadata": {
  "kernelspec": {
   "display_name": "Python 3",
   "language": "python",
   "name": "python3"
  },
  "language_info": {
   "codemirror_mode": {
    "name": "ipython",
    "version": 3
   },
   "file_extension": ".py",
   "mimetype": "text/x-python",
   "name": "python",
   "nbconvert_exporter": "python",
   "pygments_lexer": "ipython3",
   "version": "3.7.7"
  }
 },
 "nbformat": 4,
 "nbformat_minor": 1
}
