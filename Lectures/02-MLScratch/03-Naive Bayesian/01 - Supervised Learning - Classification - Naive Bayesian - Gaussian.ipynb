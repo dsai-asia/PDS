{
 "cells": [
  {
   "cell_type": "markdown",
   "metadata": {},
   "source": [
    "# Programming for Data Science and Artificial Intelligence\n",
    "\n",
    "## Supervised Learning - Classification - Naive Bayesian - Gaussian\n",
    "\n",
    "### Readings: \n",
    "- [VANDER] Ch5\n",
    "- [HASTIE] Ch6"
   ]
  },
  {
   "cell_type": "code",
   "execution_count": 1,
   "metadata": {},
   "outputs": [],
   "source": [
    "import numpy as np\n",
    "import matplotlib.pyplot as plt"
   ]
  },
  {
   "cell_type": "markdown",
   "metadata": {},
   "source": [
    "## Naive Bayesian Classification\n",
    "\n",
    "In Bayesian classification, we're interested in finding the probability of a label given some observed features, which we can write as $P(L~|~{\\rm features})$.\n",
    "Bayes's theorem tells us how to express this in terms of quantities as:\n",
    "\n",
    "$$\n",
    "P(L~|~{\\rm features}) = \\frac{P({\\rm features}~|~L)P(L)}{P({\\rm features})}\n",
    "$$\n",
    "\n",
    "If we are trying to decide between two labels—let's call them $L_1$ and $L_2$—then one way to make this decision is to compute the ratio of the posterior probabilities for each label:\n",
    "\n",
    "$$\n",
    "\\frac{P(L_1~|~{\\rm features})}{P(L_2~|~{\\rm features})} = \\frac{P({\\rm features}~|~L_1)}{P({\\rm features}~|~L_2)}\\frac{P(L_1)}{P(L_2)}\n",
    "$$\n",
    "\n",
    "All we need now is some model by which we can compute $P({\\rm features}~|~L_i)$ for each label.\n",
    "\n",
    "Such a model is called a *generative model* because it specifies the hypothetical random process that generates the data.  Specifying this generative model for each label is the main piece of the training of such a Bayesian classifier.  The general version of such a training step is a very difficult task, but we can make it simpler through the use of some simplifying assumptions about the form of this model.\n",
    "\n",
    "This is where the \"naive\" in \"naive Bayes\" comes in.  It makes two idiotic assumptions:\n",
    "\n",
    "1. The probability of each feature is independent, thus we can simply multiply these probabilities.  Thus we can do \n",
    "$$P({\\rm features}~|~L_1) = P({\\rm feature_1}~|~L_1) * P({\\rm feature_2}~|~L_1) * \\cdots P({\\rm feature_n}~|~L_1)$$\n",
    "2. The probability distribution of the feature is assumed to belong to some distribution.  For example, if we make the assumption that the feature belongs to Gaussian distribution, then $P({\\rm features}~|~L_1)$ is computed using the probability density function (pdf) of Gaussian distribution which returns the likelihood, where the gaussian pdf looks something like this\n",
    "$$ \\frac{1}{\\sqrt{2\\pi\\sigma^{2}}}e ^{-\\frac{(x-\\mu)^{2}}{2\\sigma^{2}}}$$\n",
    "\n",
    "\n",
    "\n",
    "Different types of naive Bayes classifiers rest on different naive assumptions about the data, and we will examine a few of these in the following sections.\n",
    "\n",
    "Today, we shall explore two forms of naive classification using two different assumptions: (1) Gaussian, and (2) Multinomial."
   ]
  },
  {
   "cell_type": "markdown",
   "metadata": {},
   "source": [
    "## Gaussian Naive Classification\n",
    "\n",
    "In Bayesian classification, we're interested in finding the probability of a label given some observed features, which we can write as $P(y | x)$ (also known as **posteriors**).\n",
    "Bayes's theorem tells us how to express this in terms of quantities as:\n",
    "\n",
    "$$\n",
    "P(y|x) = \\frac{P(x|y)P(y)}{P(x)}\n",
    "$$\n",
    "\n",
    "Thus, if we know all these three terms on the right, we can find $P(y \\mid x)$\n",
    "\n",
    "$P(y)$ (also known as **priors**) is simply\n",
    "\n",
    "$$P(y = 1) = \\frac{\\Sigma_{i=1}^m 1(y=1)}{m}$$\n",
    "\n",
    "$$P(y = 0) = \\frac{\\Sigma_{i=1}^m 1(y=0)}{m}$$\n",
    "\n",
    "$P(x \\mid y)$ (also known as **likelihoods** or **conditional probability**) is a little bit tricky but if we are willing to make a \"naive\" assumption, then we can find a rough approximation of the generative model for each class, and then proceed with the Bayesian classification.  Perhaps the easiest naive Bayes classifier to understand is Gaussian naive Bayes.  In this classifier, the assumption is that *data from each label is drawn from a simple Gaussian distribution* as follows:\n",
    "\n",
    "$$ P(x \\mid y=1 ; \\mu_1, \\sigma^{2}) = \\frac{1}{\\sqrt{2\\pi\\sigma^{2}}}e ^{-\\frac{(x-\\mu_1)^{2}}{2\\sigma^{2}}}$$\n",
    "$$ P(x \\mid y=0 ; \\mu_0, \\sigma^{2}) = \\frac{1}{\\sqrt{2\\pi\\sigma^{2}}}e ^{-\\frac{(x-\\mu_0)^{2}}{2\\sigma^{2}}}$$\n",
    "\n",
    "Such a model is called a *generative model* because it specifies the hypothetical random process that generates the data.\n",
    "Specifying this generative model for each label is the main piece of the training of such a Bayesian classifier.\n",
    "\n",
    "**Implementation steps:**\n",
    "\n",
    "1. Prepare your data\n",
    "    - $X$ and $y$ in the right shape\n",
    "        - $X$ -> $(m, n)$\n",
    "        - $y$ -> $(m,  )$\n",
    "        - Note that theta is not needed.  Why?\n",
    "    - train-test split\n",
    "    - feature scale\n",
    "    - clean out any missing data\n",
    "    - (optional) feature engineering\n",
    "2. Calculate the mean and std of each feature for each class.  For example, the mean of feature $j$ when $y=0$ is\n",
    "    $$\\mu_{0j} = \\frac{\\Sigma_{i=1}^m x_{ij}}{m} $$\n",
    "   Thus the shape of your mean and std will be <code>(n, 2)</code> or more generally <code>(n, k)</code>\n",
    "3. Calculate the **likelihoods** of each sample of each feature using\n",
    "\n",
    "    $$ P(x \\mid y=1 ; \\mu_1, \\sigma^{2}) = \\frac{1}{\\sqrt{2\\pi\\sigma^{2}}}e ^{-\\frac{(x-\\mu_1)^{2}}{2\\sigma^{2}}}$$\n",
    "    $$ P(x \\mid y=0 ; \\mu_0, \\sigma^{2}) = \\frac{1}{\\sqrt{2\\pi\\sigma^{2}}}e ^{-\\frac{(x-\\mu_0)^{2}}{2\\sigma^{2}}}$$\n",
    "    \n",
    "    - The shape of likelihood for class 0 will be $(m, n)$\n",
    "    - Since we may have more than one features, we need to make a product of all features\n",
    "    \n",
    "    $$p(x \\mid y) = \\prod_{i=1}^n p(x_i \\mid y)$$\n",
    "    \n",
    "    - This can only be done because we assume all features are independent of one another\n",
    "    - The shape of this total likelihood for class 0 will be $(m, )$\n",
    "    \n",
    "4. Find **priors** P(y)\n",
    "$$P(y = 1) = \\frac{\\Sigma_{i=1}^m 1(y=1)}{m}$$\n",
    "$$P(y = 0) = \\frac{\\Sigma_{i=1}^m 1(y=0)}{m}$$\n",
    "\n",
    "    - The shape of priors for class 0 will be simply a scalar\n",
    "\n",
    "5. Multiply $P(y)P(x \\mid y)$ for each class which will give us $p(y \\mid x)$ (**posteriors**)\n",
    "    \n",
    "    - For each class, the result of this is simply a multiplication between scalar and $(m, )$ resulting in a shape of $(m, )$, and you will have $k$ of such result.\n",
    "\n",
    "6. Simply compare $P(y)P(x \\mid y)$ for each class, whichever is bigger wins.  Note that we can ignore $P(x)$ since they can be canceled on both sides."
   ]
  },
  {
   "cell_type": "markdown",
   "metadata": {},
   "source": [
    "### Scratch\n",
    "\n",
    "### ===Task===\n",
    "\n",
    "Before I shall tell you how to implement, it is fairly easy to implement Naive Gaussian, so I will let you code this by yourself.\n",
    "\n",
    "I shall ask you in the class what to code in order.  Below is the full code."
   ]
  },
  {
   "cell_type": "markdown",
   "metadata": {},
   "source": [
    "#### 1. Prepare your data\n",
    "\n",
    "#### 1.1 Get your X and y in the right shape"
   ]
  },
  {
   "cell_type": "code",
   "execution_count": 2,
   "metadata": {},
   "outputs": [
    {
     "data": {
      "text/plain": [
       "<matplotlib.collections.PathCollection at 0x1208c3a50>"
      ]
     },
     "execution_count": 2,
     "metadata": {},
     "output_type": "execute_result"
    },
    {
     "data": {
      "image/png": "[encoded data removed]",
      "text/plain": [
       "<Figure size 432x288 with 1 Axes>"
      ]
     },
     "metadata": {
      "needs_background": "light"
     },
     "output_type": "display_data"
    }
   ],
   "source": [
    "from sklearn.datasets import make_classification\n",
    "from sklearn.model_selection import train_test_split\n",
    "from sklearn.preprocessing import StandardScaler\n",
    "\n",
    "#generate quite a lot of noise\n",
    "#with only 4 informative features out of 10\n",
    "#with 2 redundant features, overlapping with that 4 informative features\n",
    "#and 4 noisy features\n",
    "#Also, make std wider using n_clusters=2\n",
    "X, y = make_classification(n_samples=500, n_features=10, n_redundant=2, n_informative=4,\n",
    "                             n_clusters_per_class=2, random_state=14)\n",
    "plt.scatter(X[:, 0], X[:, 1], marker='o', c=y,\n",
    "            s=25, edgecolor='k')\n",
    "\n",
    "#look at the data...it is likely not linearly separable!"
   ]
  },
  {
   "cell_type": "markdown",
   "metadata": {},
   "source": [
    "#### 1.2 Feature scale your data to reach faster convergence"
   ]
  },
  {
   "cell_type": "code",
   "execution_count": 3,
   "metadata": {},
   "outputs": [],
   "source": [
    "#feature scaling helps improve reach convergence faster\n",
    "scaler = StandardScaler()\n",
    "X = scaler.fit_transform(X)"
   ]
  },
  {
   "cell_type": "markdown",
   "metadata": {},
   "source": [
    "#### 1.3 Train test split your data"
   ]
  },
  {
   "cell_type": "code",
   "execution_count": 4,
   "metadata": {},
   "outputs": [],
   "source": [
    "X_train, X_test, y_train, y_test = train_test_split(X, y, test_size=0.3)"
   ]
  },
  {
   "cell_type": "markdown",
   "metadata": {},
   "source": [
    "#### 2. Calculate the mean and std for each feature for each class"
   ]
  },
  {
   "cell_type": "code",
   "execution_count": 5,
   "metadata": {},
   "outputs": [],
   "source": [
    "def mean_var(X_train, y_train):\n",
    "    n = X_train.shape[1]\n",
    "    mean = np.zeros((2, n))\n",
    "    std = np.zeros((2, n))\n",
    "    for label in [0, 1]:\n",
    "        mean[label, :] = X_train[y_train==label].mean(axis=0)\n",
    "        std[label, :] = X_train[y_train==label].std(axis=0)\n",
    "    return mean, std\n",
    "\n",
    "mean, std = mean_var(X_train, y_train)\n",
    "assert mean.shape == (2, X_train.shape[1])\n",
    "assert std.shape == (2, X_train.shape[1])"
   ]
  },
  {
   "cell_type": "markdown",
   "metadata": {},
   "source": [
    "#### 3. Define the probability density function so we can later calculate $p(x \\mid y)$"
   ]
  },
  {
   "cell_type": "code",
   "execution_count": 6,
   "metadata": {},
   "outputs": [],
   "source": [
    "#scipy.stats.multivariate_normal is a library with this .pdf function\n",
    "#but I just code from scratch for you to see\n",
    "def gaussian_pdf(X, mean, std):\n",
    "    left = 1/(np.sqrt(2*np.pi)*std)\n",
    "    e = (X-mean)**2 / (2* (std **2))\n",
    "    right = np.exp(-e)\n",
    "    return left*right"
   ]
  },
  {
   "cell_type": "markdown",
   "metadata": {},
   "source": [
    "#### 3. Calculate the likelihood by calculating the probability density of each class $p(x \\mid y)$"
   ]
  },
  {
   "cell_type": "code",
   "execution_count": 7,
   "metadata": {},
   "outputs": [
    {
     "name": "stdout",
     "output_type": "stream",
     "text": [
      "(150, 10)\n"
     ]
    }
   ],
   "source": [
    "#guassian pdf for class 0 and 1\n",
    "#Note that I am using X_test, since p(x|y) is looking at \"new\" evidence\n",
    "likelihood0 = gaussian_pdf(X_test, mean[0, :], std[0, :])\n",
    "likelihood1 = gaussian_pdf(X_test, mean[1, :], std[0, :])\n",
    "\n",
    "print(likelihood0.shape)\n",
    "\n",
    "#pdf should have probability of each sample for each feature\n",
    "assert likelihood0.shape == (X_test.shape[0], X_test.shape[1]), \"Shape is wrong for pdf0!\"\n",
    "assert likelihood1.shape == (X_test.shape[0], X_test.shape[1]), \"Shape is wrong for pdf1!\""
   ]
  },
  {
   "cell_type": "markdown",
   "metadata": {},
   "source": [
    "#### 3.1 Calculate thetotal likelihood by calculating the product of $p(x \\mid y) = \\prod_{i=1}^n p(x = i \\mid y)$"
   ]
  },
  {
   "cell_type": "code",
   "execution_count": 8,
   "metadata": {},
   "outputs": [
    {
     "name": "stdout",
     "output_type": "stream",
     "text": [
      "(150,)\n"
     ]
    }
   ],
   "source": [
    "#np.product\n",
    "# P(feature1|class0) * P(feature2|class0)\n",
    "total_likelihood0 = np.prod(likelihood0, axis=1)\n",
    "\n",
    "# P(feature1|class1) * P(feature2|class1)\n",
    "total_likelihood1 = np.prod(likelihood1, axis=1)\n",
    "\n",
    "print(total_likelihood0.shape)"
   ]
  },
  {
   "cell_type": "markdown",
   "metadata": {},
   "source": [
    "#### 4. Calculate the prior $p(y)$"
   ]
  },
  {
   "cell_type": "code",
   "execution_count": 9,
   "metadata": {},
   "outputs": [],
   "source": [
    "#probability for class 0 and 1\n",
    "m0 = len(X_train[y_train==0])\n",
    "m1 = len(X_train[y_train==1])\n",
    "prior0 = m0 / (m0 + m1)\n",
    "prior1 = m1 / (m0 + m1)\n",
    "\n",
    "assert prior0 + prior1 == 1, \"probability not equal 1\""
   ]
  },
  {
   "cell_type": "markdown",
   "metadata": {},
   "source": [
    "#### 5. Calculate the posterior $p(x \\mid y)p(y)$ for each class"
   ]
  },
  {
   "cell_type": "code",
   "execution_count": 10,
   "metadata": {},
   "outputs": [],
   "source": [
    "#P(class0) * P(feature1|class0) * P(feature2|class0)\n",
    "posterior0 = prior0 * total_likelihood0    \n",
    "#P(class1) * P(feature1|class1) * P(feature2|class1)\n",
    "posterior1 = prior1 * total_likelihood1"
   ]
  },
  {
   "cell_type": "markdown",
   "metadata": {},
   "source": [
    "#### 6. Calculate accuracy"
   ]
  },
  {
   "cell_type": "code",
   "execution_count": 11,
   "metadata": {},
   "outputs": [
    {
     "name": "stdout",
     "output_type": "stream",
     "text": [
      "=========Average precision score=======\n",
      "0.7614950419527079\n",
      "=========Classification report=======\n",
      "Report:                precision    recall  f1-score   support\n",
      "\n",
      "           0       0.78      0.85      0.81        74\n",
      "           1       0.84      0.76      0.80        76\n",
      "\n",
      "    accuracy                           0.81       150\n",
      "   macro avg       0.81      0.81      0.81       150\n",
      "weighted avg       0.81      0.81      0.81       150\n",
      "\n"
     ]
    }
   ],
   "source": [
    "#if probability of class 1 is more than 0, then True\n",
    "yhat = 1 * posterior1 > posterior0\n",
    "    \n",
    "from sklearn.metrics import average_precision_score, classification_report\n",
    "print(\"=========Average precision score=======\")\n",
    "print(average_precision_score(y_test, yhat))\n",
    "print(\"=========Classification report=======\")\n",
    "print(\"Report: \", classification_report(y_test, yhat))"
   ]
  },
  {
   "cell_type": "markdown",
   "metadata": {},
   "source": [
    "### Sklearn"
   ]
  },
  {
   "cell_type": "markdown",
   "metadata": {},
   "source": [
    "Of course, once we are able to code from scratch, we can turn to our sklearn so we don't need to implement from scratch from now.  Naive Bayes Gaussian is implemented in Scikit-Learn's ``sklearn.naive_bayes.GaussianNB`` estimator:"
   ]
  },
  {
   "cell_type": "code",
   "execution_count": 12,
   "metadata": {},
   "outputs": [
    {
     "data": {
      "text/plain": [
       "GaussianNB()"
      ]
     },
     "execution_count": 12,
     "metadata": {},
     "output_type": "execute_result"
    }
   ],
   "source": [
    "from sklearn.naive_bayes import GaussianNB\n",
    "model = GaussianNB()\n",
    "model.fit(X_train, y_train)"
   ]
  },
  {
   "cell_type": "code",
   "execution_count": 13,
   "metadata": {
    "scrolled": true
   },
   "outputs": [
    {
     "name": "stdout",
     "output_type": "stream",
     "text": [
      "=========Average precision score=======\n",
      "0.8354116059379219\n",
      "=========Classification report=======\n",
      "Report:                precision    recall  f1-score   support\n",
      "\n",
      "           0       0.81      0.93      0.87        74\n",
      "           1       0.92      0.79      0.85        76\n",
      "\n",
      "    accuracy                           0.86       150\n",
      "   macro avg       0.87      0.86      0.86       150\n",
      "weighted avg       0.87      0.86      0.86       150\n",
      "\n"
     ]
    }
   ],
   "source": [
    "yhat = model.predict(X_test)\n",
    "print(\"=========Average precision score=======\")\n",
    "print(average_precision_score(y_test, yhat))\n",
    "print(\"=========Classification report=======\")\n",
    "print(\"Report: \", classification_report(y_test, yhat))"
   ]
  },
  {
   "cell_type": "markdown",
   "metadata": {},
   "source": [
    "We can also use predict_proba to print out the actual probabilities"
   ]
  },
  {
   "cell_type": "code",
   "execution_count": 14,
   "metadata": {
    "scrolled": true
   },
   "outputs": [
    {
     "data": {
      "text/plain": [
       "array([[0.31, 0.69],\n",
       "       [0.09, 0.91],\n",
       "       [0.01, 0.99],\n",
       "       [0.01, 0.99],\n",
       "       [0.51, 0.49],\n",
       "       [0.  , 1.  ],\n",
       "       [0.  , 1.  ],\n",
       "       [0.04, 0.96]])"
      ]
     },
     "execution_count": 14,
     "metadata": {},
     "output_type": "execute_result"
    }
   ],
   "source": [
    "yprob = model.predict_proba(X_test)\n",
    "yprob[-8:].round(2)"
   ]
  }
 ],
 "metadata": {
  "kernelspec": {
   "display_name": "Python 3",
   "language": "python",
   "name": "python3"
  },
  "language_info": {
   "codemirror_mode": {
    "name": "ipython",
    "version": 3
   },
   "file_extension": ".py",
   "mimetype": "text/x-python",
   "name": "python",
   "nbconvert_exporter": "python",
   "pygments_lexer": "ipython3",
   "version": "3.8.6"
  }
 },
 "nbformat": 4,
 "nbformat_minor": 4
}
