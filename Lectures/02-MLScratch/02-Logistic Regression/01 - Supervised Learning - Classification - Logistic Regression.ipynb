{
 "cells": [
  {
   "cell_type": "markdown",
   "metadata": {},
   "source": [
    "# Programming for Data Science and Artificial Intelligence\n",
    "\n",
    "## 6.1 Supervised Learning - Classification - Logistic Regression\n",
    "\n",
    "### Readings: \n",
    "- [GERON] Ch4\n",
    "- [VANDER] Ch5\n",
    "- [HASTIE] Ch4"
   ]
  },
  {
   "cell_type": "code",
   "execution_count": 1,
   "metadata": {},
   "outputs": [],
   "source": [
    "import numpy as np\n",
    "import matplotlib.pyplot as plt"
   ]
  },
  {
   "cell_type": "markdown",
   "metadata": {},
   "source": [
    "## Logistic Regression\n",
    "\n",
    "Logistic regression is an supervised algorithm for solving classification problem where outcome (target) is discrete.   The idea behind is that $\\theta^Tx$ will return a continous value and thus may not be suitable for classification task.  However, if we can find one function $g$ such that\n",
    "\n",
    "$$g(\\theta^Tx) = [0, 1]$$\n",
    "\n",
    "then we can define our hypothesis function as $g$ and optimize accordingly based on some cost function.\n",
    "\n",
    "It happens that $g$ (and also our hypothesis function $h$) can be defined as the sigmoid (logit) function as the following:\n",
    "\n",
    "$$ h = g(\\theta^Tx) = \\frac{1}{1+e^{-\\theta^Tx}} $$\n",
    "\n",
    "**Trivials**: \n",
    "$e$ is a really convenient number for math, for example whenever you take the derivative of $e^x$, you get $e^x$ back again.  It's the only function on Earth that will do that.  Also, $e^x$ always give you positive numbers, thus it is no surprise this $4$ was often used in probability/statistics.  Last, it is convenient to apply $log$ in any optimization problem including $e$ since it will cancel it nicely and will also not change the optimization answer since $log$ is monotically increasing.\n",
    "\n",
    "\n",
    "\n",
    "Let's see how does it look in code:"
   ]
  },
  {
   "cell_type": "code",
   "execution_count": 2,
   "metadata": {},
   "outputs": [
    {
     "data": {
      "text/plain": [
       "Text(0, 0.5, 'y')"
      ]
     },
     "execution_count": 2,
     "metadata": {},
     "output_type": "execute_result"
    },
    {
     "data": {
      "image/png": "[encoded data removed]",
      "text/plain": [
       "<Figure size 432x288 with 1 Axes>"
      ]
     },
     "metadata": {
      "needs_background": "light"
     },
     "output_type": "display_data"
    }
   ],
   "source": [
    "# lambda way \n",
    "sigmoid_gen = lambda x: (1+np.exp(-x))**-1\n",
    "\n",
    "# Function way\n",
    "def sigmoid(x):\n",
    "    sig = 1 / (1 + np.exp(-x))\n",
    "    return sig\n",
    "\n",
    "# Generate data points\n",
    "x = np.arange(-5,5,0.1)\n",
    "y = sigmoid(x)\n",
    "\n",
    "# Plot the sigmoid\n",
    "plt.scatter(x, y)\n",
    "plt.title('Sigmoid')\n",
    "plt.xlabel('x')\n",
    "plt.ylabel('y')"
   ]
  },
  {
   "cell_type": "markdown",
   "metadata": {},
   "source": [
    "Recall the derivative using quotient rule is        \n",
    "\n",
    "$$ (\\frac{f}{g})' = \\frac{f'g - fg'}{g^2}$$\n",
    "\n",
    "Given sigmoid function as\n",
    "\n",
    "$$ g(x) = \\frac{1}{1+e^{-x}} $$\n",
    "\n",
    "Thus the derivative of sigmoid function is\n",
    "\n",
    "$$\n",
    "\\begin{aligned}\n",
    "    \\frac{dg}{dx} &= \\frac{0(1 + e^{-x}) - (-1)(e^{-x}))}{(1 + e^{-x})^2} \\\\\n",
    "    &= \\frac{e^{-x}}{(1 + e^{-x})^2}  = \\frac{e^{-x} + 1 - 1}{(1 + e^{-x})^2} \\\\\n",
    "    &= \\frac{1}{(1 + e^{-x})} - \\frac{1}{(1 + e^{-x})^2} \\\\\n",
    "    &= \\frac{1}{(1 + e^{-x})} \\big(1 - \\frac{1}{(1 + e^{-x})}\\big)\\\\\n",
    "    &= g(1 - g)\n",
    "\\end{aligned}\n",
    "$$\n",
    "\n",
    "Let's look at the gradient by modifying our sigmoid function a little bit."
   ]
  },
  {
   "cell_type": "code",
   "execution_count": 3,
   "metadata": {},
   "outputs": [
    {
     "data": {
      "text/plain": [
       "Text(0, 0.5, 'y')"
      ]
     },
     "execution_count": 3,
     "metadata": {},
     "output_type": "execute_result"
    },
    {
     "data": {
      "image/png": "[encoded data removed]",
      "text/plain": [
       "<Figure size 720x144 with 2 Axes>"
      ]
     },
     "metadata": {
      "needs_background": "light"
     },
     "output_type": "display_data"
    }
   ],
   "source": [
    "# Formula:\n",
    "# g(x) = 1 / (1 + np.exp(-x))\n",
    "\n",
    "# lambda way \n",
    "sigmoid_gen = lambda x: (1+np.exp(-x))**-1\n",
    "\n",
    "# Function way\n",
    "def sigmoid(x, deriv = False):\n",
    "    sig = 1 / (1 + np.exp(-x))\n",
    "    if deriv:\n",
    "        sig_deriv = sig*(1-sig) \n",
    "        return sig_deriv\n",
    "    else:\n",
    "        return sig\n",
    "# Generate data points\n",
    "x = np.arange(-5,5,0.1)\n",
    "y = sigmoid(x)\n",
    "y_deriv = sigmoid(x, deriv = True)\n",
    "\n",
    "# Plot the sigmoid\n",
    "_, ax = plt.subplots(1, 2, figsize=(10, 2))\n",
    "ax1 = ax[0]\n",
    "ax1.scatter(x, y)\n",
    "ax1.set_title('Sigmoid')\n",
    "ax1.set_xlabel('x')\n",
    "ax1.set_ylabel('y')\n",
    "\n",
    "# Plot the derivative of the sigmoid\n",
    "ax2 = ax[1]\n",
    "ax2.scatter(x, y_deriv)\n",
    "ax2.set_title('Derivative of the sigmoid')\n",
    "ax2.set_xlabel('x')\n",
    "ax2.set_ylabel('y')"
   ]
  },
  {
   "cell_type": "markdown",
   "metadata": {},
   "source": [
    "**Trivials**: As you can see, the greatest gradient possible is 0.25.  Thus it means that in a gradient descent update, the update speed will be restricted by this value."
   ]
  },
  {
   "cell_type": "markdown",
   "metadata": {},
   "source": [
    "So if we had the following function\n",
    "\n",
    "$$ \\theta^Tx = \\theta_{0} + \\theta_{1}x_{1} + \\theta_{2}x_{2} $$\n",
    "\n",
    "Given some point ($x_{1}$,$x_{2}$), if we plugged it to our sigmoid function, the equation could output a positive result (for one class), negative result (for the other class), or 0 (the point lies right on the decision boundary).\n",
    "\n",
    "For example, given ($x_{1} = 3$, $x_{2} = 4$) and ($\\theta_{1}$ = 1, $\\theta_{2}$ = 2) (let's ignore $\\theta_{0}$ for simplicity), the following code performs a sigmoid of $\\theta^Tx$"
   ]
  },
  {
   "cell_type": "code",
   "execution_count": 4,
   "metadata": {},
   "outputs": [
    {
     "name": "stdout",
     "output_type": "stream",
     "text": [
      "theta^Tx: 11\n",
      "sigmoid of theta^Tx:  0.999983298578152\n"
     ]
    }
   ],
   "source": [
    "X = np.array([3, 4])\n",
    "w = np.array([1, 2])\n",
    "print(\"theta^Tx:\", X @ w)\n",
    "print(\"sigmoid of theta^Tx: \", sigmoid(X @ w))"
   ]
  },
  {
   "cell_type": "markdown",
   "metadata": {},
   "source": [
    "#### How about other possible squashing function\n",
    "\n",
    "You may ask why we use sigmoid function.  Well, sigmoid function works pretty well in logistic regression, since most of the time, in logistic regression, we assume that the decision boundary is linear.\n",
    "\n",
    "However, in more complicated case, we may prefer other *activation* function.  Why?  Because\n",
    "\n",
    "1. Sigmoid function has small gradients (max of 0.25) and hence may slow down the learning.  This happens especially in a neural network, where a chain of small gradients can greatly reduce the gradient to near zero, the problem so called *vanishing gradients*\n",
    "\n",
    "2. Also, sigmoid function has almost zero gradients when $x$ is moving above 4 or below -4, thus if we use sigmoid function, it is possible that our gradient descent update is performing almost no learning!\n",
    "\n",
    "To solve these problems, in the future complicated case, we shall use other *activation* function that has stronger gradients but also maintain a squashing property of squashing continuous values to discrete.\n",
    "\n",
    "Other activation functions include: *Tangent*, *Relu*, and *Leaky Relu*"
   ]
  },
  {
   "cell_type": "markdown",
   "metadata": {},
   "source": [
    "#### Tangent function\n",
    "\n",
    "The range of the tanh function is from (-1 to 1), unlike sigmoid where the range is 0 to 1.  Thus in tanh function, the decision boundary is at 0, unlike sigmoid which is at 0.5.  The formula is as simple as:\n",
    "\n",
    "$$ g(x) = tanh(x) $$ \n",
    "\n",
    "which is equal to \n",
    "\n",
    "$$ g(x) = \\frac{sinh x}{cosh x} $$\n",
    "\n",
    "which is equal to\n",
    "\n",
    "$$ g(x) = \\frac{e^x - e^{-x}}{e^x + e^{-x}} $$\n",
    "\n",
    "The derivative of tangent can be derived as follows:\n",
    "\n",
    "$$\n",
    "\\begin{aligned}\n",
    "    \\frac{dg}{dx} &= \\frac{(e^x + e^{-x})(e^x + e^{-x}) - (e^x - e^{-x})(e^x - e^{-x}))}{(e^x + e^{-x})^2} \\\\\n",
    "    &= \\frac{(e^x + e^{-x})^2 - (e^x - e^{-x})^2}{(e^x + e^{-x})^2} \\\\\n",
    "    &= 1 - g^2\n",
    "\\end{aligned}\n",
    "$$"
   ]
  },
  {
   "cell_type": "code",
   "execution_count": 5,
   "metadata": {},
   "outputs": [
    {
     "data": {
      "text/plain": [
       "Text(0, 0.5, 'y')"
      ]
     },
     "execution_count": 5,
     "metadata": {},
     "output_type": "execute_result"
    },
    {
     "data": {
      "image/png": "[encoded data removed]",
      "text/plain": [
       "<Figure size 720x144 with 2 Axes>"
      ]
     },
     "metadata": {
      "needs_background": "light"
     },
     "output_type": "display_data"
    }
   ],
   "source": [
    "# Generator\n",
    "tanh_gen = lambda x: (np.exp(x) - np.exp(-x)) / (np.exp(x) + np.exp(-x))\n",
    "\n",
    "# Function\n",
    "def tanh(x, deriv = False):\n",
    "    tanh = (np.exp(x) - np.exp(-x)) / (np.exp(x) + np.exp(-x))\n",
    "    if deriv:\n",
    "        tanh_deriv = 1 - tanh**2\n",
    "        return tanh_deriv\n",
    "    else:\n",
    "        return tanh\n",
    "    \n",
    "# Generate data points\n",
    "x = np.arange(-5,5,0.1)\n",
    "y = tanh(x)\n",
    "y_deriv = tanh(x, deriv = True)\n",
    "\n",
    "# Plot the sigmoid\n",
    "_, ax = plt.subplots(1, 2, figsize=(10, 2))\n",
    "ax1 = ax[0]\n",
    "ax1.scatter(x, y)\n",
    "ax1.set_title('Tangent')\n",
    "ax1.set_xlabel('x')\n",
    "ax1.set_ylabel('y')\n",
    "\n",
    "# Plot the derivative of the sigmoid\n",
    "ax2 = ax[1]\n",
    "ax2.scatter(x, y_deriv)\n",
    "ax2.set_title('Derivative of the tangent')\n",
    "ax2.set_xlabel('x')\n",
    "ax2.set_ylabel('y')"
   ]
  },
  {
   "cell_type": "markdown",
   "metadata": {},
   "source": [
    "**Trivials**: As you can see, derivative of tangent is as much as 1, thus alleviate the vanishing gradient problem of sigmoid.  However, the gradient still quickly diminishes after $x$ is around -2 or 2\n",
    "\n",
    "Let's try to use this"
   ]
  },
  {
   "cell_type": "code",
   "execution_count": 6,
   "metadata": {},
   "outputs": [
    {
     "name": "stdout",
     "output_type": "stream",
     "text": [
      "theta^Tx: 11\n",
      "tangent of theta^Tx:  0.9999999994421065\n"
     ]
    }
   ],
   "source": [
    "X = np.array([3, 4])\n",
    "w = np.array([1, 2])\n",
    "print(\"theta^Tx:\", X @ w)\n",
    "print(\"tangent of theta^Tx: \", tanh(X @ w))"
   ]
  },
  {
   "cell_type": "markdown",
   "metadata": {},
   "source": [
    "#### ReLU function\n",
    "\n",
    "The ReLU is the most used activation function in the world right now.  It is used in almost all the convolutional neural networks or deep learning.  The formula is super simple as follows:\n",
    "\n",
    "$$ g(x) = max(0, x) $$\n",
    "\n",
    "The derivative is simply if $x$ is nonzero, then the derivative is 1. Otherwise, the derivative is 0.  This can be expressed as:\n",
    "\n",
    "$$\n",
    "\\frac{dg}{dx} =\n",
    "\\begin{cases} \n",
    "0 & \\text{if  }  x < 0 \\\\\n",
    "1 & \\text{if  }  x > 0 \\\\\n",
    "\\end{cases}\n",
    "$$"
   ]
  },
  {
   "cell_type": "code",
   "execution_count": 7,
   "metadata": {},
   "outputs": [
    {
     "data": {
      "text/plain": [
       "Text(0, 0.5, 'y')"
      ]
     },
     "execution_count": 7,
     "metadata": {},
     "output_type": "execute_result"
    },
    {
     "data": {
      "image/png": "[encoded data removed]",
      "text/plain": [
       "<Figure size 720x144 with 2 Axes>"
      ]
     },
     "metadata": {
      "needs_background": "light"
     },
     "output_type": "display_data"
    }
   ],
   "source": [
    "# Generator \n",
    "relu_gen = lambda x: x if x > 0 else 0\n",
    "\n",
    "# Function\n",
    "def relu(x, deriv = False):\n",
    "    if deriv == True:\n",
    "        x_relu = []\n",
    "        for each in x:\n",
    "            if each <= 0:\n",
    "                x_relu.append(0)\n",
    "            else:\n",
    "                x_relu.append(1)  #derivative of x is 1\n",
    "        return x_relu #np.ones_like(x)\n",
    "    else:            \n",
    "        return np.maximum(0, x) \n",
    "    \n",
    "# Generate data points\n",
    "x = np.arange(-5,5,0.1)\n",
    "y = relu(x)\n",
    "y_deriv = relu(x, deriv = True)\n",
    "\n",
    "# Plot the sigmoid\n",
    "_, ax = plt.subplots(1, 2, figsize=(10, 2))\n",
    "ax1 = ax[0]\n",
    "ax1.scatter(x, y)\n",
    "ax1.set_title('Relu')\n",
    "ax1.set_xlabel('x')\n",
    "ax1.set_ylabel('y')\n",
    "\n",
    "# Plot the derivative of the sigmoid\n",
    "ax2 = ax[1]\n",
    "ax2.scatter(x, y_deriv)\n",
    "ax2.set_title('Derivative of the relu')\n",
    "ax2.set_xlabel('x')\n",
    "ax2.set_ylabel('y')"
   ]
  },
  {
   "cell_type": "markdown",
   "metadata": {},
   "source": [
    "**Trivials**: As you can see, derivative of relu is also as much as 1.  In addition, the gradient remains 1 if $x$ is more than 0.  However, ReLu gradients can be fragile during training and can die. It can cause a weight update which will makes it never activate on any data point again. Simply saying, ReLu could result in dead neurons\n",
    "\n",
    "Let's try to use this"
   ]
  },
  {
   "cell_type": "code",
   "execution_count": 8,
   "metadata": {},
   "outputs": [
    {
     "name": "stdout",
     "output_type": "stream",
     "text": [
      "theta^Tx: 11\n",
      "relu of theta^Tx:  11\n"
     ]
    }
   ],
   "source": [
    "X = np.array([3, 4])\n",
    "w = np.array([1, 2])\n",
    "print(\"theta^Tx:\", X @ w)\n",
    "print(\"relu of theta^Tx: \", relu(X @ w))"
   ]
  },
  {
   "cell_type": "markdown",
   "metadata": {},
   "source": [
    "#### Leaky Relu\n",
    "As you can guess, to solve the possible dead neurons, we can implement a simple scalar to replace 0, so the negative values remain there.  The function is simple as follows:\n",
    "\n",
    "$$\n",
    "g(x) =\n",
    "\\begin{cases} \n",
    "\\alpha * x & \\text{if  }  x \\leq 0 \\\\\n",
    "x & \\text{if  }  x > 0 \\\\\n",
    "\\end{cases}\n",
    "$$\n",
    "\n",
    "where the derivatives are\n",
    "\n",
    "$$\n",
    "\\frac{dg}{dx} =\n",
    "\\begin{cases} \n",
    "\\alpha & \\text{if  }  x < 0 \\\\\n",
    "1 & \\text{if  }  x > 0 \\\\\n",
    "\\end{cases}\n",
    "$$"
   ]
  },
  {
   "cell_type": "code",
   "execution_count": 9,
   "metadata": {},
   "outputs": [
    {
     "data": {
      "text/plain": [
       "Text(0, 0.5, 'y')"
      ]
     },
     "execution_count": 9,
     "metadata": {},
     "output_type": "execute_result"
    },
    {
     "data": {
      "image/png": "[encoded data removed]",
      "text/plain": [
       "<Figure size 720x144 with 2 Axes>"
      ]
     },
     "metadata": {
      "needs_background": "light"
     },
     "output_type": "display_data"
    }
   ],
   "source": [
    "# Function\n",
    "def lrelu(x, alpha = 0.9, deriv = False):\n",
    "    if deriv == True:\n",
    "        x_relu = []\n",
    "        for each in x:\n",
    "            if each <= 0:\n",
    "                x_relu.append(alpha)\n",
    "            else:\n",
    "                x_relu.append(1)\n",
    "        return x_relu #np.ones_like(x)\n",
    "    else:            \n",
    "        return np.maximum(alpha, alpha*x) \n",
    "    \n",
    "# Generate data points\n",
    "x = np.arange(-5,5,0.1)\n",
    "y = lrelu(x)\n",
    "y_deriv = lrelu(x, deriv = True)\n",
    "\n",
    "# Plot the sigmoid\n",
    "_, ax = plt.subplots(1, 2, figsize=(10, 2))\n",
    "ax1 = ax[0]\n",
    "ax1.scatter(x, y)\n",
    "ax1.set_title('Leaky relu')\n",
    "ax1.set_xlabel('x')\n",
    "ax1.set_ylabel('y')\n",
    "\n",
    "# Plot the derivative of the sigmoid\n",
    "ax2 = ax[1]\n",
    "ax2.scatter(x, y_deriv)\n",
    "ax2.set_title('Derivative of the leaky relu')\n",
    "ax2.set_xlabel('x')\n",
    "ax2.set_ylabel('y')"
   ]
  },
  {
   "cell_type": "markdown",
   "metadata": {},
   "source": [
    "**Trivials**: As you can see, derivative of leaky relu is now NOT 0 for negative x.  This will make sure it will not lead to dead neurons \n",
    "\n",
    "Let's try to use this"
   ]
  },
  {
   "cell_type": "code",
   "execution_count": 10,
   "metadata": {},
   "outputs": [
    {
     "name": "stdout",
     "output_type": "stream",
     "text": [
      "theta^Tx: -11\n",
      "relu of theta^Tx:  0.9\n"
     ]
    }
   ],
   "source": [
    "X = np.array([-3, -4])  #<---put negative for demonstration\n",
    "w = np.array([1, 2])\n",
    "print(\"theta^Tx:\", X @ w)\n",
    "print(\"relu of theta^Tx: \", lrelu(X @ w))"
   ]
  },
  {
   "cell_type": "markdown",
   "metadata": {},
   "source": [
    "### Where are we so far?\n",
    "\n",
    "Well, we have so far motivated the followings:\n",
    "\n",
    "1. We need a squashing function $g$ to use in classification problem\n",
    "2. We also go through together different possible squashing function including sigmoid, tanh, relu, and leaky relu\n",
    "\n",
    "For now, we shall use only sigmoid function, since we will be talking mainly about logistic regression.  But we shall go back to these other activation functions later on in the course.\n",
    "\n",
    "Here, we shall explore three different variants of logistic regression:\n",
    "1. Binary Logistic Regression\n",
    "2. Multinomial (multiclass) Logistic Regression\n",
    "3. Logistic Regression with Newton-Raphson method\n",
    "\n",
    "Last, we shall explore the sklearn way.\n",
    "\n",
    "**Be warned**: There will be a lot of equations but they are necessary to understand in order to do the implementation.  For some obvious derivations, I will leave them as your exercise, but if you feel inimidated, ask me in class or come to my office."
   ]
  },
  {
   "cell_type": "markdown",
   "metadata": {},
   "source": [
    "## 1. Binary Logistic Regression\n",
    "\n",
    "Logistic regression is a binary classification algorithm by simply finding a best fitted line that separates two dataset.  In order to squash the output to a value between 0 and 1, logistic regression used a function called logit function (or sigmoid function)\n",
    "\n",
    "### Scratch\n",
    "\n",
    "**Implementation steps:**\n",
    "    \n",
    "1. Prepare your data\n",
    "    - add intercept\n",
    "    - $X$ and $y$ and $w$ in the right shape\n",
    "        - $X$ -> $(m, n)$\n",
    "        - $y$ -> $(m, )$\n",
    "        - $w$ -> $(n, )$\n",
    "        - where $m$ is number of samples\n",
    "        - where $n$ is number of features\n",
    "    - train-test split\n",
    "    - feature scale\n",
    "    - clean out any missing data\n",
    "    - (optional) feature engineering\n",
    "2. Predict and calculate the loss\n",
    "    - The loss function is the *cross entropy* defined as\n",
    "    $$J = - \\Sigma_{i=1}^m y^{(i)}log(h) + (1-y^{(i)})log(1-h)$$\n",
    "    where h is defined as the sigmoid function as\n",
    "    $$h = \\frac{1}{1+e^{-\\theta^Tx}}$$\n",
    "3. Calculate the gradient based on the loss\n",
    "    - The gradient of $\\theta_j$ is defined as\n",
    "        $$\\frac{\\partial J}{\\partial \\theta_j} = \\Sigma_{i=1}^{m}(h^{(i)}-y^{(i)})x_j$$\n",
    "    - This can be derived by knowing that \n",
    "        $$J= y_1 log h + (1 - y_1) lg (1-h)$$\n",
    "        $$h = \\frac{1}{1+e^{-g}}$$\n",
    "        $$g = \\theta^Tx$$\n",
    "    - Thus, gradient of $J$ in respect to some $\\theta_j$ is\n",
    "        $$\\frac{\\partial J}{\\partial \\theta_j} = \\frac{\\partial J}{\\partial h} \\frac{\\partial h}{\\partial g} \\frac{\\partial g}{\\partial \\theta_j}$$\n",
    "      where\n",
    "        $$\\frac{\\partial J}{\\partial h} = \\frac{y_1 - h}{h(1-h)}$$\n",
    "        $$\\frac{\\partial h}{\\partial g} = h(1-h)$$\n",
    "        $$\\frac{\\partial g}{\\partial \\theta_j} = x_j$$\n",
    "    - Thus, \n",
    "    $$\n",
    "    \\begin{aligned}\n",
    "    \\frac{\\partial J}{\\partial \\theta_j} &= \\frac{\\partial J}{\\partial h} \\frac{\\partial h}{\\partial g} \\frac{\\partial g}{\\partial \\theta_j}\\\\\n",
    "   &= \\frac{y_1 - h}{h(1-h)} * h(1-h) * x_j\\\\\n",
    "   &= (y_1 - h)x_j\\\\\n",
    "   \\end{aligned}\n",
    "   $$\n",
    "    - We can then put negative sign in front to make it negative loglikelihood, thus\n",
    "       $$(h - y_i)x_j$$\n",
    "4. Update the theta with this update rule\n",
    "    $$\\theta_j := \\theta_j - \\alpha * \\frac{\\partial J}{\\partial \\theta_j}$$\n",
    "    where $\\alpha$ is a typical learning rate range between 0 and 1\n",
    "5. Loop 2-4 until max_iter is reached, or the difference between old loss and new loss are smaller than some predefined threshold tol"
   ]
  },
  {
   "cell_type": "markdown",
   "metadata": {},
   "source": [
    "#### Step 1: Prepare your data\n",
    "\n",
    "#### 1.1 Get your X and y in the right shape"
   ]
  },
  {
   "cell_type": "code",
   "execution_count": 11,
   "metadata": {},
   "outputs": [
    {
     "data": {
      "text/plain": [
       "<matplotlib.collections.PathCollection at 0x11eebd5d0>"
      ]
     },
     "execution_count": 11,
     "metadata": {},
     "output_type": "execute_result"
    },
    {
     "data": {
      "image/png": "[encoded data removed]",
      "text/plain": [
       "<Figure size 432x288 with 1 Axes>"
      ]
     },
     "metadata": {
      "needs_background": "light"
     },
     "output_type": "display_data"
    }
   ],
   "source": [
    "from sklearn import linear_model\n",
    "from sklearn.datasets import make_classification\n",
    "from sklearn.model_selection import train_test_split\n",
    "from sklearn.preprocessing import StandardScaler\n",
    "\n",
    "#generate quite a lot of noise\n",
    "#with only 4 informative features out of 10\n",
    "#with 2 redundant features, overlapping with that 4 informative features\n",
    "#and 4 noisy features\n",
    "#Also, make std wider using n_clusters=2\n",
    "X, y = make_classification(n_samples=500, n_features=10, n_redundant=2, n_informative=4,\n",
    "                             n_clusters_per_class=2, random_state=14)\n",
    "plt.scatter(X[:, 0], X[:, 1], marker='o', c=y,\n",
    "            s=25, edgecolor='k')"
   ]
  },
  {
   "cell_type": "markdown",
   "metadata": {},
   "source": [
    "#### 1.2 Feature scale your data to reach faster convergence"
   ]
  },
  {
   "cell_type": "code",
   "execution_count": 12,
   "metadata": {},
   "outputs": [],
   "source": [
    "#feature scaling helps improve reach convergence faster\n",
    "scaler = StandardScaler()\n",
    "X = scaler.fit_transform(X)"
   ]
  },
  {
   "cell_type": "markdown",
   "metadata": {},
   "source": [
    "#### 1.3 Train test split your data"
   ]
  },
  {
   "cell_type": "code",
   "execution_count": 13,
   "metadata": {},
   "outputs": [],
   "source": [
    "X_train, X_test, y_train, y_test = train_test_split(X, y, test_size=0.3)"
   ]
  },
  {
   "cell_type": "markdown",
   "metadata": {},
   "source": [
    "#### 1.4 Add intercepts"
   ]
  },
  {
   "cell_type": "code",
   "execution_count": 14,
   "metadata": {},
   "outputs": [],
   "source": [
    "intercept = np.ones((X_train.shape[0], 1))\n",
    "X_train = np.concatenate((intercept, X_train), axis=1)  #add intercept\n",
    "intercept = np.ones((X_test.shape[0], 1))\n",
    "X_test = np.concatenate((intercept, X_test), axis=1)  #add intercept"
   ]
  },
  {
   "cell_type": "markdown",
   "metadata": {},
   "source": [
    "#### Step 2: Fit your algorithm \n",
    "\n",
    "#### 1. Define your algorithm"
   ]
  },
  {
   "cell_type": "code",
   "execution_count": 15,
   "metadata": {},
   "outputs": [
    {
     "name": "stdout",
     "output_type": "stream",
     "text": [
      "Cost at iteration 0 0.6931471805599452\n",
      "Cost at iteration 500 0.4224243827125019\n",
      "Cost at iteration 1000 0.4007544113865733\n",
      "Cost at iteration 1500 0.42596033544360057\n",
      "Cost at iteration 2000 0.3858571762243956\n",
      "Cost at iteration 2500 0.4742113390380036\n",
      "Cost at iteration 3000 0.39838253238665317\n",
      "Cost at iteration 3500 0.3250178933781204\n",
      "Cost at iteration 4000 0.43819028557732015\n",
      "Cost at iteration 4500 0.33606041956877836\n"
     ]
    }
   ],
   "source": [
    "#here I use mini-batch as a demonstration\n",
    "#you are free to use any variants of gradient descent\n",
    "def mini_batch_GD(X, y, max_iter=1000):\n",
    "    w = np.zeros(X.shape[1])\n",
    "    l_rate = 0.01\n",
    "    #10% of data\n",
    "    batch_size = int(0.1 * X.shape[0])\n",
    "    for i in range(max_iter):\n",
    "        ix = np.random.randint(0, X.shape[0]) #<----with replacement\n",
    "        batch_X = X[ix:ix+batch_size]\n",
    "        batch_y = y[ix:ix+batch_size]\n",
    "        cost, grad = gradient(batch_X, batch_y, w)\n",
    "        if i % 500 == 0:\n",
    "            print(f\"Cost at iteration {i}\", cost)\n",
    "        w = w - l_rate * grad\n",
    "    return w, i\n",
    "\n",
    "def gradient(X, y, w):\n",
    "    m = X.shape[0]\n",
    "    h = h_theta(X, w)\n",
    "    error = h - y\n",
    "    #putting negative sign for negative log likelihood\n",
    "    cost = -np.sum(y * np.log(h) + (1 - y) * np.log(1 - h))\n",
    "    grad = np.dot(X.T, error)\n",
    "    return cost, grad\n",
    "\n",
    "def sigmoid(x):\n",
    "    return 1 / (1 + np.exp(-x))\n",
    "        \n",
    "def h_theta(X, w):\n",
    "    return sigmoid(X @ w)\n",
    "\n",
    "def output(pred):\n",
    "    return np.round(pred)\n",
    "\n",
    "w, i = mini_batch_GD(X_train, y_train, max_iter=5000)"
   ]
  },
  {
   "cell_type": "markdown",
   "metadata": {},
   "source": [
    "#### 2. Compute accuracy"
   ]
  },
  {
   "cell_type": "code",
   "execution_count": 16,
   "metadata": {},
   "outputs": [],
   "source": [
    "yhat = output(h_theta(X_test, w))"
   ]
  },
  {
   "cell_type": "markdown",
   "metadata": {},
   "source": [
    "### Classification metrics\n",
    "\n",
    "Let us study some classification metrics that are quite different from the $r^2$ or $mse$ that we see from the regression.  Let me define a confusion matrix that looks like this:\n",
    "\n",
    "<code>\n",
    "\t\t \t    Actual\n",
    "\t\t\t    +\t   -\n",
    "Predicted +     TP     FP\n",
    "          -     FN     TN\n",
    "</code>\n",
    "\n",
    "TP is defined as true positives, FP as false positives, FN as false negatives, and TN as true negatives.\n",
    "\n",
    "#### Accuracy, Recall, Precision, F1\n",
    "\n",
    "Accuracy is straightforward\n",
    "\n",
    "$$ Accuracy = \\frac{TP + TN}{TP + TN + FP + FN} $$\n",
    "\n",
    "Accuracy is mostly avoided, unless your model is really balanced of both positives and negatives.  Instead, more useful classification metrics would be precision, recall, and f1-score\n",
    "\n",
    "$$ Precision = TP / (TP + FP) $$\n",
    "\n",
    "Precision is useful as metric when you want to prioritize removing false positive.  Example is search engine in which you do not want to return any search results that are \"false positive\"\n",
    "\n",
    "$$ Recall = TP / (TP + FN) $$\n",
    "\n",
    "Recall is useful as metric when you want to prioritize removing false negative.  Example is cancer detection in which you do not want to miss detecting any real positive (i.e., false negative).\n",
    "\n",
    "$$ F1 = 2 x \\frac{Precision * Recall}{Precision+Recall} $$\n",
    "\n",
    "F1 is simply seeking a balance between Precision and Recall.  Also F1 is good metric when there is an uneven class distribution (large number of actual negatives)\n",
    "\n",
    "To get accuracy, recall, precision and f1 score, we can use **sklearn.metrics.classification_report**."
   ]
  },
  {
   "cell_type": "code",
   "execution_count": 17,
   "metadata": {},
   "outputs": [
    {
     "name": "stdout",
     "output_type": "stream",
     "text": [
      "=========Classification report=======\n",
      "              precision    recall  f1-score   support\n",
      "\n",
      "           0       0.79      0.81      0.80        73\n",
      "           1       0.81      0.79      0.80        77\n",
      "\n",
      "    accuracy                           0.80       150\n",
      "   macro avg       0.80      0.80      0.80       150\n",
      "weighted avg       0.80      0.80      0.80       150\n",
      "\n"
     ]
    }
   ],
   "source": [
    "from sklearn.metrics import classification_report\n",
    "print(\"=========Classification report=======\")\n",
    "print(classification_report(y_test, yhat))"
   ]
  },
  {
   "cell_type": "markdown",
   "metadata": {},
   "source": [
    "#### ROC\n",
    "\n",
    "An ROC curve shows the performance of one classification model at **all classification thresholds**. For example, if we set threshold to 0.4, then anything less than 0.4 will be negative class, and otherwise positive class.  To build the ROC curve, you iterate all possible threshold, and collect the TP, FP, TN, TP of all possible threshold.\n",
    "\n",
    "ROC curves typically feature true positive rate on the Y axis, and false positive rate on the X axis, where\n",
    "\n",
    "$$ TPR = TP / (TP + FN) $$\n",
    "\n",
    "$$ FPR = FP / (FP + TN) $$\n",
    "\n",
    "This means that the top left corner of the plot is the “ideal” point - a false positive rate of zero, and a true positive rate of one. This is not very realistic, but it does mean that a larger area under the curve (AUC) is usually better.\n",
    "\n",
    "To get area score under the curve, we can use **sklearn.metrics.roc_auc_score**"
   ]
  },
  {
   "cell_type": "code",
   "execution_count": 18,
   "metadata": {},
   "outputs": [
    {
     "name": "stdout",
     "output_type": "stream",
     "text": [
      "=========ROC AUC score=======\n",
      "0.8002134851449919\n"
     ]
    }
   ],
   "source": [
    "from sklearn.metrics import roc_auc_score\n",
    "print(\"=========ROC AUC score=======\")\n",
    "print(roc_auc_score(y_test, yhat))"
   ]
  },
  {
   "cell_type": "markdown",
   "metadata": {},
   "source": [
    "#### Precision-Recall\n",
    "\n",
    "Davis and Goadrich in this paper (https://ftp.cs.wisc.edu/machine-learning/shavlik-group/davis.icml06.pdf) propose that Precision-Recall (PR) metric will be more informative than ROC when dealing with highly skewed datasets. Because Precision is directly influenced by class imbalance so the Precision-recall are better to highlight differences between models for highly imbalanced data sets. When you compare different models with imbalanced settings, the area under the Precision-Recall curve will be more sensitive than the area under the ROC curve.\n",
    "\n",
    "Example of drawback of ROC curve\n",
    "\n",
    "- $TPR = TP / (TP + FN) $\n",
    "- $FPR = FP / (FP + TN) $\n",
    "\n",
    "======balanced data=====\n",
    "- n_sample = 500\n",
    "- pos = 250\n",
    "- neg = 250\n",
    "- Given the following confusion matrix\n",
    "\n",
    "<code>\n",
    "\t\t\tActual\n",
    "\t\t\t  +\t     -\n",
    "Predict.+     125     125\n",
    "        -     0       250\n",
    "</code>\n",
    "\n",
    "- $TPR = 125 / (125 + 0) = 1$\n",
    "- $FPR = 125 / 125 + 250 = 0.3$\n",
    "\n",
    "Looks ok!\n",
    "\n",
    "=====imbalanced data=======\n",
    "- n_sample = 500\n",
    "- pos = 30\n",
    "- neg = 470\n",
    "- Given the following confusion matrix\n",
    "\n",
    "<code>\n",
    "\t\t\tActual\n",
    "\t\t\t  +\t     -\n",
    "Predict.+     15     15\n",
    "        -     0      470\n",
    "</code>\n",
    "\n",
    "- $TPR = 15 / (15 + 0)$ = 1\n",
    "- $FPR = 15/ (15 + 470) {\\approx} 0$\n",
    "\n",
    "Perfect model??  How?  Because the amount of wrong positives is undermined by the great amount of negatives\n",
    "\n",
    "====Precision-Recall curve works much better for imbalanced=====\n",
    "\n",
    "- Precision =  TP / (TP + FP)\n",
    "- Recall = TP / (TP + FN)\n",
    "\n",
    "- Precision = 15 / (15 + 15) = 0.5. #minimize false positive\n",
    "- Recall = 15 / (15 + 0) = 1.   #minimize false negative\n",
    "\n",
    "Reflect much better!\n",
    "\n",
    "For precision-recall metric, we can use **sklearn.metrics.average_precision_score** which compute the ratio between recall and precision (read more here -->https://scikit-learn.org/stable/auto_examples/model_selection/plot_precision_recall.html#sphx-glr-auto-examples-model-selection-plot-precision-recall-py). \n",
    "\n",
    "**Note**: sklearn version of average_precision_score are typically used in binary classification to study the output of a classifier. In order to extend the precision-recall curve and average precision to multi-class or multi-label classification, it is necessary to **binarize** the output. I have demonstrated this at the multinomial logistic regression part"
   ]
  },
  {
   "cell_type": "code",
   "execution_count": 19,
   "metadata": {},
   "outputs": [
    {
     "name": "stdout",
     "output_type": "stream",
     "text": [
      "=========Average precision score=======\n",
      "0.7509956709956711\n"
     ]
    }
   ],
   "source": [
    "from sklearn.metrics import average_precision_score\n",
    "print(\"=========Average precision score=======\")\n",
    "print(average_precision_score(y_test, yhat))"
   ]
  },
  {
   "cell_type": "markdown",
   "metadata": {},
   "source": [
    "### Sklearn"
   ]
  },
  {
   "cell_type": "code",
   "execution_count": 20,
   "metadata": {},
   "outputs": [
    {
     "name": "stdout",
     "output_type": "stream",
     "text": [
      "=========Average precision score=======\n",
      "0.7537887683093162\n",
      "=========Classification report=======\n",
      "Report:                precision    recall  f1-score   support\n",
      "\n",
      "           0       0.78      0.82      0.80        73\n",
      "           1       0.82      0.78      0.80        77\n",
      "\n",
      "    accuracy                           0.80       150\n",
      "   macro avg       0.80      0.80      0.80       150\n",
      "weighted avg       0.80      0.80      0.80       150\n",
      "\n"
     ]
    }
   ],
   "source": [
    "from sklearn.linear_model import LogisticRegression\n",
    "from sklearn.preprocessing import label_binarize\n",
    "\n",
    "model = LogisticRegression()\n",
    "\n",
    "model.fit(X_train, y_train)\n",
    "yhat = model.predict(X_test)\n",
    "\n",
    "print(\"=========Average precision score=======\")\n",
    "print(average_precision_score(y_test, yhat))\n",
    "\n",
    "print(\"=========Classification report=======\")\n",
    "print(\"Report: \", classification_report(y_test, yhat))"
   ]
  },
  {
   "cell_type": "markdown",
   "metadata": {},
   "source": [
    "## 2. Multinomial Logistic Regression\n",
    "\n",
    "This is logistic regression when number of classes are more than 2.\n",
    "\n",
    "### Scratch\n",
    "\n",
    "**Implementation steps:**\n",
    "    \n",
    "The gradient descent has the following steps:\n",
    "\n",
    "1. Prepare your data\n",
    "    - add intercept\n",
    "    - $X$ and $y$ and $w$ in the right shape\n",
    "        - $X$ -> $(m, n)$\n",
    "        - $y$ -> $(m, k)$\n",
    "        - $w$ -> $(n, k)$\n",
    "        - where $k$ is number of classes\n",
    "    - train-test split\n",
    "    - feature scale\n",
    "    - clean out any missing data\n",
    "    - (optional) feature engineering\n",
    "2. Predict and calculate the loss\n",
    "    - The loss function $J$ is the cross entropy defined as\n",
    "    $$J = -\\Sigma_{i=1}^m y^{(i)}log(h)$$\n",
    "    where $h$ is defined as the softmax function as\n",
    "    $$ p(y = a \\mid \\theta) = \\frac{e^{\\theta^{T}_ax}}{\\Sigma_{i=1}^{k} e^{\\theta_k^{T}x}}$$\n",
    "3. Calculate the gradient of theta of feature $j$ based on the loss function $J$\n",
    "    - The gradient is defined as\n",
    "       $$\\frac{\\partial J}{\\partial \\theta_j} = \\Sigma_{i=1}^{m}(h^{(i)}-y^{(i)})x_j$$\n",
    "    - This gradient can be derived from the following simple example:\n",
    "        - Suppose given 2 classes (k = 2) and 3 features (n = 3), we have the loss function as\n",
    "       $$ J = -y_1 log h_1 - y_2 log h_2 $$\n",
    "       where $h_1$ and $h_2$ are\n",
    "       $$ h_1 = \\frac{\\exp(g_1)}{\\exp(g_1)+\\exp(g_2)} $$\n",
    "       $$ h_2 = \\frac{\\exp(g_2)}{\\exp(g_1)+\\exp(g_2)} $$\n",
    "       where $g_1$ and $g_2$ are\n",
    "       $$ g_1 = w_{11}x_1 + w_{21}x_2 + w_{31}x_3 $$\n",
    "       $$ g_2 = w_{12}x_1 + w_{22}x_2 + w_{32}x_3  $$\n",
    "       where in $w_{ij}$, $i$ stands for feature and $j$ stands for class \n",
    "    - For example, to find the gradient of $J$ in respect to $w_{21}$, we simply can use the chain rule (or backpropagation) to calculate like this:\n",
    "       $$ \\frac{\\partial J}{\\partial w_{21}} = \\frac{\\partial J}{\\partial h_{1}}\\frac{\\partial h_{1}}{\\partial g_{1}}\\frac{\\partial g_{1}}{\\partial w_{21}} + \\frac{\\partial J}{\\partial h_{2}}\\frac{\\partial h_{2}}{\\partial g_{1}}\\frac{\\partial g_{1}}{\\partial w_{21}}$$\n",
    "   - If we know each of them, it is easy, where\n",
    "       $$\\frac{\\partial J}{\\partial h_{1}} = -\\frac{y_1}{h_1}$$\n",
    "       $$\\frac{\\partial J}{\\partial h_{2}} = -\\frac{y_2}{h_2}$$\n",
    "       $$\\frac{\\partial h_{1}}{\\partial g_{1}} = \\frac{\\exp(g_{1})}{\\exp(g_{1}) + \\exp(g_{2})} - (\\frac{\\exp(g_1)}{\\exp(g_1)+\\exp(g_2)})^2 = h_1 (1 - h_1)$$\n",
    "       $$\\frac{\\partial h_{2}}{\\partial g_{1}} = \\frac{-exp(g_2)exp(g_1)}{(\\exp(g_1) + \\exp(g_2)^2} = -h_2h_1$$\n",
    "       $$\\frac{\\partial g_1}{\\partial w_{21}} = x_2$$\n",
    "    - For those who forgets how to do third and fourth, recall that the quotient rule\n",
    "        $$ (\\frac{f}{g})' = \\frac{f'g - fg'}{g^2}$$\n",
    "    - Putting everything together, we got\n",
    "$$\n",
    "\\begin{aligned}\n",
    "\\frac{\\partial J}{\\partial w_{21}} &= \\frac{\\partial J}{\\partial h_{1}}\\frac{\\partial h_{1}}{\\partial g_{1}}\\frac{\\partial g_{1}}{\\partial w_{21}} + \\frac{\\partial J}{\\partial h_{2}}\\frac{\\partial h_{2}}{\\partial g_{1}}\\frac{\\partial g_{1}}{\\partial w_{21}}\\\\\n",
    "&= -\\frac{y_1}{h_1} * h_1 (1 - h_1) * x_2 + -\\frac{y_2}{h_2} * -h_2h_1 * x_2 \\\\\n",
    "&= x_2 (-y_1 + y_1h_1 + y_2h_1)\\\\\n",
    "&= x_2 (-y_1 + h_1(y_1 + y_2))\\\\\n",
    "&= x_2 (h_1 - y_1)\\\\\n",
    "\\end{aligned}\n",
    "$$\n",
    "4. Update the theta with this update rule\n",
    "    $$\\theta_j := \\theta_j - \\alpha * \\frac{\\partial J}{\\partial \\theta_j}$$\n",
    "    where $\\alpha$ is a typical learning rate range between 0 and 1\n",
    "5. Loop 2-4 until max_iter is reached, or the difference between old loss and new loss are smaller than some predefined threshold tol"
   ]
  },
  {
   "cell_type": "markdown",
   "metadata": {},
   "source": [
    "### ===Task===\n",
    "\n",
    "Modify the above scratch code so that it works with multiclass problem.  Attempt to load the iris data and apply your code with it."
   ]
  },
  {
   "cell_type": "markdown",
   "metadata": {},
   "source": [
    "### Sklearn"
   ]
  },
  {
   "cell_type": "code",
   "execution_count": 21,
   "metadata": {},
   "outputs": [],
   "source": [
    "from sklearn import datasets\n",
    "from sklearn.preprocessing import StandardScaler\n",
    "from sklearn.model_selection import train_test_split\n",
    "import numpy as np\n",
    "import matplotlib.pyplot as plt\n",
    "\n",
    "#Step 1: Prepare data\n",
    "\n",
    "# import some data to play with\n",
    "iris = datasets.load_iris()\n",
    "X = iris.data[:, 2:]  # we only take the first two features.\n",
    "y = iris.target  #now our y is three classes thus require multinomial\n",
    "\n",
    "#feature scaling helps improve reach convergence faster\n",
    "scaler = StandardScaler()\n",
    "X = scaler.fit_transform(X)\n",
    "\n",
    "#data split\n",
    "X_train, X_test, y_train, y_test = train_test_split(X, y, test_size=0.3)\n",
    "\n",
    "#add intercept to our X\n",
    "intercept = np.ones((X_train.shape[0], 1))\n",
    "X_train = np.concatenate((intercept, X_train), axis=1)  #add intercept\n",
    "intercept = np.ones((X_test.shape[0], 1))\n",
    "X_test = np.concatenate((intercept, X_test), axis=1)  #add intercept"
   ]
  },
  {
   "cell_type": "code",
   "execution_count": 22,
   "metadata": {},
   "outputs": [
    {
     "name": "stdout",
     "output_type": "stream",
     "text": [
      "=========Average precision score=======\n",
      "Class 0 score:  1.0\n",
      "Class 1 score:  0.8742932281393822\n",
      "Class 2 score:  0.9080353710111496\n",
      "=========Classification report=======\n",
      "Report:                precision    recall  f1-score   support\n",
      "\n",
      "           0       1.00      1.00      1.00        15\n",
      "           1       0.92      0.92      0.92        13\n",
      "           2       0.94      0.94      0.94        17\n",
      "\n",
      "    accuracy                           0.96        45\n",
      "   macro avg       0.95      0.95      0.95        45\n",
      "weighted avg       0.96      0.96      0.96        45\n",
      "\n"
     ]
    }
   ],
   "source": [
    "from sklearn.linear_model import LogisticRegression\n",
    "from sklearn.preprocessing import label_binarize\n",
    "\n",
    "model = LogisticRegression(multi_class=\"ovr\")  #set this to multiclass=\"ovr\" to perform multinomial logistic\n",
    "\n",
    "model.fit(X_train, y_train)\n",
    "yhat = model.predict(X_test)\n",
    "\n",
    "print(\"=========Average precision score=======\")\n",
    "y_test_binarized = label_binarize(y_test, classes=[0, 1, 2])\n",
    "yhat_binarized = label_binarize(yhat, classes=[0, 1, 2])\n",
    "\n",
    "n_classes = len(np.unique(y_test))\n",
    "\n",
    "for i in range(n_classes):\n",
    "    class_score = average_precision_score(y_test_binarized[:, i], yhat_binarized[:, i])\n",
    "    print(f\"Class {i} score: \", class_score)\n",
    "\n",
    "print(\"=========Classification report=======\")\n",
    "print(\"Report: \", classification_report(y_test, yhat))"
   ]
  },
  {
   "cell_type": "markdown",
   "metadata": {},
   "source": [
    "## 3. Logistic Regression with Newton Raphson method\n",
    "\n",
    "Newton Raphson method is an alternative way to gradient descent in Logistic Regression.  Instead of simply looking at each step on the slope, we take a second derivative to find the curvature towards the derivatives = 0.  It is typically faster than normal gradient descent, but as the number of features grow, its performance can hurt due to matrix inverse and finding second derivatives.\n",
    "\n",
    "### Scratch\n",
    "\n",
    "**Implementation steps:**\n",
    "    \n",
    "1. Prepare your data\n",
    "    - add intercept\n",
    "    - $X$ and $y$ and $w$ in the right shape\n",
    "        - $X$ -> $(m, n)$\n",
    "        - $y$ -> $(m,  )$\n",
    "        - $w$ -> $(n,  )$\n",
    "    - train-test split\n",
    "    - feature scale\n",
    "    - clean out any missing data\n",
    "    - (optional) feature engineering\n",
    "2. Predict and calculate the loss\n",
    "    - The loss function is the cross entropy defined as\n",
    "    $$J = - \\Sigma_{i=1}^m y^{(i)}log(h) + (1-y^{(i)})log(1-h)$$\n",
    "    where h is defined as the sigmoid function as\n",
    "    $$h = \\frac{1}{1+e^{-\\theta^Tx}}$$\n",
    "3. Calculate the direction based on the curvature of $\\theta_j$ defined as\n",
    "    $$curv(\\theta_j) = H^{-1}(\\theta_j) \\nabla f(\\theta_j) $$\n",
    "    where $H^{-1}(\\theta_j)$ of $f$ is a matrix of size (n, n) of second derivatives in which $H_{ij} = \\frac{\\partial^2f}{\\partial w_i \\partial w_j}$  and $\\nabla f$ is the gradient of f, its vector of size (n, ) of partial derivatives $[\\frac{\\partial f}{\\partial w_1}, \\frac{\\partial f}{\\partial w_2},.... \\frac{\\partial f}{\\partial w_p}]$\n",
    "    - To make our program easy to implement, we can derive that \n",
    "        $$H = X^TSX$$\n",
    "      where $S$ is a diagonal matrix of the first derivative, i.e., $h(1-h)$\n",
    "4. Update the theta with this update rule\n",
    "    $$\\theta_j := \\theta_j - curv$$\n",
    "5. Loop 2-4 until max_iter is reached, or the difference between old loss and new loss are smaller than some predefined threshold tol"
   ]
  },
  {
   "cell_type": "markdown",
   "metadata": {},
   "source": [
    "#### Step 1: Prepare your data\n",
    "\n",
    "#### 1.1 Get your X and y in the right shape"
   ]
  },
  {
   "cell_type": "code",
   "execution_count": 23,
   "metadata": {},
   "outputs": [
    {
     "data": {
      "text/plain": [
       "<matplotlib.collections.PathCollection at 0x11ef68bd0>"
      ]
     },
     "execution_count": 23,
     "metadata": {},
     "output_type": "execute_result"
    },
    {
     "data": {
      "image/png": "[encoded data removed]",
      "text/plain": [
       "<Figure size 432x288 with 1 Axes>"
      ]
     },
     "metadata": {
      "needs_background": "light"
     },
     "output_type": "display_data"
    }
   ],
   "source": [
    "#generate quite a lot of noise\n",
    "#with only 4 informative features out of 10\n",
    "#with 2 redundant features, overlapping with that 4 informative features\n",
    "#and 4 noisy features\n",
    "#Also, make std wider using n_clusters=2\n",
    "X, y = make_classification(n_samples=500, n_features=5, n_redundant=1, n_informative=4,\n",
    "                             n_clusters_per_class=2, random_state=14)\n",
    "plt.scatter(X[:, 0], X[:, 1], marker='o', c=y,\n",
    "            s=25, edgecolor='k')"
   ]
  },
  {
   "cell_type": "markdown",
   "metadata": {},
   "source": [
    "#### 1.2 Feature scale your data to reach faster convergence"
   ]
  },
  {
   "cell_type": "code",
   "execution_count": 24,
   "metadata": {},
   "outputs": [],
   "source": [
    "#feature scaling helps improve reach convergence faster\n",
    "scaler = StandardScaler()\n",
    "X = scaler.fit_transform(X)"
   ]
  },
  {
   "cell_type": "markdown",
   "metadata": {},
   "source": [
    "#### 1.3 Train test split your data"
   ]
  },
  {
   "cell_type": "code",
   "execution_count": 25,
   "metadata": {},
   "outputs": [],
   "source": [
    "X_train, X_test, y_train, y_test = train_test_split(X, y, test_size=0.3)"
   ]
  },
  {
   "cell_type": "markdown",
   "metadata": {},
   "source": [
    "#### 1.4 Add intercepts"
   ]
  },
  {
   "cell_type": "code",
   "execution_count": 26,
   "metadata": {},
   "outputs": [],
   "source": [
    "intercept = np.ones((X_train.shape[0], 1))\n",
    "X_train = np.concatenate((intercept, X_train), axis=1)  #add intercept\n",
    "intercept = np.ones((X_test.shape[0], 1))\n",
    "X_test = np.concatenate((intercept, X_test), axis=1)  #add intercept"
   ]
  },
  {
   "cell_type": "markdown",
   "metadata": {},
   "source": [
    "#### Step 2: Fit your algorithm \n",
    "\n",
    "#### 1. Define your algorithm"
   ]
  },
  {
   "cell_type": "code",
   "execution_count": 27,
   "metadata": {},
   "outputs": [
    {
     "name": "stdout",
     "output_type": "stream",
     "text": [
      "Cost at iteration 0 -0.6931471805599452\n",
      "Cost at iteration 500 -0.628399709969696\n",
      "Cost at iteration 1000 -0.5429168730101\n",
      "Cost at iteration 1500 -0.4788427495905634\n",
      "Cost at iteration 2000 -0.47292285509564547\n",
      "Cost at iteration 2500 -0.5436870160382086\n",
      "Cost at iteration 3000 -0.4160014033835148\n",
      "Cost at iteration 3500 -0.5210290756028056\n",
      "Cost at iteration 4000 -0.5093314450002632\n",
      "Cost at iteration 4500 -0.6158724620581006\n"
     ]
    }
   ],
   "source": [
    "#here I use mini-batch as a demonstration\n",
    "#you are free to use any variants of gradient descent\n",
    "def newton(X, y, max_iter=1000):\n",
    "    w = np.zeros(X.shape[1])\n",
    "    l_rate = 0.01\n",
    "    #10% of data\n",
    "    batch_size = int(0.1 * X.shape[0])\n",
    "    for i in range(max_iter):\n",
    "        ix = np.random.randint(0, X.shape[0])\n",
    "        batch_X = X[ix:ix+batch_size]\n",
    "        batch_y = y[ix:ix+batch_size]\n",
    "        cost, second, first = newton_curve(batch_X, batch_y, w)\n",
    "        if i % 500 == 0:\n",
    "            print(f\"Cost at iteration {i}\", cost)\n",
    "        H_inverse = np.linalg.pinv(second)\n",
    "        w = w - l_rate * H_inverse @ first\n",
    "    return w, i\n",
    "\n",
    "def newton_curve(X, y, w):\n",
    "    m = X.shape[0]\n",
    "    h = h_theta(X, w)\n",
    "    error = h - y\n",
    "    cost = -(np.sum(-y * np.log(h) - (1 - y) * np.log(1 - h)))\n",
    "    first = (1/m) * np.dot(X.T, error)\n",
    "    second = X.T @ np.diag((h) * (1-h)) @ X\n",
    "    return cost, second, first\n",
    "\n",
    "def sigmoid(x):\n",
    "    return 1 / (1 + np.exp(-x))\n",
    "        \n",
    "def h_theta(X, w):\n",
    "    return sigmoid(X @ w)\n",
    "\n",
    "def output(pred):\n",
    "    return np.round(pred)\n",
    "\n",
    "w, i = newton(X_train, y_train, max_iter=5000)"
   ]
  },
  {
   "cell_type": "markdown",
   "metadata": {},
   "source": [
    "#### 2. Compute accuracy"
   ]
  },
  {
   "cell_type": "code",
   "execution_count": 28,
   "metadata": {},
   "outputs": [
    {
     "name": "stdout",
     "output_type": "stream",
     "text": [
      "=========Average precision score=======\n",
      "0.7128245892951774\n",
      "=========Classification report=======\n",
      "Report:                precision    recall  f1-score   support\n",
      "\n",
      "           0       0.76      0.82      0.78        76\n",
      "           1       0.79      0.73      0.76        74\n",
      "\n",
      "    accuracy                           0.77       150\n",
      "   macro avg       0.78      0.77      0.77       150\n",
      "weighted avg       0.77      0.77      0.77       150\n",
      "\n"
     ]
    }
   ],
   "source": [
    "yhat = output(h_theta(X_test, w))\n",
    "print(\"=========Average precision score=======\")\n",
    "print(average_precision_score(y_test, yhat))\n",
    "print(\"=========Classification report=======\")\n",
    "print(\"Report: \", classification_report(y_test, yhat))"
   ]
  },
  {
   "cell_type": "markdown",
   "metadata": {},
   "source": [
    "### Sklearn"
   ]
  },
  {
   "cell_type": "code",
   "execution_count": 29,
   "metadata": {},
   "outputs": [
    {
     "name": "stdout",
     "output_type": "stream",
     "text": [
      "=========Average precision score=======\n",
      "0.741981981981982\n",
      "=========Classification report=======\n",
      "Report:                precision    recall  f1-score   support\n",
      "\n",
      "           0       0.81      0.80      0.81        76\n",
      "           1       0.80      0.81      0.81        74\n",
      "\n",
      "    accuracy                           0.81       150\n",
      "   macro avg       0.81      0.81      0.81       150\n",
      "weighted avg       0.81      0.81      0.81       150\n",
      "\n"
     ]
    }
   ],
   "source": [
    "model = LogisticRegression()  #set this to multiclass=\"ovr\" to perform multinomial logistic\n",
    "\n",
    "model.fit(X_train, y_train)\n",
    "yhat = model.predict(X_test)\n",
    "\n",
    "print(\"=========Average precision score=======\")\n",
    "print(average_precision_score(y_test, yhat))\n",
    "print(\"=========Classification report=======\")\n",
    "print(\"Report: \", classification_report(y_test, yhat))"
   ]
  },
  {
   "cell_type": "markdown",
   "metadata": {},
   "source": [
    "### When to Use Logistic Regression\n",
    "\n",
    "Almost always, as a baseline though!  Logistic Regression make an assumption based on linearity and as long as your data is approximately linear, Logistic Regression work fantastic.  There are also some clear advantages:\n",
    "- They are quite fast for both training and prediction\n",
    "- They have very few (if any) tunable parameters\n",
    "- Descent algorithms works well with Logistic Regression\n",
    "\n",
    "The only problem of Logistic Regression lies on its limitation of linearity.  I would usually try Naive Bayesian, followed by Logistic Regression as baseline.  And if the accuracy is quite low, I would try other non-linear classification models such as SVM or KNN or Decision Tree."
   ]
  },
  {
   "cell_type": "code",
   "execution_count": null,
   "metadata": {},
   "outputs": [],
   "source": []
  }
 ],
 "metadata": {
  "kernelspec": {
   "display_name": "Python 3",
   "language": "python",
   "name": "python3"
  },
  "language_info": {
   "codemirror_mode": {
    "name": "ipython",
    "version": 3
   },
   "file_extension": ".py",
   "mimetype": "text/x-python",
   "name": "python",
   "nbconvert_exporter": "python",
   "pygments_lexer": "ipython3",
   "version": "3.8.6"
  }
 },
 "nbformat": 4,
 "nbformat_minor": 4
}
