{
 "cells": [
  {
   "cell_type": "markdown",
   "metadata": {},
   "source": [
    "# Programming for Data Science and Artificial Intelligence\n",
    "\n",
    "## 9.1 Deep Learning - Neural Network\n",
    "\n",
    "### Readings\n",
    "\n",
    "- [WEIDMAN] Ch1,2\n",
    "- [CHARU] Ch1"
   ]
  },
  {
   "cell_type": "code",
   "execution_count": 1,
   "metadata": {},
   "outputs": [],
   "source": [
    "import matplotlib.pyplot as plt\n",
    "import matplotlib\n",
    "import numpy as np\n",
    "from numpy import ndarray\n",
    "%matplotlib inline\n",
    "\n",
    "from typing import Callable\n",
    "from typing import Dict"
   ]
  },
  {
   "cell_type": "markdown",
   "metadata": {},
   "source": [
    "## Foundations\n",
    "\n",
    "To understand the essence of Neural Network, you are required to understand these components:\n",
    "\n",
    "1. Functions\n",
    "2. Derivatives\n",
    "3. Nested Functions\n",
    "4. The Chain Rule\n",
    "    - Simple example\n",
    "    - Longer example\n",
    "    - Multiple inputs\n",
    "    - Multiple vector inputs\n",
    "    - 2D matrix inputs\n",
    "    \n",
    "To make sure we understand, we shall use 3 perspectives - (1) Math, (2) Diagrams, and (3) Code\n",
    "   \n",
    "### Functions\n",
    "\n",
    "Here are two examples of functions, described in mathematical notation, where this notation is typically *non-standard*:\n",
    "\n",
    "#### Mathematical representations\n",
    "\n",
    "A function $f_1$ that takes one **input** $x$ and **output** $x^2$\n",
    "\n",
    "$$f_1(x) = x^2$$\n",
    "\n",
    "Here is another function $f_2$ that takes one **input** $x$ and **output** $max(x, 0)$\n",
    "\n",
    "$$f_2(x) = max(x, 0)$$\n",
    "\n",
    "#### Diagrams\n",
    "\n",
    "Diagrams are another useful way to depict.  Not so useful for calculus, but useful when thniking about deep learning mdoels.\n",
    "\n",
    "<img src = \"figures/functions.png\" width=400>\n",
    "\n",
    "#### Code\n",
    "\n",
    "Of course, as our name of our class suggests, last way to think about functions are using the code format.  Throughout our exploration of Neural Network, we shall use Numpy as our tool to understand Neural Network, as well as enhance our skills in Numpy and Python in general.  The code of $f_1$ and $f_2$ are given below:"
   ]
  },
  {
   "cell_type": "code",
   "execution_count": 2,
   "metadata": {},
   "outputs": [],
   "source": [
    "def square(x: ndarray) -> ndarray:\n",
    "    '''\n",
    "    Square each element in the input ndarray.\n",
    "    '''\n",
    "    return np.power(x, 2)\n",
    "\n",
    "def leaky_relu(x: ndarray) -> ndarray:\n",
    "    '''\n",
    "    Apply \"Leaky ReLU\" function to each element in ndarray\n",
    "    '''\n",
    "    return np.maximum(0.2 * x, x)\n",
    "\n",
    "def sigmoid(x: ndarray) -> ndarray:\n",
    "    '''\n",
    "    Apply the sigmoid function to each element in the input ndarray.\n",
    "    '''\n",
    "    return 1 / (1 + np.exp(-x))"
   ]
  },
  {
   "cell_type": "code",
   "execution_count": 3,
   "metadata": {},
   "outputs": [
    {
     "data": {
      "text/plain": [
       "Text(0, 0.5, 'output')"
      ]
     },
     "execution_count": 3,
     "metadata": {},
     "output_type": "execute_result"
    },
    {
     "data": {
      "image/png": "[encoded data removed]",
      "text/plain": [
       "<Figure size 864x432 with 2 Axes>"
      ]
     },
     "metadata": {
      "needs_background": "light"
     },
     "output_type": "display_data"
    }
   ],
   "source": [
    "fig, ax = plt.subplots(1, 2, sharey=True, figsize=(12, 6))  # 2 Rows, 1 Col\n",
    "\n",
    "input_range = np.arange(-2, 2, 0.01)\n",
    "ax[0].plot(input_range, square(input_range))\n",
    "ax[0].plot(input_range, square(input_range))\n",
    "ax[0].set_title('Square function')\n",
    "ax[0].set_xlabel('input')\n",
    "ax[0].set_ylabel('input')\n",
    "\n",
    "ax[1].plot(input_range, leaky_relu(input_range))\n",
    "ax[1].plot(input_range, leaky_relu(input_range))\n",
    "ax[1].set_title('\"ReLU\" function')\n",
    "ax[1].set_xlabel('input')\n",
    "ax[1].set_ylabel('output')"
   ]
  },
  {
   "cell_type": "markdown",
   "metadata": {},
   "source": [
    "### Derivatives\n",
    "\n",
    "Derivative of a **function** at a **point** is the **rate of change** of the **output** of the function with respect to its **input** at that point. \n",
    "\n",
    "Rate of change is simply a ratio between change in one variable divided by change in another variable.\n",
    "\n",
    "$$\\text{rate of change} = \\frac{\\text{change in variable 1}}{\\text{change in variable 2}}$$\n",
    "\n",
    "If we tried all points, it become a derivative of the whole function.\n",
    "\n",
    "#### Mathematical representations\n",
    "\n",
    "How much the output of $f$ changes as we change its input at a particular value $a$ of the input, can be described as limit:\n",
    "\n",
    "$$ \\frac{df}{da} = \n",
    "\\lim_{\\Delta \\to 0} \\frac{{f \\left( {a + \\Delta } \\right) - f\\left(a - \\Delta \\right)}}{2 * \\Delta } $$\n",
    "\n",
    "This limit can be approximated numerically by setting a very small value for $\\Delta$, such as 0.001, so we can compute the derivative as\n",
    "\n",
    "$$ \\frac{df}{da} = \n",
    "\\lim_{\\Delta \\to 0} \\frac{{f \\left( {a + 0.001 } \\right) - f\\left(a - 0.001 \\right)}}{0.002} $$\n",
    "\n",
    "#### Diagrams\n",
    "\n",
    "If we draw a tangent line to the function $f$, the derivative of $f$ at point $a$ is just the slope of this line at $a$.  One easy way to find the slope is to use Calculus.  Another way is to use limits.\n",
    "\n",
    "<img src = \"figures/derivatives.png\" width=400>\n",
    "\n",
    "As an exercise, try find the derivative of a **square** function when $x = 2$.  Then attempt to verify using calculus.\n",
    "\n",
    "<img src = \"figures/derivatives2.png\" width=400>\n",
    "\n",
    "Here is the calculations:\n",
    "\n",
    "$$ \\frac{df}{dx} = \\frac{2.001^2 - 1.999^2}{0.002} = 4 $$\n",
    "\n",
    "We can also get this number 4 using calculus\n",
    "\n",
    "$$ \\frac{df(x^2)}{dx} = 2x$$\n",
    "\n",
    "Replace $x$ with 2, we get\n",
    "\n",
    "$2(2) = 4$\n",
    "\n",
    "**The key question of derivative is here, so what does 4 here means?**\n",
    "\n",
    "This 4 means that **for every 0.001 increase when $x=2$, it will increase 4 $\\times$ 0.001 in the output**.\n",
    "\n",
    "We can easily verify this:\n",
    "\n",
    "$$2.001^2 = 4.004$$\n",
    "\n",
    "Thus, to rephrase our definition of derivative in the context of this example, derivative of the square function is the **rate of change** of the output $4$ in respect to its input $x = 2$.  \n",
    "\n",
    "Here we found that the rate of change is $4$, which mean every 1 unit increase in $x = 2$ will increase 4 units on the output.   Similarly, this rate of change will change for other points.  For example, if $x = 3$, then the rate of change is $6$ (verify by yourself).   When we tried different x, and we get different corresponding rate of change, we are getting a **derivative function** which describe the derivatives at every point $x$\n",
    "\n",
    "#### Code\n",
    "\n",
    "Finally, we can code up the derivative function as below:"
   ]
  },
  {
   "cell_type": "code",
   "execution_count": 4,
   "metadata": {},
   "outputs": [
    {
     "data": {
      "text/plain": [
       "3.9999999999995595"
      ]
     },
     "execution_count": 4,
     "metadata": {},
     "output_type": "execute_result"
    }
   ],
   "source": [
    "from typing import Callable\n",
    "\n",
    "# Here, my Callable takes in an ndarray as an argument and produces an ndarray\n",
    "def deriv(func: Callable[[ndarray], ndarray],\n",
    "          input_: ndarray,\n",
    "          diff: float = 0.001) -> ndarray:\n",
    "    '''\n",
    "    Evaluates the derivative of a function \"func\" at every element in the \"input_\" array.\n",
    "    '''\n",
    "    return (func(input_ + diff) - func(input_ - diff)) / (2 * diff)\n",
    "\n",
    "deriv(square, 2)"
   ]
  },
  {
   "cell_type": "markdown",
   "metadata": {},
   "source": [
    "### Nested Functions\n",
    "\n",
    "Functions can be nested to form **composite** functions.  \n",
    "\n",
    "#### Mathematical representations\n",
    "\n",
    "If we have two functions, let's say $f_1$ and $f_2$, the output of one of the functions becomes the input to the next one, \n",
    "\n",
    "$$ f_2(f_1(x)) = y $$\n",
    "\n",
    "This is a little bit counterintuitive but this reads first apply $f_1$ to $x$, then apply $f_2$ to the result of applying $f_1$ to $x$\n",
    "\n",
    "#### Diagrams\n",
    "\n",
    "The most natural way to represent a nested function is with the \"minifactory\" or \"box\" representations as follows:\n",
    "\n",
    "<img src = \"figures/nested.png\" width=400>\n",
    "\n",
    "#### Code\n",
    "\n",
    "First, we'll define a data typoe for nested functions and called it *Chain*"
   ]
  },
  {
   "cell_type": "code",
   "execution_count": 5,
   "metadata": {},
   "outputs": [],
   "source": [
    "from typing import List\n",
    "\n",
    "# A Function takes in an ndarray as an argument and produces an ndarray\n",
    "Array_Function = Callable[[ndarray], ndarray]\n",
    "\n",
    "# A Chain is a list of functions\n",
    "Chain = List[Array_Function]"
   ]
  },
  {
   "cell_type": "markdown",
   "metadata": {},
   "source": [
    "Then we'll define how data goes through a chain, first of length 2"
   ]
  },
  {
   "cell_type": "code",
   "execution_count": 6,
   "metadata": {},
   "outputs": [],
   "source": [
    "def chain_length_2(chain: Chain,\n",
    "                   x: ndarray) -> ndarray:\n",
    "    '''\n",
    "    Evaluates two functions in a row, in a \"Chain\".\n",
    "    '''\n",
    "    assert len(chain) == 2, \\\n",
    "    \"Length of input 'chain' should be 2\"\n",
    "\n",
    "    f1 = chain[0]\n",
    "    f2 = chain[1]\n",
    "\n",
    "    return f2(f1(x))"
   ]
  },
  {
   "cell_type": "markdown",
   "metadata": {},
   "source": [
    "Let's try some simple example that the code works"
   ]
  },
  {
   "cell_type": "code",
   "execution_count": 7,
   "metadata": {},
   "outputs": [
    {
     "data": {
      "text/plain": [
       "0.9820137900379085"
      ]
     },
     "execution_count": 7,
     "metadata": {},
     "output_type": "execute_result"
    }
   ],
   "source": [
    "chain_1 = [square, sigmoid]\n",
    "chain_length_2(chain_1, 2)"
   ]
  },
  {
   "cell_type": "markdown",
   "metadata": {},
   "source": [
    "### The Chain rule\n",
    "\n",
    "The chain rule is a mathematical theorem that compute derivatives of composite functions.\n",
    "\n",
    "#### Mathematical representations\n",
    "\n",
    "Mathematically, the theorem states that, in the context of the above composite function, the derivatives of the composite function for a given value $x$ is\n",
    "\n",
    "$$ \\frac{df_2}{dx}(x) = \\frac{df_2}{du}(f_1(x)) * \\frac{df_1}{dx}(x) $$\n",
    "\n",
    "where $u$ is simply a dummy variable representing the input to a function\n",
    "\n",
    "#### Diagrams\n",
    "\n",
    "The idea behind is that the derivative of the composite function should be a sort of product of the derivatives of its constituent functions.\n",
    "\n",
    "![](figures/chainrule2.png)\n",
    "\n",
    "Let's say that we feed the value 5 into the first function, and let's say further that computing the derivative of the first function at $x = 5$ gives us a value of 3, i.e., $\\frac{df_1(5)}{dx} = 3$.\n",
    "\n",
    "Let's say that we then take the value of the function that comes out of the first box — let’s suppose it is 1, so that $f_1(5) = 1$ and compute the derivative of the second function $f_2$ at this value: we found that, $\\frac{df_2(1)}{dx} = -2$. \n",
    "\n",
    "If we think about these functions as being literally strung together, then if changing the input to box two by 1 unit yields a change of –2 units in the output of box two, changing the input to box two by 3 units should change the output to box two by –2 × 3 = –6 units. This is why in the formula for the chain rule, the final result is ultimately a product: \n",
    "\n",
    "$$ \\frac{df_2}{dx}(x) = \\frac{df_2}{du}(f_1(x)) * \\frac{df_1}{dx}(x) $$\n",
    "\n",
    "#### Code\n",
    "\n",
    "Let's code this up along with <code>sigmoid</code>."
   ]
  },
  {
   "cell_type": "code",
   "execution_count": 8,
   "metadata": {},
   "outputs": [],
   "source": [
    "def chain_deriv_2(chain: Chain,\n",
    "                  x: ndarray) -> ndarray:\n",
    "    '''\n",
    "    Uses the chain rule to compute the derivative of two nested functions:\n",
    "    (f2(f1(x))' = f2'(f1(x)) * f1'(x)\n",
    "    '''\n",
    "\n",
    "    assert len(chain) == 2, \\\n",
    "    \"This function requires 'Chain' objects of length 2\"\n",
    "\n",
    "    f1 = chain[0]\n",
    "    f2 = chain[1]\n",
    "\n",
    "    # df1/dx\n",
    "    f1_of_x = f1(x)\n",
    "\n",
    "    # df1/dx\n",
    "    df1dx = deriv(f1, x)\n",
    "\n",
    "    # df2/du(f1(x))\n",
    "    df2du = deriv(f2, f1(x))\n",
    "\n",
    "    # Multiplying these quantities together at each point\n",
    "    return df1dx * df2du"
   ]
  },
  {
   "cell_type": "code",
   "execution_count": 9,
   "metadata": {},
   "outputs": [
    {
     "name": "stdout",
     "output_type": "stream",
     "text": [
      "Forward:  0.9820137900379085\n",
      "Backward:  0.0706508353807067\n"
     ]
    }
   ],
   "source": [
    "chain = [square, sigmoid]\n",
    "\n",
    "forward_pass = chain_length_2(chain, 2)\n",
    "print(\"Forward: \", forward_pass)\n",
    "\n",
    "backward_pass = chain_deriv_2(chain, 2)\n",
    "print(\"Backward: \", backward_pass)\n"
   ]
  },
  {
   "cell_type": "markdown",
   "metadata": {},
   "source": [
    "To verify, we can do a manual calculation:"
   ]
  },
  {
   "cell_type": "code",
   "execution_count": 10,
   "metadata": {},
   "outputs": [
    {
     "name": "stdout",
     "output_type": "stream",
     "text": [
      "Forward:  0.07065082585744342\n"
     ]
    }
   ],
   "source": [
    "delta_1 = chain_length_2(chain, 2 + 0.0001)\n",
    "delta_2 = chain_length_2(chain, 2 - 0.0001)\n",
    "manual_deriv = (delta_1 - delta_2)/ 0.0002\n",
    "\n",
    "print(\"Forward: \", manual_deriv)"
   ]
  },
  {
   "cell_type": "markdown",
   "metadata": {},
   "source": [
    "This manual_deriv means that if we increase the input to the composite function by 0.0001 unit, it will increase the output by <code>manual_deriv</code> * 0.001.  \n",
    "\n",
    "Let's check whether that's true."
   ]
  },
  {
   "cell_type": "code",
   "execution_count": 11,
   "metadata": {},
   "outputs": [
    {
     "name": "stdout",
     "output_type": "stream",
     "text": [
      "forward_pass_increase:  0.9820208539349344\n",
      "forward manual:  0.9820208551204942\n"
     ]
    }
   ],
   "source": [
    "forward_pass_increase = chain_length_2(chain, 2 + 0.0001)\n",
    "print(\"forward_pass_increase: \", forward_pass_increase)\n",
    "\n",
    "rate_of_change = manual_deriv * 0.0001\n",
    "forward_pass = chain_length_2(chain, 2)\n",
    "print(\"forward manual: \", forward_pass + rate_of_change)"
   ]
  },
  {
   "cell_type": "markdown",
   "metadata": {},
   "source": [
    "### Slightly Longer Example\n",
    "\n",
    "Let's look at a slighly longer example including $f_1, f_2, f_3$\n",
    "\n",
    "#### Mathematical representations\n",
    "\n",
    "Mathematically, the result turns out to be the following expression:\n",
    "\n",
    "$$ \\frac{df_3}{dx}(x) = \\frac{df_3}{du}(f_2(f_1(x))) * \\frac{df_2}{du}(f_1(x)) * \\frac{df_1}{dx}(x) $$\n",
    "\n",
    "\n",
    "#### Diagrams\n",
    "\n",
    "Here is the equivalent diagram:\n",
    "\n",
    "<img src = \"figures/chain_3.png\" width=400>\n",
    "\n",
    "#### Code\n",
    "\n",
    "Interestingly, already in this simple example, we see the beginnings of what will become the forward and backward passes of a neural network"
   ]
  },
  {
   "cell_type": "code",
   "execution_count": 12,
   "metadata": {},
   "outputs": [],
   "source": [
    "def chain_length_3(chain: Chain,\n",
    "                   x: ndarray) -> ndarray:\n",
    "    '''\n",
    "    Evaluates three functions in a row, in a \"Chain\".\n",
    "    '''\n",
    "    assert len(chain) == 3, \\\n",
    "    \"Length of input 'chain' should be 3\"\n",
    "\n",
    "    f1 = chain[0]\n",
    "    f2 = chain[1]\n",
    "    f3 = chain[2]\n",
    "\n",
    "    return f3(f2(f1(x)))"
   ]
  },
  {
   "cell_type": "code",
   "execution_count": 13,
   "metadata": {},
   "outputs": [],
   "source": [
    "def chain_deriv_3(chain: Chain,\n",
    "                  x: ndarray) -> ndarray:\n",
    "    '''\n",
    "    Uses the chain rule to compute the derivative of three nested functions:\n",
    "    (f3(f2(f1)))' = f3'(f2(f1(x))) * f2'(f1(x)) * f1'(x)\n",
    "    '''\n",
    "\n",
    "    assert len(chain) == 3, \\\n",
    "    \"This function requires 'Chain' objects to have length 3\"\n",
    "\n",
    "    f1 = chain[0]\n",
    "    f2 = chain[1]\n",
    "    f3 = chain[2]\n",
    "\n",
    "    # f1(x)\n",
    "    f1_of_x = f1(x)\n",
    "\n",
    "    # f2(f1(x))\n",
    "    f2_of_x = f2(f1_of_x)\n",
    "\n",
    "    # df3du\n",
    "    df3du = deriv(f3, f2_of_x)\n",
    "\n",
    "    # df2du\n",
    "    df2du = deriv(f2, f1_of_x)\n",
    "\n",
    "    # df1dx\n",
    "    df1dx = deriv(f1, x)\n",
    "\n",
    "    # Multiplying these quantities together at each point\n",
    "    return df1dx * df2du * df3du"
   ]
  },
  {
   "cell_type": "markdown",
   "metadata": {},
   "source": [
    "Let's verify this with $x = -4$"
   ]
  },
  {
   "cell_type": "code",
   "execution_count": 14,
   "metadata": {},
   "outputs": [
    {
     "name": "stdout",
     "output_type": "stream",
     "text": [
      "Forward:  0.6547534606063192\n",
      "Backward:  -0.07233643296206184\n"
     ]
    }
   ],
   "source": [
    "chain = [leaky_relu, square, sigmoid]\n",
    "\n",
    "forward_pass = chain_length_3(chain, -4)\n",
    "print(\"Forward: \", forward_pass)\n",
    "\n",
    "backward_pass = chain_deriv_3(chain, -4)\n",
    "print(\"Backward: \", backward_pass)"
   ]
  },
  {
   "cell_type": "markdown",
   "metadata": {},
   "source": [
    "Here, I will simply skip performing the manual_deriv and simply use backward_pass.  This backward_pass means that if we increase the input at point -4 to the composite function by 0.1 unit, it will increase the output by <code>backward_pass</code> * 0.1.  \n",
    "\n",
    "Let's check whether that's true."
   ]
  },
  {
   "cell_type": "code",
   "execution_count": 15,
   "metadata": {},
   "outputs": [
    {
     "name": "stdout",
     "output_type": "stream",
     "text": [
      "forward_pass_increase:  0.6475757341144874\n",
      "forward manual:  0.647519817310113\n"
     ]
    }
   ],
   "source": [
    "forward_pass_increase = chain_length_3(chain, -4 + 0.1)\n",
    "print(\"forward_pass_increase: \", forward_pass_increase)\n",
    "\n",
    "rate_of_change = backward_pass * 0.1\n",
    "forward_pass = chain_length_3(chain, -4)\n",
    "print(\"forward manual: \", forward_pass + rate_of_change)"
   ]
  },
  {
   "cell_type": "markdown",
   "metadata": {},
   "source": [
    "### Functions with Multiple Inputs\n",
    "\n",
    "By this point, we have a conceptual understanding of how functions can be strung together to form composite functions. We also have a sense of how to represent these functions as series of boxes that inputs go into and outputs come out of. Finally, we’ve walked through how to compute the derivatives of these functions so that we understand these derivatives both mathematically and as quantities computed via a step-by-step process with a “forward” and “backward” component.\n",
    "\n",
    "Oftentimes, the functions we deal with in deep learning don’t have just one input. Instead, they have several inputs that at certain steps are added together, multiplied, or otherwise combined. As we’ll see, computing the derivatives of the outputs of these functions with respect to their inputs is still no problem: let’s consider a very simple scenario with multiple inputs, where two inputs are added together and then fed through another function.\n",
    "\n",
    "#### Mathematical representations\n",
    "\n",
    "If our inputs are x and y, then we could think of the function as occurring in two steps. \n",
    "\n",
    "In Step 1, $x$ and $y$ are fed through a function that adds them together. We’ll denote that function as $\\alpha$ (we’ll use Greek letters to refer to function names throughout) and the output of the function as $a$\n",
    "\n",
    "$$ a = \\alpha(x, y) = x + y $$\n",
    "\n",
    "Step 2 would be to feed a through some function $\\sigma$ ($\\sigma$ can be any continuous function, such as sigmoid, or the square function, or even a function whose name doesn’t start with s). We’ll denote the output of this function as s:\n",
    "\n",
    "$$ s = \\sigma(a) $$\n",
    "\n",
    "We could, equivalently, denote the entire function as $f$ and write:\n",
    "\n",
    "$$ f(x, y) = \\sigma(\\alpha(x, y)) $$\n",
    "\n",
    "Since we have two inputs, $x$ and $y$, we shall find the derivatives of the composite function in respect bo both $x$ and $y$.  Thus, we shall use partial derivatives.\n",
    "\n",
    "$$ \\frac{\\partial f}{\\partial x} = \\frac{\\partial \\sigma}{\\partial u}(\\alpha(x, y)) * \\frac{\\partial \\alpha}{\\partial x}((x, y))$$\n",
    "\n",
    "$$ \\frac{\\partial f}{\\partial y} = \\frac{\\partial \\sigma}{\\partial u}(\\alpha(x, y)) * \\frac{\\partial \\alpha}{\\partial y}((x, y))$$\n",
    "\n",
    "Now note that:\n",
    "\n",
    "$$\\frac{\\partial \\alpha}{\\partial x}((x, y)) = 1$$\n",
    "\n",
    "$$\\frac{\\partial \\alpha}{\\partial y}((x, y)) = 1$$\n",
    "\n",
    "since for every unit increase in $x$, a increases by one unit, no matter the value of x (the same holds for y).\n",
    "\n",
    "#### Diagrams\n",
    "\n",
    "Here is the equivalent diagram:\n",
    "\n",
    "<img src = \"figures/multiple_inputs.png\" width=400>\n",
    "\n",
    "#### Code\n",
    "\n",
    "This is simple as follows.  \n",
    "\n",
    "Note: Whenever we deal with an operation that takes multiple ndarrays as inputs, we have to check their shapes to ensure they meet whatever conditions are required by that operation. Here, for a simple operation such as addition, all we need to check is that the shapes are identical so that the addition can happen elementwise."
   ]
  },
  {
   "cell_type": "code",
   "execution_count": 16,
   "metadata": {},
   "outputs": [],
   "source": [
    "def multiple_inputs_add(x: ndarray,\n",
    "                        y: ndarray,\n",
    "                        sigma: Array_Function) -> float:\n",
    "    '''\n",
    "    Function with multiple inputs and addition, forward pass\n",
    "    '''\n",
    "    assert x.shape == y.shape\n",
    "\n",
    "    a = x + y\n",
    "    return sigma(a)"
   ]
  },
  {
   "cell_type": "code",
   "execution_count": 17,
   "metadata": {},
   "outputs": [],
   "source": [
    "def multiple_inputs_add_backward(x: ndarray,\n",
    "                                 y: ndarray,\n",
    "                                 sigma: Array_Function) -> float:\n",
    "    '''\n",
    "    Computes the derivative of this simple function with respect to\n",
    "    both inputs\n",
    "    '''\n",
    "    # Compute \"forward pass\"\n",
    "    a = x + y\n",
    "\n",
    "    # Compute derivatives\n",
    "    dsda = deriv(sigma, a)\n",
    "\n",
    "    dadx, dady = 1, 1\n",
    "\n",
    "    return dsda * dadx, dsda * dady"
   ]
  },
  {
   "cell_type": "markdown",
   "metadata": {},
   "source": [
    "Let's try to use it:"
   ]
  },
  {
   "cell_type": "code",
   "execution_count": 18,
   "metadata": {},
   "outputs": [
    {
     "name": "stdout",
     "output_type": "stream",
     "text": [
      "forward pass:  0.9990889488055994\n",
      "backward pass:  (0.0009102213310852036, 0.0009102213310852036)\n"
     ]
    }
   ],
   "source": [
    "forward_pass = multiple_inputs_add(np.array(3), np.array(4), sigmoid)\n",
    "print(\"forward pass: \", forward_pass)\n",
    "\n",
    "backward_pass = multiple_inputs_add_backward(np.array(3), np.array(4), sigmoid)\n",
    "print(\"backward pass: \", backward_pass)"
   ]
  },
  {
   "cell_type": "markdown",
   "metadata": {},
   "source": [
    "Let's try to verify as usual, starting with $x$:"
   ]
  },
  {
   "cell_type": "code",
   "execution_count": 19,
   "metadata": {},
   "outputs": [
    {
     "name": "stdout",
     "output_type": "stream",
     "text": [
      "forward pass:  0.9990898585726491\n",
      "forward pass:  0.9990898590269305\n"
     ]
    }
   ],
   "source": [
    "forward_pass_xincrease = multiple_inputs_add(np.array(3+0.001), np.array(4), sigmoid)\n",
    "print(\"forward pass: \", forward_pass_xincrease)\n",
    "print(\"forward pass: \", forward_pass + backward_pass[0] * 0.001)"
   ]
  },
  {
   "cell_type": "code",
   "execution_count": 20,
   "metadata": {},
   "outputs": [
    {
     "name": "stdout",
     "output_type": "stream",
     "text": [
      "forward pass:  0.9990898585726491\n",
      "forward pass:  0.9990898590269305\n"
     ]
    }
   ],
   "source": [
    "forward_pass_yincrease = multiple_inputs_add(np.array(3), np.array(4+0.001), sigmoid)\n",
    "print(\"forward pass: \", forward_pass_yincrease)\n",
    "print(\"forward pass: \", forward_pass + backward_pass[1] * 0.001)"
   ]
  },
  {
   "cell_type": "code",
   "execution_count": 21,
   "metadata": {},
   "outputs": [
    {
     "name": "stdout",
     "output_type": "stream",
     "text": [
      "forward pass:  0.9990907674320407\n",
      "forward pass:  0.9990907692482616\n"
     ]
    }
   ],
   "source": [
    "forward_pass_xyincrease = multiple_inputs_add(np.array(3+0.001), np.array(4+0.001), sigmoid)\n",
    "print(\"forward pass: \", forward_pass_xyincrease)\n",
    "print(\"forward pass: \", forward_pass + backward_pass[0] * 0.001 + backward_pass[1] * 0.001)"
   ]
  },
  {
   "cell_type": "markdown",
   "metadata": {},
   "source": [
    "### Functions with multiple vector inputs\n",
    "\n",
    "In deep learning, we deal with functions whose inputs are vectors or matrices. Not only can these objects be added, multiplied, and so on, but they can also combined via a dot product or a matrix multiplication. We shall show how the mathematics of the chain rule and the logic of computing the derivatives of these functions using a forward and backward pass can still apply.\n",
    "\n",
    "These techniques will end up being central to understanding why deep learning works. In deep learning, our goal will be to fit a model to some data. More precisely, this means that we want to find a mathematical function that maps observations from the data — which will be inputs to the function—to some desired predictions from the data — which will be the outputs of the function—in as optimal a way as possible. It turns out these observations will be encoded in matrices, typically with row as an observation and each column as a numeric feature for that observation. \n",
    "\n",
    "#### Mathematical representations\n",
    "\n",
    "We shall use this as our example:\n",
    "\n",
    "$$S = f(X, W) = \\sigma(\\nu(X, W)) = \\sigma(x_1 * w_1 + x_2 * w_2 + x_3 * w_3)$$\n",
    "\n",
    "That is, we first feed in $\\nu$ function which performs a dot product between $X$ and $W$.  Then we feed the output to a $\\sigma$ function.\n",
    "\n",
    "For details, let's first work on the $\\nu$ part.  Assume a $X$ with only one sample and can be depicted as vector as follows:\n",
    "\n",
    "$$X = [x_1, x_2, \\cdots, x_n]$$\n",
    "\n",
    "We shall also define weight as follows:\n",
    "\n",
    "$$ W = \\begin{bmatrix}\n",
    "w_{1} \\\\\n",
    "w_{2} \\\\\n",
    "\\vdots \\\\\n",
    "w_{n} \\\\\n",
    "\\end{bmatrix} $$\n",
    "\n",
    "Then we could define a function $\\nu$ that calculates the weighted sum, which the output is denotes as $N$ as follows:\n",
    "\n",
    "$$N = \\nu(X, W) = X @ W = x_1 * w_1 + x_2 * w_2 + \\cdots + x_n * w_n$$\n",
    "\n",
    "The question is then what is $$\\frac{\\partial \\nu}{\\partial X}, \\frac{\\partial \\nu}{\\partial W}$$ \n",
    "\n",
    "How would we even define \"the derivative with respect to a matrix\"?  Recalling that the matrix syntas is just a shorthand for a bunch of numbers arranged in a particular form.  \n",
    "\n",
    "Since $X$ is a row, and let's say we have three features, we can define\n",
    "\n",
    "$$\\frac{\\partial \\nu}{\\partial X} = \\big[\\frac{\\partial \\nu}{\\partial x_1} \\ \\frac{\\partial \\nu}{\\partial x_2} \\ \\frac{\\partial \\nu}{\\partial x_3}\\big]$$\n",
    "\n",
    "However, the output of $\\nu$ is just a number: \n",
    "\n",
    "$$N = x_1 * w_1 + x_2 * w_2 + x_3 * w_3$$\n",
    "\n",
    "And looking at this, we can see that if, for example, $x_1$ change by $k$ units, then $N$ will change by $w_1 \\ \\times \\ k$ units - and the same logic applies to the other $x_i$ elements.  Thus\n",
    "\n",
    "$$\\frac{\\partial \\nu}{\\partial x_1} = w_1$$\n",
    "\n",
    "$$\\frac{\\partial \\nu}{\\partial x_2} = w_2$$\n",
    "\n",
    "$$\\frac{\\partial \\nu}{\\partial x_3} = w_3$$\n",
    "\n",
    "And so\n",
    "\n",
    "$$\\frac{\\partial \\nu}{\\partial X} = \\big[w_1 \\ w_2 \\ w_3\\big] = W^\\top$$\n",
    "\n",
    "Using the similar reasoning, we can see that\n",
    "\n",
    "$$\\frac{\\partial \\nu}{\\partial W} = \\begin{bmatrix}\n",
    "x_{1} \\\\\n",
    "x_{2} \\\\\n",
    "x_{3} \\\\\n",
    "\\end{bmatrix} = X^\\top$$\n",
    "\n",
    "Now, if we feed the output of $\\nu$ to $\\sigma$, and calculate the derivatives, we got:\n",
    "\n",
    "$$\\frac{\\partial f}{\\partial X} = \\frac{\\partial \\sigma} {\\partial u}(\\nu(X, W) \\ \\times \\ \\frac{\\partial \\nu}{\\partial X} (X, W)$$\n",
    "\n",
    "The first part is:\n",
    "\n",
    "$$\\frac{\\partial \\sigma} {\\partial u}(\\nu(X, W) = \\frac{\\partial \\sigma}{\\partial u}(x_1 * w_1 + x_2 * w_2 + x_3 * w_3)$$\n",
    "\n",
    "The second part is\n",
    "\n",
    "$$\\frac{\\partial \\nu}{\\partial X} (X, W) = W^\\top$$\n",
    "\n",
    "Thus \n",
    "\n",
    "$$\\frac{\\partial f}{\\partial X} = \\frac{\\partial \\sigma}{\\partial u}(x_1 * w_1 + x_2 * w_2 + x_3 * w_3) \\ @ \\ W^\\top$$\n",
    "\n",
    "\n",
    "#### Diagrams\n",
    "\n",
    "Here is the equivalent diagram:\n",
    "\n",
    "<img src = \"figures/vector_op3.png\" width=400>\n",
    "\n",
    "and the derivative diagram:\n",
    "\n",
    "<img src = \"figures/vector_op4.png\" width=400>\n",
    "\n",
    "#### Code\n",
    "\n"
   ]
  },
  {
   "cell_type": "code",
   "execution_count": 22,
   "metadata": {},
   "outputs": [],
   "source": [
    "def matrix_forward_extra(X: ndarray,\n",
    "                         W: ndarray,\n",
    "                         sigma: Array_Function) -> ndarray:\n",
    "    '''\n",
    "    Computes the forward pass of a function involving matrix multiplication, one extra function\n",
    "    '''\n",
    "    assert X.shape[1] == W.shape[0]\n",
    "\n",
    "    # matrix multiplication\n",
    "    N = np.dot(X, W)\n",
    "\n",
    "    # feeding the output of the matrix multiplication through sigma\n",
    "    S = sigma(N)\n",
    "\n",
    "    return S"
   ]
  },
  {
   "cell_type": "code",
   "execution_count": 23,
   "metadata": {},
   "outputs": [],
   "source": [
    "def matrix_function_backward_1(X: ndarray,\n",
    "                               W: ndarray,\n",
    "                               sigma: Array_Function) -> ndarray:\n",
    "    '''\n",
    "    Computes the derivative of our matrix function with respect to\n",
    "    the first element.\n",
    "    '''\n",
    "    assert X.shape[1] == W.shape[0]\n",
    "\n",
    "    # matrix multiplication\n",
    "    N = np.dot(X, W)\n",
    "\n",
    "    # feeding the output of the matrix multiplication through sigma\n",
    "    S = sigma(N)\n",
    "\n",
    "    # backward calculation\n",
    "    dSdN = deriv(sigma, N)\n",
    "\n",
    "    # dNdX\n",
    "    dNdX = np.transpose(W, (1, 0))\n",
    "\n",
    "    # multiply them together; since dNdX is 1x1 here, order doesn't matter\n",
    "    return np.dot(dSdN, dNdX)"
   ]
  },
  {
   "cell_type": "code",
   "execution_count": 24,
   "metadata": {},
   "outputs": [
    {
     "name": "stdout",
     "output_type": "stream",
     "text": [
      "X:  [[ 0.47231121  0.61514271 -1.72622715]]\n",
      "Forward:  [[0.89779986]]\n",
      "Backward:  [[ 0.08516695 -0.05574581 -0.11206627]]\n"
     ]
    }
   ],
   "source": [
    "np.random.seed(190203)\n",
    "\n",
    "X = np.random.randn(1,3)\n",
    "W = np.random.randn(3,1)\n",
    "\n",
    "print(\"X: \", X)\n",
    "\n",
    "forward_pass = matrix_forward_extra(X, W, sigmoid)\n",
    "print(\"Forward: \", forward_pass)\n",
    "\n",
    "backward_pass = matrix_function_backward_1(X, W, sigmoid)\n",
    "print(\"Backward: \", backward_pass)"
   ]
  },
  {
   "cell_type": "markdown",
   "metadata": {},
   "source": [
    "Let's verify as usual.  If $x_1$ is increase by $k$ unit, the output should increase by <code>backward[0][0]</code> * $k$ units."
   ]
  },
  {
   "cell_type": "code",
   "execution_count": 25,
   "metadata": {},
   "outputs": [
    {
     "name": "stdout",
     "output_type": "stream",
     "text": [
      "forward pass:  [[0.897885]]\n",
      "forward pass:  [[0.89788503]]\n"
     ]
    }
   ],
   "source": [
    "X_new = X.copy()\n",
    "X_new[:, 0] += 0.001\n",
    "forward_pass_add1 = matrix_forward_extra(X_new, W, sigmoid)\n",
    "print(\"forward pass: \", forward_pass_add1)\n",
    "print(\"forward pass: \", forward_pass + backward_pass[0][0] * 0.001)"
   ]
  },
  {
   "cell_type": "markdown",
   "metadata": {},
   "source": [
    "### Functions with matrix multiplication\n",
    "\n",
    "Now let's extend the previous section into matrix instead of vectors. \n",
    "\n",
    "#### Mathematical representations\n",
    "\n",
    "Let's suppose that\n",
    "\n",
    "$$ X = \\begin{bmatrix}\n",
    "x_{11} & x_{12} & x_{13} \\\\\n",
    "x_{21} & x_{22} & x_{23} \\\\\n",
    "x_{31} & x_{32} & x_{33}\n",
    "\\end{bmatrix} $$\n",
    "\n",
    "and\n",
    "\n",
    "$$ W = \\begin{bmatrix}\n",
    "w_{11} & w_{12} \\\\\n",
    "w_{21} & w_{22} \\\\\n",
    "w_{31} & w_{32} \\\\\n",
    "\\end{bmatrix} $$\n",
    "\n",
    "This could correspond to a dataset in which each observation has three features, and the three rows could correspond to three different observations for which we want to make predictions.\n",
    "\n",
    "We shall use the same function as the previous example where we first perform dot product and then feed into a sigma function.\n",
    "\n",
    "As before, the question now is: what are the gradients of the output $S$ with respect to $X$ and $W$? Can we simply use the chain rule again? Why or why not?\n",
    "\n",
    "If you think about this for a bit, you may realize that something is different from the previous examples that we’ve looked at: $S$ is now a matrix, not simply a number. And what, after all, does the gradient of one matrix with respect to another matrix mean?\n",
    "\n",
    "This leads us to a subtle but important idea: we may perform whatever series of operations on multidimensional arrays we want, but for the notion of a \"gradient\" with respect to some output to be well defined, we need to sum (or otherwise aggregate into a single number) the final array in the sequence so that the notion of \"how much will changing each element of $X$ affect the output\" will even make sense.\n",
    "\n",
    "So we’ll tack onto the end a third function, Lambda $\\Lambda$, that simply takes the elements of $S$ and sums them up.\n",
    "\n",
    "Let’s make this mathematically concrete. First, let’s multiply $X$ and $W$:\n",
    "\n",
    "$$ \\nu(X, W) = X @ W = \\begin{bmatrix}\n",
    "x_{11} * w_{11} + x_{12} * w_{21} + x_{13} * w_{31} &\n",
    "x_{11} * w_{12} + x_{12} * w_{22} + x_{13} * w_{32}\n",
    "\\\\\n",
    "x_{21} * w_{11} + x_{22} * w_{21} + x_{23} * w_{31} &\n",
    "x_{21} * w_{12} + x_{22} * w_{22} + x_{23} * w_{32}\n",
    "\\\\\n",
    "x_{31} * w_{11} + x_{32} * w_{21} + x_{33} * w_{31} &\n",
    "x_{31} * w_{12} + x_{32} * w_{22} + x_{33} * w_{32}\n",
    "\\end{bmatrix} = \n",
    "\\begin{bmatrix}\n",
    "XW_{11} &\n",
    "XW_{12}\n",
    "\\\\\n",
    "XW_{21} &\n",
    "XW_{22}\n",
    "\\\\\n",
    "XW_{31} &\n",
    "XW_{32}\n",
    "\\end{bmatrix}\n",
    "$$\n",
    "\n",
    "Here we denote row $i$ and column $j$ in the resulting matrix as $XW_{ij}$ for convenience.\n",
    "\n",
    "Next, we’ll feed this result through $\\sigma$, which just means applying $\\sigma$ to every element of the matrix $X @ W$\n",
    "\n",
    "$$ \\sigma(X @ W) = \\begin{bmatrix}\n",
    "\\sigma(x_{11} * w_{11} + x_{12} * w_{21} + x_{13} * w_{31}) &\n",
    "\\sigma(x_{11} * w_{12} + x_{12} * w_{22} + x_{13} * w_{32})\n",
    "\\\\\n",
    "\\sigma(x_{21} * w_{11} + x_{22} * w_{21} + x_{23} * w_{31}) &\n",
    "\\sigma(x_{21} * w_{12} + x_{22} * w_{22} + x_{23} * w_{32})\n",
    "\\\\\n",
    "\\sigma(x_{31} * w_{11} + x_{32} * w_{21} + x_{33} * w_{31}) &\n",
    "\\sigma(x_{31} * w_{12} + x_{32} * w_{22} + x_{33} * w_{32})\n",
    "\\end{bmatrix} = \n",
    "\\begin{bmatrix}\n",
    "\\sigma(XW_{11}) & \\sigma(XW_{12})\\\\\n",
    "\\sigma(XW_{21}) & \\sigma(XW_{22})\\\\\n",
    "\\sigma(XW_{31}) & \\sigma(XW_{32})\n",
    "\\end{bmatrix}\n",
    "$$\n",
    "\n",
    "Finally, we can simply sum up these elements:\n",
    "\n",
    "$$ L = \\Lambda(\\sigma(X * W)) = \\Lambda(\\begin{bmatrix}\n",
    "\\sigma(XW_{11}) & \\sigma(XW_{12})\\\\\n",
    "\\sigma(XW_{21}) & \\sigma(XW_{22})\\\\\n",
    "\\sigma(XW_{31}) & \\sigma(XW_{32})\n",
    "\\end{bmatrix}) =  \\sigma(XW_{11}) + \\sigma(XW_{12}) + \\sigma(XW_{21}) + \\sigma(XW_{22}) + \\sigma(XW_{31}) + \\sigma(XW_{32})\n",
    "$$\n",
    "\n",
    "Now we are back in a pure calculus setting: we have a number, $L$, and we want to figure out the gradient of $L$ with respect to $X$ and $W$; that is, we want to know how much changing each element of these input matrices ($x11$, $w21$, and so on) would change $L$. We can write this as:\n",
    "\n",
    "$$ \\frac{\\partial \\Lambda}{\\partial u}(X) = \n",
    "\\begin{bmatrix}\n",
    "\\frac{\\partial \\Lambda}{\\partial u}(x_{11}) & \n",
    "\\frac{\\partial \\Lambda}{\\partial u}(x_{12}) & \n",
    "\\frac{\\partial \\Lambda}{\\partial u}(x_{13}) \\\\\n",
    "\\frac{\\partial \\Lambda}{\\partial u}(x_{21}) & \n",
    "\\frac{\\partial \\Lambda}{\\partial u}(x_{22}) & \n",
    "\\frac{\\partial \\Lambda}{\\partial u}(x_{23}) \\\\\n",
    "\\frac{\\partial \\Lambda}{\\partial u}(x_{31}) & \n",
    "\\frac{\\partial \\Lambda}{\\partial u}(x_{32}) & \n",
    "\\frac{\\partial \\Lambda}{\\partial u}(x_{33}) \n",
    "\\end{bmatrix} $$\n",
    "\n",
    "This could be then solved by the following chain rule problem as follows: \n",
    "\n",
    "$$ \\frac{\\partial \\Lambda}{\\partial u}(X) = \n",
    "\\frac{\\partial \\nu}{\\partial X}(X, W) *\n",
    "\\frac{\\partial \\sigma}{\\partial u}(N) *\n",
    "\\frac{\\partial \\Lambda}{\\partial u}(S) $$\n",
    "\n",
    "Last term is the easiest.  We want to know how much $L$ will increase if each element of $S$ increases.  Since $L$ is the sum of all the element of $S$, this derivative is simply:\n",
    "\n",
    "$$ \\frac{\\partial \\Lambda}{\\partial u}(S) = \\begin{bmatrix}\n",
    "1 & 1\\\\\n",
    "1 & 1\\\\\n",
    "1 & 1\n",
    "\\end{bmatrix} $$\n",
    "\n",
    "since increasing any element of $S$ by, say, 0.46 units would increase $\\Lambda$ by 0.46 units.\n",
    "\n",
    "Second term $\\frac{\\partial \\sigma}{\\partial u}(N)$ is also easy.  It is simply the partial derivative of $\\sigma$ at that point.  Since we didn't exactly define what is $\\sigma$, we shall leave it as like this:\n",
    "\n",
    "$$ \\frac{\\partial \\sigma}{\\partial u}(N) = \\begin{bmatrix}\n",
    "\\frac{\\partial \\sigma}{\\partial u}(XW_{11}) &\n",
    "\\frac{\\partial \\sigma}{\\partial u}(XW_{12}) \\\\\n",
    "\\frac{\\partial \\sigma}{\\partial u}(XW_{21}) &\n",
    "\\frac{\\partial \\sigma}{\\partial u}(XW_{22}) \\\\\n",
    "\\frac{\\partial \\sigma}{\\partial u}(XW_{31}) &\n",
    "\\frac{\\partial \\sigma}{\\partial u}(XW_{32})\n",
    "\\end{bmatrix} $$\n",
    "\n",
    "Now, we can already find the product of second and last term which is:\n",
    "\n",
    "$$ \\frac{\\partial \\Lambda}{\\partial u}(N) = \n",
    "\\frac{\\partial \\Lambda}{\\partial u}(S) *\n",
    "\\frac{\\partial \\sigma}{\\partial u}(N) =  \\begin{bmatrix}\n",
    "\\frac{\\partial \\sigma}{\\partial u}(XW_{11}) &\n",
    "\\frac{\\partial \\sigma}{\\partial u}(XW_{12}) \\\\\n",
    "\\frac{\\partial \\sigma}{\\partial u}(XW_{21}) &\n",
    "\\frac{\\partial \\sigma}{\\partial u}(XW_{22}) \\\\\n",
    "\\frac{\\partial \\sigma}{\\partial u}(XW_{31}) &\n",
    "\\frac{\\partial \\sigma}{\\partial u}(XW_{32})\n",
    "\\end{bmatrix} $$\n",
    "\n",
    "How about $$\\frac{\\partial \\nu}{\\partial X}(X, W)$$ and $$\\frac{\\partial \\nu}{\\partial W}(X, W)$$\n",
    "\n",
    "This is asking how much increasing each element of $X$ will increase each element of $N$.  Same for $W$ on $N$. This is actually difficult to think about since it is about asking how much increasing each element of $X$ (a $3 \\ \\times \\ 3$ matrix) will increase each element of $N$ (a $3 \\ \\times \\ 2$ matrix). \n",
    "\n",
    "Remember that L is literally:\n",
    "\n",
    "$$\\sigma(XW_{11}) + \\sigma(XW_{12}) + \\sigma(XW_{21}) + \\sigma(XW_{22}) + \\sigma(XW_{31}) + \\sigma(XW_{32})$$\n",
    "\n",
    "where this is shorthand for the fact that:\n",
    "\n",
    "$$\\sigma(XW_{11}) = \\sigma(x_{11} * w_{11} + x_{12} * w_{21} + x_{13} * w_{31})$$\n",
    "\n",
    "$$\\sigma(XW_{12}) = \\sigma(x_{11} * w_{12} + x_{12} * w_{22} + x_{13} * w_{32})$$\n",
    "\n",
    "Let's just zoom in on one expression.  What would it look like if we took the partial derivatives of say $\\sigma(XW_{11})$ with respect to every element of $X$ (which is utimately what we'll want to do with all six components of $L$)?\n",
    "\n",
    "Well, since:\n",
    "\n",
    "$$\\sigma(XW_{11}) = \\sigma(x_{11} * w_{11} + x_{12} * w_{21} + x_{13} * w_{31})$$\n",
    "\n",
    "It isn't too hard to see that the partial derivatives of this with respect to $x_1$, via a very simple applications of the chain rule is:\n",
    "\n",
    "$$\\frac{\\partial \\sigma(XW_{11})}{\\partial x_1} = \\frac{\\partial \\sigma}{\\partial u}(XW_{11}) \\ \\times \\ w_{11}$$\n",
    "\n",
    "Since the only thing that $x_{11}$ is multiplied by in the $XW_{11}$ expression is $w_{11}$, the partial derivative with respect to everything else is 0.\n",
    "\n",
    "Thus, using similar reasoning, we get\n",
    "\n",
    "$$\\frac{\\partial \\sigma(XW_{11})}{\\partial X} = \\begin{bmatrix}\n",
    "\\frac{\\partial \\sigma}{\\partial u}(XW_{11}) * w_{11} & \n",
    "\\frac{\\partial \\sigma}{\\partial u}(XW_{11}) * w_{21} & \n",
    "\\frac{\\partial \\sigma}{\\partial u}(XW_{11}) * w_{31} \\\\\n",
    "0 &\n",
    "0 & \n",
    "0 \\\\\n",
    "0 & \n",
    "0 & \n",
    "0 \n",
    "\\end{bmatrix}$$\n",
    "\n",
    "Similarly, we can also get for other part like this:\n",
    "\n",
    "$$\\sigma(XW_{32}) = \\sigma(x_{31} * w_{12} + x_{32} * w_{22} + x_{33} * w_{32})$$\n",
    "\n",
    "$$\\frac{\\partial \\sigma(XW_{32})}{\\partial X} = \\begin{bmatrix}\n",
    "0 & \n",
    "0 & \n",
    "0 \\\\\n",
    "0 &\n",
    "0 & \n",
    "0 \\\\\n",
    "\\frac{\\partial \\sigma}{\\partial u}(XW_{32}) * w_{12} & \n",
    "\\frac{\\partial \\sigma}{\\partial u}(XW_{32}) * w_{22} & \n",
    "\\frac{\\partial \\sigma}{\\partial u}(XW_{32}) * w_{32} \n",
    "\\end{bmatrix}$$\n",
    "\n",
    "We shall omit other parts for brevity.\n",
    "\n",
    "Now we have all the components to actually compute $\\frac{\\partial \\Lambda}{\\partial X}(S)$\n",
    "directly. We can simply compute six matrices of the same form as the preceding matrices and add the results together.\n",
    "\n",
    "First, we'll actually write out explicitly that $\\frac{\\partial \\Lambda}{\\partial X}(S)$ is a sum of six matrices as follows:\n",
    "\n",
    "$$ \\frac{\\partial \\Lambda}{\\partial X}(S) = \n",
    "\\frac{\\partial \\sigma(XW_{11})}{\\partial X} + \n",
    "\\frac{\\partial \\sigma(XW_{12})}{\\partial X} + \n",
    "\\frac{\\partial \\sigma(XW_{21})}{\\partial X} + \n",
    "\\frac{\\partial \\sigma(XW_{22})}{\\partial X} + \n",
    "\\frac{\\partial \\sigma(XW_{31})}{\\partial X} + \n",
    "\\frac{\\partial \\sigma(XW_{32})}{\\partial X} = \n",
    "\\begin{bmatrix}\n",
    "\\frac{\\partial \\sigma}{\\partial u}(XW_{11}) * w_{11} & \n",
    "\\frac{\\partial \\sigma}{\\partial u}(XW_{11}) * w_{21} & \n",
    "\\frac{\\partial \\sigma}{\\partial u}(XW_{11}) * w_{31} \\\\\n",
    "0 &\n",
    "0 & \n",
    "0 \\\\\n",
    "0 & \n",
    "0 & \n",
    "0 \\end{bmatrix} +\n",
    "\\begin{bmatrix}\n",
    "\\frac{\\partial \\sigma}{\\partial u}(XW_{12}) * w_{12} & \n",
    "\\frac{\\partial \\sigma}{\\partial u}(XW_{12}) * w_{22} & \n",
    "\\frac{\\partial \\sigma}{\\partial u}(XW_{12}) * w_{32} \\\\\n",
    "0 &\n",
    "0 & \n",
    "0 \\\\\n",
    "0 & \n",
    "0 & \n",
    "0 \\end{bmatrix} + \n",
    "\\begin{bmatrix}\n",
    "0 & \n",
    "0 & \n",
    "0 \\\\\n",
    "\\frac{\\partial \\sigma}{\\partial u}(XW_{21}) * w_{11} &\n",
    "\\frac{\\partial \\sigma}{\\partial u}(XW_{21}) * w_{21} & \n",
    "\\frac{\\partial \\sigma}{\\partial u}(XW_{21}) * w_{31} \\\\\n",
    "0 & \n",
    "0 & \n",
    "0 \\end{bmatrix} + \n",
    "\\begin{bmatrix}\n",
    "0 & \n",
    "0 & \n",
    "0 \\\\\n",
    "\\frac{\\partial \\sigma}{\\partial u}(XW_{22}) * w_{12} &\n",
    "\\frac{\\partial \\sigma}{\\partial u}(XW_{22}) * w_{22} & \n",
    "\\frac{\\partial \\sigma}{\\partial u}(XW_{22}) * w_{32} \\\\\n",
    "0 & \n",
    "0 & \n",
    "0 \\end{bmatrix} +\n",
    "\\begin{bmatrix}\n",
    "0 & \n",
    "0 &\n",
    "0 \\\\\n",
    "0 &\n",
    "0 & \n",
    "0 \\\\\n",
    "\\frac{\\partial \\sigma}{\\partial u}(XW_{31}) * w_{11} &\n",
    "\\frac{\\partial \\sigma}{\\partial u}(XW_{31}) * w_{21} & \n",
    "\\frac{\\partial \\sigma}{\\partial u}(XW_{31}) * w_{31} \\end{bmatrix} +\n",
    "\\begin{bmatrix}\n",
    "0 &\n",
    "0 &\n",
    "0 \\\\\n",
    "0 &\n",
    "0 & \n",
    "0 \\\\\n",
    "\\frac{\\partial \\sigma}{\\partial u}(XW_{32}) * w_{12} & \n",
    "\\frac{\\partial \\sigma}{\\partial u}(XW_{32}) * w_{22} & \n",
    "\\frac{\\partial \\sigma}{\\partial u}(XW_{32}) * w_{32} \\end{bmatrix}\n",
    "$$\n",
    "\n",
    "Combining that yields:\n",
    "\n",
    "$$ \\frac{\\partial \\Lambda}{\\partial X}(S) = \n",
    "\\begin{bmatrix}\n",
    "\\frac{\\partial \\sigma}{\\partial u}(XW_{11}) * w_{11} + \\frac{\\partial \\sigma}{\\partial u}(XW_{12}) * w_{12} & \n",
    "\\frac{\\partial \\sigma}{\\partial u}(XW_{11}) * w_{21} + \\frac{\\partial \\sigma}{\\partial u}(XW_{12}) * w_{22} & \n",
    "\\frac{\\partial \\sigma}{\\partial u}(XW_{11}) * w_{31} + \\frac{\\partial \\sigma}{\\partial u}(XW_{12}) * w_{32} \\\\ \n",
    "\\frac{\\partial \\sigma}{\\partial u}(XW_{21}) * w_{11} + \\frac{\\partial \\sigma}{\\partial u}(XW_{22}) * w_{12} & \n",
    "\\frac{\\partial \\sigma}{\\partial u}(XW_{21}) * w_{21} + \\frac{\\partial \\sigma}{\\partial u}(XW_{22}) * w_{22} & \n",
    "\\frac{\\partial \\sigma}{\\partial u}(XW_{21}) * w_{31} + \\frac{\\partial \\sigma}{\\partial u}(XW_{22}) * w_{32} \\\\ \n",
    "\\frac{\\partial \\sigma}{\\partial u}(XW_{31}) * w_{11} + \\frac{\\partial \\sigma}{\\partial u}(XW_{32}) * w_{12} & \n",
    "\\frac{\\partial \\sigma}{\\partial u}(XW_{31}) * w_{21} + \\frac{\\partial \\sigma}{\\partial u}(XW_{32}) * w_{22} & \n",
    "\\frac{\\partial \\sigma}{\\partial u}(XW_{31}) * w_{31} + \\frac{\\partial \\sigma}{\\partial u}(XW_{32}) * w_{32} \\end{bmatrix} \n",
    "$$\n",
    "\n",
    "Now comes the most amazing part!  Recall that:\n",
    "\n",
    "$$ W = \\begin{bmatrix}\n",
    "w_{11} & w_{12} \\\\\n",
    "w_{21} & w_{22} \\\\\n",
    "w_{31} & w_{32} \\end{bmatrix} $$\n",
    "\n",
    "Well, $W$ is hidden in the preceding matrix — it is just transposed. \n",
    "\n",
    "Recalling that:\n",
    "\n",
    "$$ \\frac{\\partial \\Lambda}{\\partial u}(N) = \n",
    "\\frac{\\partial \\Lambda}{\\partial u}(S) *\n",
    "\\frac{\\partial \\sigma}{\\partial u}(N) =  \\begin{bmatrix}\n",
    "\\frac{\\partial \\sigma}{\\partial u}(XW_{11}) &\n",
    "\\frac{\\partial \\sigma}{\\partial u}(XW_{12}) \\\\\n",
    "\\frac{\\partial \\sigma}{\\partial u}(XW_{21}) &\n",
    "\\frac{\\partial \\sigma}{\\partial u}(XW_{22}) \\\\\n",
    "\\frac{\\partial \\sigma}{\\partial u}(XW_{31}) &\n",
    "\\frac{\\partial \\sigma}{\\partial u}(XW_{32})\n",
    "\\end{bmatrix} $$\n",
    "\n",
    "It turns out that the previous matrix is equivalent to:\n",
    "\n",
    "$$ \\frac{\\partial \\Lambda}{\\partial X}(X) = \n",
    "\\begin{bmatrix}\n",
    "\\frac{\\partial \\sigma}{\\partial u}(XW_{11}) &\n",
    "\\frac{\\partial \\sigma}{\\partial u}(XW_{12}) \\\\\n",
    "\\frac{\\partial \\sigma}{\\partial u}(XW_{21}) &\n",
    "\\frac{\\partial \\sigma}{\\partial u}(XW_{22}) \\\\\n",
    "\\frac{\\partial \\sigma}{\\partial u}(XW_{31}) &\n",
    "\\frac{\\partial \\sigma}{\\partial u}(XW_{32})\n",
    "\\end{bmatrix} * \n",
    "\\begin{bmatrix}\n",
    "w_{11} & w_{21} & w_{31} \\\\\n",
    "w_{12} & w_{22} & w_{32} \\\\\n",
    "\\end{bmatrix} = \\frac{\\partial \\Lambda}{\\partial u}(S) *\n",
    "\\frac{\\partial \\sigma}{\\partial u}(N) \\ @ \\ W^T\n",
    "$$\n",
    "\n",
    "Thus, \n",
    "\n",
    "$$ \\frac{\\partial \\Lambda}{\\partial u}(X) = \n",
    "\\frac{\\partial \\Lambda}{\\partial u}(S) * \n",
    "\\frac{\\partial \\sigma}{\\partial u}(N) \\ @ \\\n",
    "W^T\n",
    "$$\n",
    "\n",
    "So nice, right!?\n",
    "\n",
    "Note: The expression for the gradient of $L$ with respect to $W$ would be $X^\\top$. However, because of the order in which the $X^\\top$ expression factors out of the derivative for $L$, $X^\\top$ would be on the left side of the expression for the gradient of $L$ with respect to $W$:\n",
    "\n",
    "$$ \n",
    "\\frac{\\partial \\Lambda}{\\partial u}(W) = X^T \\ @ \\\n",
    "\\frac{\\partial \\Lambda}{\\partial u}(S) * \n",
    "\\frac{\\partial \\sigma}{\\partial u}(N)$$\n",
    "\n",
    "In code, therefore, while we would have <code>dNdW = np.transpose(X, (1, 0))</code>, the next step would be: <code>dLdW = np.dot(dNdW, dSdN)</code>\n",
    "instead of dLdX = np.dot(dSdN, dNdX) as before.\n",
    "\n",
    "#### Diagrams\n",
    "\n",
    "We are simply sending inputs forward as before. We claim that even in this more complicated scenario, we should be able to calculate the gradients we need using the chain rule.\n",
    "\n",
    "<img src = \"figures/neuralnet1.png\" width=400>\n",
    "\n",
    "We simply need to calculate the partial derivative of each constituent function and evaluate it at its input, multiplying the results together to get the final derivative. \n",
    "\n",
    "<img src = \"figures/neuralnet1_1.png\" width=400>\n",
    "\n",
    "#### Code"
   ]
  },
  {
   "cell_type": "code",
   "execution_count": 26,
   "metadata": {},
   "outputs": [],
   "source": [
    "def matrix_function_forward_sum(X: ndarray,\n",
    "                                W: ndarray,\n",
    "                                sigma: Array_Function) -> float:\n",
    "    '''\n",
    "    Computing the result of the forward pass of this function with\n",
    "    input ndarrays X and W and function sigma.\n",
    "    '''\n",
    "    assert X.shape[1] == W.shape[0]\n",
    "\n",
    "    # matrix multiplication\n",
    "    N = np.dot(X, W)\n",
    "\n",
    "    # feeding the output of the matrix multiplication through sigma\n",
    "    S = sigma(N)\n",
    "\n",
    "    # sum all the elements\n",
    "    L = np.sum(S)\n",
    "\n",
    "    return L"
   ]
  },
  {
   "cell_type": "code",
   "execution_count": 27,
   "metadata": {},
   "outputs": [],
   "source": [
    "def matrix_function_backward_sum_1(X: ndarray,\n",
    "                                   W: ndarray,\n",
    "                                   sigma: Array_Function) -> ndarray:\n",
    "    '''\n",
    "    Compute derivative of matrix function with a sum with respect to the\n",
    "    first matrix input\n",
    "    '''\n",
    "    assert X.shape[1] == W.shape[0]\n",
    "\n",
    "    # matrix multiplication\n",
    "    N = np.dot(X, W)\n",
    "\n",
    "    # feeding the output of the matrix multiplication through sigma\n",
    "    S = sigma(N)\n",
    "\n",
    "    # sum all the elements\n",
    "    L = np.sum(S)\n",
    "\n",
    "    # note: I'll refer to the derivatives by their quantities here,\n",
    "    # unlike the math where we referred to their function names\n",
    "\n",
    "    # dLdS - just 1s\n",
    "    dLdS = np.ones_like(S)\n",
    "\n",
    "    # dSdN\n",
    "    dSdN = deriv(sigma, N)\n",
    "    \n",
    "    # dLdN\n",
    "    dLdN = dLdS * dSdN\n",
    "\n",
    "    # dNdX\n",
    "    dNdX = np.transpose(W, (1, 0))\n",
    "\n",
    "    # dLdX\n",
    "    dLdX = np.dot(dSdN, dNdX)\n",
    "\n",
    "    return dLdX"
   ]
  },
  {
   "cell_type": "markdown",
   "metadata": {},
   "source": [
    "Let's test our code"
   ]
  },
  {
   "cell_type": "code",
   "execution_count": 28,
   "metadata": {},
   "outputs": [
    {
     "name": "stdout",
     "output_type": "stream",
     "text": [
      "X:\n",
      "[[-1.57752816 -0.6664228   0.63910406]\n",
      " [-0.56152218  0.73729959 -1.42307821]\n",
      " [-1.44348429 -0.39128029  0.1539322 ]]\n",
      "L:\n",
      "2.3755\n",
      "\n",
      "dLdX:\n",
      "[[ 0.2488887  -0.37478057  0.01121962]\n",
      " [ 0.12604152 -0.27807404 -0.13945837]\n",
      " [ 0.22992798 -0.36623443 -0.02252592]]\n"
     ]
    }
   ],
   "source": [
    "np.random.seed(190204)\n",
    "X = np.random.randn(3, 3)\n",
    "W = np.random.randn(3, 2)\n",
    "\n",
    "print(\"X:\")\n",
    "print(X)\n",
    "\n",
    "print(\"L:\")\n",
    "print(round(matrix_function_forward_sum(X, W, sigmoid), 4))\n",
    "print()\n",
    "print(\"dLdX:\")\n",
    "print(matrix_function_backward_sum_1(X, W , sigmoid))"
   ]
  },
  {
   "cell_type": "code",
   "execution_count": 29,
   "metadata": {},
   "outputs": [
    {
     "name": "stdout",
     "output_type": "stream",
     "text": [
      "0.2489\n"
     ]
    }
   ],
   "source": [
    "X1 = X.copy()\n",
    "X1[0, 0] += 0.001\n",
    "\n",
    "print(round(\n",
    "        (matrix_function_forward_sum(X1, W, sigmoid) - \\\n",
    "         matrix_function_forward_sum(X, W, sigmoid)) / 0.001, 4))"
   ]
  },
  {
   "cell_type": "markdown",
   "metadata": {},
   "source": [
    "## Linear Regression as Neural Network\n",
    "\n",
    "In the last section, we have learned roughly the basic components of neural network.  Let's put them further and implement linear regression as neural network.  Linear regression is a good example since it is something we already understand and would be perfect example to see that neural network in the most basic form, is actually linear regression!\n",
    "\n",
    "Given the following neural network for linear regression:\n",
    "\n",
    "![](figures/linearneuralnet.png)\n",
    "\n",
    "Code can be simply written as follows:"
   ]
  },
  {
   "cell_type": "code",
   "execution_count": 30,
   "metadata": {},
   "outputs": [],
   "source": [
    "from typing import Callable, Dict, Tuple, List\n",
    "\n",
    "def forward(X: ndarray, y: ndarray,\n",
    "            weights: Dict[str, ndarray]\n",
    "           )-> Tuple[float, Dict[str, ndarray]]:\n",
    "    '''\n",
    "    Forward pass for the step-by-step linear regression.\n",
    "    '''\n",
    "    # assert batch sizes of X and y are equal\n",
    "    assert X.shape[0] == y.shape[0]\n",
    "\n",
    "    # assert that matrix multiplication can work\n",
    "    assert X.shape[1] == weights['W'].shape[0]\n",
    "\n",
    "    # assert that B is simply a 1x1 ndarray\n",
    "    assert weights['B'].shape[0] == weights['B'].shape[1] == 1\n",
    "\n",
    "    # compute the operations on the forward pass\n",
    "    N = X @ weights['W']\n",
    "\n",
    "    P = N + weights['B']\n",
    "\n",
    "    loss = np.mean(np.power(y - P, 2))\n",
    "\n",
    "    # save the information computed on the forward pass\n",
    "    forward_info: Dict[str, ndarray] = {}\n",
    "    forward_info['X'] = X\n",
    "    forward_info['N'] = N\n",
    "    forward_info['P'] = P\n",
    "    forward_info['y'] = y\n",
    "\n",
    "    return forward_info, loss"
   ]
  },
  {
   "cell_type": "markdown",
   "metadata": {},
   "source": [
    "#### Calculating gradients\n",
    "\n",
    "The next step is to train the model using gradient descent.  To calculate the gradient, we simply apply chain rule and multiply their products together.  The main derivatives we need is $\\frac{\\partial \\Lambda}{\\partial W}$ and $\\frac{\\partial \\Lambda}{\\partial B}$  where \n",
    "\n",
    "$$ \\frac{\\partial \\Lambda}{\\partial W} = \n",
    "    \\frac{\\partial \\Lambda}{\\partial P}(P, Y) *\n",
    "    \\frac{\\partial \\alpha}{\\partial N}(N, B) *\n",
    "    \\frac{\\partial \\nu}{\\partial W}(X, W)\n",
    "$$\n",
    "\n",
    "and \n",
    "\n",
    "$$ \\frac{\\partial \\Lambda}{\\partial B} = \n",
    "    \\frac{\\partial \\Lambda}{\\partial P}(P, Y) *\n",
    "    \\frac{\\partial \\alpha}{\\partial B}(N, B)\n",
    "$$\n",
    "\n",
    "Since $$ \\Lambda(P, Y) = (Y - P)^2 $$, thus\n",
    "\n",
    "$$ \\frac{\\partial \\Lambda}{\\partial P}(P, Y) = \n",
    "-1 * (2 * (Y - P)^2)\n",
    "$$\n",
    "\n",
    "Next, for $$ \\frac{\\partial \\alpha}{\\partial N}(N, B) $$\n",
    "\n",
    "Since $\\alpha$ is simply addition, increasing any element of N by one unit will increase N + B by one unit, thus $$ \\frac{\\partial \\alpha}{\\partial N}(N, B) $$ is simply a list of ones with shape of N like:\n",
    "\n",
    "<code>dPdN = np.ones_like(N) </code>\n",
    "\n",
    "Similarly, $$ \\frac{\\partial \\alpha}{\\partial B}(N, B) $$ is simply a list of ones with shape of B like:\n",
    "\n",
    "<code>dPdB = np.ones_like(B) </code>\n",
    "\n",
    "Last, we have $$ \\frac{\\partial \\nu}{\\partial W}(X, W) $$  This is easy as we know already that \n",
    "\n",
    "$$ \\frac{\\partial \\nu}{\\partial W}(X, W) = X^T $$ \n",
    "\n",
    "Thus\n",
    "\n",
    "$$ \\frac{\\partial \\nu}{\\partial W}(X, W) $$\n",
    "\n",
    "Last, there is small caveat is that we sum the expressions we compute for dLdB along axis = 0.  This is because $b$ is added to each row of the matrix, thus if b changes, it will affect all rows.  Thus the gradient in respect to b shall be summed along all the rows. This is why we sum the expressions for dLdB along axis=0.\n",
    "\n",
    "Now, without further do....let's code right now!"
   ]
  },
  {
   "cell_type": "code",
   "execution_count": 31,
   "metadata": {},
   "outputs": [],
   "source": [
    "def loss_gradients(forward_info: Dict[str, ndarray],\n",
    "                   weights: Dict[str, ndarray]) -> Dict[str, ndarray]:\n",
    "\n",
    "    dLdP = -2 * (forward_info['y'] - forward_info['P'])\n",
    "\n",
    "    dPdN = np.ones_like(forward_info['N'])\n",
    "\n",
    "    dPdB = np.ones_like(weights['B'])\n",
    "\n",
    "    dLdN = dLdP * dPdN\n",
    "\n",
    "    dNdW = forward_info['X'].T\n",
    "    \n",
    "    # need to use matrix multiplication here,\n",
    "    # with dNdW on the left    \n",
    "    dLdW = dNdW @ dLdN\n",
    "\n",
    "    # need to sum along dimension since b is added to every row   \n",
    "    dLdB = (dLdP * dPdB).sum(axis=0)\n",
    "\n",
    "    loss_gradients: Dict[str, ndarrayy] = {}\n",
    "    loss_gradients['W'] = dLdW\n",
    "    loss_gradients['B'] = dLdB\n",
    "\n",
    "    return loss_gradients"
   ]
  },
  {
   "cell_type": "markdown",
   "metadata": {},
   "source": [
    "#### Putting everything together into a train method\n",
    "\n",
    "To combine the loss_gradients and forward into a single train method, as well as some shuffling, we can do as follows:"
   ]
  },
  {
   "cell_type": "code",
   "execution_count": 32,
   "metadata": {},
   "outputs": [],
   "source": [
    "def init_weights(n_in: int) -> Dict[str, ndarray]:\n",
    "    '''\n",
    "    Initialize weights on first forward pass of model.\n",
    "    '''\n",
    "    \n",
    "    weights: Dict[str, ndarray] = {}\n",
    "    W = np.random.randn(n_in, 1)\n",
    "    B = np.random.randn(1, 1)\n",
    "    \n",
    "    weights['W'] = W\n",
    "    weights['B'] = B\n",
    "\n",
    "    return weights"
   ]
  },
  {
   "cell_type": "code",
   "execution_count": 33,
   "metadata": {},
   "outputs": [],
   "source": [
    "def train(X: ndarray, \n",
    "          y: ndarray, \n",
    "          n_iter: int = 1000,\n",
    "          learning_rate: float = 0.01,\n",
    "          batch_size: int = 100,\n",
    "          return_losses: bool = False, \n",
    "          return_weights: bool = False) -> None:\n",
    "    \n",
    "    np.random.seed(42)\n",
    "    start = 0\n",
    "\n",
    "    #initialize randomom weights\n",
    "    weights = init_weights(X.shape[1])\n",
    "\n",
    "    # Permute data\n",
    "    perm = np.random.permutation(X.shape[0])\n",
    "    X, y = X[perm], y[perm]\n",
    "    \n",
    "    if return_losses:\n",
    "        losses = []\n",
    "\n",
    "    for i in range(n_iter):\n",
    "\n",
    "        # in case all data is used\n",
    "        if start >= X.shape[0]:\n",
    "            perm = np.random.permutation(X.shape[0])\n",
    "            X, y = X[perm], y[perm]\n",
    "            start = 0\n",
    "        \n",
    "        #reduce batch size if exceeds\n",
    "        if start+batch_size > X.shape[0]:\n",
    "            batch_size = X.shape[0] - start\n",
    "    \n",
    "        X_batch, y_batch = X[start:start+batch_size], y[start:start+batch_size]\n",
    "        start += batch_size\n",
    "    \n",
    "        # Train net using generated batch\n",
    "        forward_info, loss = forward(X_batch, y_batch, weights)\n",
    "\n",
    "        if return_losses:\n",
    "            losses.append(loss)\n",
    "\n",
    "        loss_grads = loss_gradients(forward_info, weights)\n",
    "        \n",
    "        #loss_grads and weights have same keys\n",
    "        for key in weights.keys():\n",
    "            weights[key] -= learning_rate * loss_grads[key]\n",
    "\n",
    "    if return_weights:\n",
    "        return losses, weights\n",
    "    \n",
    "    return None"
   ]
  },
  {
   "cell_type": "markdown",
   "metadata": {},
   "source": [
    "#### Let's test our model"
   ]
  },
  {
   "cell_type": "code",
   "execution_count": 34,
   "metadata": {},
   "outputs": [],
   "source": [
    "from sklearn.datasets import load_boston\n",
    "from sklearn.preprocessing import StandardScaler\n",
    "from sklearn.model_selection import train_test_split\n",
    "from sklearn.metrics import mean_squared_error, r2_score\n",
    "\n",
    "boston = load_boston()\n",
    "X = boston.data\n",
    "y = boston.target\n",
    "features = boston.feature_names\n",
    "s = StandardScaler()\n",
    "X = s.fit_transform(X)\n",
    "\n",
    "X_train, X_test, y_train, y_test = train_test_split(X, y, test_size=0.3, random_state=42)\n",
    "\n",
    "#since our train function assumes y to be shape of (n, 1)\n",
    "y_train, y_test = y_train.reshape(-1, 1), y_test.reshape(-1, 1)"
   ]
  },
  {
   "cell_type": "code",
   "execution_count": 35,
   "metadata": {},
   "outputs": [],
   "source": [
    "train_info = train(X_train, y_train,\n",
    "                   n_iter = 10000,\n",
    "                   learning_rate = 0.001,\n",
    "                   batch_size=23, \n",
    "                   return_losses=True, \n",
    "                   return_weights=True)\n",
    "losses = train_info[0]\n",
    "weights = train_info[1]"
   ]
  },
  {
   "cell_type": "code",
   "execution_count": 36,
   "metadata": {},
   "outputs": [],
   "source": [
    "def predict(X: ndarray,\n",
    "            weights: Dict[str, ndarray]):\n",
    "    \n",
    "    N = X @ weights['W']\n",
    "\n",
    "    return N + weights['B']"
   ]
  },
  {
   "cell_type": "code",
   "execution_count": 37,
   "metadata": {},
   "outputs": [
    {
     "name": "stdout",
     "output_type": "stream",
     "text": [
      "MSE:  21.962219458334552\n",
      "$R^2$:  0.7052569177141323\n"
     ]
    }
   ],
   "source": [
    "y_pred = predict(X_test, weights)\n",
    "print(\"MSE: \", mean_squared_error(y_test, y_pred))\n",
    "print(\"$R^2$: \", r2_score(y_test, y_pred))"
   ]
  },
  {
   "cell_type": "markdown",
   "metadata": {},
   "source": [
    "Let's plot the actual vs. predicted values"
   ]
  },
  {
   "cell_type": "code",
   "execution_count": 38,
   "metadata": {},
   "outputs": [
    {
     "data": {
      "text/plain": [
       "<matplotlib.collections.PathCollection at 0x124d8e610>"
      ]
     },
     "execution_count": 38,
     "metadata": {},
     "output_type": "execute_result"
    },
    {
     "data": {
      "image/png": "[encoded data removed]",
      "text/plain": [
       "<Figure size 432x288 with 1 Axes>"
      ]
     },
     "metadata": {
      "needs_background": "light"
     },
     "output_type": "display_data"
    }
   ],
   "source": [
    "plt.xlabel(\"Predicted value\")\n",
    "plt.ylabel(\"Actual value\")\n",
    "plt.title(\"Predicted vs. Actual values\")\n",
    "plt.xlim([0, 51])\n",
    "plt.ylim([0, 51])\n",
    "plt.scatter(y_pred, y_test)"
   ]
  },
  {
   "cell_type": "markdown",
   "metadata": {},
   "source": [
    "#### Importance of each feature\n",
    "\n",
    "As we already know, since we standardize our features in the beginning, we can check the size of coefficients to know which one is important"
   ]
  },
  {
   "cell_type": "code",
   "execution_count": 39,
   "metadata": {},
   "outputs": [
    {
     "data": {
      "text/plain": [
       "array([[-1.21213267],\n",
       "       [ 0.81433624],\n",
       "       [ 0.30894756],\n",
       "       [ 0.84788429],\n",
       "       [-1.78763297],\n",
       "       [ 2.87254465],\n",
       "       [-0.2811529 ],\n",
       "       [-2.9113813 ],\n",
       "       [ 2.12380982],\n",
       "       [-1.34482524],\n",
       "       [-1.90944831],\n",
       "       [ 1.14951932],\n",
       "       [-4.008822  ]])"
      ]
     },
     "execution_count": 39,
     "metadata": {},
     "output_type": "execute_result"
    }
   ],
   "source": [
    "weights['W']\n",
    "\n",
    "#so which one is the most important feature?"
   ]
  },
  {
   "cell_type": "markdown",
   "metadata": {},
   "source": [
    "#### Compare with sklearn\n",
    "\n",
    "To make sure our code from scratch is correct, let's compare with sklearn"
   ]
  },
  {
   "cell_type": "code",
   "execution_count": 40,
   "metadata": {},
   "outputs": [
    {
     "name": "stdout",
     "output_type": "stream",
     "text": [
      "MSE:  21.517444231177276\n",
      "$R^2$:  0.7112260057484923\n"
     ]
    }
   ],
   "source": [
    "from sklearn.linear_model import LinearRegression\n",
    "lr = LinearRegression()\n",
    "lr.fit(X_train, y_train)\n",
    "y_pred = lr.predict(X_test)\n",
    "print(\"MSE: \", mean_squared_error(y_test, y_pred))\n",
    "print(\"$R^2$: \", r2_score(y_test, y_pred))"
   ]
  },
  {
   "cell_type": "markdown",
   "metadata": {},
   "source": [
    "## Improved model: Neural Network\n",
    "\n",
    "As we see from above, the score is not really nice.  One possibility is due to the linear assumption of linear regression.  We may be able to improve the accuracy if we can deploy a non-linear model.  Here we shall modify linear regression to non-linear form in the neural network.  Here we shall further clearly see that adding non-linearity is basically adding more activation functions!   In fact, you will be surprised that neural network, at its most basic form, is actually a linear regression!"
   ]
  },
  {
   "cell_type": "markdown",
   "metadata": {},
   "source": [
    "#### Step 1: Adding many linear regressions\n",
    "\n",
    "In one linear regression. if our X had dimensions <code>[batch_size, num_features]</code>, then we multiplied it by a weight matrix W with dimensions <code>[num_features, 1]</code> to get an output of dimension <code>[batch_size, 1]</code>; this output is, for each observation in the batch, simply a weighted sum of the original features. \n",
    "\n",
    "To do multiple linear regressions, we’ll simply multiply our input by a weight matrix with dimensions <code>[num_features, num_outputs]</code>, resulting in an output of dimensions <code>[batch_size, num_outputs]</code>; now, for each observation, we have multiple (num_outputs) different weighted sums of the original features."
   ]
  },
  {
   "cell_type": "markdown",
   "metadata": {},
   "source": [
    "#### Step 2: A non-linear function\n",
    "\n",
    "Next, we’ll feed each of these weighted sums through a nonlinear function; the first function we’ll try is the sigmoid function\n",
    "\n",
    "Why is using this nonlinear function a good idea? Why not the square function f(x) = $x^2$, for example? There are a couple of reasons. First, we want the function we use here to be monotonic so that it “preserves” information about the numbers that were fed in. Let’s say that, given the date that was fed in, two of our linear regressions produced values of –3 and 3, respectively. Feeding these through the square function would then produce a value of 9 for each, so that any function that receives these numbers as inputs after they were fed through the square function would “lose” the information that one of them was originally –3 and the other was 3.\n",
    "\n",
    "The second reason, of course, is that the function is nonlinear; this nonlinearity will enable our neural network to model the inherently nonlinear relationship between the features and the target.\n",
    "\n",
    "Finally, the sigmoid function has the nice property that its derivative can be expressed in terms of the function itself:\n",
    "\n",
    "$$ \\frac{\\partial \\sigma}{\\partial u}(x) = \\sigma(x) * (1 - \\sigma(x)) $$\n",
    "\n",
    "#### Step 3: Add another linear regression\n",
    "\n",
    "Finally, we’ll take the resulting 13 elements—each of which is a combination of the original features, fed through the sigmoid function so that they all have values between 0 and 1—and feed them into a regular linear regression, using them the same way we used our original features previously.\n",
    "\n",
    "Then, we’ll try training the entire resulting function in the same way we trained the standard linear regression earlier in this chapter: we’ll feed data through the model, use the chain rule to figure out how much increasing the weights would increase (or decrease) the loss, and then update the weights in the direction that decreases the loss at each iteration. Over time (we hope) we’ll end up with a more accurate model than before, one that has “learned” the inherent nonlinearity of the relationship between our features and our target.”\n",
    "\n",
    "\n",
    "Finally, consider the following network:\n",
    "\n",
    "![](figures/neuralnet2.png)\n",
    "\n",
    "Let's code them accordingly:\n",
    "\n",
    "Starting with the sigmoid function:"
   ]
  },
  {
   "cell_type": "code",
   "execution_count": 41,
   "metadata": {},
   "outputs": [],
   "source": [
    "def sigmoid(x: ndarray) -> ndarray:\n",
    "    return 1 / (1 + np.exp(-1.0 * x))"
   ]
  },
  {
   "cell_type": "markdown",
   "metadata": {},
   "source": [
    "#### Let's start coding"
   ]
  },
  {
   "cell_type": "code",
   "execution_count": 42,
   "metadata": {},
   "outputs": [],
   "source": [
    "#since our weights will depend on the size of nonlinearity,\n",
    "#we can num_outputs as hidden_size\n",
    "def init_weights(input_size: int, \n",
    "                 hidden_size: int) -> Dict[str, ndarray]:\n",
    "    weights: Dict[str, ndarray] = {}\n",
    "    weights['W1'] = np.random.randn(input_size, hidden_size)\n",
    "    weights['B1'] = np.random.randn(1, hidden_size)\n",
    "    weights['W2'] = np.random.randn(hidden_size, 1)\n",
    "    weights['B2'] = np.random.randn(1, 1)\n",
    "    return weights"
   ]
  },
  {
   "cell_type": "code",
   "execution_count": 43,
   "metadata": {},
   "outputs": [],
   "source": [
    "#similar as before\n",
    "def forward(X: ndarray,\n",
    "                 y: ndarray,\n",
    "                 weights: Dict[str, ndarray]\n",
    "                 ) -> Tuple[Dict[str, ndarray], float]:\n",
    "\n",
    "    M1 = X @ weights['W1']\n",
    "\n",
    "    N1 = M1 + weights['B1']\n",
    "\n",
    "    O1 = sigmoid(N1)\n",
    "    \n",
    "    M2 = O1 @ weights['W2']\n",
    "\n",
    "    P = M2 + weights['B2']    \n",
    "\n",
    "    loss = np.mean(np.power(y - P, 2))\n",
    "\n",
    "    forward_info: Dict[str, ndarray] = {}\n",
    "    forward_info['X'] = X\n",
    "    forward_info['M1'] = M1\n",
    "    forward_info['N1'] = N1\n",
    "    forward_info['O1'] = O1\n",
    "    forward_info['M2'] = M2\n",
    "    forward_info['P'] = P\n",
    "    forward_info['y'] = y\n",
    "\n",
    "    return forward_info, loss"
   ]
  },
  {
   "cell_type": "markdown",
   "metadata": {},
   "source": [
    "For the gradients, that we are interested to find is dLdW2, dLdB2, dLdW1, dLdB1 by performing the chain rule.  This can get messy but things are simply the same as above.  Also, a clean derivative of the sigmoid function is also very nice."
   ]
  },
  {
   "cell_type": "code",
   "execution_count": 44,
   "metadata": {},
   "outputs": [],
   "source": [
    "def loss_gradients(forward_info: Dict[str, ndarray], \n",
    "                   weights: Dict[str, ndarray]) -> Dict[str, ndarray]:\n",
    " \n",
    "    #remove constant does not change the direction\n",
    "    dLdP = -(forward_info['y'] - forward_info['P'])\n",
    "    \n",
    "    dPdM2 = np.ones_like(forward_info['M2'])\n",
    "    \n",
    "    dPdB2 = np.ones_like(weights['B2'])\n",
    "\n",
    "    dLdM2 = dLdP * dPdM2\n",
    "  \n",
    "    dLdB2 = (dLdP * dPdB2).sum(axis=0)\n",
    "    \n",
    "    dM2dW2 = forward_info['O1'].T\n",
    "    \n",
    "    dM2dO1 = weights['W2'].T\n",
    "    \n",
    "    dLdW2 = dM2dW2 @ dLdP\n",
    "\n",
    "    dLdO1 = dLdM2 @ dM2dO1\n",
    "    \n",
    "    dO1dN1 = sigmoid(forward_info['N1']) * (1- sigmoid(forward_info['N1']))\n",
    "    \n",
    "    dLdN1 = dLdO1 * dO1dN1\n",
    "    \n",
    "    dN1dB1 = np.ones_like(weights['B1'])\n",
    "    \n",
    "    dN1dM1 = np.ones_like(forward_info['M1'])\n",
    "    \n",
    "    dLdB1 = (dLdN1 * dN1dB1).sum(axis=0)\n",
    "    \n",
    "    dLdM1 = dLdN1 * dN1dM1\n",
    "    \n",
    "    dM1dW1 = forward_info['X'].T \n",
    "\n",
    "    dLdW1 = dM1dW1 @ dLdM1\n",
    "\n",
    "    loss_gradients: Dict[str, ndarray] = {}\n",
    "    loss_gradients['W2'] = dLdW2\n",
    "    loss_gradients['B2'] = dLdB2.sum(axis=0)\n",
    "    loss_gradients['W1'] = dLdW1\n",
    "    loss_gradients['B1'] = dLdB1.sum(axis=0)\n",
    "    \n",
    "    return loss_gradients"
   ]
  },
  {
   "cell_type": "markdown",
   "metadata": {},
   "source": [
    "Our train method looks very unchanged...except adding the hidden size parameter"
   ]
  },
  {
   "cell_type": "code",
   "execution_count": 45,
   "metadata": {},
   "outputs": [],
   "source": [
    "def train(X: ndarray, \n",
    "          y: ndarray, \n",
    "          n_iter: int = 1000,\n",
    "          learning_rate: float = 0.01,\n",
    "          batch_size: int = 100,\n",
    "          return_losses: bool = False, \n",
    "          return_weights: bool = False,\n",
    "          hidden_size = 13) -> None:\n",
    "    \n",
    "    np.random.seed(42)\n",
    "    start = 0\n",
    "\n",
    "    #initialize randomom weights\n",
    "    weights = init_weights(X_train.shape[1], hidden_size = hidden_size)\n",
    "\n",
    "    # Permute data\n",
    "    perm = np.random.permutation(X.shape[0])\n",
    "    X, y = X[perm], y[perm]\n",
    "    \n",
    "    if return_losses:\n",
    "        losses = []\n",
    "\n",
    "    for i in range(n_iter):\n",
    "\n",
    "        # in case all data is used\n",
    "        if start >= X.shape[0]:\n",
    "            perm = np.random.permutation(X.shape[0])\n",
    "            X, y = X[perm], y[perm]\n",
    "            start = 0\n",
    "        \n",
    "        #reduce batch size if exceeds\n",
    "        if start+batch_size > X.shape[0]:\n",
    "            batch_size = X.shape[0] - start\n",
    "    \n",
    "        X_batch, y_batch = X[start:start+batch_size], y[start:start+batch_size]\n",
    "        start += batch_size\n",
    "    \n",
    "        # Train net using generated batch\n",
    "        forward_info, loss = forward(X_batch, y_batch, weights)\n",
    "\n",
    "        if return_losses:\n",
    "            losses.append(loss)\n",
    "\n",
    "        loss_grads = loss_gradients(forward_info, weights)\n",
    "        \n",
    "        #loss_grads and weights have same keys\n",
    "        for key in weights.keys():\n",
    "            weights[key] -= learning_rate * loss_grads[key]\n",
    "\n",
    "    if return_weights:\n",
    "        return losses, weights\n",
    "    \n",
    "    return None"
   ]
  },
  {
   "cell_type": "markdown",
   "metadata": {},
   "source": [
    "Since our network change, we also need to revise our predict method slightly:"
   ]
  },
  {
   "cell_type": "code",
   "execution_count": 46,
   "metadata": {},
   "outputs": [],
   "source": [
    "def predict(X: ndarray, \n",
    "            weights: Dict[str, ndarray]) -> ndarray:\n",
    "\n",
    "    M1 = np.dot(X, weights['W1'])\n",
    "\n",
    "    N1 = M1 + weights['B1']\n",
    "\n",
    "    O1 = sigmoid(N1)\n",
    "\n",
    "    M2 = np.dot(O1, weights['W2'])\n",
    "\n",
    "    P = M2 + weights['B2']    \n",
    "\n",
    "    return P"
   ]
  },
  {
   "cell_type": "markdown",
   "metadata": {},
   "source": [
    "Let's train model"
   ]
  },
  {
   "cell_type": "code",
   "execution_count": 47,
   "metadata": {},
   "outputs": [],
   "source": [
    "train_info = train(X_train, y_train,\n",
    "                   n_iter = 10000,\n",
    "                   learning_rate = 0.001,\n",
    "                   batch_size=23, \n",
    "                   return_losses=True, \n",
    "                   return_weights=True)\n",
    "losses = train_info[0]\n",
    "weights = train_info[1]"
   ]
  },
  {
   "cell_type": "markdown",
   "metadata": {},
   "source": [
    "Here is the prediction accuracy:"
   ]
  },
  {
   "cell_type": "code",
   "execution_count": 48,
   "metadata": {},
   "outputs": [
    {
     "name": "stdout",
     "output_type": "stream",
     "text": [
      "MSE:  10.839123211769357\n",
      "$R^2$:  0.8545339831990069\n"
     ]
    }
   ],
   "source": [
    "y_pred = predict(X_test, weights)\n",
    "print(\"MSE: \", mean_squared_error(y_test, y_pred))\n",
    "print(\"$R^2$: \", r2_score(y_test, y_pred))"
   ]
  },
  {
   "cell_type": "markdown",
   "metadata": {},
   "source": [
    "## Conclusion\n",
    "\n",
    "We can learn several things here:\n",
    "1. Non-linearity in the sigmoid function helps improve the performance\n",
    "2. The math behind neural network, in fact, is much simpler than some traditional models!  It relies only the chain rule to derive the gradients of L in respect to W and B\n",
    "3. Neural network, on its simplest form, is simply a linear regression.  In simple word, neural work can be seen as simply linear combinations of X.  But if we introduce sigmoid or other functions, it become non-linear\n",
    "4. Key thing I want to focus is not on the programing side.  In fact, coding from scratch is mainly for the purpose of understanding neural network from ground up.  It is my intention that once you understand them, you can build on of your own in your research in the future.  Who knows some genius could be hiding here!"
   ]
  },
  {
   "cell_type": "code",
   "execution_count": null,
   "metadata": {},
   "outputs": [],
   "source": []
  }
 ],
 "metadata": {
  "kernelspec": {
   "display_name": "Python 3",
   "language": "python",
   "name": "python3"
  },
  "language_info": {
   "codemirror_mode": {
    "name": "ipython",
    "version": 3
   },
   "file_extension": ".py",
   "mimetype": "text/x-python",
   "name": "python",
   "nbconvert_exporter": "python",
   "pygments_lexer": "ipython3",
   "version": "3.8.6"
  }
 },
 "nbformat": 4,
 "nbformat_minor": 1
}
