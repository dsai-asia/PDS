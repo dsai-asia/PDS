{
 "cells": [
  {
   "cell_type": "markdown",
   "metadata": {},
   "source": [
    "# Programming for Data Science and Artificial Intelligence\n",
    "\n",
    "## 9.3 Deep Learning -  Extending Deep Neural Network\n",
    "\n",
    "### Readings\n",
    "\n",
    "- [WEIDMAN] Ch4\n",
    "- [CHARU] Ch2-3"
   ]
  },
  {
   "cell_type": "code",
   "execution_count": 1,
   "metadata": {},
   "outputs": [],
   "source": [
    "#import from last time work so we can extend further\n",
    "from neuralnet.first_version import *\n",
    "\n",
    "#To make this simple, I have stored all our stuff \n",
    "#that we have develop so far in the folder \n",
    "#<code>/neuralnet/first_version.py</code>"
   ]
  },
  {
   "cell_type": "markdown",
   "metadata": {},
   "source": [
    "In the last two classes, we focus on understanding deep neural net and I hope it's going fantastic.  Anyhow, what we have been discovering so far is the most basic form of it and most of the time, it is insufficient for most real-world problems.  \n",
    "\n",
    "Today, we shall explore some well-understood techniques that make neural network training more likely to succeed.\n",
    "\n",
    "Before doing that, let's review the intuition behind neural network:\n",
    "\n",
    "In a high-level view, we can say that Neural Network is trying to most optimal parameters which is commonly defined as W that **minimizes the loss**, which can be described using the figure like this:\n",
    "\n",
    "<img src=\"figures/4-1.png\" style=\"width: 300px;\"/>\n",
    "\n",
    "\n",
    "Now, if we use non-linear activation function like sigmoid, **each W will have a non-linear relationship with the loss**.  If we plot one W against loss, while keeping everything constant, we get this oversimplistic graph:\n",
    "\n",
    "<img src=\"figures/4-2.png\" style=\"width: 300px;\"/>\n",
    "\n",
    "At the beginning, we will probably randomize a W value, and **we iterate to update our W by finding the gradients**.  How large should we move along the slope then?  We use **learning rate**.  Small learning rate means small step of update which can be slow but risk ending up in a **local minimia**, while large learning mean large step of update what will be faster but risk **hopping over\"** the global minimum\n",
    "\n",
    "<img src=\"figures/4-3.png\" style=\"width: 300px;\"/>\n",
    "\n",
    "Now we can imagine there are many areas we can perhaps improve on:\n",
    "\n",
    "1.  The **loss function**.  We used MSE as our loss function.  We chose this because it is convex (i.e., imagining a shape of U), meaning that when the loss is huge, the gradient is steeper (imagine the curve is very steep on the top of U but become less toward the bottom of U), allowing the model to quickly improve.  The good question we can ask here is **whether we can find a loss function that is steeper** and also is differentiable so gradient can be easily find, in order to accelerate the learning.\n",
    "\n",
    "2. The **activation function**.  We used sigmoid as our activation function, but the gradient of sigmoid, *at best*, can have derivative of 0.25 which is quite small.   The good question we can ask here is **whether we can find a activation function that can provide larger range of derivative** and thus can accelerate the learning.\n",
    "\n",
    "3. The **update rule**.  Now we only simply multiply the learning rate with the current gradient.  However, our batch X and y keeps changing.  It may be nice if we can update the params based on histories of gradients, not only on the current gradient.\n",
    "\n",
    "4. The **learning rate**.  Currently, we put a static learning rate, but it does not make so much sense.  In fact, it can be safely assumed that our randomized weight is greatly far from the optimal weight and thus learning rate should be large.  However, as iterations run, learning rate should be slowly reduce so we do not keep hopping over and over again, not finding the minimum.\n",
    "\n",
    "5. The **weight initialization** We currently simply randomize our Ws but the good question is whether we can improve this process a bit.\n",
    "\n",
    "6. Last, the **overfitting**.  You may already realize that we so far is hesistant to add more layers.  Why?  Because more layers though may be more accurate but could potentially overfit.  Thus, we need to add some mechanisms to counter the act of adding more layers, in order to prevent overfitting.\n",
    "\n",
    "Phew....they may look a lot but that's the point of the beauty of deep neural net.  Let's start with the loss function."
   ]
  },
  {
   "cell_type": "markdown",
   "metadata": {},
   "source": [
    "### Extension #1. Softmax Cross Entropy Function\n",
    "\n",
    "So recall the question whether we can find **a loss function that is steeper**.\n",
    "\n",
    "Indeed, if we consider a **classification problem**, **softmax cross entropy** as a loss function has a steeper gradients, exploiting the fact that we know the predicted results are probabilities that sum up to 1\n",
    "\n",
    "The **Softmax Cross Entropy** function has two components: (1) softmax function, and (2) cross entropy function.\n",
    "\n",
    "Let's first focus on the softmax function:\n",
    "\n",
    "\n",
    "#### The Softmax Function\n",
    "\n",
    "For example, let's have a classification problem with N classes, let's say 3 classes.  Then for sample 1, the predicted values can be written as:\n",
    "\n",
    "Vector of probabilities for sample 1 = <code> [5, 3, 2] </code>\n",
    "\n",
    "5, 3, 2 represent the regressed probabilities of each class.  For example, 5 represent the probability of sample 1 to belong to class 1, 3 for class 2, and 2 for class 3.   \n",
    "\n",
    "To make it more clear, it is desirable to convert <code> [5, 3, 2] </code> to something like <code> [0.5, 0.3, 0.2] </code> so they sum up to 1 and are really probabilities. \n",
    "\n",
    "Indeed, this can be easily done by simply normalizing them like this:\n",
    "\n",
    "$$ \\text{Normalize}(\\begin{bmatrix} x_1 \\\\ x_2 \\\\ x_3 \\end{bmatrix})  = \\begin{bmatrix} \\frac{x_1}{x_1 + x_2 + x_3} \\\\ \n",
    "\\frac{x_2}{x_1 + x_2 + x_3} \\\\\n",
    "\\frac{x_3}{x_1 + x_2 + x_3}\n",
    "\\end{bmatrix} $$\n",
    "\n",
    "However, there turns out a way that both produces **steeper** gradients, and at the same time, **has elegant mathematical properties**.  This is called **softmax function** like this:\n",
    "\n",
    "$$ \\text{Softmax}(\\begin{bmatrix} x_1 \\\\ x_2 \\\\ x_3 \\end{bmatrix})  = \\begin{bmatrix} \\frac{e^{x_1}}{e^{x_1} + e^{x_2} + e^{x_3}} \\\\ \n",
    "\\frac{e^{x_2}}{e^{x_1} + e^{x_2} + e^{x_3}} \\\\\n",
    "\\frac{e^{x_3}}{e^{x_1} + e^{x_2} + e^{x_3}}\n",
    "\\end{bmatrix} $$\n",
    "\n",
    "The good properties include:\n",
    "1. The softmax function makes the bigger value much bigger, forcing the neural network to be \"less neutral\".  This is doable since we are most interested in the class with biggest probability anyway.  If we apply <code>softmax([5, 3, 2])</code>, we get <code>[0.84, 0.11, 0.04]</code> which is different with the more neutral method of normalization which get <code>[0.5, 0.3, 0.2]</code>\n",
    "\n",
    "2. The softmax function has a steeper gradients, comparing to simple normalization, since derivative of $e^x$ is $e^x$!"
   ]
  },
  {
   "cell_type": "markdown",
   "metadata": {},
   "source": [
    "#### Cross Entropy Loss\n",
    "\n",
    "Recall that loss function in classification problems take a vector of predicted probabilities \n",
    "\n",
    "$$ \\begin{bmatrix} p_1 \\\\ . \\\\ . \\\\ p_n \\end{bmatrix} $$\n",
    "\n",
    "For N=3, we can have like this <code>[0.84, 0.11, 0.04]</code>\n",
    "\n",
    "The loss function will then calculate the loss based on the differences between this vector of predicted probabilities and a vector of actual values that look like this:\n",
    "\n",
    "$$ \\begin{bmatrix} y_1 \\\\ . \\\\ . \\\\ y_n \\end{bmatrix} $$\n",
    "\n",
    "If sample 1 belongs to class 1, then this vector will look like this: <code>[1, 0, 0]</code>\n",
    "\n",
    "The cross entropy loss function, for each index $i$ in these vectors, is \n",
    "\n",
    "$$ \\text{CE}(p_i, y_i) = - y_i * \\text{log}(p_i) - (1 - y_i) * \\text{log}(1-p_i) $$\n",
    "\n",
    "Why this loss function make sense?  Here is the breakdown situation when $y_i = 0$ and $y_i = 1$\n",
    "\n",
    "$$\n",
    "CE(p,y_i)=\n",
    "\\begin{cases}\n",
    "-log(1-p_i) & \\text{if }  y_i = 0\\\\\n",
    "-log(p_i) & \\text{if }  y_i = 1\n",
    "\\end{cases}\n",
    "$$\n",
    "\n",
    "If our $y_i = 0$, \n",
    "\n",
    "- When our $p_i$ is near 0 which means we are correct, the loss become \n",
    "\n",
    "$$-log(1) = 0$$\n",
    "\n",
    "- otherwise, if our $p_i$ is near 1 which means we are incorrect, the loss becomes \n",
    "\n",
    "$$-log(0) = \\infty$$\n",
    "\n",
    "If our $y_i = 1$\n",
    "\n",
    "- When our $p_i$ is near 0 which means we are incorrect, the loss become \n",
    "\n",
    "$$-log(0) = \\infty$$\n",
    "\n",
    "- otherwise, if our $p_i$ is near 1 which means we are correct, the loss becomes \n",
    "\n",
    "$$-log(1) = 0$$\n",
    "\n",
    "If we were to plot the situation when $y_i = 0$, here is the plot:"
   ]
  },
  {
   "cell_type": "code",
   "execution_count": 2,
   "metadata": {},
   "outputs": [
    {
     "data": {
      "text/plain": [
       "Text(0, 0.5, 'Loss values')"
      ]
     },
     "execution_count": 2,
     "metadata": {},
     "output_type": "execute_result"
    },
    {
     "data": {
      "image/png": "[encoded data removed]",
      "text/plain": [
       "<Figure size 432x288 with 1 Axes>"
      ]
     },
     "metadata": {
      "needs_background": "light"
     },
     "output_type": "display_data"
    }
   ],
   "source": [
    "import numpy as np\n",
    "import matplotlib.pyplot as plt\n",
    "\n",
    "x = np.linspace(0.01, 0.99, 99)  #range of p\n",
    "y1 = -1.0 * np.log(1 - x)  #the cross entropy\n",
    "y2 = (x - 0) ** 2  #the MSE\n",
    "plt.plot(x, y1);\n",
    "plt.plot(x, y2);\n",
    "plt.legend(['Cross entropy loss', 'Mean squared error'])\n",
    "\n",
    "plt.title(\"Cross entropy loss vs. MSE when $y = 0$\")\n",
    "plt.xlabel(\"Prediction ($p$)\")\n",
    "plt.ylabel(\"Loss values\")"
   ]
  },
  {
   "cell_type": "markdown",
   "metadata": {},
   "source": [
    "You can clearly see that **cross entrophy** has a steeper gradient when the prediction is very far from the actual values"
   ]
  },
  {
   "cell_type": "markdown",
   "metadata": {},
   "source": [
    "Similarly, we can plot when $y_i = 1$"
   ]
  },
  {
   "cell_type": "code",
   "execution_count": 3,
   "metadata": {},
   "outputs": [
    {
     "data": {
      "image/png": "[encoded data removed]",
      "text/plain": [
       "<Figure size 432x288 with 1 Axes>"
      ]
     },
     "metadata": {
      "needs_background": "light"
     },
     "output_type": "display_data"
    }
   ],
   "source": [
    "x = np.linspace(0.01, 0.99, 99)\n",
    "y = -1.0 * np.log((x))\n",
    "\n",
    "plt.plot(x, y);\n",
    "plt.title(\"Log loss for $y = 1$\")\n",
    "plt.xlabel(\"Prediction ($p$)\")\n",
    "plt.ylabel(\"Log loss\");"
   ]
  },
  {
   "cell_type": "markdown",
   "metadata": {},
   "source": [
    "The real magic happens when we combine this loss with the softmax function like this:\n",
    "\n",
    "$$ {SCE}_1 = - y_1 * log(\\frac{e^{x_1}}{e^{x_1} + e^{x_2} + e^{x_3}}) - (1 - y_1) * log(1-\\frac{e^{x_1}}{e^{x_1} + e^{x_2} + e^{x_3}}) $$\n",
    "\n",
    "This **softmax cross entropy** function first converts $x_1...x_n$ into probabilities, and then insert these probabilities into the cross entrophy function.\n",
    "\n",
    "It turns out that the gradient can also be very easily calculated as follows:\n",
    "\n",
    "$$\\frac{\\partial SCE_1}{\\partial x_1} = \\frac{e^{x_1}}{e^{x_1} + e^{x_2} + e^{x_3}} - y_1$$\n",
    "\n",
    "That means that the total gradient is as follows:\n",
    "\n",
    "$$ \\text{softmax}(\\begin{bmatrix} p_1 \\\\ p_2 \\\\ p_3 \\end{bmatrix}) - \\begin{bmatrix} y_1 \\\\ y_2 \\\\ y_3 \\end{bmatrix} $$\n",
    "\n",
    "Enough talk.  Let's code this up."
   ]
  },
  {
   "cell_type": "code",
   "execution_count": 4,
   "metadata": {},
   "outputs": [],
   "source": [
    "from numpy import ndarray\n",
    "\n",
    "class SoftmaxCrossEntropy(Loss):\n",
    "    def __init__(self, eps: float=1e-9):\n",
    "        super().__init__()\n",
    "        self.eps = eps\n",
    "\n",
    "    def _output(self) -> float:\n",
    "        \n",
    "        # applying the softmax function to each row (observation)\n",
    "        softmax_preds = self.softmax(self.prediction, axis=1)\n",
    "\n",
    "        # clipping the softmax output to prevent numeric instability\n",
    "        #numpy.clip(a, a_min, a_max, out=None, **kwargs)\n",
    "        #To prevent extremely large loss values that could lead to numeric instability, \n",
    "        #we’ll clip the output of the softmax function to be no less than 10–7 and no greater than 10^7\n",
    "        self.softmax_preds = np.clip(softmax_preds, self.eps, 1 - self.eps)\n",
    "\n",
    "        # actual loss computation\n",
    "        softmax_cross_entropy_loss = (\n",
    "            -1.0 * self.target * np.log(self.softmax_preds) - \\\n",
    "                (1.0 - self.target) * np.log(1 - self.softmax_preds)\n",
    "        )\n",
    "        \n",
    "        #return average loss\n",
    "        return np.sum(softmax_cross_entropy_loss) / self.prediction.shape[0]\n",
    "\n",
    "    def _input_grad(self) -> ndarray:\n",
    "        #return average grad\n",
    "        return (self.softmax_preds - self.target) / self.prediction.shape[0]\n",
    "\n",
    "    def softmax(self, x, axis=None):\n",
    "        #keepdims so that this number can be broadcasted and divided\n",
    "        return np.exp(x) / np.sum(np.exp(x), axis=axis, keepdims=True)"
   ]
  },
  {
   "cell_type": "markdown",
   "metadata": {},
   "source": [
    "### Extension #2. Activation Function\n",
    "\n",
    "We use sigmoid in previous classes because we say that sigmoid was:\n",
    "- non-linear and monotonic (one to one mapping)\n",
    "- actually help overfitting by forcing all values to be between 0 and 1\n",
    "\n",
    "Nevertheless, sigmoid produces **relatively flat gradients with maximum slopoe of only 0.25, i.e., any gradient that gets passed to the sigmoid function is at best, be divided by 4 when sent backward.  Worse still, when the input to the sigmoid is less than -2 or greater than 2, the gradient is almost zero**. See this graph for example:"
   ]
  },
  {
   "cell_type": "code",
   "execution_count": 5,
   "metadata": {},
   "outputs": [
    {
     "data": {
      "text/plain": [
       "[<matplotlib.lines.Line2D at 0x116020850>]"
      ]
     },
     "execution_count": 5,
     "metadata": {},
     "output_type": "execute_result"
    },
    {
     "data": {
      "image/png": "[encoded data removed]",
      "text/plain": [
       "<Figure size 432x288 with 1 Axes>"
      ]
     },
     "metadata": {
      "needs_background": "light"
     },
     "output_type": "display_data"
    }
   ],
   "source": [
    "import matplotlib.pyplot as plt\n",
    "\n",
    "def sigmoid(x):\n",
    "    return 1.0/(1.0 + np.exp(-1.0 * x))\n",
    "\n",
    "def sigmoid_derivative(x):\n",
    "    return sigmoid(x) * (1.0 - sigmoid(x))\n",
    "\n",
    "x = np.linspace(-5, 5, 100)\n",
    "plt.plot(x, sigmoid_derivative(x))"
   ]
  },
  {
   "cell_type": "markdown",
   "metadata": {},
   "source": [
    "What this means is that any parameters influencing these inputs will receive small gradients, and our network could elarn slowly as a result.  Worse yet, if we have multiple sigmoid functions in successive layers, it will further diminish the gradients.\n",
    "\n",
    "So the question is, is there any other activation function that has bigger derivative.  Let's explore other activation function including **ReLu**, **Tanh**, and **Relu Leaky**.\n",
    "\n",
    "#### ReLu (Rectified Linear Unit)\n",
    "\n",
    "ReLu is simply defined to be 0 if x is less than 0, and x otherwise.  It's derivative is simply if x is more than 0, then the derivative is 1, otherwise is 0.\n",
    "\n",
    "This is a valid activation function because it is monotonic and non-linear.  It produces much greater gradients.  However, the downside is that it draws a somewhat strange distinction between values less than or greater than 0. That can be fixed with **Leaky ReLu** which is simply using some alpha to make sure values smaller than zero does not completely gone.  Another one is **ReLu6** which is simply having the positive cap at 6 (it will not exceed 6), adding even more non-linearity into the network.\n",
    "\n",
    "Nevertheless, if we are dealing with simple problems such as MNIST, then adding more sophiscated activation functions are NOT encouraged, since it adds more complexity and make the network harder to learn.\n",
    "\n",
    "Luckily, there is a simple activation function that also produces strong gradients but is also simple: Tanh function"
   ]
  },
  {
   "cell_type": "code",
   "execution_count": 6,
   "metadata": {},
   "outputs": [
    {
     "data": {
      "text/plain": [
       "Text(0, 0.5, '$ReLU(x)$')"
      ]
     },
     "execution_count": 6,
     "metadata": {},
     "output_type": "execute_result"
    },
    {
     "data": {
      "image/png": "[encoded data removed]",
      "text/plain": [
       "<Figure size 432x288 with 1 Axes>"
      ]
     },
     "metadata": {
      "needs_background": "light"
     },
     "output_type": "display_data"
    }
   ],
   "source": [
    "def relu(x):\n",
    "    return np.array([el if el > 0 else 0 for el in x])\n",
    "\n",
    "def relu_derivative(x):\n",
    "    x[x<=0] = 0\n",
    "    x[x>0] = 1\n",
    "    return x\n",
    "\n",
    "x = np.arange(-5, 5, 0.01)\n",
    "plt.plot(x, relu(x))\n",
    "# plt.plot(x, relu_derivative(x))\n",
    "plt.title(\"ReLU activation function\")\n",
    "plt.xlabel(\"X\")\n",
    "plt.ylabel(\"$ReLU(x)$\")"
   ]
  },
  {
   "cell_type": "markdown",
   "metadata": {},
   "source": [
    "#### Tanh\n",
    "\n",
    "The Tanh function is shaped similarly to the sigmoid function but maps inputs to values between -1 and 1.  It produces strong gradient with maximum of 1.  It also has a simple derivative of $$1 - tanh(x)^2$$\n",
    "\n",
    "Given that tanh has strong gradient of 1, it is commonly a natural replacement of sigmoid since tanh is better than sigmoid in the gradient, but share the same downside of sigmoid, i.e., having gradient of 0 after x is around the left/right side of the curve.\n",
    "\n",
    "Tanh is also considered a balance between sigmoid and ReLu.  Sigmoid is very conservative, while Relu is very progressive - always producing gradient of 1 when x is greater than 0.   In common problem, Tahn is sufficient to improve the performance over sigmoid.  In more sophiscated problems with many non-linearity, we may use ReLu."
   ]
  },
  {
   "cell_type": "code",
   "execution_count": 7,
   "metadata": {},
   "outputs": [
    {
     "data": {
      "text/plain": [
       "<matplotlib.legend.Legend at 0x1160c2f90>"
      ]
     },
     "execution_count": 7,
     "metadata": {},
     "output_type": "execute_result"
    },
    {
     "data": {
      "image/png": "[encoded data removed]",
      "text/plain": [
       "<Figure size 432x288 with 1 Axes>"
      ]
     },
     "metadata": {
      "needs_background": "light"
     },
     "output_type": "display_data"
    }
   ],
   "source": [
    "x = np.arange(-5, 5, 0.01)\n",
    "plt.plot(x, np.tanh(x), label=\"tanh\")\n",
    "plt.plot(x, 1 - (np.tanh(x) **2), label=\"tanh'\")\n",
    "plt.title(\"Tanh activation \")\n",
    "plt.xlabel(\"$x$\")\n",
    "plt.ylabel(\"$y$\")\n",
    "plt.legend()"
   ]
  },
  {
   "cell_type": "markdown",
   "metadata": {},
   "source": [
    "Finally, we can write the Tanh function as a class like this:"
   ]
  },
  {
   "cell_type": "code",
   "execution_count": 8,
   "metadata": {},
   "outputs": [],
   "source": [
    "class Tanh(Operation):\n",
    "    def __init__(self):\n",
    "        super().__init__()\n",
    "\n",
    "    def _output(self) -> ndarray:\n",
    "        return np.tanh(self.input_)\n",
    "\n",
    "    def _input_grad(self, output_grad: ndarray) -> ndarray:\n",
    "        return output_grad * (1 - self.output * self.output)"
   ]
  },
  {
   "cell_type": "markdown",
   "metadata": {},
   "source": [
    "### Experiments\n",
    "\n",
    "Before we dive into other possible extensions.  Let's try out our techniques using MNIST dataset, which consists of black and white images of handwritten digits that are 28 x 28 pixels, with the value of each pixel range from 0 to 255.\n",
    "\n",
    "Here we gonna have 60,000 images on training and 10,000 images for testing"
   ]
  },
  {
   "cell_type": "code",
   "execution_count": 9,
   "metadata": {},
   "outputs": [],
   "source": [
    "from sklearn.datasets import fetch_openml\n",
    "\n",
    "mnist = fetch_openml('mnist_784', version=1, cache=True)\n",
    "mnist.target = mnist.target.astype(int)\n",
    "\n",
    "X_train = mnist['data'][:60000]\n",
    "y_train = mnist['target'][:60000]\n",
    "\n",
    "X_test = mnist['data'][60000:]\n",
    "y_test = mnist['target'][60000:]"
   ]
  },
  {
   "cell_type": "markdown",
   "metadata": {},
   "source": [
    "#### Data Preprocessing"
   ]
  },
  {
   "cell_type": "markdown",
   "metadata": {},
   "source": [
    "1. Always help to standardize our data   The reason we do this is because in the process of training our network, we're going to be multiplying (weights) and adding to (biases) these initial inputs in order to cause activations that we then backpropogate with the gradients to train the model.  We'd like in this process for each feature to have a similar range so that our gradients don't go out of control (and that we only need one global learning rate multiplier)."
   ]
  },
  {
   "cell_type": "code",
   "execution_count": 10,
   "metadata": {},
   "outputs": [],
   "source": [
    "from sklearn.preprocessing import StandardScaler\n",
    "scaler = StandardScaler()\n",
    "X_train = scaler.fit_transform(X_train)\n",
    "X_test = scaler.transform(X_test)"
   ]
  },
  {
   "cell_type": "markdown",
   "metadata": {},
   "source": [
    "2. We need to convert our y which current is a single digit showing the class (e.g., 9), we need to convert to a vector of probabilities like this <code>[0, 0, 0, 0, 0, 0, 0, 0, 1]</code>  which indicates that this sample is of class 9.  This process is also commonly known as *one hot encoding*  We can use <code>sklearn.preprocessing</code> to make our life easier:"
   ]
  },
  {
   "cell_type": "code",
   "execution_count": 11,
   "metadata": {},
   "outputs": [
    {
     "name": "stdout",
     "output_type": "stream",
     "text": [
      "(60000, 10) (10000, 10)\n"
     ]
    }
   ],
   "source": [
    "from sklearn import preprocessing\n",
    "onehot = preprocessing.OneHotEncoder()\n",
    "\n",
    "#sklearn expects a 2D array thus we have to reshape to (-1, 1)\n",
    "y_train_encode = onehot.fit_transform(y_train.reshape(-1, 1)).toarray()\n",
    "y_test_encode = onehot.fit_transform(y_test.reshape(-1, 1)).toarray()\n",
    "\n",
    "print(y_train_encode.shape, y_test_encode.shape)"
   ]
  },
  {
   "cell_type": "code",
   "execution_count": 12,
   "metadata": {},
   "outputs": [],
   "source": [
    "#define a simple accuracy function\n",
    "\n",
    "from sklearn.metrics import accuracy_score\n",
    "\n",
    "def calc_accuracy(model, X_test, y_test):    \n",
    "    #getting the accuracy score with testing data\n",
    "    preds = model.forward(X_test)\n",
    "    preds = np.argmax(preds, axis=1)\n",
    "    print(\"Accuracy: \", accuracy_score(y_test, preds))"
   ]
  },
  {
   "cell_type": "markdown",
   "metadata": {},
   "source": [
    "1. **Sigmoid activation function**\n",
    "\n",
    "We gonna first use Tanh activation on the first Dense layer.  Then on the second layer (i.e., last layer), since the output has 10 numbers with number in range of [0, 1], thus the last layer has 10 neurons with Sigmoid activation to squeeze the result into that range of [0, 1]\n",
    "\n",
    "**A key question is how many neurons should be our hidden layer which is the Tanh layer.**. This is a entire field of its own and there are really tough to determine the right number.  However, the one consensus is that **number of neurons should be between the number of neurons in the input layer (e.g., 784) and the number of neurons in the output layer (e.g., 10)**\n",
    "\n",
    "Anyhow, this leave us still doubtful what number to choose between 10 and 784.   Another useful technique is to take the **number of sample / (alpha * number of neurons in both input and output layers)**.  This can often prevent overfitting.  For example, let alpha be 1 (typically around 2 - 10), it can be calculated as:\n",
    "\n",
    "$$ 60,000 / (1 * 784 + 10) = 75.6 $$\n",
    "\n",
    "Thus we can use around 76 neurons.  Another technique is to use the mean.  Since we are talking about images, we can take the **geometric mean of 784 and 10** which can be calculated as:\n",
    "\n",
    "$$ \\sqrt{784 * 10} = 88.54 $$\n",
    "\n",
    "Thus we can use around 89 neurons.\n",
    "\n",
    "Anyhow, talking about this probably require all of us to read tons of research papers!  Here is some discussion you can read (https://stats.stackexchange.com/questions/181/how-to-choose-the-number-of-hidden-layers-and-nodes-in-a-feedforward-neural-netw).  The general idea is that the more neurons you have, it usually helps in model more complex relationships, but it also come with a downside that it takes much more time to learn.\n",
    "\n",
    "Also note that all what we discuss only apply to feed-forward neural network...\n",
    "\n",
    "Let's stick with 89 neurons for now."
   ]
  },
  {
   "cell_type": "code",
   "execution_count": 13,
   "metadata": {},
   "outputs": [
    {
     "name": "stdout",
     "output_type": "stream",
     "text": [
      "Validation loss after 10 epochs is 0.300\n",
      "Validation loss after 20 epochs is 0.245\n",
      "Validation loss after 30 epochs is 0.225\n",
      "Validation loss after 40 epochs is 0.216\n",
      "Validation loss after 50 epochs is 0.210\n",
      "Accuracy:  0.8758\n"
     ]
    }
   ],
   "source": [
    "model = NeuralNetwork(\n",
    "    layers=[Dense(neurons=89, \n",
    "                  activation=Tanh()),\n",
    "            Dense(neurons=10, \n",
    "                  activation=Sigmoid())],\n",
    "            loss = MeanSquaredError(), \n",
    "seed=20200720)\n",
    "\n",
    "trainer = Trainer(model, SGD(0.1))\n",
    "trainer.fit(X_train, y_train_encode, X_test, y_test_encode,\n",
    "            epochs = 50,\n",
    "            eval_every = 10,\n",
    "            seed=20200720,\n",
    "            batch_size=60)\n",
    "\n",
    "calc_accuracy(model, X_test, y_test)"
   ]
  },
  {
   "cell_type": "markdown",
   "metadata": {},
   "source": [
    "2. **Softmax Cross Entropy Loss**\n",
    "\n",
    "Let's prove our claim that softmax cross entropy can help our model learn faster.  \n",
    "\n",
    "Similarly, we gonna use Tanh activation on the beginning.  Since we are now feeding our results to the SoftmaxCrossEntropy which has a softmax function to make things into probabilities, we simply use a Linear activation function in the last layer."
   ]
  },
  {
   "cell_type": "code",
   "execution_count": 14,
   "metadata": {},
   "outputs": [
    {
     "name": "stdout",
     "output_type": "stream",
     "text": [
      "Validation loss after 10 epochs is 0.683\n",
      "Validation loss after 20 epochs is 0.645\n",
      "Validation loss after 30 epochs is 0.636\n",
      "Validation loss after 40 epochs is 0.635\n",
      "Validation loss after 50 epochs is 0.633\n",
      "Accuracy:  0.8924\n"
     ]
    }
   ],
   "source": [
    "model = NeuralNetwork(\n",
    "    layers=[Dense(neurons=89, \n",
    "                  activation=Tanh()),\n",
    "            Dense(neurons=10, \n",
    "                  activation=Linear())],\n",
    "            loss = SoftmaxCrossEntropy(), \n",
    "seed=20200720)\n",
    "\n",
    "trainer = Trainer(model, SGD(0.1))\n",
    "trainer.fit(X_train, y_train_encode, X_test, y_test_encode,\n",
    "            epochs = 50,\n",
    "            eval_every = 10,\n",
    "            seed=20200720,\n",
    "            batch_size=60)\n",
    "\n",
    "calc_accuracy(model, X_test, y_test)"
   ]
  },
  {
   "cell_type": "markdown",
   "metadata": {},
   "source": [
    "Yay, we see a 2\\% increase.  Although this is minimal, they stack up with other improvements!"
   ]
  },
  {
   "cell_type": "markdown",
   "metadata": {},
   "source": [
    "### Extension #3: Momentum\n",
    "\n",
    "So far, we’ve been using only one update rule for our weights at each time step. Simply take the derivative of the loss with respect to the weights and move the weights in the resulting correct direction.\n",
    "\n",
    "Here we gonna introduce a new way based on using the history of gradients called **momentum**\n",
    "\n",
    "Basing our parameter updates on momentum means that the parameter update at each time step will be a weighted average of the parameter updates at past time steps, with the weights decayed exponentially. There will thus be a second parameter we have to choose, the momentum parameter, which will determine the degree of this decay; the higher it is, the more the weight update at each time step will be based on the parameter’s accumulated momentum as opposed to its current velocity\n",
    "\n",
    "Mathematically, if our momentum parameter is $\\mu$, and the gradient at each time step is $\\nabla_t$, our weight update is \n",
    "\n",
    "$$\\text{update} = \\nabla_t + \\mu * \\nabla_{t-1} + \\mu^2 * \\nabla_{t-2} + \\ldots$$\n",
    "\n",
    "If our momentum parameter was $0.9$, for example, we would multiply the gradient from one time step ago by $0.9$, the one from two time steps ago by $0.9^2 = 0.81$, the one from three time steps ago by $0.9^3 = 0.729$, and so on, and then finally add all of these to the gradient from the current time step to get the overall weight update for the current time step.\n",
    "\n",
    "#### Why momentum?\n",
    "\n",
    "The problem of the old way is that it is possible that it stucks at the local minima, just like the picture below.\n",
    "\n",
    "<img src = \"figures/momentum.png\" width=\"300\">\n",
    "\n",
    "To avoid this situation, we use a momentum term in the objective function, which is a value between 0 and 1 that increases the size of the steps taken towards the minimum by trying to jump from a local minima. If the momentum term is large then the learning rate should be kept smaller. A large value of momentum also means that the convergence will happen fast. But if both the momentum and learning rate are kept at large values, then you might skip the minimum with a huge step. A small value of momentum cannot reliably avoid local minima, and can also slow down the training of the system. \n",
    "\n",
    "Momentum also helps in smoothing out the variations, if the gradient keeps changing direction, just like in this graph\n",
    "\n",
    "<img src = \"figures/momentum2.png\" width=\"500\">\n",
    "\n",
    "**A right value of momentum can be either learned by hit and trial or through cross-validation.**\n",
    "\n",
    "To implement this, a simple way is just to keep track of what you have added so far, and simply add the current gradient on top of it, like this:\n",
    "\n",
    "1. $\\nabla_1$\n",
    "2. $\\nabla_2 + \\mu * \\nabla_1$\n",
    "2. $\\nabla_3 + \\mu * (\\nabla_2 + \\mu * \\nabla_1)$\n",
    "\n",
    "We can call the right side after the first time, called velocity which is the history of momentum * gradients.  In every iteration, we simply multiply the velocity by momentum again, and add up the current grad.  "
   ]
  },
  {
   "cell_type": "code",
   "execution_count": 15,
   "metadata": {},
   "outputs": [],
   "source": [
    "class SGDMomentum(Optimizer):\n",
    "    def __init__(self,\n",
    "                 lr: float = 0.01,\n",
    "                 momentum: float = 0.9):\n",
    "        super().__init__(lr)\n",
    "        self.momentum = momentum\n",
    "        self.first = True\n",
    "\n",
    "    def step(self):\n",
    "        if self.first:\n",
    "            self.velocities = [np.zeros_like(param)\n",
    "                               for param in self.net.params()]\n",
    "            self.first = False\n",
    "\n",
    "        for (param, param_grad, velocity) in zip(self.net.params(),\n",
    "                                                 self.net.param_grads(),\n",
    "                                                 self.velocities):\n",
    "            self._update_rule(param=param,\n",
    "                              grad=param_grad,\n",
    "                              velocity=velocity)\n",
    "\n",
    "    def _update_rule(self, **kwargs):            \n",
    "            # Update velocity\n",
    "            kwargs['velocity'] *= self.momentum\n",
    "            kwargs['velocity'] += self.lr * kwargs['grad']\n",
    "\n",
    "            # Use this to update parameters\n",
    "            kwargs['param'] -= kwargs['velocity']"
   ]
  },
  {
   "cell_type": "markdown",
   "metadata": {},
   "source": [
    "Let's try this replacing SGD with SGDMomentum"
   ]
  },
  {
   "cell_type": "code",
   "execution_count": 16,
   "metadata": {},
   "outputs": [
    {
     "name": "stdout",
     "output_type": "stream",
     "text": [
      "Validation loss after 10 epochs is 0.549\n",
      "Loss increased after epoch 20, final loss was 0.549, using the model from epoch 10\n",
      "Accuracy:  0.9154\n"
     ]
    }
   ],
   "source": [
    "model = NeuralNetwork(\n",
    "    layers=[Dense(neurons=89, \n",
    "                  activation=Tanh()),\n",
    "            Dense(neurons=10, \n",
    "                  activation=Linear())],\n",
    "            loss = SoftmaxCrossEntropy(), \n",
    "seed=20200720)\n",
    "\n",
    "trainer = Trainer(model, SGDMomentum(lr=0.1, momentum=0.9))\n",
    "trainer.fit(X_train, y_train_encode, X_test, y_test_encode,\n",
    "            epochs = 50,\n",
    "            eval_every = 10,\n",
    "            seed=20200720,\n",
    "            batch_size=60)\n",
    "\n",
    "calc_accuracy(model, X_test, y_test)"
   ]
  },
  {
   "cell_type": "markdown",
   "metadata": {},
   "source": [
    "Yay, it improves another 2\\%!  These improvements slowly stack up."
   ]
  },
  {
   "cell_type": "markdown",
   "metadata": {},
   "source": [
    "### Extension #4: Learning rate decay\n",
    "\n",
    "In previous classes, we fix the learning rate.  However, learning rate decay is the idea that while we want to take big steps toward the beginning of training, we want to smoothly declines so it does not skip over the minimum.\n",
    "\n",
    "There are different types.  The simplest is **linear decay**.  At time step $t$ with $N$ iterations (epochs), if the learning rate we want to start with is \n",
    "$\\alpha_{start}$, and our final learning rate is $\\alpha_{end}$, then our learning rate at each time step is:\n",
    "\n",
    "$$\\alpha_{t} = \\alpha_{start} - (\\alpha_{start} - \\alpha_{end}) * \\frac{t}{N}$$\n",
    "\n",
    "Another simple method is **exponential decay** where the formula is:\n",
    "\n",
    "$$\\alpha_{t} = \\alpha_{start} * ((\\frac{\\alpha_{end}}{\\alpha_{start}})^\\frac{1}{N})^t$$\n",
    "\n",
    "Implementing this requires us to update our <code>Optimizer</code> function as the following:"
   ]
  },
  {
   "cell_type": "code",
   "execution_count": 17,
   "metadata": {},
   "outputs": [],
   "source": [
    "class Optimizer(object):\n",
    "    def __init__(self,\n",
    "                 lr: float = 0.01,\n",
    "                 final_lr: float = 0,\n",
    "                 decay_type: str = 'exponential'):\n",
    "        self.lr = lr\n",
    "        self.final_lr = final_lr  #<----added\n",
    "        self.decay_type = decay_type #<----added\n",
    "\n",
    "    def _setup_decay(self):  #<----added\n",
    "\n",
    "        if not self.decay_type:\n",
    "            return\n",
    "        elif self.decay_type == 'exponential':\n",
    "            self.decay_per_epoch = np.power(self.final_lr / self.lr,\n",
    "                                       1.0 / (self.max_epochs - 1))\n",
    "        elif self.decay_type == 'linear':\n",
    "            self.decay_per_epoch = (self.lr - self.final_lr) / (self.max_epochs - 1)\n",
    "\n",
    "    def _decay_lr(self): #<----added\n",
    "\n",
    "        if not self.decay_type:\n",
    "            return\n",
    "\n",
    "        if self.decay_type == 'exponential':\n",
    "            self.lr *= self.decay_per_epoch\n",
    "\n",
    "        elif self.decay_type == 'linear':\n",
    "            self.lr -= self.decay_per_epoch\n",
    "\n",
    "    def step(self, epoch: int = 0):  #<----added epoch info\n",
    "\n",
    "        for (param, param_grad) in zip(self.net.params(),\n",
    "                                       self.net.param_grads()):\n",
    "            self._update_rule(param=param,\n",
    "                              grad=param_grad)\n",
    "\n",
    "    def _update_rule(self, **kwargs):\n",
    "        raise NotImplementedError()"
   ]
  },
  {
   "cell_type": "markdown",
   "metadata": {},
   "source": [
    "Our <code>SGDMomentum</code> class is also updated:"
   ]
  },
  {
   "cell_type": "code",
   "execution_count": 18,
   "metadata": {},
   "outputs": [],
   "source": [
    "class SGDMomentum(Optimizer):\n",
    "    def __init__(self,\n",
    "                 lr: float = 0.01,\n",
    "                 final_lr: float = 0,   #<----added\n",
    "                 decay_type: str = None,   #<------added\n",
    "                 momentum: float = 0.9):\n",
    "        super().__init__(lr, final_lr, decay_type)   #<---changed\n",
    "        self.momentum = momentum\n",
    "        self.first = True\n",
    "\n",
    "    def step(self):\n",
    "        if self.first:\n",
    "            self.velocities = [np.zeros_like(param)\n",
    "                               for param in self.net.params()]\n",
    "            self.first = False\n",
    "\n",
    "        for (param, param_grad, velocity) in zip(self.net.params(),\n",
    "                                                 self.net.param_grads(),\n",
    "                                                 self.velocities):\n",
    "            self._update_rule(param=param,\n",
    "                              grad=param_grad,\n",
    "                              velocity=velocity)\n",
    "\n",
    "    def _update_rule(self, **kwargs):\n",
    "\n",
    "            # Update velocity\n",
    "            kwargs['velocity'] *= self.momentum\n",
    "            kwargs['velocity'] += self.lr * kwargs['grad']\n",
    "\n",
    "            # Use this to update parameters\n",
    "            kwargs['param'] -= kwargs['velocity']"
   ]
  },
  {
   "cell_type": "markdown",
   "metadata": {},
   "source": [
    "We also need to update our <code>Trainer</code> to call this decay function like this:"
   ]
  },
  {
   "cell_type": "code",
   "execution_count": 19,
   "metadata": {},
   "outputs": [],
   "source": [
    "from copy import deepcopy\n",
    "from typing import Tuple\n",
    "\n",
    "class Trainer(object):\n",
    "    #NeuralNetwork and Optimizer as attributes\n",
    "    def __init__(self,\n",
    "                 net: NeuralNetwork,\n",
    "                 optim: Optimizer):\n",
    "        #Requires a neural network and an optimizer in order for \n",
    "        #training to occur. \n",
    "        self.net = net\n",
    "        self.optim = optim\n",
    "        self.best_loss = 1e9  #use for comparing the least amount of loss\n",
    "        \n",
    "        #Assign the neural network as an instance variable to \n",
    "        #the optimizer when the code runs\n",
    "        setattr(self.optim, 'net', self.net)\n",
    "    \n",
    "\n",
    "    # helper function for shuffling\n",
    "    def permute_data(self, X, y):\n",
    "        perm = np.random.permutation(X.shape[0])\n",
    "        return X[perm], y[perm]\n",
    "\n",
    "    # helper function for generating batches\n",
    "    def generate_batches(self,\n",
    "                         X: ndarray,\n",
    "                         y: ndarray,\n",
    "                         size: int = 32) -> Tuple[ndarray]:\n",
    "        #X and y should have same number of rows\n",
    "        assert X.shape[0] == y.shape[0]\n",
    "\n",
    "        N = X.shape[0]\n",
    "\n",
    "        for i in range(0, N, size):\n",
    "            X_batch, y_batch = X[i:i+size], y[i:i+size]\n",
    "            #return a generator that can be loop\n",
    "            yield X_batch, y_batch\n",
    "\n",
    "            \n",
    "    def fit(self, X_train: ndarray, y_train: ndarray,\n",
    "            X_test: ndarray, y_test: ndarray,\n",
    "            epochs: int=100,\n",
    "            eval_every: int=10,\n",
    "            batch_size: int=32,\n",
    "            seed: int = 20200720,\n",
    "            restart: bool = True):\n",
    "        \n",
    "        \n",
    "        setattr(self.optim, 'max_epochs', epochs)  #<----added\n",
    "        self.optim._setup_decay() #<----added\n",
    "\n",
    "        np.random.seed(seed)\n",
    "        \n",
    "        #for resetting\n",
    "        if restart:\n",
    "            for layer in self.net.layers:\n",
    "                layer.first = True\n",
    "\n",
    "            self.best_loss = 1e9\n",
    "        \n",
    "        #Fits the neural network on the training data for a certain \n",
    "        #number of epochs.\n",
    "        for e in range(epochs):\n",
    "            \n",
    "            if (e+1) % eval_every == 0:\n",
    "                \n",
    "                # for early stopping\n",
    "                # deepcopy is a hardcopy function that make sure it construct a new object (copy() is a shallow copy)\n",
    "                last_model = deepcopy(self.net)\n",
    "\n",
    "            X_train, y_train = self.permute_data(X_train, y_train)\n",
    "\n",
    "            batch_generator = self.generate_batches(X_train, y_train,\n",
    "                                                    batch_size)\n",
    "\n",
    "            for (X_batch, y_batch) in batch_generator:\n",
    "\n",
    "                self.net.train_batch(X_batch, y_batch)\n",
    "\n",
    "                self.optim.step()\n",
    "            \n",
    "            #Every \"eval_every\" epochs, it evaluated the neural network \n",
    "            #on the testing data.\n",
    "            if (e+1) % eval_every == 0:\n",
    "\n",
    "                test_preds = self.net.forward(X_test)\n",
    "                loss = self.net.loss.forward(test_preds, y_test)\n",
    "\n",
    "                if loss < self.best_loss:\n",
    "                    print(f\"Validation loss after {e+1} epochs is {loss:.3f}\")\n",
    "                    self.best_loss = loss\n",
    "                #if the validation loss is not lower, it stop and perform early stopping\n",
    "                else:\n",
    "                    print(f\"\"\"Loss increased after epoch {e+1}, final loss was {self.best_loss:.3f}, using the model from epoch {e+1-eval_every}\"\"\")\n",
    "                    self.net = last_model\n",
    "                    # ensure self.optim is still updating self.net\n",
    "                    setattr(self.optim, 'net', self.net)\n",
    "                    break\n",
    "            \n",
    "            #call this at the end of each epoch\n",
    "            if self.optim.final_lr:  #<------added\n",
    "                self.optim._decay_lr()   #<-----added"
   ]
  },
  {
   "cell_type": "code",
   "execution_count": null,
   "metadata": {},
   "outputs": [
    {
     "name": "stdout",
     "output_type": "stream",
     "text": [
      "Validation loss after 10 epochs is 0.505\n"
     ]
    }
   ],
   "source": [
    "model = NeuralNetwork(\n",
    "    layers=[Dense(neurons=89, \n",
    "                  activation=Tanh()),\n",
    "            Dense(neurons=10, \n",
    "                  activation=Linear())],\n",
    "            loss = SoftmaxCrossEntropy(), \n",
    "seed=20200720)\n",
    "\n",
    "trainer = Trainer(model, SGDMomentum(lr=0.2, momentum=0.9,\n",
    "                                    final_lr=0.05, decay_type='exponential'))\n",
    "trainer.fit(X_train, y_train_encode, X_test, y_test_encode,\n",
    "            epochs = 50,\n",
    "            eval_every = 10,\n",
    "            seed=20200720,\n",
    "            batch_size=60)\n",
    "\n",
    "calc_accuracy(model, X_test, y_test)"
   ]
  },
  {
   "cell_type": "markdown",
   "metadata": {},
   "source": [
    "Yay, another 1.5\\% increase!!!  Hopefully we can reach 0.95..."
   ]
  },
  {
   "cell_type": "markdown",
   "metadata": {},
   "source": [
    "### Extension #5: Weight Initialization\n",
    "\n",
    "As we mentioned in the section on activation functions, several activation functions, such as sigmoid and Tanh, have their steepest gradients when their inputs are 0, with the functions quickly flattening out as the inputs move away from 0. This can potentially limit the effectiveness of these functions, because if many of the inputs have values far from 0, the weights attached to those inputs will receive very small gradients on the backward pass.\n",
    "\n",
    "This turns out to be a major problem in the neural networks we are now dealing with. Consider the hidden layer in the MNIST network we’ve been looking at. This layer will receive 784 inputs and then multiply them by a weight matrix, ending up with some number n of neurons (and then optionally add a bias to each neuron). \n",
    "\n",
    "This figure shows the distribution of these n values in the hidden layer of our neural network (with 784 inputs) before and after feeding them through the Tanh activation function.\n",
    "\n",
    "<img src=\"figures/distribution.png\" width=\"300\">\n",
    "\n",
    "After being fed through the activation function, most of the activations are either –1 or 1!\n",
    "\n",
    "The reason is because we initialized each weight to have variance 1 (Recall that we use <code>random.rand(num_feature, num_neurons)</code> which basically create a uniform distribution of <code>[0, 1)</code> with variance 1.  Also for bias, we use <code>random.rand(1, num_neurons)</code>):\n",
    "\n",
    "$$ \\text{Var}(w_{i,j}) = 1 $$\n",
    "\n",
    "Thus, if we have 785 features (784 + 1 for b), each having one variance, this gives us a standard deviation of:\n",
    "\n",
    "$$ \\sqrt{785} = 28.02 $$\n",
    "\n",
    "This is pretty huge .  So what should be the right distribution of weights?  Well, it certainly should depend on the number of neurons in the in and out layer.  The weight matrix should have a roughly normal distribution across all neurons.  But now we have in- and out- layer, which should we use as basis?  Let's think each of them first.  \n",
    "\n",
    "For in-layer, the standard deviation of each weight on the forward pass should be\n",
    "\n",
    "$$ \\frac{1}{n_{in} } $$ \n",
    "\n",
    "At the same time, for the next layer, \n",
    "\n",
    "$$ \\frac{1}{n_{out} } $$ \n",
    "\n",
    "As a compromise between these, what is most often called **Glorot initialization (also known as Xavier)**, the idea is to initialize each weight with a small Gaussian value with mean = 0.0 and variance based on the fan-in and fan-out of the weight like this:\n",
    "\n",
    "$$ \\frac{2}{n_{in} + n_{out}} $$ \n",
    "\n",
    "where $n_{in}$ is the number of input neurons, and $n_{out}$ is the number of output neurons.\n",
    "\n",
    "By doing this, we make sure the distribution of the weights in the beginning is uniformed across all neurons in the beginning.\n",
    "\n",
    "To do this is simple, we add a <code>weight_init</code> argument to each layer, and we add the following to our <code>_setup_layer</code> function"
   ]
  },
  {
   "cell_type": "code",
   "execution_count": null,
   "metadata": {},
   "outputs": [],
   "source": [
    "class Dense(Layer):\n",
    "    def __init__(self, neurons: int,\n",
    "                 activation: Operation = Sigmoid(),\n",
    "                 weight_init: str = \"glorot\"): #<---added\n",
    "        #define the desired non-linear function as activation\n",
    "        super().__init__(neurons)\n",
    "        self.activation = activation\n",
    "        self.weight_init = weight_init #<----added\n",
    "\n",
    "    def _setup_layer(self, input_: ndarray):\n",
    "        #in case you want reproducible results\n",
    "        if self.seed:\n",
    "            np.random.seed(self.seed)\n",
    "\n",
    "        #---------->added section\n",
    "        num_in = input_.shape[1]\n",
    "\n",
    "        if self.weight_init == \"glorot\":\n",
    "            scale = 2/(num_in + self.neurons)\n",
    "        else:\n",
    "            scale = 1.0   \n",
    "        #--------------------------------------\n",
    "            \n",
    "        #---------->revised section\n",
    "        self.params = []\n",
    "        \n",
    "        # weights\n",
    "        self.params.append(np.random.normal(loc=0,\n",
    "                                            scale=scale,\n",
    "                                            size=(num_in, self.neurons)))\n",
    "\n",
    "        # bias\n",
    "        self.params.append(np.random.normal(loc=0,\n",
    "                                            scale=scale,\n",
    "                                            size=(1, self.neurons)))\n",
    "        #--------------------------------------\n",
    "\n",
    "        self.operations = [WeightMultiply(self.params[0]),\n",
    "                           BiasAdd(self.params[1]),\n",
    "                           self.activation]"
   ]
  },
  {
   "cell_type": "markdown",
   "metadata": {},
   "source": [
    "We can then try our models with this function:"
   ]
  },
  {
   "cell_type": "code",
   "execution_count": null,
   "metadata": {},
   "outputs": [],
   "source": [
    "model = NeuralNetwork(\n",
    "    layers=[Dense(neurons=89, \n",
    "                  activation=Tanh(),\n",
    "                  weight_init=\"glorot\"),\n",
    "            Dense(neurons=10, \n",
    "                  activation=Linear(),\n",
    "                  weight_init=\"glorot\")],\n",
    "            loss = SoftmaxCrossEntropy(), \n",
    "seed=20200720)\n",
    "\n",
    "trainer = Trainer(model, SGDMomentum(lr=0.2, momentum=0.9,\n",
    "                                    final_lr=0.05, decay_type='exponential'))\n",
    "trainer.fit(X_train, y_train_encode, X_test, y_test_encode,\n",
    "            epochs = 50,\n",
    "            eval_every = 10,\n",
    "            seed=20200720,\n",
    "            batch_size=60)\n",
    "\n",
    "calc_accuracy(model, X_test, y_test)"
   ]
  },
  {
   "cell_type": "markdown",
   "metadata": {},
   "source": [
    "Yay, another 1\\% increase!  "
   ]
  },
  {
   "cell_type": "markdown",
   "metadata": {},
   "source": [
    "### Extension #6: Dropout\n",
    "\n",
    "Recall the discussion in the beginning of the class that adding more layers are prone to overfitting, and thus we are quite hesitant to add more layers than we need.  Indeed, with one hidden layer, we are doing good job so far.\n",
    "\n",
    "The good question to ask is what if we want to add more layers in the future, for example, for more complex data?\n",
    "\n",
    "The answer is yes, with **Dropout**.  **Dropout** is a mechanism to make our neural network less likely to overfit\n",
    "\n",
    "**Dropout** is actually a simple idea of randomly choosing some proportion $p$ of the neurons in a layer and setting them equal to 0 during each forward pass of training. By randomly setting some neurons to null in each iteration, the other neurons become more generalized in learning.\n",
    "\n",
    "Though dropout can help our network avoid overfitting during training, we still want to give our network its *best shot* of making correct predictions when it comes time to predict. So, the Dropout operation will have **two modes**: a **training** mode in which dropout is applied, and an **inference** mode, in which it is not. \n",
    "\n",
    "To make sure the distribution of the values during inference time is close to that during training time, we should multiply values by $P_{keep}$.  For example, say we have a vector of $x = {1, 2, 3, 4, 5}$.  Let's set $p=0.8$ which means 20\\% of data will be turn to 0.  In training, $x_{train} = {1, 0, 3, 4, 5}$ ; do not confuse why I turn off 2 and not others, I just turn 20\\% off randomly.  In inference, we turn off dropout, but to make sure the distribution remains similar, we multiply the values by 0.8, which becomes $x_{inference} = {0.8, 1.6, 2.4, 3.2, 4.0}$\n",
    "\n",
    "We can implement **Dropout** as an <code>Operation</code>, that we can attach onto the end of each layer like this:"
   ]
  },
  {
   "cell_type": "code",
   "execution_count": null,
   "metadata": {},
   "outputs": [],
   "source": [
    "class Dropout(Operation):\n",
    "\n",
    "    def __init__(self,\n",
    "                 keep_prob: float = 0.8):\n",
    "        super().__init__()\n",
    "        self.keep_prob = keep_prob\n",
    "\n",
    "    def _output(self, inference: bool) -> ndarray:\n",
    "        if inference:\n",
    "            return self.input_ * self.keep_prob  #multiply input by probability\n",
    "        else:\n",
    "            #binomial will give us list of 0 and 1s with 1s of probability equal to keep_prob\n",
    "            self.mask = np.random.binomial(1, self.keep_prob,\n",
    "                                           size=self.input_.shape)  \n",
    "            return self.input_ * self.mask\n",
    "\n",
    "    def _input_grad(self, output_grad: ndarray) -> ndarray:\n",
    "        #since gradient of 0 is nothing, thus the input_grad is simply whatever output_grad multiply with self.mask\n",
    "        return output_grad * self.mask"
   ]
  },
  {
   "cell_type": "markdown",
   "metadata": {},
   "source": [
    "You may have noticed that we included an inference flag in the _output method that affects whether dropout is applied or not. For this flag to be called properly, we actually have to add it in several other places throughout training"
   ]
  },
  {
   "cell_type": "markdown",
   "metadata": {},
   "source": [
    "1. The  **NeuralNetwork** > **Layer** > **Operation** forward methods will take in inference as an argument (False by default) and pass the flag into each Operation, so that every Operation will behave differently in training mode than in inference mode."
   ]
  },
  {
   "cell_type": "code",
   "execution_count": null,
   "metadata": {},
   "outputs": [],
   "source": [
    "class NeuralNetwork(object):\n",
    "    def __init__(self, \n",
    "                 layers: List[Layer],\n",
    "                 loss: Loss,\n",
    "                 seed: int = 1):\n",
    "        self.layers = layers\n",
    "        self.loss = loss\n",
    "        self.seed = seed\n",
    "        if seed:\n",
    "            for layer in self.layers:\n",
    "                setattr(layer, \"seed\", self.seed)        \n",
    "  \n",
    "    def forward(self, X_batch: ndarray,\n",
    "                inference=False) ->  ndarray:   #<----added inference as param\n",
    "\n",
    "        X_out = X_batch\n",
    "        for layer in self.layers:\n",
    "            X_out = layer.forward(X_out, inference)  #<----added inference as param\n",
    "\n",
    "        return X_out\n",
    "    \n",
    "    def backward(self, loss_grad: ndarray):\n",
    "        grad = loss_grad\n",
    "        for layer in reversed(self.layers):\n",
    "            grad = layer.backward(grad)\n",
    "            \n",
    "            #you may wonder why I did not return anything\n",
    "            #it's because in Layer.backward, it is appending this value to param_grads to each layer\n",
    "            #this return \"grad\" is simply something it returns\n",
    "  \n",
    "    def train_batch(self,\n",
    "                    X_batch: ndarray,\n",
    "                    y_batch: ndarray,\n",
    "                    inference: bool = False) -> float:  #<-----added inference as param\n",
    "\n",
    "        prediction = self.forward(X_batch, inference)  #<----added inference as param\n",
    "\n",
    "        batch_loss = self.loss.forward(prediction, y_batch)\n",
    "        loss_grad = self.loss.backward()\n",
    "\n",
    "        self.backward(loss_grad)\n",
    "\n",
    "        return batch_loss\n",
    "    \n",
    "    def params(self):\n",
    "        #get the parameters for the network\n",
    "        #use for updating w and b\n",
    "        for layer in self.layers:\n",
    "            #equivalent for-loop yield\n",
    "            #yield is different from return is that\n",
    "            #it will return a sequence of values\n",
    "            yield from layer.params\n",
    "\n",
    "    def param_grads(self):\n",
    "        #get the gradient of the loss with respect to the parameters\n",
    "        #for the network\n",
    "        #use for updating w and b\n",
    "        for layer in self.layers:\n",
    "            yield from layer.param_grads"
   ]
  },
  {
   "cell_type": "code",
   "execution_count": null,
   "metadata": {},
   "outputs": [],
   "source": [
    "class Layer(object):\n",
    "\n",
    "    def __init__(self,\n",
    "                 neurons: int) -> None:\n",
    "        self.neurons = neurons\n",
    "        self.first = True\n",
    "        self.params: List[ndarray] = []\n",
    "        self.param_grads: List[ndarray] = []\n",
    "        self.operations: List[Operation] = []\n",
    "\n",
    "    def _setup_layer(self, input_: ndarray) -> None:\n",
    "        pass\n",
    "\n",
    "    def forward(self, input_: ndarray,\n",
    "                inference=False) -> ndarray:   #<--------added\n",
    "\n",
    "        if self.first:\n",
    "            self._setup_layer(input_)\n",
    "            self.first = False\n",
    "\n",
    "        self.input_ = input_\n",
    "\n",
    "        for operation in self.operations:\n",
    "            input_ = operation.forward(input_, inference)   #<------added inference as param\n",
    "\n",
    "        self.output = input_\n",
    "\n",
    "        return self.output\n",
    "\n",
    "    def backward(self, output_grad: ndarray) -> ndarray:\n",
    "\n",
    "        assert self.output.shape == output_grad.shape\n",
    "\n",
    "        for operation in self.operations[::-1]:\n",
    "            output_grad = operation.backward(output_grad)\n",
    "\n",
    "        input_grad = output_grad\n",
    "        \n",
    "        assert self.input_.shape == input_grad.shape\n",
    "\n",
    "        self._param_grads()\n",
    "\n",
    "        return input_grad\n",
    "\n",
    "    def _param_grads(self) -> None:\n",
    "\n",
    "        self.param_grads = []\n",
    "        for operation in self.operations:\n",
    "            if issubclass(operation.__class__, ParamOperation):\n",
    "                self.param_grads.append(operation.param_grad)\n",
    "\n",
    "    def _params(self) -> None:\n",
    "\n",
    "        self.params = []\n",
    "        for operation in self.operations:\n",
    "            if issubclass(operation.__class__, ParamOperation):\n",
    "                self.params.append(operation.param)"
   ]
  },
  {
   "cell_type": "code",
   "execution_count": null,
   "metadata": {},
   "outputs": [],
   "source": [
    "class Operation(object):\n",
    "\n",
    "    def __init__(self):\n",
    "        pass\n",
    "\n",
    "    def forward(self,\n",
    "                input_: ndarray,\n",
    "                inference: bool=False) -> ndarray:  #<----inference\n",
    "\n",
    "        self.input_ = input_\n",
    "\n",
    "        self.output = self._output(inference) #<----inference\n",
    "\n",
    "        return self.output\n",
    "\n",
    "    def backward(self, output_grad: ndarray) -> ndarray:\n",
    "\n",
    "        #make sure output and output_grad has same shape\n",
    "        assert self.output.shape == output_grad.shape\n",
    "\n",
    "        self.input_grad = self._input_grad(output_grad)\n",
    "\n",
    "        #input grad must have same shape as input\n",
    "        assert self.input_.shape == self.input_grad.shape\n",
    "\n",
    "        return self.input_grad\n",
    "\n",
    "    def _output(self, inference: bool) -> ndarray:  #<----inference\n",
    "        raise NotImplementedError()\n",
    "\n",
    "    def _input_grad(self, output_grad: ndarray) -> ndarray:\n",
    "        raise NotImplementedError()\n",
    "\n",
    "class Linear(Operation):\n",
    "    def __init__(self) -> None:\n",
    "        super().__init__()\n",
    "\n",
    "    def _output(self, inference: bool) -> ndarray:   #<----inference\n",
    "        return self.input_\n",
    "\n",
    "    def _input_grad(self, output_grad: ndarray) -> ndarray:\n",
    "        return output_grad\n",
    "\n",
    "\n",
    "class Sigmoid(Operation):\n",
    "    def __init__(self) -> None:\n",
    "        super().__init__()\n",
    "\n",
    "    def _output(self, inference: bool) -> ndarray:   #<----inference\n",
    "        return 1.0/(1.0+np.exp(-1.0 * self.input_))\n",
    "\n",
    "    def _input_grad(self, output_grad: ndarray) -> ndarray:\n",
    "        sigmoid_backward = self.output * (1.0 - self.output)\n",
    "        input_grad = sigmoid_backward * output_grad\n",
    "        return input_grad\n",
    "\n",
    "\n",
    "class Tanh(Operation):\n",
    "    def __init__(self) -> None:\n",
    "        super().__init__()\n",
    "\n",
    "    def _output(self, inference: bool) -> ndarray:  #<----inference\n",
    "        return np.tanh(self.input_)\n",
    "\n",
    "    def _input_grad(self, output_grad: ndarray) -> ndarray:\n",
    "        return output_grad * (1 - self.output * self.output)\n",
    "\n",
    "class ParamOperation(Operation):\n",
    "    def __init__(self, param: ndarray):\n",
    "        super().__init__()  #inherit from parent if any\n",
    "        self.param = param  #this will be used in _output\n",
    "\n",
    "    def backward(self, output_grad: ndarray) -> ndarray:\n",
    "        \n",
    "        #make sure output and output_grad has same shape\n",
    "        assert self.output.shape == output_grad.shape\n",
    "\n",
    "        #perform gradients for both input and param\n",
    "        self.input_grad = self._input_grad(output_grad)\n",
    "        self.param_grad = self._param_grad(output_grad)\n",
    "\n",
    "        assert self.input_.shape == self.input_grad.shape\n",
    "        assert self.param.shape == self.param_grad.shape\n",
    "\n",
    "        return self.input_grad\n",
    "\n",
    "    def _param_grad(self, output_grad: ndarray) -> ndarray:\n",
    "        raise NotImplementedError()    \n",
    "\n",
    "class WeightMultiply(ParamOperation):\n",
    "\n",
    "    def __init__(self, W: ndarray):\n",
    "        #initialize Operation with self.param = W\n",
    "        super().__init__(W)\n",
    "\n",
    "    def _output(self, inference: bool) -> ndarray: #<----inference\n",
    "        return self.input_ @ self.param\n",
    "\n",
    "    def _input_grad(self, output_grad: ndarray) -> ndarray:\n",
    "        return output_grad @ self.param.T  #same as last class\n",
    "\n",
    "    def _param_grad(self, output_grad: ndarray)  -> ndarray:\n",
    "        return self.input_.T @ output_grad  #same as last class\n",
    "\n",
    "class BiasAdd(ParamOperation):\n",
    "    def __init__(self, B: ndarray):\n",
    "        #initialize Operation with self.param = B.\n",
    "        assert B.shape[0] == 1  #make sure it's only B\n",
    "        super().__init__(B)\n",
    "\n",
    "    def _output(self, inference: bool) -> ndarray: #<----inference\n",
    "        return self.input_ + self.param\n",
    "\n",
    "    def _input_grad(self, output_grad: ndarray) -> ndarray:\n",
    "        return np.ones_like(self.input_) * output_grad\n",
    "\n",
    "    def _param_grad(self, output_grad: ndarray) -> ndarray:\n",
    "        param_grad = np.ones_like(self.param) * output_grad\n",
    "        return np.sum(param_grad, axis=0).reshape(1, param_grad.shape[1])\n",
    "\n",
    "#we have to define Dropout again, so it refers to the new Operation class\n",
    "class Dropout(Operation):\n",
    "\n",
    "    def __init__(self,\n",
    "                 keep_prob: float = 0.8):\n",
    "        super().__init__()\n",
    "        self.keep_prob = keep_prob\n",
    "\n",
    "    def _output(self, inference: bool) -> ndarray: \n",
    "        if inference:\n",
    "            return self.input_ * self.keep_prob  #multiply input by probability\n",
    "        else:\n",
    "            #binomial will give us list of 0 and 1s with 1s of probability equal to keep_prob\n",
    "            self.mask = np.random.binomial(1, self.keep_prob,\n",
    "                                           size=self.input_.shape)  \n",
    "            return self.input_ * self.mask\n",
    "\n",
    "    def _input_grad(self, output_grad: ndarray) -> ndarray:\n",
    "        #since gradient of 0 is nothing, thus the input_grad is simply whatever output_grad multiply with self.mask\n",
    "        return output_grad * self.mask"
   ]
  },
  {
   "cell_type": "markdown",
   "metadata": {},
   "source": [
    "2. Recall that in the Trainer, we evaluate the trained model on the testing set every eval_every epochs. Now, every time we do that, we’ll evaluate with the inference flag equal to True:"
   ]
  },
  {
   "cell_type": "code",
   "execution_count": null,
   "metadata": {},
   "outputs": [],
   "source": [
    "from copy import deepcopy\n",
    "from typing import Tuple\n",
    "\n",
    "class Trainer(object):\n",
    "    #NeuralNetwork and Optimizer as attributes\n",
    "    def __init__(self,\n",
    "                 net: NeuralNetwork,\n",
    "                 optim: Optimizer):\n",
    "        #Requires a neural network and an optimizer in order for \n",
    "        #training to occur. \n",
    "        self.net = net\n",
    "        self.optim = optim\n",
    "        self.best_loss = 1e9  #use for comparing the least amount of loss\n",
    "        \n",
    "        #Assign the neural network as an instance variable to \n",
    "        #the optimizer when the code runs\n",
    "        setattr(self.optim, 'net', self.net)\n",
    "    \n",
    "\n",
    "    # helper function for shuffling\n",
    "    def permute_data(self, X, y):\n",
    "        perm = np.random.permutation(X.shape[0])\n",
    "        return X[perm], y[perm]\n",
    "\n",
    "    # helper function for generating batches\n",
    "    def generate_batches(self,\n",
    "                         X: ndarray,\n",
    "                         y: ndarray,\n",
    "                         size: int = 32) -> Tuple[ndarray]:\n",
    "        #X and y should have same number of rows\n",
    "        assert X.shape[0] == y.shape[0]\n",
    "\n",
    "        N = X.shape[0]\n",
    "\n",
    "        for i in range(0, N, size):\n",
    "            X_batch, y_batch = X[i:i+size], y[i:i+size]\n",
    "            #return a generator that can be loop\n",
    "            yield X_batch, y_batch\n",
    "\n",
    "            \n",
    "    def fit(self, X_train: ndarray, y_train: ndarray,\n",
    "            X_test: ndarray, y_test: ndarray,\n",
    "            epochs: int=100,\n",
    "            eval_every: int=10,\n",
    "            batch_size: int=32,\n",
    "            seed: int = 20200720,\n",
    "            restart: bool = True):\n",
    "        \n",
    "        \n",
    "        setattr(self.optim, 'max_epochs', epochs)\n",
    "        self.optim._setup_decay()\n",
    "\n",
    "        np.random.seed(seed)\n",
    "        \n",
    "        #for resetting\n",
    "        if restart:\n",
    "            for layer in self.net.layers:\n",
    "                layer.first = True\n",
    "\n",
    "            self.best_loss = 1e9\n",
    "        \n",
    "        #Fits the neural network on the training data for a certain \n",
    "        #number of epochs.\n",
    "        for e in range(epochs):\n",
    "            \n",
    "            if (e+1) % eval_every == 0:\n",
    "                \n",
    "                # for early stopping\n",
    "                # deepcopy is a hardcopy function that make sure it construct a new object (copy() is a shallow copy)\n",
    "                last_model = deepcopy(self.net)\n",
    "\n",
    "            X_train, y_train = self.permute_data(X_train, y_train)\n",
    "\n",
    "            batch_generator = self.generate_batches(X_train, y_train,\n",
    "                                                    batch_size)\n",
    "\n",
    "            for (X_batch, y_batch) in batch_generator:\n",
    "\n",
    "                self.net.train_batch(X_batch, y_batch)\n",
    "\n",
    "                self.optim.step()\n",
    "            \n",
    "            #Every \"eval_every\" epochs, it evaluated the neural network \n",
    "            #on the testing data.\n",
    "            if (e+1) % eval_every == 0:\n",
    "\n",
    "                test_preds = self.net.forward(X_test, inference=True) #<----inference   #<---make sure validation does not use dropout\n",
    "                loss = self.net.loss.forward(test_preds, y_test)\n",
    "\n",
    "                if loss < self.best_loss:\n",
    "                    print(f\"Validation loss after {e+1} epochs is {loss:.3f}\")\n",
    "                    self.best_loss = loss\n",
    "                #if the validation loss is not lower, it stop and perform early stopping\n",
    "                else:\n",
    "                    print(f\"\"\"Loss increased after epoch {e+1}, final loss was {self.best_loss:.3f}, using the model from epoch {e+1-eval_every}\"\"\")\n",
    "                    self.net = last_model\n",
    "                    # ensure self.optim is still updating self.net\n",
    "                    setattr(self.optim, 'net', self.net)\n",
    "                    break\n",
    "            \n",
    "            #call this at the end of each epoch\n",
    "            if self.optim.final_lr:\n",
    "                self.optim._decay_lr() "
   ]
  },
  {
   "cell_type": "markdown",
   "metadata": {},
   "source": [
    "Finally, we add a dropout keyword to the Dense class and we append the dropout operation"
   ]
  },
  {
   "cell_type": "code",
   "execution_count": null,
   "metadata": {},
   "outputs": [],
   "source": [
    "class Dense(Layer):\n",
    "    def __init__(self, neurons: int,\n",
    "                 activation: Operation = Sigmoid(),\n",
    "                 dropout: float = 1.0,  #<---add default dropout as 1.0 which means all values are kept\n",
    "                 weight_init: str = \"glorot\"):\n",
    "        #define the desired non-linear function as activation\n",
    "        super().__init__(neurons)\n",
    "        self.activation = activation\n",
    "        self.weight_init = weight_init \n",
    "        self.dropout = dropout  #<----added\n",
    "\n",
    "    def _setup_layer(self, input_: ndarray):\n",
    "        #in case you want reproducible results\n",
    "        if self.seed:\n",
    "            np.random.seed(self.seed)\n",
    "\n",
    "        num_in = input_.shape[1]\n",
    "\n",
    "        if self.weight_init == \"glorot\":\n",
    "            scale = 2/(num_in + self.neurons)\n",
    "        else:\n",
    "            scale = 1.0   \n",
    "            \n",
    "        self.params = []\n",
    "        \n",
    "        # weights\n",
    "        self.params.append(np.random.normal(loc=0,\n",
    "                                            scale=scale,\n",
    "                                            size=(num_in, self.neurons)))\n",
    "\n",
    "        # bias\n",
    "        self.params.append(np.random.normal(loc=0,\n",
    "                                            scale=scale,\n",
    "                                            size=(1, self.neurons)))\n",
    "\n",
    "        self.operations = [WeightMultiply(self.params[0]),\n",
    "                           BiasAdd(self.params[1]),\n",
    "                           self.activation]\n",
    "        \n",
    "        #---------added this section\n",
    "        if self.dropout < 1.0:\n",
    "            self.operations.append(Dropout(self.dropout))\n",
    "        #---------"
   ]
  },
  {
   "cell_type": "markdown",
   "metadata": {},
   "source": [
    "Let's try out the previous one but with dropout!"
   ]
  },
  {
   "cell_type": "code",
   "execution_count": null,
   "metadata": {},
   "outputs": [],
   "source": [
    "model = NeuralNetwork(\n",
    "    layers=[Dense(neurons=89, \n",
    "                  activation=Tanh(),\n",
    "                  weight_init=\"glorot\",\n",
    "                  dropout=0.8),\n",
    "            Dense(neurons=10, \n",
    "                  activation=Linear(),\n",
    "                  weight_init=\"glorot\")],\n",
    "            loss = SoftmaxCrossEntropy(), \n",
    "seed=20200720)\n",
    "\n",
    "trainer = Trainer(model, SGDMomentum(lr=0.2, momentum=0.9,\n",
    "                                    final_lr=0.05, decay_type='exponential'))\n",
    "trainer.fit(X_train, y_train_encode, X_test, y_test_encode,\n",
    "            epochs = 50,\n",
    "            eval_every = 10,\n",
    "            seed=20200720,\n",
    "            batch_size=60)\n",
    "\n",
    "calc_accuracy(model, X_test, y_test)"
   ]
  },
  {
   "cell_type": "markdown",
   "metadata": {},
   "source": [
    "Hmm...very similar accuracy. The power of Dropout is best worked with deep models! Let's try add one more hidden layer, and use with and without dropout!  For the first layer, let's have twice as many (178) and the second hidden layer has half as many (46).  This will make sure our distribution still looks good."
   ]
  },
  {
   "cell_type": "markdown",
   "metadata": {},
   "source": [
    "#### Without Dropout"
   ]
  },
  {
   "cell_type": "code",
   "execution_count": null,
   "metadata": {},
   "outputs": [],
   "source": [
    "model = NeuralNetwork(\n",
    "    layers=[Dense(neurons=178, \n",
    "                  activation=Tanh(),\n",
    "                  weight_init=\"glorot\"),\n",
    "            Dense(neurons=46, \n",
    "                  activation=Tanh(),\n",
    "                  weight_init=\"glorot\"),\n",
    "            Dense(neurons=10, \n",
    "                  activation=Linear(),\n",
    "                  weight_init=\"glorot\")],\n",
    "            loss = SoftmaxCrossEntropy(), \n",
    "seed=20200720)\n",
    "\n",
    "trainer = Trainer(model, SGDMomentum(lr=0.2, momentum=0.9,\n",
    "                                    final_lr=0.05, decay_type='exponential'))\n",
    "trainer.fit(X_train, y_train_encode, X_test, y_test_encode,\n",
    "            epochs = 50,\n",
    "            eval_every = 10,\n",
    "            seed=20200720,\n",
    "            batch_size=60)\n",
    "\n",
    "calc_accuracy(model, X_test, y_test)"
   ]
  },
  {
   "cell_type": "markdown",
   "metadata": {},
   "source": [
    "Wow, even without dropout, it still performs quite well...This is not always the case but when you are lucky, with more layers, even without Dropout, you can get better accuracy"
   ]
  },
  {
   "cell_type": "markdown",
   "metadata": {},
   "source": [
    "#### With Dropout"
   ]
  },
  {
   "cell_type": "code",
   "execution_count": null,
   "metadata": {},
   "outputs": [],
   "source": [
    "model = NeuralNetwork(\n",
    "    layers=[Dense(neurons=178, \n",
    "                  activation=Tanh(),\n",
    "                  weight_init=\"glorot\",\n",
    "                  dropout=0.8),\n",
    "            Dense(neurons=46, \n",
    "                  activation=Tanh(),\n",
    "                  weight_init=\"glorot\",\n",
    "                  dropout=0.8),\n",
    "            Dense(neurons=10, \n",
    "                  activation=Linear(),\n",
    "                  weight_init=\"glorot\")],\n",
    "            loss = SoftmaxCrossEntropy(), \n",
    "seed=20200720)\n",
    "\n",
    "trainer = Trainer(model, SGDMomentum(lr=0.2, momentum=0.9,\n",
    "                                    final_lr=0.05, decay_type='exponential'))\n",
    "trainer.fit(X_train, y_train_encode, X_test, y_test_encode,\n",
    "            epochs = 50,\n",
    "            eval_every = 10,\n",
    "            seed=20200720,\n",
    "            batch_size=60)\n",
    "\n",
    "calc_accuracy(model, X_test, y_test)"
   ]
  },
  {
   "cell_type": "markdown",
   "metadata": {},
   "source": [
    "Well....unluckily, Dropout does not show that much of a performance.  However, it should be noted that Boston dataset is quite small and thus  Dropout has less effect.  Dropout is especially good when training in a really deep network with huge datasets.\n",
    "\n",
    "Indeed, dropout was an essentially component of the ImageNet-winning model from 2012 that kicked off the modern deep learning era!\n",
    "\n",
    "https://arxiv.org/pdf/1207.0580.pdf"
   ]
  },
  {
   "cell_type": "code",
   "execution_count": null,
   "metadata": {},
   "outputs": [],
   "source": []
  }
 ],
 "metadata": {
  "kernelspec": {
   "display_name": "Python 3",
   "language": "python",
   "name": "python3"
  },
  "language_info": {
   "codemirror_mode": {
    "name": "ipython",
    "version": 3
   },
   "file_extension": ".py",
   "mimetype": "text/x-python",
   "name": "python",
   "nbconvert_exporter": "python",
   "pygments_lexer": "ipython3",
   "version": "3.8.6"
  }
 },
 "nbformat": 4,
 "nbformat_minor": 4
}
