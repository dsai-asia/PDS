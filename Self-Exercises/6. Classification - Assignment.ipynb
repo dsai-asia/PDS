{
 "cells": [
  {
   "cell_type": "markdown",
   "metadata": {},
   "source": [
    "1. Load fetch_lfw_people from sklearn.datasets. Using sklearn, perform \n",
    "\n",
    "- Naives Bayesian\n",
    "- Logistic Regression\n",
    "- SVM\n",
    "- KNN\n",
    "- Random Forest\n",
    "- Ensemble Bagging of SVM\n",
    "\n",
    "Compare them based on \n",
    "\n",
    " 1) precision-recall curve, \n",
    "\n",
    " 2) Grid search time (if any, e.g., SVM, KNN, trees)\n",
    "\n",
    " 3) fit time \n",
    "\n",
    "Discuss why do you think that particular model works well or does not work well for this data."
   ]
  },
  {
   "cell_type": "markdown",
   "metadata": {},
   "source": [
    "2. Load load_digits from sklearn.datasets.  Compare time and validation score of randomized search and grid search\n",
    "\n",
    "For search, use the following params\n",
    "\n",
    "<code>param_dist = {'average': [True, False],\n",
    "              'l1_ratio': stats.uniform(0, 1),\n",
    "              'alpha': loguniform(1e-4, 1e0)}\n",
    "</code>\n",
    "\n",
    "'''\n",
    "What do you think?  Should we use RandomizedSearchCV?\n",
    "'''"
   ]
  },
  {
   "cell_type": "markdown",
   "metadata": {},
   "source": [
    "3. Load the MNIST data\n",
    "- Split it into a training set, a validation set, and a test set (e.g., use 50,000 instances for training, 10,000 for validation, and 10,000 for testing). \n",
    "- Train various classifiers, such as a Random Forest classifier, a Logistic Regression classifier, an SVM, and a MLPClassifier (I haven't taught you yet, but its a simple neural network with multi-layers). \n",
    "- Next, try to combine them into an ensemble that outperforms them all on the validation set, using a soft or hard voting classifier. Once you have found one, try it on the test set. How much better does it perform compared to the individual classifiers?  \n",
    "- Last, attemp to use XGBoost.  Does it improve the accuracy?"
   ]
  },
  {
   "cell_type": "code",
   "execution_count": null,
   "metadata": {},
   "outputs": [],
   "source": []
  }
 ],
 "metadata": {
  "kernelspec": {
   "display_name": "Python 3",
   "language": "python",
   "name": "python3"
  },
  "language_info": {
   "codemirror_mode": {
    "name": "ipython",
    "version": 3
   },
   "file_extension": ".py",
   "mimetype": "text/x-python",
   "name": "python",
   "nbconvert_exporter": "python",
   "pygments_lexer": "ipython3",
   "version": "3.8.6"
  }
 },
 "nbformat": 4,
 "nbformat_minor": 2
}
