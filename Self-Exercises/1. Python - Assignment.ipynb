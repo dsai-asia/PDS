{
 "cells": [
  {
   "cell_type": "markdown",
   "metadata": {},
   "source": [
    "0.  See below code.  Print only the eeg signal and event separately from this nested list using (1) for loop, (2) list comprehension.  Continuing, print only the eeg signal with event = 2 using list comprehension"
   ]
  },
  {
   "cell_type": "code",
   "execution_count": 1,
   "metadata": {},
   "outputs": [
    {
     "name": "stdout",
     "output_type": "stream",
     "text": [
      "EEG signal:  [[[8, 9], 1], [[3, 3], 2], [[2, 3], 2]]\n"
     ]
    }
   ],
   "source": [
    "two_channel_eeg_signal1 = [8, 9]\n",
    "event1 = 1\n",
    "two_channel_eeg_signal2 = [3, 3]\n",
    "event2 = 2\n",
    "two_channel_eeg_signal3 = [2, 3]\n",
    "event3 = 2\n",
    "some_nested_list = []\n",
    "some_nested_list.append([two_channel_eeg_signal1, event1])\n",
    "some_nested_list.append([two_channel_eeg_signal2, event2])\n",
    "some_nested_list.append([two_channel_eeg_signal3, event3])"
   ]
  },
  {
   "cell_type": "markdown",
   "metadata": {},
   "source": [
    "1. Define a function <code>is_palindrome()</code> that recognizes palindromes (i.e. words that look the same written backwards). For example, <code>is_palindrome(\"radar\")</code> should return True."
   ]
  },
  {
   "cell_type": "code",
   "execution_count": null,
   "metadata": {},
   "outputs": [],
   "source": [
    "def is_palindrome(input):\n",
    "    # Your Answer here"
   ]
  },
  {
   "cell_type": "markdown",
   "metadata": {},
   "source": [
    "2. Create a countdown clock that counts 3, 2, 1 and done! (hint: use <code>time.sleep(1)</code>)"
   ]
  },
  {
   "cell_type": "code",
   "execution_count": null,
   "metadata": {},
   "outputs": [],
   "source": [
    "def countdown():\n",
    "    # Your Answer here"
   ]
  },
  {
   "cell_type": "markdown",
   "metadata": {},
   "source": [
    "3. Create a function that removes duplicates from a given list"
   ]
  },
  {
   "cell_type": "code",
   "execution_count": null,
   "metadata": {},
   "outputs": [],
   "source": [
    "def removeDuplicates(input: list):\n",
    "    if not isinstance(input, list):\n",
    "        raise ValueError(f\"{input} is not a type of list.\")\n",
    "    # Your Answer here"
   ]
  },
  {
   "cell_type": "markdown",
   "metadata": {},
   "source": [
    "4. Define a function <code>max()</code> that takes list of numbers as arguments and returns the largest of them."
   ]
  },
  {
   "cell_type": "code",
   "execution_count": null,
   "metadata": {},
   "outputs": [],
   "source": [
    "def max(input: list):\n",
    "    if not isinstance(input, list):\n",
    "        raise ValueError(f\"{input} is not a type of list.\")\n",
    "    # Your Answer here"
   ]
  },
  {
   "cell_type": "markdown",
   "metadata": {},
   "source": [
    "5. Define a function <code>my_sum()</code> and a function <code>my_multiply()</code> that sums and multiplies (respectively) all the numbers in a list of numbers. For example, <code>sum([1, 2, 3, 4])</code> should return 10, and <code>multiply([1, 2, 3, 4])</code> should return 24."
   ]
  },
  {
   "cell_type": "code",
   "execution_count": null,
   "metadata": {},
   "outputs": [],
   "source": [
    "def my_sum(input: list):\n",
    "    if not isinstance(input, list):\n",
    "        raise ValueError(f\"{input} is not a type of list.\")\n",
    "    # Your answer here\n",
    "\n",
    "def my_multiply(input: list):\n",
    "    if not isinstance(input, list):\n",
    "        raise ValueError(f\"{input} is not a type of list.\")\n",
    "    # Your answer here"
   ]
  },
  {
   "cell_type": "markdown",
   "metadata": {},
   "source": [
    "6. Define a function <code>factorial()</code> that calculates the factorial of a number."
   ]
  },
  {
   "cell_type": "code",
   "execution_count": null,
   "metadata": {},
   "outputs": [],
   "source": [
    "def factorial(input):\n",
    "    # Your answer here"
   ]
  },
  {
   "cell_type": "markdown",
   "metadata": {},
   "source": [
    "7. Define a function <code>matrix()</code> that creates a matrix with n rows and m columns."
   ]
  },
  {
   "cell_type": "code",
   "execution_count": null,
   "metadata": {},
   "outputs": [],
   "source": [
    "def matrix(n,m):\n",
    "    # Your answer here"
   ]
  },
  {
   "cell_type": "markdown",
   "metadata": {},
   "source": [
    "8. Create a function <code>dot()</code> that calculates the dot product between the matrices A and B."
   ]
  },
  {
   "cell_type": "code",
   "execution_count": null,
   "metadata": {},
   "outputs": [],
   "source": [
    "def dot(A,B):\n",
    "    # Your answer here"
   ]
  },
  {
   "cell_type": "markdown",
   "metadata": {},
   "source": [
    "9. Create a matrix $a$ with 5 rows and 10 columns and fill the positions of the matrix such that $a_{ij} = i^2 + j^2$"
   ]
  },
  {
   "cell_type": "code",
   "execution_count": null,
   "metadata": {},
   "outputs": [],
   "source": [
    "def answer_9():\n",
    "    # Your answer here"
   ]
  },
  {
   "cell_type": "markdown",
   "metadata": {},
   "source": [
    "10. Write a program which will find all such numbers which are divisible by 7 but are not a multiple of 5,  between 2000 and 3200 (both included). The numbers obtained should be printed in a comma-separated sequence on a single line."
   ]
  },
  {
   "cell_type": "code",
   "execution_count": null,
   "metadata": {},
   "outputs": [],
   "source": [
    "def answer_10():\n",
    "    # Your answer here"
   ]
  },
  {
   "cell_type": "markdown",
   "metadata": {},
   "source": [
    "11. With a given integral number n, write a program to generate a dictionary that contains (i, i*i) such that is an integral number between 1 and n (both included). and then the program should print the dictionary. Suppose the following input is supplied to the program:\n",
    "\n",
    "        8\n",
    "    \n",
    "Then, the output should be:\n",
    "    \n",
    "        {1: 1, 2: 4, 3: 9, 4: 16, 5: 25, 6: 36, 7: 49, 8: 64}"
   ]
  },
  {
   "cell_type": "code",
   "execution_count": null,
   "metadata": {},
   "outputs": [],
   "source": [
    "def answer_11(input):\n",
    "    # Your answer"
   ]
  },
  {
   "cell_type": "markdown",
   "metadata": {},
   "source": [
    "12. Write a program that calculates and prints the value according to the given formula:  $Q = \\sqrt{(2CD)/H}$\n",
    "    \n",
    "Following are the fixed values of C and H:\n",
    "\n",
    "        C is 50. H is 30.\n",
    "\n",
    "D is the variable whose values should be input to your program in a comma-separated sequence.  If the output received is in decimal form, it should be rounded off to its nearest value (for example, if the output received is 26.0, it should be printed as 26).  Example, Let us assume the following comma separated input sequence is given to the program:\n",
    "\n",
    "        100, 150, 180\n",
    "\n",
    "The output of the program should be:\n",
    "\n",
    "        18,22,24"
   ]
  },
  {
   "cell_type": "code",
   "execution_count": null,
   "metadata": {},
   "outputs": [],
   "source": [
    "def answer_12(D: str):\n",
    "    if not isinstance(D, str):\n",
    "        raise ValueError(f\"{D} is not an instance of string\")\n",
    "    C = 50\n",
    "    H = 30\n",
    "    # Your answer here\n",
    "\n",
    "D = \"100,150,180\""
   ]
  },
  {
   "cell_type": "markdown",
   "metadata": {},
   "source": [
    "13. With one line of code (excluding input words), write a program that accepts a sequence of whitespace separated words as input and prints the words after removing all duplicate words and sorting them alphanumerically.\n",
    "\n",
    "Suppose the following input is supplied to the program:\n",
    "\n",
    "        hello world and practice makes perfect and hello world again\n",
    "\n",
    "Then, the output should be:\n",
    "\n",
    "        again and hello makes perfect practice world"
   ]
  },
  {
   "cell_type": "code",
   "execution_count": null,
   "metadata": {},
   "outputs": [],
   "source": [
    "def answer_13(input: str):\n",
    "    if not isinstance(input, str):\n",
    "        raise ValueError(f\"{input} is not an instance of string\")\n",
    "    return # Your answer here"
   ]
  },
  {
   "cell_type": "markdown",
   "metadata": {},
   "source": [
    "14. Write a program that computes the value of a+aa+aaa+aaaa with a given digit as the value of a.  Suppose the following input is supplied to the program:\n",
    "\n",
    "        9\n",
    "\n",
    "Then, the output should be:\n",
    "\n",
    "        11106"
   ]
  },
  {
   "cell_type": "code",
   "execution_count": null,
   "metadata": {},
   "outputs": [],
   "source": [
    "def answer_14(input):\n",
    "    # Your answer here"
   ]
  },
  {
   "cell_type": "markdown",
   "metadata": {},
   "source": [
    "15. With one line, use a list comprehension to square each odd number in a list. Suppose the following input string is supplied to the program:\n",
    "\n",
    "        1,2,3,4,5,6,7,8,9\n",
    "\n",
    "Then, the output should be:\n",
    "\n",
    "        1,3,5,7,9"
   ]
  },
  {
   "cell_type": "code",
   "execution_count": null,
   "metadata": {},
   "outputs": [],
   "source": [
    "def answer_15(input: str):\n",
    "    if not isinstance(input, str):\n",
    "        raise ValueError(f\"{input} is not an instance of string\")\n",
    "    return # Your answer here"
   ]
  },
  {
   "cell_type": "markdown",
   "metadata": {},
   "source": [
    "16. Write a program to check the validity of password.  Following are the criteria for checking the password:\n",
    "- At least 1 letter between [a-z]\n",
    "- At least 1 number between [0-9]\n",
    "- At least 1 letter between [A-Z]\n",
    "- At least 1 character from \\\\$#@\n",
    "- Minimum length of transaction password: 6\n",
    "- Maximum length of transaction password: 12\n",
    "\n",
    "Your program should accept a sequence of comma separated passwords and will check them according to the above criteria. Passwords that match the criteria are to be printed, each separated by a comma.  Example, if the following passwords are given as input to the program:\n",
    "\n",
    "        ABd1234@1,a F1#,2w3E*,2We3345\n",
    "\n",
    "Then, the output of the program should be:\n",
    "\n",
    "        ABd1234@1\n",
    "\n",
    "Hint: Uses re python module\n",
    "\n",
    "PS: You don't need to check for comma in the password. We assume that nobody uses comma in their password."
   ]
  },
  {
   "cell_type": "code",
   "execution_count": null,
   "metadata": {},
   "outputs": [],
   "source": [
    "input = \"ABd1234@1,a F1#,2w3E*,2We3345\"\n",
    "def answer_16(input):\n",
    "    # Your answer here"
   ]
  },
  {
   "cell_type": "markdown",
   "metadata": {},
   "source": [
    "17. You are required to write a program to sort the (name, age, height) tuples by ascending order where name is string, age and height are numbers. The sort criteria is:\n",
    "\n",
    "- Sort based on name;\n",
    "- Then sort based on age;\n",
    "- Then sort by score.\n",
    "    \n",
    "The priority is that name > age > score. If the following tuples are given as input to the program:\n",
    "        \n",
    "        Tom,19,80\n",
    "        John,20,90\n",
    "        Jony,17,91\n",
    "        Jony,17,93\n",
    "        Json,21,85\n",
    "\n",
    "Then, the output of the program should be:\n",
    "\n",
    "        [('John', '20', '90'), ('Jony', '17', '91'), ('Jony', '17', '93'), ('Json', '21', '85'), ('Tom', '19', '80')]\n",
    "\n",
    "Hints: Use itemgetter to enable multiple sort keys.  In addition, sorted takes a argument called key.  Thus you can do sorted(the_tuple, key = itemgetter(0,1,2)), where 0, 1, 2 corresponds to name, age, height\n"
   ]
  },
  {
   "cell_type": "code",
   "execution_count": null,
   "metadata": {},
   "outputs": [],
   "source": [
    "def answer_17():\n",
    "    tom = \"Tom\",19,80\n",
    "    john = \"John\",20,90\n",
    "    johny = \"Jony\",17,91\n",
    "    jony = \"Jony\",17,93\n",
    "    json = \"Json\",21,85\n",
    "    # Your answer here"
   ]
  },
  {
   "cell_type": "markdown",
   "metadata": {},
   "source": [
    "18. Count frequency of word given a string assuming input uses space and sometimes comma as separator."
   ]
  },
  {
   "cell_type": "code",
   "execution_count": null,
   "metadata": {},
   "outputs": [],
   "source": [
    "def answer_18(input: str):\n",
    "    # Your answer here"
   ]
  },
  {
   "cell_type": "markdown",
   "metadata": {},
   "source": [
    "19. Define a function which can generate a dictionary where the keys are numbers between 1 and 20 (both included) and the values are square of keys. The function should just print the values only.\n",
    "\n",
    "Hints:\n",
    "- Use `dict[key]`=value pattern to put entry into a dictionary.\n",
    "- Use ** operator to get power of a number.\n",
    "- Use `range()` for loops.\n",
    "- Use `keys()` to iterate keys in the dictionary. Also we can use item() to get key/value pairs."
   ]
  },
  {
   "cell_type": "code",
   "execution_count": null,
   "metadata": {},
   "outputs": [],
   "source": [
    "def answer_19():\n",
    "    # Your answer here"
   ]
  },
  {
   "cell_type": "markdown",
   "metadata": {},
   "source": [
    "20. Research a bit about lambda function.  Write a program which can filter even numbers in a list by using `filter()` python function. Use `lambda` function.  The list is: [1,2,3,4,5,6,7,8,9,10].  Then, using the filtered list, use `map()` and lambda function to perform square for each number in the list\n",
    "\n",
    "Hint: Read more about `map` `filter`, and `reduce` from here https://www.learnpython.org/en/Map,_Filter,_Reduce"
   ]
  },
  {
   "cell_type": "code",
   "execution_count": null,
   "metadata": {},
   "outputs": [],
   "source": [
    "def answer_20(input: list):\n",
    "    # Your answer here"
   ]
  },
  {
   "cell_type": "markdown",
   "metadata": {},
   "source": [
    "21. Write a function to compute 5/0 and use `try/except` to catch the exceptions."
   ]
  },
  {
   "cell_type": "code",
   "execution_count": null,
   "metadata": {},
   "outputs": [],
   "source": [
    "def answer_21():\n",
    "    # Your answer here"
   ]
  },
  {
   "cell_type": "markdown",
   "metadata": {},
   "source": [
    "22. Write a function that accepts the following arguments\n",
    "- name, and age, where name is keyword argument with default of \"N/A\" two keyword arguments (i.e., default)\n",
    "- list of family salary where the length is unknown (e.g., 20000, 30000, 10000).  Then length is unknown is due to the fact that we never know the size of any family ahead.  Hint: Use `*args`\n",
    "- a dict of kids and their school name Peter = 'Saint Peter\", John = 'Pattaya International School'}.  Again, this size is unknown.  Hint: Use `*kwargs`\n",
    "\n",
    "Print all info in any preferred format.\n",
    "\n",
    "Supposed\n",
    "    \n",
    "`some_func(30, 30000, 40000, name='Chaky', John=\"some_school\", Peter=\"another_school\")`\n",
    "\n",
    "should print\n",
    "    \n",
    "            Chaky has age of 30 with family salary of 70000\n",
    "            The school of John is some_school\n",
    "            The school of Peter is another_school\n",
    "\n",
    "Some info: when working with multiple type of arguments, it is important to keep the order of arguments as follow, otherwise, you will receive a syntax error\n",
    "    \n",
    "`def example2(arg_1, arg_2, *args, kw_1=\"something\", kw_2=\"something\", **kwargs)`\n",
    "\n",
    "where arg_1 and 2 are normal arguments, `*args` are variable-length argument, kw_1 and 2 are keyword arguments, and `*kwargs` are dict variable length argument"
   ]
  },
  {
   "cell_type": "code",
   "execution_count": null,
   "metadata": {},
   "outputs": [],
   "source": [
    "def answer_22(# Define argument):\n",
    "    # Your function\n",
    "\n",
    "answer_22(30, 30000, 40000, name='Chaky', John=\"some_school\", Peter=\"another_school\")"
   ]
  },
  {
   "cell_type": "markdown",
   "metadata": {},
   "source": [
    "23. Let $f(x) = x^2$.   Given $K$ lists. Each list contains $N_{k}$ elements, select one number from each list such that $(f(x_{1}) + f(x_{2}) + ....f(x_{k})) \\mod M$  is maximized.  Here are some constraints (to make sure there won't be some null values):\n",
    "\n",
    "$1 <= K <= 7$, \n",
    "$1 <= M <= 1000$, \n",
    "$1 <= N <= 7$\n",
    "\n",
    "For example, given\n",
    "        \n",
    "`list1 = [2, 5, 4]\n",
    " list2 = [3, 7, 8, 9]\n",
    " list3 = [5, 5, 7, 8, 9, 10]\n",
    " k, m = 3, 1000`\n",
    "\n",
    "We can pick 5 from first list, 9 from 2nd list, and 10 from 3rd list which gives $(5^2 + 9^2 + 10^2 ) \\mod 1000 = 206$"
   ]
  },
  {
   "cell_type": "code",
   "execution_count": null,
   "metadata": {},
   "outputs": [],
   "source": [
    "def f(x):\n",
    "    return x**2\n",
    "\n",
    "def answer_23(input,m):\n",
    "    k = len(input)\n",
    "    assert 1 <= k <= 7\n",
    "    assert 1 <= m <= 1000\n",
    "    # Write your assert here to check if the N of each list is in range of [1,7]\n",
    "    # The rest of the function here\n",
    "\n",
    "input = []\n",
    "input.append([2,5,4])\n",
    "input.append([3,7,8,9])\n",
    "input.append([5,5,7,8,9,10])\n",
    "m = 1000\n",
    "answer_23(input,m)"
   ]
  },
  {
   "cell_type": "markdown",
   "metadata": {},
   "source": [
    "24. We count 35 heads and 94 legs among the chickens and rabbits in a farm. How many rabbits and how many chickens do we have?\n",
    "\n",
    "Hint: A chicken has 1 head and 2 legs. A rabbit has 1 head and 4 legs.\n",
    "\n",
    "The equations to solve are\n",
    "\n",
    "1 - #chicken + #rabbit = 35\n",
    "\n",
    "2 - (2 x #chicken) + (4 x #rabbit) = 94\n",
    "\n",
    "https://stackabuse.com/solving-systems-of-linear-equations-with-pythons-numpy/\n"
   ]
  },
  {
   "cell_type": "code",
   "execution_count": null,
   "metadata": {},
   "outputs": [],
   "source": [
    "def answer_24(head,legs):\n",
    "    # Your code here\n",
    "\n",
    "answer_24(35,94)"
   ]
  },
  {
   "cell_type": "markdown",
   "metadata": {},
   "source": [
    "25. Consider the following 6 x 6 matrix (actually a P300 matrix for those who are interested):\n",
    "\n",
    "        A B C D E F\n",
    "        G H I J K L\n",
    "        M N O P Q R\n",
    "        S T U V W X \n",
    "        Y Z 0 1 2 3 \n",
    "        4 5 6 7 8 9 \n",
    "    \n",
    "where the index starts at 0 and ends at 35 (i.e., A = 0, B = 1, ... 9 = 35)\n",
    "\n",
    "Construct a series of n list containing k elements of s where:\n",
    "- Each element $s_{1}...s_{k}$ falls with range of  $0 <= s <= 35$\n",
    "- Each list should contain elements such that\n",
    "    - Rule a: $s_{1} != s_{2} .... != s_{k}$  (i.e., no duplicates)\n",
    "    - Rule b: Given list nth, $s_{1n}, s_{2n},..s_{kn} \\cap neighbors(s_{1n}, s_{2n}...s_{kn}) == 0$. Neighbors are defined as the top, right, bottom, left of the element.  For example, B and G are neighbors of A, whereas D, I, P, K are neighbors of J, thus if A and J are in the list, then B, G, D, I, P, K should not be in that list\n",
    "    - Rule c: Given list nth, and the previous list nth-1, $s_{1n}....s_{kn} \\cap s_{1n-1}....s_{kn-1} ==0$ (i.e., element should not appear in the previous list.)\n",
    "    - Rule d: Over all n lists, the probability of 0...35 appearing in the list should be as equal as possible\n",
    "   \n",
    "Let's see some incorrect output:\n",
    "    \n",
    "        [[0, 3, 9, 3, 4, 6], [0, 7, 8, 12, 34, 21]....]\n",
    "\n",
    "Here, k = 6, and n = 2 (excluding ...).  Does not meet the folowing criteria:\n",
    "- In the first list, 3 has duplicates thus violating Rule a\n",
    "- In the first list, neighbors of 3 (i.e., D) are 2, 4, and 9.  Unfortunately, 9 is in the same list of 3, thus violating Rule b\n",
    "- In the second list, 0 has already appeared in previous list (N - 1), thus violating Rule c.\n",
    "- For Rule d, it may be wise to look at multiple lists, count the occurrences of each s, and make sure all s1...sk has equal probability of occurrences\n",
    "    \n",
    "Help: To help you, use the below generator to test your code.  I have provided three simple examples which result all in assertion error"
   ]
  },
  {
   "cell_type": "code",
   "execution_count": null,
   "metadata": {
    "tags": []
   },
   "outputs": [],
   "source": [
    "from itertools import chain\n",
    "from collections import Counter\n",
    "\n",
    "seqs_rule_a = [[3, 4, 4, 5, 6, 7]]\n",
    "seqs_rule_b = [[3, 9]]\n",
    "seqs_rule_c = [[22, 24, 0, 20, 7, 3], [1, 30, 18, 24, 13, 6]]\n",
    "\n",
    "def tester(seqs):\n",
    "    for index, seq in enumerate(seqs):\n",
    "        # Rule A: No duplication in sequence_i\n",
    "        assert hasDuplication(seq) == False, f\"A: {seq} has duplication.\"\n",
    "        # Rule B: No Neighbors of each element in seqeuence\n",
    "        assert hasNeighbors(seq) == False, f\"B: {seq} has neighbor.\"\n",
    "        if(index != 0): \n",
    "            prev_seq = seqs[index - 1]\n",
    "            assert hasDuplicationWithPrev(seq,prev_seq) == False, f\"C: {prev_seq} and {seq} has duplicaiton.\"\n",
    "    #examine rule d; should be roughly equal +-1\n",
    "    print(\"Counting: \", Counter(list(chain(*seqs))))\n",
    "\n",
    "def hasDuplication(seq):\n",
    "    # if number of member of set is not equal to list then it must have duplicate\n",
    "    return len(seq) != len(set(seq))\n",
    "\n",
    "def hasNeighbors(seq):\n",
    "    for elem in seq:\n",
    "        top = elem - 6\n",
    "        right = elem + 1\n",
    "        left = elem - 1\n",
    "        bottom = elem + 6\n",
    "        \n",
    "        neighbors = set({ top, bottom, left, right })\n",
    "        # element at most left\n",
    "        if(elem % 6 == 0):\n",
    "            neighbors = set({ top, bottom, right })\n",
    "        # element at most right\n",
    "        if(elem % 6 == 5):\n",
    "            neighbors = set({ top, bottom, left })\n",
    "\n",
    "        if( neighbors.intersection(set(seq)) != set() ):\n",
    "            print(f\"elements {neighbors.intersection(set(seq))} is/are neighbor(s) of {elem}.\")\n",
    "            return True\n",
    "    return False\n",
    "\n",
    "def hasDuplicationWithPrev(prev_seq, seq):\n",
    "    # the intersection between the two set must be an empty set\n",
    "    return set(prev_seq).intersection(set(seq)) != set()\n",
    "\n",
    "#write some test\n",
    "# def test_list_generator(seqs):\n",
    "#     for i in range(1, len(seqs)+1):\n",
    "#         current = seqs[-i]\n",
    "#         if not (i == len(seqs)):\n",
    "#             prev = seqs[-i-1]\n",
    "#             #check rule c\n",
    "#             assert len(set(current).intersection(set(prev))) == 0, f\"Prev: {prev}; Current: {current} - Violate rule c: Repeat across consecutive list!\"\n",
    "#         #check rule a\n",
    "#         assert len(current) == len(set(current)), f\"Current: {current} - Violate rule a: Got duplicates!\"\n",
    "#         #check rule b\n",
    "#         nl = set(get_neighbors(current))\n",
    "#         assert len(nl.intersection(set(current))) == 0, f\"Current: {current} - Violate rule b: Got neighbors in same list\"\n",
    "\n",
    "#     #examine rule d; should be roughly equal +-1\n",
    "#     print(\"Counting: \", Counter(list(chain(*seqs))))\n",
    "    \n",
    "# tester(seqs_rule_a) #try out!\n",
    "# tester(seqs_rule_b)\n",
    "# tester(seqs_rule_c)"
   ]
  },
  {
   "cell_type": "code",
   "execution_count": null,
   "metadata": {},
   "outputs": [],
   "source": [
    "def answer_25():\n",
    "    # Your answer here"
   ]
  }
 ],
 "metadata": {
  "kernelspec": {
   "display_name": "Python 3",
   "language": "python",
   "name": "python3"
  },
  "language_info": {
   "codemirror_mode": {
    "name": "ipython",
    "version": 3
   },
   "file_extension": ".py",
   "mimetype": "text/x-python",
   "name": "python",
   "nbconvert_exporter": "python",
   "pygments_lexer": "ipython3",
   "version": "3.8.6"
  }
 },
 "nbformat": 4,
 "nbformat_minor": 2
}
