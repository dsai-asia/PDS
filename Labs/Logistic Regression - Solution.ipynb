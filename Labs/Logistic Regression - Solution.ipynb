{
 "cells": [
  {
   "cell_type": "markdown",
   "metadata": {},
   "source": [
    "Modify the Logistic Regression scratch code in our lecture so that it works with multiclass problem.  Attempt to load the iris data and apply your code with it."
   ]
  },
  {
   "cell_type": "code",
   "execution_count": 1,
   "metadata": {},
   "outputs": [],
   "source": [
    "from sklearn import datasets\n",
    "from sklearn.preprocessing import StandardScaler\n",
    "from sklearn.model_selection import train_test_split\n",
    "import numpy as np\n",
    "import matplotlib.pyplot as plt\n",
    "\n",
    "#Step 1: Prepare data\n",
    "\n",
    "# import some data to play with\n",
    "iris = datasets.load_iris()\n",
    "X = iris.data[:, 2:]  # we only take the first two features.\n",
    "y = iris.target  #now our y is three classes thus require multinomial\n",
    "\n",
    "#feature scaling helps improve reach convergence faster\n",
    "scaler = StandardScaler()\n",
    "X = scaler.fit_transform(X)\n",
    "\n",
    "#data split\n",
    "X_train, X_test, y_train, y_test = train_test_split(X, y, test_size=0.3)\n",
    "\n",
    "#add intercept to our X\n",
    "intercept = np.ones((X_train.shape[0], 1))\n",
    "X_train = np.concatenate((intercept, X_train), axis=1)  #add intercept\n",
    "intercept = np.ones((X_test.shape[0], 1))\n",
    "X_test = np.concatenate((intercept, X_test), axis=1)  #add intercept\n",
    "\n",
    "#make sure our y is in the shape of (n, k)\n",
    "#we will convert our output vector in \n",
    "#matrix where no of columns is equal to the no of classes. \n",
    "#The values in the matrix will be 0 or 1. For instance the rows \n",
    "#where we have output 2 the column 2 will contain 1 and rest all 0.\n",
    "#in simple words, y will be of shape (m, k)\n",
    "k = len(set(y))  #no. of class  (can also use np.unique)\n",
    "m = X_train.shape[0]  #no.of samples\n",
    "n = X_train.shape[1]  #no. of features\n",
    "y_train_encoded = np.zeros((m, k))\n",
    "for each_class in range(k):\n",
    "    cond = y_train==each_class\n",
    "    y_train_encoded[np.where(cond), each_class] = 1"
   ]
  },
  {
   "cell_type": "code",
   "execution_count": 2,
   "metadata": {},
   "outputs": [
    {
     "data": {
      "image/png": "[encoded data removed]",
      "text/plain": [
       "<Figure size 432x432 with 1 Axes>"
      ]
     },
     "metadata": {
      "needs_background": "light"
     },
     "output_type": "display_data"
    }
   ],
   "source": [
    "#Step 1.1 (optional): Visualize our data\n",
    "\n",
    "#your code here\n",
    "plt.figure(figsize=(6,6))\n",
    "plt.scatter(X[:, 0], X[:, 1], label='class 0', c=y)\n",
    "plt.show()"
   ]
  },
  {
   "cell_type": "code",
   "execution_count": 3,
   "metadata": {},
   "outputs": [
    {
     "name": "stdout",
     "output_type": "stream",
     "text": [
      "Cost at iteration 0 1.0497390144305527\n",
      "Cost at iteration 500 0.08428505915487199\n",
      "Cost at iteration 1000 0.07624907439318684\n",
      "Cost at iteration 1500 0.07329702973207879\n",
      "Cost at iteration 2000 0.07184011414757217\n",
      "Cost at iteration 2500 0.07101632423176729\n",
      "Cost at iteration 3000 0.07050930043849601\n",
      "Cost at iteration 3500 0.07017796239276329\n",
      "Cost at iteration 4000 0.06995127115040832\n",
      "Cost at iteration 4500 0.06979029002320104\n"
     ]
    }
   ],
   "source": [
    "#Step 2: Fit your data\n",
    "\n",
    "def logistic_regression_GD(X, y, k, n, max_iter=1000):\n",
    "    '''\n",
    "    Inputs: \n",
    "        X shape: (m, n)\n",
    "        w shape: (n, k)\n",
    "    '''\n",
    "    w = np.random.rand(n, k)\n",
    "    l_rate = 0.01\n",
    "    for i in range(max_iter):\n",
    "        cost, grad =  gradient(X, y, w)\n",
    "        if i % 500 == 0:\n",
    "            print(f\"Cost at iteration {i}\", cost)\n",
    "        w = w - l_rate * grad\n",
    "    return w, i\n",
    "\n",
    "#for those who tend to feel overwhelmed with lots of code\n",
    "#I recommend you to write each part of the code separately as function\n",
    "#it helps!\n",
    "def gradient(X, y, w):\n",
    "    m = X.shape[0]\n",
    "    h = h_theta(X, w)\n",
    "    cost = -np.sum(y*np.log(h))/m\n",
    "    error = h - y\n",
    "    grad = softmax_grad(X, error)\n",
    "    return cost, grad\n",
    "\n",
    "def softmax(x):\n",
    "    return np.exp(x) / np.sum(np.exp(x), axis=1, keepdims=True)\n",
    "\n",
    "def softmax_grad(X, error):\n",
    "    return  X.T @ error\n",
    "        \n",
    "def h_theta(X, w):\n",
    "    '''\n",
    "    Input:\n",
    "        X shape: (m, n)\n",
    "        w shape: (n, k)\n",
    "    Returns:\n",
    "        yhat shape: (m, k)\n",
    "    '''\n",
    "    return softmax(X @ w)\n",
    "\n",
    "w, i = logistic_regression_GD(X_train, y_train_encoded, k, X_train.shape[1], max_iter=5000)"
   ]
  },
  {
   "cell_type": "code",
   "execution_count": 4,
   "metadata": {},
   "outputs": [
    {
     "name": "stdout",
     "output_type": "stream",
     "text": [
      "=========Classification report=======\n",
      "Report:                precision    recall  f1-score   support\n",
      "\n",
      "           0       1.00      1.00      1.00        14\n",
      "           1       0.88      1.00      0.93        14\n",
      "           2       1.00      0.88      0.94        17\n",
      "\n",
      "    accuracy                           0.96        45\n",
      "   macro avg       0.96      0.96      0.96        45\n",
      "weighted avg       0.96      0.96      0.96        45\n",
      "\n"
     ]
    }
   ],
   "source": [
    "from sklearn.metrics import classification_report\n",
    "\n",
    "yhat = np.argmax(h_theta(X_test, w), axis=1)\n",
    "print(\"=========Classification report=======\")\n",
    "print(\"Report: \", classification_report(y_test, yhat))"
   ]
  },
  {
   "cell_type": "markdown",
   "metadata": {},
   "source": [
    "Average precision score.  Recall that in a multiclass format, we have to calculate for each class, and then take the average.  And before we do that, we need to binarize our y."
   ]
  },
  {
   "cell_type": "code",
   "execution_count": 5,
   "metadata": {},
   "outputs": [
    {
     "name": "stdout",
     "output_type": "stream",
     "text": [
      "=========Average precision score=======\n",
      "Class 0 score:  1.0\n",
      "Class 1 score:  0.875\n",
      "Class 2 score:  0.9267973856209151\n"
     ]
    }
   ],
   "source": [
    "from sklearn.preprocessing import label_binarize\n",
    "from sklearn.metrics import average_precision_score\n",
    "\n",
    "print(\"=========Average precision score=======\")\n",
    "y_test_binarized = label_binarize(y_test, classes=[0, 1, 2])\n",
    "yhat_binarized = label_binarize(yhat, classes=[0, 1, 2])\n",
    "\n",
    "n_classes = len(np.unique(y_test))\n",
    "\n",
    "for i in range(n_classes):\n",
    "    class_score = average_precision_score(y_test_binarized[:, i], yhat_binarized[:, i])\n",
    "    print(f\"Class {i} score: \", class_score)"
   ]
  },
  {
   "cell_type": "code",
   "execution_count": null,
   "metadata": {},
   "outputs": [],
   "source": []
  }
 ],
 "metadata": {
  "kernelspec": {
   "display_name": "Python 3",
   "language": "python",
   "name": "python3"
  },
  "language_info": {
   "codemirror_mode": {
    "name": "ipython",
    "version": 3
   },
   "file_extension": ".py",
   "mimetype": "text/x-python",
   "name": "python",
   "nbconvert_exporter": "python",
   "pygments_lexer": "ipython3",
   "version": "3.8.6"
  }
 },
 "nbformat": 4,
 "nbformat_minor": 4
}
