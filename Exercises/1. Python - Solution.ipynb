{
 "cells": [
  {
   "cell_type": "code",
   "execution_count": 14,
   "metadata": {
    "tags": []
   },
   "outputs": [],
   "source": [
    "import unittest\n",
    "import time\n",
    "import sys, traceback\n",
    "\n",
    "class Suppressor(object):\n",
    "    def write(self, x): pass\n",
    "    def __enter__(self):\n",
    "        self.stdout = sys.stdout\n",
    "        sys.stdout = self\n",
    "    def __exit__(self, type, value, traceback):\n",
    "        sys.stdout = self.stdout\n",
    "        if type is not None:\n",
    "            raise value\n",
    "            # Do normal exception handling\n",
    "\n",
    "class RemoveDuplicates(unittest.TestCase):\n",
    "    def test_wrongInputType(self):\n",
    "        self.assertRaises(removeDuplicates('a'))\n",
    "\n",
    "class Countdown(unittest.TestCase):\n",
    "    def test_time(self):\n",
    "        start_time = time.time()\n",
    "        with Suppressor():\n",
    "            countdown()\n",
    "        exec_time = time.time() - start_time\n",
    "        self.assertAlmostEqual(3.0, exec_time, 1)\n",
    "\n",
    "class IsPalindrome(unittest.TestCase):\n",
    "    def test_false(self):\n",
    "        self.assertFalse(is_palindrome('abc'))\n",
    "\n",
    "    def test_true(self):\n",
    "        self.assertTrue(is_palindrome('acaaca'))\n",
    "\n",
    "    def test_empty(self):\n",
    "        self.assertTrue(is_palindrome(''))\n",
    "\n",
    "\n",
    "# suite = unittest.TestLoader().loadTestsFromTestCase(TestAgent)\n",
    "# suite = unittest.TestLoader().loadTestsFromTestCase(IsPalindrome)\n",
    "# suite.addTests(Countdown)\n",
    "# suite = unittest.TestLoader().loadTestsFromTestCase(IsPalindrome)\n",
    "# unittest.TextTestRunner(verbosity=4,stream=sys.stderr).run(suite)\n",
    "# unittest.main(argv=[''], verbosity=2, exit=False)"
   ]
  },
  {
   "cell_type": "markdown",
   "metadata": {},
   "source": [
    "0.  See below code.  Print only the eeg signal and event separately from this nested list using (1) for loop, (2) list comprehension.  Continuing, print only the eeg signal with event = 2 using list comprehension"
   ]
  },
  {
   "cell_type": "code",
   "execution_count": 1,
   "metadata": {},
   "outputs": [
    {
     "name": "stdout",
     "output_type": "stream",
     "text": [
      "EEG signal:  [[[8, 9], 1], [[3, 3], 2], [[2, 3], 2]]\n"
     ]
    }
   ],
   "source": [
    "two_channel_eeg_signal1 = [8, 9]\n",
    "event1 = 1\n",
    "two_channel_eeg_signal2 = [3, 3]\n",
    "event2 = 2\n",
    "two_channel_eeg_signal3 = [2, 3]\n",
    "event3 = 2\n",
    "some_nested_list = []\n",
    "some_nested_list.append([two_channel_eeg_signal1, event1])\n",
    "some_nested_list.append([two_channel_eeg_signal2, event2])\n",
    "some_nested_list.append([two_channel_eeg_signal3, event3])\n",
    "print(\"EEG signal: \", some_nested_list)"
   ]
  },
  {
   "cell_type": "code",
   "execution_count": 2,
   "metadata": {},
   "outputs": [
    {
     "name": "stdout",
     "output_type": "stream",
     "text": [
      "60: EEG:  [8, 9]\n",
      "61: Event:  1\n",
      "60: EEG:  [3, 3]\n",
      "61: Event:  2\n",
      "60: EEG:  [2, 3]\n",
      "61: Event:  2\n",
      "62: Use list comprehension EEG:  [[8, 9], [3, 3], [2, 3]]\n",
      "63: Use list comprehension Event:  [1, 2, 2]\n",
      "64: Use list comprehension EEG:  [[3, 3], [2, 3]]\n"
     ]
    }
   ],
   "source": [
    "#how do i get only the eeg_signal, and only the events?\n",
    "eeg = []\n",
    "event = []\n",
    "for each_event_list in some_nested_list:\n",
    "    each_eeg = each_event_list[0]\n",
    "    each_event = each_event_list[1]\n",
    "    eeg.append(each_eeg)\n",
    "    eeg.append(each_event)\n",
    "    print(\"60: EEG: \", each_eeg)\n",
    "    print(\"61: Event: \", each_event)\n",
    "\n",
    "#use list comprenhension\n",
    "print(\"62: Use list comprehension EEG: \", [i[0] for i in some_nested_list])\n",
    "print(\"63: Use list comprehension Event: \", [i[1] for i in some_nested_list])\n",
    "\n",
    "#how to get only event 2 eeg signal?\n",
    "print(\"64: Use list comprehension EEG: \", [i[0] for i in some_nested_list if i[1]==2])"
   ]
  },
  {
   "cell_type": "markdown",
   "metadata": {},
   "source": [
    "1. Define a function <code>is_palindrome()</code> that recognizes palindromes (i.e. words that look the same written backwards). For example, <code>is_palindrome(\"radar\")</code> should return True."
   ]
  },
  {
   "cell_type": "code",
   "execution_count": 1,
   "metadata": {
    "tags": []
   },
   "outputs": [
    {
     "name": "stdout",
     "output_type": "stream",
     "text": [
      "True\n",
      "False\n"
     ]
    }
   ],
   "source": [
    "def is_palindrome(input):\n",
    "    return input == input[::-1]\n",
    "\n",
    "print(is_palindrome(\"radar\"))\n",
    "print(is_palindrome(\"apple\"))"
   ]
  },
  {
   "cell_type": "markdown",
   "metadata": {},
   "source": [
    "2. Create a countdown clock that counts 3, 2, 1 and done! (hint: use <code>time.sleep(1)</code>)"
   ]
  },
  {
   "cell_type": "code",
   "execution_count": 2,
   "metadata": {
    "tags": []
   },
   "outputs": [
    {
     "name": "stdout",
     "output_type": "stream",
     "text": [
      "3...2...1...Go!\n"
     ]
    }
   ],
   "source": [
    "def countdown():\n",
    "    import time\n",
    "    num_seconds = 3 \n",
    "    for countdown in reversed(range(num_seconds + 1)):\n",
    "        if countdown > 0:\n",
    "            print(countdown, end='...')\n",
    "            time.sleep(1)\n",
    "        else:\n",
    "            print('Go!')\n",
    "countdown()"
   ]
  },
  {
   "cell_type": "markdown",
   "metadata": {},
   "source": [
    "3. Create a function that removes duplicates from a given list"
   ]
  },
  {
   "cell_type": "code",
   "execution_count": 6,
   "metadata": {
    "tags": []
   },
   "outputs": [
    {
     "name": "stdout",
     "output_type": "stream",
     "text": [
      "[1, 2, 3, 4, 5, 6, 7, 8]\n",
      "[1, 2, 3, 4, 5, 6, 7, 8]\n"
     ]
    }
   ],
   "source": [
    "def removeDuplicates(input: list):\n",
    "    if not isinstance(input, list):\n",
    "        raise ValueError(f\"{input} is not a type of list.\")\n",
    "\n",
    "    new_list = []\n",
    "    for num in input:\n",
    "        if num not in new_list:\n",
    "            new_list.append(num)\n",
    "    return new_list\n",
    "\n",
    "a = [1, 2, 2, 3, 3, 4, 5, 6, 7, 7, 8]\n",
    "print(removeDuplicates(a))\n",
    "\n",
    "#faster way - set returns a unique elements with type {set}, then typecast with list()\n",
    "print(list(set(a)))"
   ]
  },
  {
   "cell_type": "markdown",
   "metadata": {},
   "source": [
    "4. Define a function <code>max()</code> that takes list of numbers as arguments and returns the largest of them."
   ]
  },
  {
   "cell_type": "code",
   "execution_count": 6,
   "metadata": {},
   "outputs": [
    {
     "data": {
      "text/plain": [
       "3"
      ]
     },
     "execution_count": 6,
     "metadata": {},
     "output_type": "execute_result"
    }
   ],
   "source": [
    "def max(input: list):\n",
    "    if not isinstance(input, list):\n",
    "        raise ValueError(f\"{input} is not a type of list.\")\n",
    "    temp = 0\n",
    "    for num in input:\n",
    "        if num > temp:\n",
    "            temp = num\n",
    "    return temp\n",
    "\n",
    "a = [1, 2, 3]\n",
    "max(a)"
   ]
  },
  {
   "cell_type": "markdown",
   "metadata": {},
   "source": [
    "5. Define a function <code>my_sum()</code> and a function <code>my_multiply()</code> that sums and multiplies (respectively) all the numbers in a list of numbers. For example, <code>sum([1, 2, 3, 4])</code> should return 10, and <code>multiply([1, 2, 3, 4])</code> should return 24."
   ]
  },
  {
   "cell_type": "code",
   "execution_count": 7,
   "metadata": {
    "tags": []
   },
   "outputs": [
    {
     "name": "stdout",
     "output_type": "stream",
     "text": [
      "10\n",
      "12\n"
     ]
    }
   ],
   "source": [
    "def my_sum(input: list):\n",
    "    if not isinstance(input, list):\n",
    "        raise ValueError(f\"{input} is not a type of list.\")\n",
    "    total = 0\n",
    "    for num in input:\n",
    "        total += num\n",
    "    return total\n",
    "\n",
    "def my_multiply(input: list):\n",
    "    if not isinstance(input, list):\n",
    "        raise ValueError(f\"{input} is not a type of list.\")\n",
    "    total = 1\n",
    "    for num in input:\n",
    "        total *= num\n",
    "    return total\n",
    "\n",
    "print(my_sum([1, 2, 3, 4]))\n",
    "print(my_multiply([3, 2, 2]))"
   ]
  },
  {
   "cell_type": "markdown",
   "metadata": {},
   "source": [
    "6. Define a function <code>factorial()</code> that calculates the factorial of a number."
   ]
  },
  {
   "cell_type": "code",
   "execution_count": 8,
   "metadata": {
    "tags": []
   },
   "outputs": [
    {
     "name": "stdout",
     "output_type": "stream",
     "text": [
      "24\n"
     ]
    }
   ],
   "source": [
    "def factorial(input):\n",
    "    if input == 0:\n",
    "        return 1\n",
    "    return factorial(input - 1) * input\n",
    "\n",
    "print(factorial(4))"
   ]
  },
  {
   "cell_type": "markdown",
   "metadata": {},
   "source": [
    "7. Define a function <code>matrix()</code> that creates a matrix with n rows and m columns."
   ]
  },
  {
   "cell_type": "code",
   "execution_count": 9,
   "metadata": {
    "tags": []
   },
   "outputs": [
    {
     "name": "stdout",
     "output_type": "stream",
     "text": [
      "[[0, 0], [0, 0], [0, 0], [0, 0], [0, 0], [0, 0], [0, 0], [0, 0]]\n"
     ]
    }
   ],
   "source": [
    "def matrix(n,m):\n",
    "    mat = [[0 for j in range(m)] for i in range(n)]\n",
    "    return mat\n",
    "\n",
    "print(matrix(8,2))"
   ]
  },
  {
   "cell_type": "markdown",
   "metadata": {},
   "source": [
    "8. Create a function <code>dot()</code> that calculates the dot product between the matrices A and B."
   ]
  },
  {
   "cell_type": "code",
   "execution_count": 10,
   "metadata": {
    "tags": []
   },
   "outputs": [
    {
     "name": "stdout",
     "output_type": "stream",
     "text": [
      "[[22, 28], [49, 64]]\n"
     ]
    }
   ],
   "source": [
    "def dot(A,B):\n",
    "    result = matrix(len(A), len(B[0]))  #define the shape of result\n",
    "    for i in range(len(A)):  #num of row of A\n",
    "        for j in range(len(B[0])):  #num of col of B\n",
    "            for k in range(len(B)):    #num of row of B\n",
    "                result[i][j] += A[i][k] * B[k][j]\n",
    "                \n",
    "    return result\n",
    "\n",
    "#let's create arbitrary matrices\n",
    "A = [ [1, 2, 3], [4, 5, 6] ]  #2 x 3 | x1 * y1\n",
    "B = [ [1, 2], [3, 4], [5, 6] ]  #3 x 2 | x2 * y2\n",
    "\n",
    "print(dot(A, B))"
   ]
  },
  {
   "cell_type": "markdown",
   "metadata": {},
   "source": [
    "9. Create a matrix $a$ with 5 rows and 10 columns and fill the positions of the matrix such that $a_{ij} = i^2 + j^2$"
   ]
  },
  {
   "cell_type": "code",
   "execution_count": 11,
   "metadata": {
    "tags": []
   },
   "outputs": [
    {
     "name": "stdout",
     "output_type": "stream",
     "text": [
      "[[0, 1, 4, 9, 16, 25, 36, 49, 64, 81], [1, 2, 5, 10, 17, 26, 37, 50, 65, 82], [4, 5, 8, 13, 20, 29, 40, 53, 68, 85], [9, 10, 13, 18, 25, 34, 45, 58, 73, 90], [16, 17, 20, 25, 32, 41, 52, 65, 80, 97]]\n"
     ]
    }
   ],
   "source": [
    "def answer_9():\n",
    "    a = matrix(5, 10)\n",
    "    for i in range(len(a)):\n",
    "        for j in range(len(a[i])):\n",
    "            a[i][j] = i**2 + j**2\n",
    "    print(a)\n",
    "\n",
    "answer_9()"
   ]
  },
  {
   "cell_type": "markdown",
   "metadata": {},
   "source": [
    "10. Write a program which will find all such numbers which are divisible by 7 but are not a multiple of 5,  between 2000 and 3200 (both included). The numbers obtained should be printed in a comma-separated sequence on a single line."
   ]
  },
  {
   "cell_type": "code",
   "execution_count": 12,
   "metadata": {
    "tags": []
   },
   "outputs": [
    {
     "name": "stdout",
     "output_type": "stream",
     "text": [
      "2002,2009,2016,2023,2037,2044,2051,2058,2072,2079,2086,2093,2107,2114,2121,2128,2142,2149,2156,2163,2177,2184,2191,2198,2212,2219,2226,2233,2247,2254,2261,2268,2282,2289,2296,2303,2317,2324,2331,2338,2352,2359,2366,2373,2387,2394,2401,2408,2422,2429,2436,2443,2457,2464,2471,2478,2492,2499,2506,2513,2527,2534,2541,2548,2562,2569,2576,2583,2597,2604,2611,2618,2632,2639,2646,2653,2667,2674,2681,2688,2702,2709,2716,2723,2737,2744,2751,2758,2772,2779,2786,2793,2807,2814,2821,2828,2842,2849,2856,2863,2877,2884,2891,2898,2912,2919,2926,2933,2947,2954,2961,2968,2982,2989,2996,3003,3017,3024,3031,3038,3052,3059,3066,3073,3087,3094,3101,3108,3122,3129,3136,3143,3157,3164,3171,3178,3192,3199\n"
     ]
    }
   ],
   "source": [
    "def answer_10():\n",
    "    l=[]\n",
    "    for i in range(2000, 3201):\n",
    "        if (i%7==0) and (i%5!=0):\n",
    "            l.append(str(i))\n",
    "\n",
    "    print(','.join(l))\n",
    "\n",
    "answer_10()"
   ]
  },
  {
   "cell_type": "markdown",
   "metadata": {},
   "source": [
    "11. With a given integral number n, write a program to generate a dictionary that contains (i, i*i) such that is an integral number between 1 and n (both included). and then the program should print the dictionary. Suppose the following input is supplied to the program:\n",
    "\n",
    "        8\n",
    "    \n",
    "Then, the output should be:\n",
    "    \n",
    "        {1: 1, 2: 4, 3: 9, 4: 16, 5: 25, 6: 36, 7: 49, 8: 64}"
   ]
  },
  {
   "cell_type": "code",
   "execution_count": 13,
   "metadata": {
    "tags": []
   },
   "outputs": [
    {
     "name": "stdout",
     "output_type": "stream",
     "text": [
      "{1: 1, 2: 4, 3: 9, 4: 16, 5: 25, 6: 36, 7: 49, 8: 64}\n"
     ]
    }
   ],
   "source": [
    "def answer_11(input):\n",
    "    d=dict()\n",
    "    for i in range(1,input+1):\n",
    "        d[i]=i*i\n",
    "    print(d)\n",
    "    \n",
    "answer_11(8)"
   ]
  },
  {
   "cell_type": "markdown",
   "metadata": {},
   "source": [
    "12. Write a program that calculates and prints the value according to the given formula:  $Q = \\sqrt{(2CD)/H}$\n",
    "    \n",
    "Following are the fixed values of C and H:\n",
    "\n",
    "        C is 50. H is 30.\n",
    "\n",
    "D is the variable whose values should be input to your program in a comma-separated sequence.  If the output received is in decimal form, it should be rounded off to its nearest value (for example, if the output received is 26.0, it should be printed as 26).  Example, Let us assume the following comma separated input sequence is given to the program:\n",
    "\n",
    "        100, 150, 180\n",
    "\n",
    "The output of the program should be:\n",
    "\n",
    "        18,22,24"
   ]
  },
  {
   "cell_type": "code",
   "execution_count": 14,
   "metadata": {
    "tags": []
   },
   "outputs": [
    {
     "name": "stdout",
     "output_type": "stream",
     "text": [
      "18,22,24\n"
     ]
    }
   ],
   "source": [
    "def answer_12(D: str):\n",
    "    if not isinstance(D, str):\n",
    "        raise ValueError(f\"{D} is not an instance of string\")\n",
    "    C = 50\n",
    "    H = 30\n",
    "\n",
    "    import math\n",
    "    value = []\n",
    "    items=[x for x in D.split(',')]\n",
    "    for d in items:\n",
    "        value.append(str(int(round(math.sqrt(2*C*float(d)/H)))))\n",
    "    print(','.join(value))\n",
    "\n",
    "\n",
    "D = \"100,150,180\"\n",
    "answer_12(D)"
   ]
  },
  {
   "cell_type": "markdown",
   "metadata": {},
   "source": [
    "13. With one line of code (excluding input words), write a program that accepts a sequence of whitespace separated words as input and prints the words after removing all duplicate words and sorting them alphanumerically.\n",
    "\n",
    "Suppose the following input is supplied to the program:\n",
    "\n",
    "        hello world and practice makes perfect and hello world again\n",
    "\n",
    "Then, the output should be:\n",
    "\n",
    "        again and hello makes perfect practice world"
   ]
  },
  {
   "cell_type": "code",
   "execution_count": 15,
   "metadata": {},
   "outputs": [
    {
     "data": {
      "text/plain": [
       "'again and hello makes perfect practice world'"
      ]
     },
     "execution_count": 15,
     "metadata": {},
     "output_type": "execute_result"
    }
   ],
   "source": [
    "def answer_13(input: str):\n",
    "    if not isinstance(input, str):\n",
    "        raise ValueError(f\"{input} is not an instance of string\")\n",
    "    return \" \".join(sorted(list(set([word for word in words.split(\" \")])))) \n",
    "\n",
    "words = \"hello world and practice makes perfect and hello world again\"\n",
    "answer_13(words)"
   ]
  },
  {
   "cell_type": "markdown",
   "metadata": {},
   "source": [
    "14. Write a program that computes the value of a+aa+aaa+aaaa with a given digit as the value of a.  Suppose the following input is supplied to the program:\n",
    "\n",
    "        9\n",
    "\n",
    "Then, the output should be:\n",
    "\n",
    "        11106"
   ]
  },
  {
   "cell_type": "code",
   "execution_count": 16,
   "metadata": {},
   "outputs": [
    {
     "data": {
      "text/plain": [
       "11106"
      ]
     },
     "execution_count": 16,
     "metadata": {},
     "output_type": "execute_result"
    }
   ],
   "source": [
    "def answer_14(input):\n",
    "    n1 = int( \"%s\" % input )\n",
    "    n2 = int( \"%s%s\" % (input,input) )\n",
    "    n3 = int( \"%s%s%s\" % (input,input,input) )\n",
    "    n4 = int( \"%s%s%s%s\" % (input,input,input,input) )\n",
    "    return n1+n2+n3+n4 \n",
    "\n",
    "answer_14(9)"
   ]
  },
  {
   "cell_type": "markdown",
   "metadata": {},
   "source": [
    "15. With one line, use a list comprehension to square each odd number in a list. Suppose the following input string is supplied to the program:\n",
    "\n",
    "        1,2,3,4,5,6,7,8,9\n",
    "\n",
    "Then, the output should be:\n",
    "\n",
    "        1,3,5,7,9"
   ]
  },
  {
   "cell_type": "code",
   "execution_count": 17,
   "metadata": {},
   "outputs": [
    {
     "data": {
      "text/plain": [
       "'1,3,5,7,9'"
      ]
     },
     "execution_count": 17,
     "metadata": {},
     "output_type": "execute_result"
    }
   ],
   "source": [
    "def answer_15(input: str):\n",
    "    if not isinstance(input, str):\n",
    "        raise ValueError(f\"{input} is not an instance of string\")\n",
    "    return \",\".join([x for x in values.split(\",\") if int(x)%2!=0])\n",
    "\n",
    "values = \"1,2,3,4,5,6,7,8,9\"\n",
    "answer_15(values)"
   ]
  },
  {
   "cell_type": "markdown",
   "metadata": {},
   "source": [
    "16. Write a program to check the validity of password.  Following are the criteria for checking the password:\n",
    "- At least 1 letter between [a-z]\n",
    "- At least 1 number between [0-9]\n",
    "- At least 1 letter between [A-Z]\n",
    "- At least 1 character from \\\\$#@\n",
    "- Minimum length of transaction password: 6\n",
    "- Maximum length of transaction password: 12\n",
    "\n",
    "Your program should accept a sequence of comma separated passwords and will check them according to the above criteria. Passwords that match the criteria are to be printed, each separated by a comma.  Example, if the following passwords are given as input to the program:\n",
    "\n",
    "        ABd1234@1,a F1#,2w3E*,2We3345\n",
    "\n",
    "Then, the output of the program should be:\n",
    "\n",
    "        ABd1234@1\n",
    "\n",
    "Hint: Uses re python module\n",
    "\n",
    "PS: You don't need to check for comma in the password. We assume that nobody uses comma in their password."
   ]
  },
  {
   "cell_type": "code",
   "execution_count": 19,
   "metadata": {},
   "outputs": [
    {
     "data": {
      "text/plain": [
       "'ABd1234@1'"
      ]
     },
     "execution_count": 19,
     "metadata": {},
     "output_type": "execute_result"
    }
   ],
   "source": [
    "input = \"ABd1234@1,a F1#,2w3E*,2We3345\"\n",
    "def answer_16(input):\n",
    "    import re\n",
    "    input_list = \"ABd1234@1,a F1#,2w3E*,2We3345\"\n",
    "    value = []\n",
    "    items=[x for x in input_list.split(',')]\n",
    "    for p in items:\n",
    "        if len(p)<6 or len(p)>12:\n",
    "            continue   #skip this word\n",
    "        else:\n",
    "            pass  #pass to next\n",
    "        #re.search() function will search the regular expression pattern \n",
    "        #and return the first occurrence. It returns a match object when \n",
    "        #the pattern is found and “null” if the pattern is not found \n",
    "        if not re.search(\"[a-z]\",p):\n",
    "            continue\n",
    "        elif not re.search(\"[0-9]\",p):\n",
    "            continue\n",
    "        elif not re.search(\"[A-Z]\",p):\n",
    "            continue\n",
    "        elif not re.search(\"[$#@]\",p):\n",
    "            continue\n",
    "        elif re.search(\"\\s\",p):\n",
    "            continue\n",
    "        else:\n",
    "            pass\n",
    "        value.append(p)\n",
    "    return \",\".join(value)\n",
    "\n",
    "answer_16(input)"
   ]
  },
  {
   "cell_type": "markdown",
   "metadata": {},
   "source": [
    "17. You are required to write a program to sort the (name, age, height) tuples by ascending order where name is string, age and height are numbers. The sort criteria is:\n",
    "\n",
    "- Sort based on name;\n",
    "- Then sort based on age;\n",
    "- Then sort by score.\n",
    "    \n",
    "The priority is that name > age > score. If the following tuples are given as input to the program:\n",
    "        \n",
    "        Tom,19,80\n",
    "        John,20,90\n",
    "        Jony,17,91\n",
    "        Jony,17,93\n",
    "        Json,21,85\n",
    "\n",
    "Then, the output of the program should be:\n",
    "\n",
    "        [('John', '20', '90'), ('Jony', '17', '91'), ('Jony', '17', '93'), ('Json', '21', '85'), ('Tom', '19', '80')]\n",
    "\n",
    "Hints: Use itemgetter to enable multiple sort keys.  In addition, sorted takes a argument called key.  Thus you can do sorted(the_tuple, key = itemgetter(0,1,2)), where 0, 1, 2 corresponds to name, age, height\n"
   ]
  },
  {
   "cell_type": "code",
   "execution_count": 20,
   "metadata": {},
   "outputs": [
    {
     "data": {
      "text/plain": [
       "[('John', 20, 90),\n",
       " ('Jony', 17, 91),\n",
       " ('Jony', 17, 93),\n",
       " ('Json', 21, 85),\n",
       " ('Tom', 19, 80)]"
      ]
     },
     "execution_count": 20,
     "metadata": {},
     "output_type": "execute_result"
    }
   ],
   "source": [
    "def answer_17():\n",
    "    tom = \"Tom\",19,80\n",
    "    john = \"John\",20,90\n",
    "    johny = \"Jony\",17,91\n",
    "    jony = \"Jony\",17,93\n",
    "    json = \"Json\",21,85\n",
    "    # Your answer here\n",
    "\n",
    "    l = []\n",
    "    #put extra bracket to trick as one element\n",
    "    l.extend(((tom), (john), (johny), (jony), (json))) \n",
    "    #optionally, you can do append each one\n",
    "    import operator\n",
    "    return sorted(l, key=operator.itemgetter(0,1,2)) \n",
    "\n",
    "answer_17()\n"
   ]
  },
  {
   "cell_type": "markdown",
   "metadata": {},
   "source": [
    "18. Count frequency of word given a string assuming input uses space and sometimes comma as separator."
   ]
  },
  {
   "cell_type": "code",
   "execution_count": 21,
   "metadata": {
    "tags": []
   },
   "outputs": [
    {
     "name": "stdout",
     "output_type": "stream",
     "text": [
      "apple: 2\n",
      "loves: 1\n",
      "i: 0\n",
      "love: 2\n",
      "mango: 1\n"
     ]
    }
   ],
   "source": [
    "def answer_18(input: str):\n",
    "    words = input.replace(\".\", \"\").replace(\",\", \"\").lower().split(\" \")\n",
    "    s2 = []  #just for printing\n",
    "    for word in words:\n",
    "        if word not in s2:\n",
    "            s2.append(word)\n",
    "\n",
    "    for word in s2:\n",
    "        print(f\"{word}: {input.count(word)}\")\n",
    "\n",
    "    # for word in set(words):\n",
    "    #     print(f\"{word}: {input.count(word)}\")\n",
    "        \n",
    "    #another way is to use Collections counter\n",
    "    # from collections import Counter\n",
    "    # counts = Counter(input)\n",
    "    # print(\"Counts: \", counts.most_common(3))\n",
    "\n",
    "input = \"Apple loves apple. I love apple, mango.\"\n",
    "answer_18(input)"
   ]
  },
  {
   "cell_type": "markdown",
   "metadata": {},
   "source": [
    "19. Define a function which can generate a dictionary where the keys are numbers between 1 and 20 (both included) and the values are square of keys. The function should just print the values only.\n",
    "\n",
    "Hints:\n",
    "- Use `dict[key]`=value pattern to put entry into a dictionary.\n",
    "- Use ** operator to get power of a number.\n",
    "- Use `range()` for loops.\n",
    "- Use `keys()` to iterate keys in the dictionary. Also we can use item() to get key/value pairs."
   ]
  },
  {
   "cell_type": "code",
   "execution_count": 22,
   "metadata": {
    "tags": []
   },
   "outputs": [
    {
     "name": "stdout",
     "output_type": "stream",
     "text": [
      "1 1\n",
      "2 4\n",
      "3 9\n",
      "4 16\n",
      "5 25\n",
      "6 36\n",
      "7 49\n",
      "8 64\n",
      "9 81\n",
      "10 100\n",
      "11 121\n",
      "12 144\n",
      "13 169\n",
      "14 196\n",
      "15 225\n",
      "16 256\n",
      "17 289\n",
      "18 324\n",
      "19 361\n",
      "20 400\n"
     ]
    }
   ],
   "source": [
    "def answer_19():\n",
    "    d=dict()\n",
    "    for i in range(1,21):\n",
    "        d[i]=i**2\n",
    "    for (k,v) in d.items():\n",
    "        print(k, v)\n",
    "\n",
    "answer_19()"
   ]
  },
  {
   "cell_type": "markdown",
   "metadata": {},
   "source": [
    "20. Research a bit about lambda function.  Write a program which can filter even numbers in a list by using `filter()` python function. Use `lambda` function.  The list is: [1,2,3,4,5,6,7,8,9,10].  Then, using the filtered list, use `map()` and lambda function to perform square for each number in the list\n",
    "\n",
    "Hint: Read more about `map` `filter`, and `reduce` from here https://www.learnpython.org/en/Map,_Filter,_Reduce"
   ]
  },
  {
   "cell_type": "code",
   "execution_count": 23,
   "metadata": {
    "tags": []
   },
   "outputs": [
    {
     "data": {
      "text/plain": [
       "[4, 16, 36, 64, 100]"
      ]
     },
     "execution_count": 23,
     "metadata": {},
     "output_type": "execute_result"
    }
   ],
   "source": [
    "def answer_20(input: list):\n",
    "    filtered_list = list(filter(lambda x: x%2==0, input))\n",
    "    return list(map(lambda x: x**2, filtered_list)) \n",
    "\n",
    "input = [1,2,3,4,5,6,7,8,9,10]\n",
    "answer_20(input)"
   ]
  },
  {
   "cell_type": "markdown",
   "metadata": {},
   "source": [
    "21. Write a function to compute 5/0 and use `try/except` to catch the exceptions."
   ]
  },
  {
   "cell_type": "code",
   "execution_count": 24,
   "metadata": {
    "tags": []
   },
   "outputs": [
    {
     "name": "stdout",
     "output_type": "stream",
     "text": [
      "Error:division by zero\n",
      "Executed regardless error or not\n"
     ]
    }
   ],
   "source": [
    "def answer_21():\n",
    "    try:\n",
    "        x = 5/0\n",
    "    except ZeroDivisionError as e:\n",
    "        print(\"Error: \", e)\n",
    "    else:\n",
    "        print(\"Dividing successfully!\")\n",
    "    finally: \n",
    "        print('Executed regardless error or not')\n",
    "\n",
    "answer_21()"
   ]
  },
  {
   "cell_type": "markdown",
   "metadata": {},
   "source": [
    "22. Write a function that accepts the following arguments\n",
    "- name, and age, where name is keyword argument with default of \"N/A\" two keyword arguments (i.e., default)\n",
    "- list of family salary where the length is unknown (e.g., 20000, 30000, 10000).  Then length is unknown is due to the fact that we never know the size of any family ahead.  Hint: Use `*args`\n",
    "- a dict of kids and their school name Peter = 'Saint Peter\", John = 'Pattaya International School'}.  Again, this size is unknown.  Hint: Use `*kwargs`\n",
    "\n",
    "Print all info in any preferred format.\n",
    "\n",
    "Supposed\n",
    "    \n",
    "`some_func(30, 30000, 40000, name='Chaky', John=\"some_school\", Peter=\"another_school\")`\n",
    "\n",
    "should print\n",
    "    \n",
    "            Chaky has age of 30 with family salary of 70000\n",
    "            The school of John is some_school\n",
    "            The school of Peter is another_school\n",
    "\n",
    "Some info: when working with multiple type of arguments, it is important to keep the order of arguments as follow, otherwise, you will receive a syntax error\n",
    "    \n",
    "`def example2(arg_1, arg_2, *args, kw_1=\"something\", kw_2=\"something\", **kwargs)`\n",
    "\n",
    "where arg_1 and 2 are normal arguments, `*args` are variable-length argument, kw_1 and 2 are keyword arguments, and `*kwargs` are dict variable length argument"
   ]
  },
  {
   "cell_type": "code",
   "execution_count": 25,
   "metadata": {
    "tags": []
   },
   "outputs": [
    {
     "name": "stdout",
     "output_type": "stream",
     "text": [
      "Chaky has age of 30 with family salary of 70000\n",
      "The school of John is some_school\n",
      "The school of Peter is another_school\n"
     ]
    }
   ],
   "source": [
    "def answer_22(age, *salary, name=\"N/A\", **kids):\n",
    "    total_salary = 0\n",
    "    for each_salary in salary:\n",
    "        total_salary += each_salary\n",
    "    print(f\"{name} has age of {age} with family salary of {total_salary}\")\n",
    "    \n",
    "    for k, v in kids.items():\n",
    "        print(\"The school of {} is {}\".format(k, v))\n",
    "\n",
    "answer_22(30, 30000, 40000, name='Chaky', John=\"some_school\", Peter=\"another_school\")"
   ]
  },
  {
   "cell_type": "markdown",
   "metadata": {},
   "source": [
    "23. Let $f(x) = x^2$.   Given $K$ lists. Each list contains $N_{k}$ elements, select one number from each list such that $(f(x_{1}) + f(x_{2}) + ....f(x_{k})) \\mod M$  is maximized.  Here are some constraints (to make sure there won't be some null values):\n",
    "\n",
    "$1 <= K <= 7$, \n",
    "$1 <= M <= 1000$, \n",
    "$1 <= N <= 7$\n",
    "\n",
    "For example, given\n",
    "        \n",
    "`list1 = [2, 5, 4]\n",
    " list2 = [3, 7, 8, 9]\n",
    " list3 = [5, 5, 7, 8, 9, 10]\n",
    " k, m = 3, 1000`\n",
    "\n",
    "We can pick 5 from first list, 9 from 2nd list, and 10 from 3rd list which gives $(5^2 + 9^2 + 10^2 ) \\mod 1000 = 206$"
   ]
  },
  {
   "cell_type": "code",
   "execution_count": 26,
   "metadata": {
    "tags": []
   },
   "outputs": [
    {
     "name": "stdout",
     "output_type": "stream",
     "text": [
      "206\n"
     ]
    }
   ],
   "source": [
    "def f(x):\n",
    "    return x**2\n",
    "\n",
    "def answer_23(input, m):\n",
    "    k = len(input)\n",
    "    assert 1 <= k <= 7\n",
    "    assert 1 <= m <= 1000\n",
    "    # Write your assert here to check if the N of each list is in range of [1,7]\n",
    "    \n",
    "    #get all possible pairs\n",
    "    # from itertools import product | Copy code from this library\n",
    "    all_pairs = []\n",
    "    \n",
    "    pools = map(tuple, input)\n",
    "    result = [[]]\n",
    "    for pool in pools:\n",
    "        result = [x+[y] for x in result for y in pool]\n",
    "    for prod in result:\n",
    "        all_pairs.append(tuple(prod))\n",
    "\n",
    "    print(max([sum(map(f, pair)) % m for pair in all_pairs]))\n",
    "\n",
    "input = []\n",
    "input.append([2,5,4])\n",
    "input.append([3,7,8,9])\n",
    "input.append([5,5,7,8,9,10])\n",
    "m = 1000\n",
    "answer_23(input, m)"
   ]
  },
  {
   "cell_type": "markdown",
   "metadata": {},
   "source": [
    "24. We count 35 heads and 94 legs among the chickens and rabbits in a farm. How many rabbits and how many chickens do we have?\n",
    "\n",
    "Hint: A chicken has 1 head and 2 legs. A rabbit has 1 head and 4 legs.\n",
    "\n",
    "The equations to solve are\n",
    "\n",
    "1 - #chicken + #rabbit = 35\n",
    "\n",
    "2 - (2 x #chicken) + (4 x #rabbit) = 94\n",
    "\n",
    "https://stackabuse.com/solving-systems-of-linear-equations-with-pythons-numpy/\n"
   ]
  },
  {
   "cell_type": "code",
   "execution_count": 27,
   "metadata": {},
   "outputs": [
    {
     "data": {
      "text/plain": [
       "array([12., 23.])"
      ]
     },
     "execution_count": 27,
     "metadata": {},
     "output_type": "execute_result"
    }
   ],
   "source": [
    "def answer_24(heads,legs):\n",
    "    import numpy as np\n",
    "    #r + c = 35\n",
    "    #4r + 2c = 94\n",
    "    coeff = np.array([[1, 1], [4, 2]])\n",
    "    y = np.array([heads, legs])\n",
    "    x = np.linalg.solve(coeff, y)\n",
    "    return x\n",
    "\n",
    "\n",
    "answer_24(35,94)"
   ]
  },
  {
   "cell_type": "markdown",
   "metadata": {},
   "source": [
    "25. Consider the following 6 x 6 matrix (actually a P300 matrix for those who are interested):\n",
    "\n",
    "        A B C D E F\n",
    "        G H I J K L\n",
    "        M N O P Q R\n",
    "        S T U V W X \n",
    "        Y Z 0 1 2 3 \n",
    "        4 5 6 7 8 9 \n",
    "    \n",
    "where the index starts at 0 and ends at 35 (i.e., A = 0, B = 1, ... 9 = 35)\n",
    "\n",
    "Construct a series of n list containing k elements of s where:\n",
    "- Each element $s_{1}...s_{k}$ falls with range of  $0 <= s <= 35$\n",
    "- Each list should contain elements such that\n",
    "    - Rule a: $s_{1} != s_{2} .... != s_{k}$  (i.e., no duplicates)\n",
    "    - Rule b: Given list nth, $s_{1n}, s_{2n},..s_{kn} \\cap neighbors(s_{1n}, s_{2n}...s_{kn}) == 0$. Neighbors are defined as the top, right, bottom, left of the element.  For example, B and G are neighbors of A, whereas D, I, P, K are neighbors of J, thus if A and J are in the list, then B, G, D, I, P, K should not be in that list\n",
    "    - Rule c: Given list nth, and the previous list nth-1, $s_{1n}....s_{kn} \\cap s_{1n-1}....s_{kn-1} ==0$ (i.e., element should not appear in the previous list.)\n",
    "    - Rule d: Over all n lists, the probability of 0...35 appearing in the list should be as equal as possible\n",
    "   \n",
    "Let's see some incorrect output:\n",
    "    \n",
    "        [[0, 3, 9, 3, 4, 6], [0, 7, 8, 12, 34, 21]....]\n",
    "\n",
    "Here, k = 6, and n = 2 (excluding ...).  Does not meet the folowing criteria:\n",
    "- In the first list, 3 has duplicates thus violating Rule a\n",
    "- In the first list, neighbors of 3 (i.e., D) are 2, 4, and 9.  Unfortunately, 9 is in the same list of 3, thus violating Rule b\n",
    "- In the second list, 0 has already appeared in previous list (N - 1), thus violating Rule c.\n",
    "- For Rule d, it may be wise to look at multiple lists, count the occurrences of each s, and make sure all s1...sk has equal probability of occurrences\n",
    "    \n",
    "Help: To help you, use the below generator to test your code.  I have provided three simple examples which result all in assertion error"
   ]
  },
  {
   "cell_type": "code",
   "execution_count": 28,
   "metadata": {},
   "outputs": [],
   "source": [
    "from itertools import chain\n",
    "from collections import Counter\n",
    "\n",
    "seqs_rule_a = [[3, 4, 4, 5, 6, 7]]\n",
    "seqs_rule_b = [[3, 9]]\n",
    "seqs_rule_c = [[22, 24, 0, 20, 7, 3], [1, 30, 18, 24, 13, 6]]\n",
    "\n",
    "def tester(seqs):\n",
    "    for index, seq in enumerate(seqs):\n",
    "        # Rule A: No duplication in sequence_i\n",
    "        assert hasDuplication(seq) == False, f\"A: {seq} has duplication.\"\n",
    "        # Rule B: No Neighbors of each element in seqeuence\n",
    "        assert hasNeighbors(seq) == False, f\"B: {seq} has neighbor.\"\n",
    "        if(index != 0): \n",
    "            prev_seq = seqs[index - 1]\n",
    "            assert hasDuplicationWithPrev(seq,prev_seq) == False, f\"C: {prev_seq} and {seq} has duplicaiton.\"\n",
    "    #examine rule d; should be roughly equal +-1\n",
    "    print(\"Counting: \", Counter(list(chain(*seqs))))\n",
    "\n",
    "def hasDuplication(seq):\n",
    "    # if number of member of set is not equal to list then it must have duplicate\n",
    "    return len(seq) != len(set(seq))\n",
    "\n",
    "def hasNeighbors(seq):\n",
    "    for elem in seq:\n",
    "        top = elem - 6\n",
    "        right = elem + 1\n",
    "        left = elem - 1\n",
    "        bottom = elem + 6\n",
    "        \n",
    "        neighbors = set({ top, bottom, left, right })\n",
    "        # element at most left\n",
    "        if(elem % 6 == 0):\n",
    "            neighbors = set({ top, bottom, right })\n",
    "        # element at most right\n",
    "        if(elem % 6 == 5):\n",
    "            neighbors = set({ top, bottom, left })\n",
    "\n",
    "        if( neighbors.intersection(set(seq)) != set() ):\n",
    "            print(f\"elements {neighbors.intersection(set(seq))} is/are neighbor(s) of {elem}.\")\n",
    "            return True\n",
    "    return False\n",
    "\n",
    "def hasDuplicationWithPrev(prev_seq, seq):\n",
    "    # the intersection between the two set must be an empty set\n",
    "    return set(prev_seq).intersection(set(seq)) != set()\n",
    "\n",
    "#write some test\n",
    "# def test_list_generator(seqs):\n",
    "#     for i in range(1, len(seqs)+1):\n",
    "#         current = seqs[-i]\n",
    "#         if not (i == len(seqs)):\n",
    "#             prev = seqs[-i-1]\n",
    "#             #check rule c\n",
    "#             assert len(set(current).intersection(set(prev))) == 0, f\"Prev: {prev}; Current: {current} - Violate rule c: Repeat across consecutive list!\"\n",
    "#         #check rule a\n",
    "#         assert len(current) == len(set(current)), f\"Current: {current} - Violate rule a: Got duplicates!\"\n",
    "#         #check rule b\n",
    "#         nl = set(get_neighbors(current))\n",
    "#         assert len(nl.intersection(set(current))) == 0, f\"Current: {current} - Violate rule b: Got neighbors in same list\"\n",
    "\n",
    "#     #examine rule d; should be roughly equal +-1\n",
    "#     print(\"Counting: \", Counter(list(chain(*seqs))))\n",
    "    \n",
    "# tester(seqs_rule_a) #try out!\n",
    "# tester(seqs_rule_b)\n",
    "# tester(seqs_rule_c)"
   ]
  },
  {
   "cell_type": "code",
   "execution_count": 29,
   "metadata": {
    "tags": []
   },
   "outputs": [
    {
     "name": "stdout",
     "output_type": "stream",
     "text": [
      "Last 10 sequence:  [[1, 28, 23, 25, 33, 20], [7, 17, 10, 14, 30, 3], [9, 2, 22, 32, 18, 13], [26, 15, 8, 11, 31, 35], [5, 29, 12, 34, 21, 0], [27, 4, 16, 6, 24, 19], [29, 12, 25, 20, 3, 11], [21, 6, 14, 23, 19, 33], [27, 5, 30, 1, 16, 13], [26, 28, 18, 0, 4, 35]]\n",
      "Counting:  Counter({33: 17, 12: 17, 14: 17, 16: 17, 19: 17, 26: 17, 29: 17, 35: 17, 13: 17, 25: 17, 23: 17, 18: 17, 20: 17, 6: 17, 3: 17, 11: 17, 28: 17, 5: 17, 27: 17, 0: 17, 30: 17, 21: 17, 1: 17, 4: 17, 7: 16, 15: 16, 10: 16, 31: 16, 24: 16, 2: 16, 8: 16, 22: 16, 9: 16, 17: 16, 34: 16, 32: 16})\n"
     ]
    }
   ],
   "source": [
    "import random\n",
    "from itertools import chain\n",
    "from collections import Counter\n",
    "# from tqdm import tqdm\n",
    "\n",
    "seqs = []\n",
    "n = 100  #if this num is too big...it will take quite a while or even crash your pc!\n",
    "k = 6  #the bigger this value, the more difficult to find the solution\n",
    "\n",
    "def find_replacement(nextelem, seq):\n",
    "    length = k if len(seqs) > 5 else len(seqs)\n",
    "    for i in range(1, length+1):\n",
    "        prev_seq = seqs[-i:][0]  #try to swap with prev -i sequence, starting with the nearest one\n",
    "        for j in range(len(prev_seq)):\n",
    "            previous_seq_elem = seqs[-i:][0][j]  #start with first element of -i sequence\n",
    "            prev_seq_without_prevelem = [x for x in prev_seq if x != previous_seq_elem] \n",
    "            nl_prev = get_neighbors(prev_seq_without_prevelem)\n",
    "            nl_current = get_neighbors(seq)            \n",
    "            if ( nextelem not in prev_seq and #a\n",
    "                 nextelem not in nl_prev and #b\n",
    "                 nextelem not in seqs[-i-1:][0] and #c1  left consecutive\n",
    "                 nextelem not in seqs[-i+1:][0] #c2  right consecutive\n",
    "                 and\n",
    "                 previous_seq_elem not in seq and #a\n",
    "                 previous_seq_elem not in nl_current and #b  \n",
    "                 previous_seq_elem not in seqs[-1:][0]): #c\n",
    "                seqs[-i:][0][j] = nextelem\n",
    "                seq.append(previous_seq_elem)\n",
    "                return seq\n",
    "            \n",
    "    print(\"Can't swap..Restarting everything...\")\n",
    "    return False\n",
    "    \n",
    "def get_neighbors(seq):\n",
    "    # if the member is at right most, there is no neighbor on the right\n",
    "    right = [ x + 1 for x in seq if x % 6 != 5]\n",
    "    # if the member is at left most, there is no neighbor on the left\n",
    "    left = [ x - 1 for x in seq if x % 6 != 0]\n",
    "    # it is okay to check top/bottom neighbors for both top and bottom member \n",
    "    # because we will get out of range neighbors which will never exist in the sequence\n",
    "    top = [ x - 6 for x in seq]\n",
    "    bottom = [ x + 6 for x in seq]\n",
    "    neighbors = list(chain(right, left, top, bottom))\n",
    "    return neighbors\n",
    "\n",
    "def answer_25():\n",
    "    global seqs  #make sure this local seqs is refering to the global seqs\n",
    "    seqs = []\n",
    "    num_rows = 6\n",
    "    num_cols = 6\n",
    "    total = num_rows * num_cols\n",
    "\n",
    "    #generate 0 -35\n",
    "    li = list(range(total))\n",
    "\n",
    "    #as long as seqs haven't reached the desired length\n",
    "    while len(seqs) < n:\n",
    "        seq = []\n",
    "        failcount = 0  #for preventing stuck\n",
    "        if not li:\n",
    "            #if li is exhausted\n",
    "            li = list(range(36))\n",
    "        while len(seq) < k:  #make sure seq is of size k before redoing again\n",
    "            nextelem = random.choice(li)\n",
    "            if len(seq) > 0:  \n",
    "                nl = get_neighbors(seq)    \n",
    "                if failcount > 20: #in case of multiple failed attempts, we shall try swap with prev_seqs\n",
    "                    seq = find_replacement(nextelem, seq)\n",
    "                    if(seq):  #if successful\n",
    "                        li.remove(nextelem)\n",
    "                        failcount = 0\n",
    "                    else:  #if cannot find replacement, we simply restart the whole program\n",
    "                        seq = []\n",
    "                        seqs = []\n",
    "                        failcount = 0\n",
    "                        li = list(range(36))\n",
    "                        print(\"Restarted.\")\n",
    "                elif nextelem not in nl and nextelem not in seq: #rule b and a\n",
    "                    if len(seqs):\n",
    "                        #element must not appear in prev list\n",
    "                        if nextelem not in seqs[-1:][0]:  #rule c\n",
    "                            seq.append(nextelem)\n",
    "                            li.remove(nextelem)\n",
    "                        else:\n",
    "                            failcount += 1\n",
    "                    else:\n",
    "                        seq.append(nextelem)\n",
    "                        li.remove(nextelem)\n",
    "                else:\n",
    "                    failcount += 1\n",
    "            else:  #first element, check whether it appears in prev list or not\n",
    "                if len(seqs):\n",
    "                    if nextelem not in seqs[-1:][0]: #rule c\n",
    "                        seq.append(nextelem)\n",
    "                        li.remove(nextelem)\n",
    "                    else:\n",
    "                        failcount += 1\n",
    "                else:\n",
    "                    seq.append(nextelem)\n",
    "                    li.remove(nextelem)\n",
    "                \n",
    "        seqs.append(seq)\n",
    "        \n",
    "    print(\"Last 10 sequence: \", seqs[-10:])\n",
    "\n",
    "answer_25()\n",
    "tester(seqs)"
   ]
  }
 ],
 "metadata": {
  "kernelspec": {
   "display_name": "Python 3",
   "language": "python",
   "name": "python3"
  },
  "language_info": {
   "codemirror_mode": {
    "name": "ipython",
    "version": 3
   },
   "file_extension": ".py",
   "mimetype": "text/x-python",
   "name": "python",
   "nbconvert_exporter": "python",
   "pygments_lexer": "ipython3",
   "version": "3.8.6"
  }
 },
 "nbformat": 4,
 "nbformat_minor": 2
}
